{
 "cells": [
  {
   "cell_type": "code",
   "execution_count": 97,
   "metadata": {},
   "outputs": [],
   "source": [
    "import pandas as pd, numpy as np, re, os\n",
    "\n",
    "## Evaluator is a home-made class for load results and elaborating them\n",
    "from evaluation import Evaluator, compilerPatterns, ResultsFromMeanStdDF\n",
    "from matplotlib import pyplot as plt\n",
    "plt.rcParams.update({'font.size': 12})"
   ]
  },
  {
   "cell_type": "code",
   "execution_count": 2,
   "metadata": {},
   "outputs": [],
   "source": [
    "%load_ext autoreload\n",
    "%autoreload 2"
   ]
  },
  {
   "cell_type": "code",
   "execution_count": 3,
   "metadata": {},
   "outputs": [],
   "source": [
    "def plotLossOnAx(ax, lossDF, label, **kwargs):\n",
    "   stdKwargs = dict(alpha=0.2, edgecolor='#1B2ACC', facecolor='#089FFF',\n",
    "                            linewidth=4, antialiased=True)\n",
    "   stdKwargs.update(kwargs)\n",
    "   ax.plot(lossDF['mean'], label = label )\n",
    "   ax.fill_between(lossDF.index, lossDF['mean']-lossDF['std'], \n",
    "                  lossDF['mean']+lossDF['std'], **stdKwargs)"
   ]
  },
  {
   "cell_type": "code",
   "execution_count": 4,
   "metadata": {},
   "outputs": [],
   "source": [
    "## looking for moses directory experiments only\n",
    "paths = [ os.path.join(dataset.name, experiment.name) \n",
    "         for dataset in os.scandir('experiments') if dataset.is_dir() and 'moses_' in dataset.name\n",
    "         for experiment in os.scandir(dataset.path)  if 'hl' in experiment.name\n",
    "           ]"
   ]
  },
  {
   "cell_type": "code",
   "execution_count": 5,
   "metadata": {},
   "outputs": [
    {
     "data": {
      "text/plain": [
       "['moses_SELFIES-RNN/2hl_512hu_256bs_0.001lr',\n",
       " 'moses_SELFIES-RNN/2hl_512hu_512bs_0.001lr',\n",
       " 'moses_SELFIES-RNN/2hl_256hu_256bs_0.001lr',\n",
       " 'moses_SELFIES-RNN/2hl_256hu_512bs_0.001lr',\n",
       " 'moses_SELFIES-RNN/3hl_256hu_256bs_0.001lr',\n",
       " 'moses_SELFIES-RNN/3hl_256hu_512bs_0.001lr',\n",
       " 'moses_SELFIES-RNN/3hl_512hu_256bs_0.001lr',\n",
       " 'moses_SELFIES-RNN/3hl_512hu_512bs_0.001lr',\n",
       " 'moses_SMILES-RNN/2hl_512hu_256bs_0.001lr',\n",
       " 'moses_SMILES-RNN/2hl_512hu_512bs_0.001lr',\n",
       " 'moses_SMILES-RNN/2hl_256hu_256bs_0.001lr',\n",
       " 'moses_SMILES-RNN/2hl_256hu_512bs_0.001lr',\n",
       " 'moses_SMILES-RNN/3hl_256hu_256bs_0.001lr',\n",
       " 'moses_SMILES-RNN/3hl_256hu_512bs_0.001lr',\n",
       " 'moses_SMILES-RNN/3hl_512hu_256bs_0.001lr',\n",
       " 'moses_SMILES-RNN/3hl_512hu_512bs_0.001lr',\n",
       " 'moses_fragSMILES-RNN/2hl_512hu_256bs_300es_0.001lr',\n",
       " 'moses_fragSMILES-RNN/2hl_512hu_512bs_300es_0.001lr',\n",
       " 'moses_fragSMILES-RNN/2hl_256hu_256bs_300es_0.001lr',\n",
       " 'moses_fragSMILES-RNN/2hl_256hu_512bs_300es_0.001lr',\n",
       " 'moses_fragSMILES-RNN/3hl_256hu_256bs_300es_0.001lr',\n",
       " 'moses_fragSMILES-RNN/3hl_256hu_512bs_300es_0.001lr',\n",
       " 'moses_fragSMILES-RNN/3hl_512hu_256bs_300es_0.001lr',\n",
       " 'moses_fragSMILES-RNN/3hl_512hu_512bs_300es_0.001lr']"
      ]
     },
     "execution_count": 5,
     "metadata": {},
     "output_type": "execute_result"
    }
   ],
   "source": [
    "paths"
   ]
  },
  {
   "cell_type": "code",
   "execution_count": 92,
   "metadata": {},
   "outputs": [
    {
     "name": "stderr",
     "output_type": "stream",
     "text": [
      "/home/tox/DeNovo/evaluation.py:251: DtypeWarning: Columns (37) have mixed types. Specify dtype option on import or set low_memory=False.\n",
      "  \n",
      "/home/tox/DeNovo/evaluation.py:251: DtypeWarning: Columns (37,38) have mixed types. Specify dtype option on import or set low_memory=False.\n",
      "  \n",
      "/home/tox/DeNovo/evaluation.py:251: DtypeWarning: Columns (37,38,39,40,41) have mixed types. Specify dtype option on import or set low_memory=False.\n",
      "  \n",
      "/home/tox/DeNovo/evaluation.py:251: DtypeWarning: Columns (38,39,40,41) have mixed types. Specify dtype option on import or set low_memory=False.\n",
      "  \n",
      "/home/tox/DeNovo/evaluation.py:251: DtypeWarning: Columns (35,36,37) have mixed types. Specify dtype option on import or set low_memory=False.\n",
      "  \n",
      "/home/tox/DeNovo/evaluation.py:251: DtypeWarning: Columns (36,37,38) have mixed types. Specify dtype option on import or set low_memory=False.\n",
      "  \n",
      "/home/tox/DeNovo/evaluation.py:251: DtypeWarning: Columns (37,38,39,40) have mixed types. Specify dtype option on import or set low_memory=False.\n",
      "  \n",
      "/home/tox/DeNovo/evaluation.py:251: DtypeWarning: Columns (36,37) have mixed types. Specify dtype option on import or set low_memory=False.\n",
      "  \n",
      "/home/tox/DeNovo/evaluation.py:251: DtypeWarning: Columns (36) have mixed types. Specify dtype option on import or set low_memory=False.\n",
      "  \n"
     ]
    }
   ],
   "source": [
    "evaluators = [Evaluator(path) for path in paths]"
   ]
  },
  {
   "cell_type": "markdown",
   "metadata": {},
   "source": [
    "## Syntax metrics - Validity, Uniqueness and Novelty"
   ]
  },
  {
   "cell_type": "code",
   "execution_count": 93,
   "metadata": {},
   "outputs": [],
   "source": [
    "genDFs=pd.concat( [evaluator.getResultsGens() for evaluator in evaluators if not evaluator.gens.empty], ignore_index=True )"
   ]
  },
  {
   "cell_type": "code",
   "execution_count": 94,
   "metadata": {},
   "outputs": [],
   "source": [
    "genDFs['valid%']=genDFs['valid']/genDFs['amount']\n",
    "genDFs['unique%']=genDFs['unique']/genDFs['valid']\n",
    "genDFs['novel%']=genDFs['novel']/genDFs['unique']"
   ]
  },
  {
   "cell_type": "code",
   "execution_count": 144,
   "metadata": {},
   "outputs": [
    {
     "name": "stderr",
     "output_type": "stream",
     "text": [
      "/tmp/ipykernel_968745/1101016041.py:1: FutureWarning: Downcasting object dtype arrays on .fillna, .ffill, .bfill is deprecated and will change in a future version. Call result.infer_objects(copy=False) instead. To opt-in to the future behavior, set `pd.set_option('future.no_silent_downcasting', True)`\n",
      "  genGrp=genDFs.fillna(-1).groupby(compilerPatterns.index.drop(['fold','aug']).tolist(),as_index=True, dropna=False)\n"
     ]
    }
   ],
   "source": [
    "genGrp=genDFs.fillna(-1).groupby(compilerPatterns.index.drop(['fold','aug']).tolist(),as_index=True, dropna=False)"
   ]
  },
  {
   "cell_type": "code",
   "execution_count": 149,
   "metadata": {},
   "outputs": [],
   "source": [
    "genStats=genGrp.describe().loc(axis=1)[ ( slice(None),['mean','std'] ) ].drop(columns=['fold','aug']).query('amount == 6000')"
   ]
  },
  {
   "cell_type": "code",
   "execution_count": 150,
   "metadata": {},
   "outputs": [],
   "source": [
    "genStats=ResultsFromMeanStdDF(genStats)"
   ]
  },
  {
   "cell_type": "code",
   "execution_count": 151,
   "metadata": {},
   "outputs": [
    {
     "data": {
      "text/html": [
       "<div>\n",
       "<style scoped>\n",
       "    .dataframe tbody tr th:only-of-type {\n",
       "        vertical-align: middle;\n",
       "    }\n",
       "\n",
       "    .dataframe tbody tr th {\n",
       "        vertical-align: top;\n",
       "    }\n",
       "\n",
       "    .dataframe thead th {\n",
       "        text-align: right;\n",
       "    }\n",
       "</style>\n",
       "<table border=\"1\" class=\"dataframe\">\n",
       "  <thead>\n",
       "    <tr style=\"text-align: right;\">\n",
       "      <th></th>\n",
       "      <th></th>\n",
       "      <th></th>\n",
       "      <th></th>\n",
       "      <th></th>\n",
       "      <th></th>\n",
       "      <th></th>\n",
       "      <th></th>\n",
       "      <th></th>\n",
       "      <th></th>\n",
       "      <th>valid</th>\n",
       "      <th>unique</th>\n",
       "      <th>novel</th>\n",
       "      <th>valid%</th>\n",
       "      <th>unique%</th>\n",
       "      <th>novel%</th>\n",
       "    </tr>\n",
       "    <tr>\n",
       "      <th>dataset</th>\n",
       "      <th>notation</th>\n",
       "      <th>hl</th>\n",
       "      <th>hu</th>\n",
       "      <th>es</th>\n",
       "      <th>lr</th>\n",
       "      <th>bs</th>\n",
       "      <th>amount</th>\n",
       "      <th>epoch</th>\n",
       "      <th>T</th>\n",
       "      <th></th>\n",
       "      <th></th>\n",
       "      <th></th>\n",
       "      <th></th>\n",
       "      <th></th>\n",
       "      <th></th>\n",
       "    </tr>\n",
       "  </thead>\n",
       "  <tbody>\n",
       "    <tr>\n",
       "      <th rowspan=\"3\" valign=\"top\">moses</th>\n",
       "      <th>SELFIES</th>\n",
       "      <th>3</th>\n",
       "      <th>256</th>\n",
       "      <th>-1</th>\n",
       "      <th>0.001</th>\n",
       "      <th>512</th>\n",
       "      <th>6000</th>\n",
       "      <th>4</th>\n",
       "      <th>1.0</th>\n",
       "      <td>6000.0 ± 0.0</td>\n",
       "      <td>5999.0 ± 1.0</td>\n",
       "      <td>5550.0 ± 50.0</td>\n",
       "      <td>1.0 ± 0.0</td>\n",
       "      <td>0.9999 ± 0.0002</td>\n",
       "      <td>0.926 ± 0.008</td>\n",
       "    </tr>\n",
       "    <tr>\n",
       "      <th>SMILES</th>\n",
       "      <th>3</th>\n",
       "      <th>256</th>\n",
       "      <th>-1</th>\n",
       "      <th>0.001</th>\n",
       "      <th>512</th>\n",
       "      <th>6000</th>\n",
       "      <th>4</th>\n",
       "      <th>1.0</th>\n",
       "      <td>5790.0 ± 20.0</td>\n",
       "      <td>5790.0 ± 20.0</td>\n",
       "      <td>5270.0 ± 40.0</td>\n",
       "      <td>0.965 ± 0.003</td>\n",
       "      <td>0.9997 ± 0.0002</td>\n",
       "      <td>0.91 ± 0.008</td>\n",
       "    </tr>\n",
       "    <tr>\n",
       "      <th>fragSMILES</th>\n",
       "      <th>3</th>\n",
       "      <th>256</th>\n",
       "      <th>300</th>\n",
       "      <th>0.001</th>\n",
       "      <th>512</th>\n",
       "      <th>6000</th>\n",
       "      <th>4</th>\n",
       "      <th>1.0</th>\n",
       "      <td>5820.0 ± 20.0</td>\n",
       "      <td>5820.0 ± 20.0</td>\n",
       "      <td>5170.0 ± 20.0</td>\n",
       "      <td>0.97 ± 0.003</td>\n",
       "      <td>0.9992 ± 0.0003</td>\n",
       "      <td>0.889 ± 0.004</td>\n",
       "    </tr>\n",
       "  </tbody>\n",
       "</table>\n",
       "</div>"
      ],
      "text/plain": [
       "                                                                   valid  \\\n",
       "dataset notation   hl hu  es   lr    bs  amount epoch T                    \n",
       "moses   SELFIES    3  256 -1   0.001 512 6000   4     1.0   6000.0 ± 0.0   \n",
       "        SMILES     3  256 -1   0.001 512 6000   4     1.0  5790.0 ± 20.0   \n",
       "        fragSMILES 3  256  300 0.001 512 6000   4     1.0  5820.0 ± 20.0   \n",
       "\n",
       "                                                                  unique  \\\n",
       "dataset notation   hl hu  es   lr    bs  amount epoch T                    \n",
       "moses   SELFIES    3  256 -1   0.001 512 6000   4     1.0   5999.0 ± 1.0   \n",
       "        SMILES     3  256 -1   0.001 512 6000   4     1.0  5790.0 ± 20.0   \n",
       "        fragSMILES 3  256  300 0.001 512 6000   4     1.0  5820.0 ± 20.0   \n",
       "\n",
       "                                                                   novel  \\\n",
       "dataset notation   hl hu  es   lr    bs  amount epoch T                    \n",
       "moses   SELFIES    3  256 -1   0.001 512 6000   4     1.0  5550.0 ± 50.0   \n",
       "        SMILES     3  256 -1   0.001 512 6000   4     1.0  5270.0 ± 40.0   \n",
       "        fragSMILES 3  256  300 0.001 512 6000   4     1.0  5170.0 ± 20.0   \n",
       "\n",
       "                                                                  valid%  \\\n",
       "dataset notation   hl hu  es   lr    bs  amount epoch T                    \n",
       "moses   SELFIES    3  256 -1   0.001 512 6000   4     1.0      1.0 ± 0.0   \n",
       "        SMILES     3  256 -1   0.001 512 6000   4     1.0  0.965 ± 0.003   \n",
       "        fragSMILES 3  256  300 0.001 512 6000   4     1.0   0.97 ± 0.003   \n",
       "\n",
       "                                                                   unique%  \\\n",
       "dataset notation   hl hu  es   lr    bs  amount epoch T                      \n",
       "moses   SELFIES    3  256 -1   0.001 512 6000   4     1.0  0.9999 ± 0.0002   \n",
       "        SMILES     3  256 -1   0.001 512 6000   4     1.0  0.9997 ± 0.0002   \n",
       "        fragSMILES 3  256  300 0.001 512 6000   4     1.0  0.9992 ± 0.0003   \n",
       "\n",
       "                                                                  novel%  \n",
       "dataset notation   hl hu  es   lr    bs  amount epoch T                   \n",
       "moses   SELFIES    3  256 -1   0.001 512 6000   4     1.0  0.926 ± 0.008  \n",
       "        SMILES     3  256 -1   0.001 512 6000   4     1.0   0.91 ± 0.008  \n",
       "        fragSMILES 3  256  300 0.001 512 6000   4     1.0  0.889 ± 0.004  "
      ]
     },
     "execution_count": 151,
     "metadata": {},
     "output_type": "execute_result"
    }
   ],
   "source": [
    "genStats.query(' hl==3 and hu==256 and bs==512 ')"
   ]
  },
  {
   "cell_type": "code",
   "execution_count": null,
   "metadata": {},
   "outputs": [],
   "source": [
    "params=[3,256,-1,0.001,512,6000,4,1.0]\n",
    "paramsFrag = [3,256,300,0.001,512,6000,4,1.0]"
   ]
  },
  {
   "cell_type": "code",
   "execution_count": 155,
   "metadata": {},
   "outputs": [],
   "source": [
    "genStats.to_csv('results/06_mosesSyntax.csv')"
   ]
  },
  {
   "cell_type": "code",
   "execution_count": null,
   "metadata": {},
   "outputs": [],
   "source": [
    "from scipy import stats"
   ]
  },
  {
   "cell_type": "code",
   "execution_count": 152,
   "metadata": {},
   "outputs": [
    {
     "name": "stderr",
     "output_type": "stream",
     "text": [
      "/usr/lib/python3/dist-packages/scipy/stats/_axis_nan_policy.py:523: RuntimeWarning: Precision loss occurred in moment calculation due to catastrophic cancellation. This occurs when the data are nearly identical. Results may be unreliable.\n",
      "  res = hypotest_fun_out(*samples, **kwds)\n"
     ]
    }
   ],
   "source": [
    "genPvals = pd.DataFrame.from_dict(\n",
    "                {notation: \n",
    "                {metric:stats.ttest_ind(\n",
    "                genGrp.get_group(('moses',notation,*params))[metric],\n",
    "                genGrp.get_group(('moses','fragSMILES',*paramsFrag))[metric],\n",
    "                ).pvalue for metric in genStats.columns} for notation in ['SMILES','SELFIES']\n",
    "                }, orient='index'\n",
    "            )"
   ]
  },
  {
   "cell_type": "code",
   "execution_count": 157,
   "metadata": {},
   "outputs": [
    {
     "data": {
      "text/html": [
       "<div>\n",
       "<style scoped>\n",
       "    .dataframe tbody tr th:only-of-type {\n",
       "        vertical-align: middle;\n",
       "    }\n",
       "\n",
       "    .dataframe tbody tr th {\n",
       "        vertical-align: top;\n",
       "    }\n",
       "\n",
       "    .dataframe thead th {\n",
       "        text-align: right;\n",
       "    }\n",
       "</style>\n",
       "<table border=\"1\" class=\"dataframe\">\n",
       "  <thead>\n",
       "    <tr style=\"text-align: right;\">\n",
       "      <th></th>\n",
       "      <th>valid</th>\n",
       "      <th>unique</th>\n",
       "      <th>novel</th>\n",
       "      <th>valid%</th>\n",
       "      <th>unique%</th>\n",
       "      <th>novel%</th>\n",
       "    </tr>\n",
       "  </thead>\n",
       "  <tbody>\n",
       "    <tr>\n",
       "      <th>SMILES</th>\n",
       "      <td>3.024756e-02</td>\n",
       "      <td>4.645946e-02</td>\n",
       "      <td>1.053285e-03</td>\n",
       "      <td>3.024756e-02</td>\n",
       "      <td>0.041162</td>\n",
       "      <td>0.000563</td>\n",
       "    </tr>\n",
       "    <tr>\n",
       "      <th>SELFIES</th>\n",
       "      <td>1.045067e-08</td>\n",
       "      <td>1.091405e-08</td>\n",
       "      <td>2.583064e-07</td>\n",
       "      <td>1.045067e-08</td>\n",
       "      <td>0.003508</td>\n",
       "      <td>0.000016</td>\n",
       "    </tr>\n",
       "  </tbody>\n",
       "</table>\n",
       "</div>"
      ],
      "text/plain": [
       "                valid        unique         novel        valid%   unique%  \\\n",
       "SMILES   3.024756e-02  4.645946e-02  1.053285e-03  3.024756e-02  0.041162   \n",
       "SELFIES  1.045067e-08  1.091405e-08  2.583064e-07  1.045067e-08  0.003508   \n",
       "\n",
       "           novel%  \n",
       "SMILES   0.000563  \n",
       "SELFIES  0.000016  "
      ]
     },
     "execution_count": 157,
     "metadata": {},
     "output_type": "execute_result"
    }
   ],
   "source": [
    "genPvals"
   ]
  },
  {
   "cell_type": "code",
   "execution_count": 158,
   "metadata": {},
   "outputs": [
    {
     "data": {
      "text/html": [
       "<div>\n",
       "<style scoped>\n",
       "    .dataframe tbody tr th:only-of-type {\n",
       "        vertical-align: middle;\n",
       "    }\n",
       "\n",
       "    .dataframe tbody tr th {\n",
       "        vertical-align: top;\n",
       "    }\n",
       "\n",
       "    .dataframe thead th {\n",
       "        text-align: right;\n",
       "    }\n",
       "</style>\n",
       "<table border=\"1\" class=\"dataframe\">\n",
       "  <thead>\n",
       "    <tr style=\"text-align: right;\">\n",
       "      <th></th>\n",
       "      <th>valid</th>\n",
       "      <th>unique</th>\n",
       "      <th>novel</th>\n",
       "      <th>valid%</th>\n",
       "      <th>unique%</th>\n",
       "      <th>novel%</th>\n",
       "    </tr>\n",
       "  </thead>\n",
       "  <tbody>\n",
       "    <tr>\n",
       "      <th>SMILES</th>\n",
       "      <td>True</td>\n",
       "      <td>True</td>\n",
       "      <td>True</td>\n",
       "      <td>True</td>\n",
       "      <td>True</td>\n",
       "      <td>True</td>\n",
       "    </tr>\n",
       "    <tr>\n",
       "      <th>SELFIES</th>\n",
       "      <td>True</td>\n",
       "      <td>True</td>\n",
       "      <td>True</td>\n",
       "      <td>True</td>\n",
       "      <td>True</td>\n",
       "      <td>True</td>\n",
       "    </tr>\n",
       "  </tbody>\n",
       "</table>\n",
       "</div>"
      ],
      "text/plain": [
       "         valid  unique  novel  valid%  unique%  novel%\n",
       "SMILES    True    True   True    True     True    True\n",
       "SELFIES   True    True   True    True     True    True"
      ]
     },
     "execution_count": 158,
     "metadata": {},
     "output_type": "execute_result"
    }
   ],
   "source": [
    "genPvals.map(lambda x: x<0.05)"
   ]
  },
  {
   "cell_type": "markdown",
   "metadata": {},
   "source": [
    "## Losses"
   ]
  },
  {
   "cell_type": "code",
   "execution_count": 14,
   "metadata": {},
   "outputs": [
    {
     "data": {
      "image/png": "[encoded data removed]",
      "text/plain": [
       "<Figure size 1000x700 with 15 Axes>"
      ]
     },
     "metadata": {},
     "output_type": "display_data"
    }
   ],
   "source": [
    "import matplotlib.pyplot as plt\n",
    "plt.rcParams.update({'font.size': 7})\n",
    "\n",
    "fig,axes = plt.subplots(nrows=5, ncols=3, figsize=(10,7),gridspec_kw={'wspace':0.9, 'hspace':0.5})\n",
    "for path, evaluator, ax in zip(paths, evaluators, axes.flatten()):\n",
    "    train,test = evaluator.getTrainTestLosses()\n",
    "    plotLossOnAx(ax, train, label='Training')\n",
    "    plotLossOnAx(ax, test, label='Validation')\n",
    "    ax.set_title(path)"
   ]
  },
  {
   "cell_type": "markdown",
   "metadata": {},
   "source": [
    "## Metrics of Novels"
   ]
  },
  {
   "cell_type": "code",
   "execution_count": 119,
   "metadata": {},
   "outputs": [],
   "source": [
    "novels = pd.concat( [evaluator.getResultsNovels() for evaluator in evaluators], ignore_index=True)\n",
    "novels.drop(columns='aug',inplace=True)"
   ]
  },
  {
   "cell_type": "code",
   "execution_count": 120,
   "metadata": {},
   "outputs": [
    {
     "name": "stderr",
     "output_type": "stream",
     "text": [
      "/tmp/ipykernel_968745/2893679507.py:1: FutureWarning: Downcasting object dtype arrays on .fillna, .ffill, .bfill is deprecated and will change in a future version. Call result.infer_objects(copy=False) instead. To opt-in to the future behavior, set `pd.set_option('future.no_silent_downcasting', True)`\n",
      "  novGrp=novels.fillna(-1).groupby(compilerPatterns.index.drop(['fold','aug']).tolist(), as_index=True, dropna=False)\n"
     ]
    }
   ],
   "source": [
    "novGrp=novels.fillna(-1).groupby(compilerPatterns.index.drop(['fold','aug']).tolist(), as_index=True, dropna=False)"
   ]
  },
  {
   "cell_type": "code",
   "execution_count": 121,
   "metadata": {},
   "outputs": [],
   "source": [
    "metrics = [metric for metric in novels.columns if metric not in compilerPatterns.index]"
   ]
  },
  {
   "cell_type": "code",
   "execution_count": 127,
   "metadata": {},
   "outputs": [],
   "source": [
    "novStats=novGrp.describe().loc(axis=1)[ ( slice(None),['mean','std'] ) ].drop(columns='fold').query('amount==6000')"
   ]
  },
  {
   "cell_type": "code",
   "execution_count": 128,
   "metadata": {},
   "outputs": [],
   "source": [
    "novStats = ResultsFromMeanStdDF(novStats)"
   ]
  },
  {
   "cell_type": "code",
   "execution_count": 129,
   "metadata": {},
   "outputs": [
    {
     "data": {
      "text/html": [
       "<div>\n",
       "<style scoped>\n",
       "    .dataframe tbody tr th:only-of-type {\n",
       "        vertical-align: middle;\n",
       "    }\n",
       "\n",
       "    .dataframe tbody tr th {\n",
       "        vertical-align: top;\n",
       "    }\n",
       "\n",
       "    .dataframe thead th {\n",
       "        text-align: right;\n",
       "    }\n",
       "</style>\n",
       "<table border=\"1\" class=\"dataframe\">\n",
       "  <thead>\n",
       "    <tr style=\"text-align: right;\">\n",
       "      <th></th>\n",
       "      <th></th>\n",
       "      <th></th>\n",
       "      <th></th>\n",
       "      <th></th>\n",
       "      <th></th>\n",
       "      <th></th>\n",
       "      <th></th>\n",
       "      <th></th>\n",
       "      <th></th>\n",
       "      <th>FCD/Test</th>\n",
       "      <th>SNN/Test</th>\n",
       "      <th>Scaf/Test</th>\n",
       "      <th>IntDiv</th>\n",
       "      <th>IntDiv2</th>\n",
       "      <th>Filters</th>\n",
       "      <th>logP</th>\n",
       "      <th>SA</th>\n",
       "      <th>QED</th>\n",
       "      <th>weight</th>\n",
       "    </tr>\n",
       "    <tr>\n",
       "      <th>dataset</th>\n",
       "      <th>notation</th>\n",
       "      <th>hl</th>\n",
       "      <th>hu</th>\n",
       "      <th>es</th>\n",
       "      <th>lr</th>\n",
       "      <th>bs</th>\n",
       "      <th>amount</th>\n",
       "      <th>epoch</th>\n",
       "      <th>T</th>\n",
       "      <th></th>\n",
       "      <th></th>\n",
       "      <th></th>\n",
       "      <th></th>\n",
       "      <th></th>\n",
       "      <th></th>\n",
       "      <th></th>\n",
       "      <th></th>\n",
       "      <th></th>\n",
       "      <th></th>\n",
       "    </tr>\n",
       "  </thead>\n",
       "  <tbody>\n",
       "    <tr>\n",
       "      <th rowspan=\"3\" valign=\"top\">moses</th>\n",
       "      <th>SELFIES</th>\n",
       "      <th>3</th>\n",
       "      <th>256</th>\n",
       "      <th>-1</th>\n",
       "      <th>0.001</th>\n",
       "      <th>512</th>\n",
       "      <th>6000</th>\n",
       "      <th>4</th>\n",
       "      <th>1.0</th>\n",
       "      <td>1.0 ± 0.06</td>\n",
       "      <td>0.535 ± 0.002</td>\n",
       "      <td>0.7 ± 0.05</td>\n",
       "      <td>0.86 ± 0.001</td>\n",
       "      <td>0.854 ± 0.001</td>\n",
       "      <td>0.925 ± 0.009</td>\n",
       "      <td>0.17 ± 0.07</td>\n",
       "      <td>0.219 ± 0.009</td>\n",
       "      <td>0.025 ± 0.004</td>\n",
       "      <td>4.2 ± 0.9</td>\n",
       "    </tr>\n",
       "    <tr>\n",
       "      <th>SMILES</th>\n",
       "      <th>3</th>\n",
       "      <th>256</th>\n",
       "      <th>-1</th>\n",
       "      <th>0.001</th>\n",
       "      <th>512</th>\n",
       "      <th>6000</th>\n",
       "      <th>4</th>\n",
       "      <th>1.0</th>\n",
       "      <td>0.39 ± 0.03</td>\n",
       "      <td>0.56 ± 0.003</td>\n",
       "      <td>0.69 ± 0.04</td>\n",
       "      <td>0.8575 ± 0.0008</td>\n",
       "      <td>0.8514 ± 0.0008</td>\n",
       "      <td>0.989 ± 0.002</td>\n",
       "      <td>0.12 ± 0.03</td>\n",
       "      <td>0.07 ± 0.02</td>\n",
       "      <td>0.01 ± 0.004</td>\n",
       "      <td>6.0 ± 2.0</td>\n",
       "    </tr>\n",
       "    <tr>\n",
       "      <th>fragSMILES</th>\n",
       "      <th>3</th>\n",
       "      <th>256</th>\n",
       "      <th>300</th>\n",
       "      <th>0.001</th>\n",
       "      <th>512</th>\n",
       "      <th>6000</th>\n",
       "      <th>4</th>\n",
       "      <th>1.0</th>\n",
       "      <td>0.33 ± 0.02</td>\n",
       "      <td>0.575 ± 0.004</td>\n",
       "      <td>0.71 ± 0.04</td>\n",
       "      <td>0.8567 ± 0.001</td>\n",
       "      <td>0.85 ± 0.001</td>\n",
       "      <td>0.991 ± 0.001</td>\n",
       "      <td>0.07 ± 0.02</td>\n",
       "      <td>0.05 ± 0.02</td>\n",
       "      <td>0.008 ± 0.004</td>\n",
       "      <td>3.9 ± 0.3</td>\n",
       "    </tr>\n",
       "  </tbody>\n",
       "</table>\n",
       "</div>"
      ],
      "text/plain": [
       "                                                              FCD/Test  \\\n",
       "dataset notation   hl hu  es   lr    bs  amount epoch T                  \n",
       "moses   SELFIES    3  256 -1   0.001 512 6000   4     1.0   1.0 ± 0.06   \n",
       "        SMILES     3  256 -1   0.001 512 6000   4     1.0  0.39 ± 0.03   \n",
       "        fragSMILES 3  256  300 0.001 512 6000   4     1.0  0.33 ± 0.02   \n",
       "\n",
       "                                                                SNN/Test  \\\n",
       "dataset notation   hl hu  es   lr    bs  amount epoch T                    \n",
       "moses   SELFIES    3  256 -1   0.001 512 6000   4     1.0  0.535 ± 0.002   \n",
       "        SMILES     3  256 -1   0.001 512 6000   4     1.0   0.56 ± 0.003   \n",
       "        fragSMILES 3  256  300 0.001 512 6000   4     1.0  0.575 ± 0.004   \n",
       "\n",
       "                                                             Scaf/Test  \\\n",
       "dataset notation   hl hu  es   lr    bs  amount epoch T                  \n",
       "moses   SELFIES    3  256 -1   0.001 512 6000   4     1.0   0.7 ± 0.05   \n",
       "        SMILES     3  256 -1   0.001 512 6000   4     1.0  0.69 ± 0.04   \n",
       "        fragSMILES 3  256  300 0.001 512 6000   4     1.0  0.71 ± 0.04   \n",
       "\n",
       "                                                                    IntDiv  \\\n",
       "dataset notation   hl hu  es   lr    bs  amount epoch T                      \n",
       "moses   SELFIES    3  256 -1   0.001 512 6000   4     1.0     0.86 ± 0.001   \n",
       "        SMILES     3  256 -1   0.001 512 6000   4     1.0  0.8575 ± 0.0008   \n",
       "        fragSMILES 3  256  300 0.001 512 6000   4     1.0   0.8567 ± 0.001   \n",
       "\n",
       "                                                                   IntDiv2  \\\n",
       "dataset notation   hl hu  es   lr    bs  amount epoch T                      \n",
       "moses   SELFIES    3  256 -1   0.001 512 6000   4     1.0    0.854 ± 0.001   \n",
       "        SMILES     3  256 -1   0.001 512 6000   4     1.0  0.8514 ± 0.0008   \n",
       "        fragSMILES 3  256  300 0.001 512 6000   4     1.0     0.85 ± 0.001   \n",
       "\n",
       "                                                                 Filters  \\\n",
       "dataset notation   hl hu  es   lr    bs  amount epoch T                    \n",
       "moses   SELFIES    3  256 -1   0.001 512 6000   4     1.0  0.925 ± 0.009   \n",
       "        SMILES     3  256 -1   0.001 512 6000   4     1.0  0.989 ± 0.002   \n",
       "        fragSMILES 3  256  300 0.001 512 6000   4     1.0  0.991 ± 0.001   \n",
       "\n",
       "                                                                  logP  \\\n",
       "dataset notation   hl hu  es   lr    bs  amount epoch T                  \n",
       "moses   SELFIES    3  256 -1   0.001 512 6000   4     1.0  0.17 ± 0.07   \n",
       "        SMILES     3  256 -1   0.001 512 6000   4     1.0  0.12 ± 0.03   \n",
       "        fragSMILES 3  256  300 0.001 512 6000   4     1.0  0.07 ± 0.02   \n",
       "\n",
       "                                                                      SA  \\\n",
       "dataset notation   hl hu  es   lr    bs  amount epoch T                    \n",
       "moses   SELFIES    3  256 -1   0.001 512 6000   4     1.0  0.219 ± 0.009   \n",
       "        SMILES     3  256 -1   0.001 512 6000   4     1.0    0.07 ± 0.02   \n",
       "        fragSMILES 3  256  300 0.001 512 6000   4     1.0    0.05 ± 0.02   \n",
       "\n",
       "                                                                     QED  \\\n",
       "dataset notation   hl hu  es   lr    bs  amount epoch T                    \n",
       "moses   SELFIES    3  256 -1   0.001 512 6000   4     1.0  0.025 ± 0.004   \n",
       "        SMILES     3  256 -1   0.001 512 6000   4     1.0   0.01 ± 0.004   \n",
       "        fragSMILES 3  256  300 0.001 512 6000   4     1.0  0.008 ± 0.004   \n",
       "\n",
       "                                                              weight  \n",
       "dataset notation   hl hu  es   lr    bs  amount epoch T               \n",
       "moses   SELFIES    3  256 -1   0.001 512 6000   4     1.0  4.2 ± 0.9  \n",
       "        SMILES     3  256 -1   0.001 512 6000   4     1.0  6.0 ± 2.0  \n",
       "        fragSMILES 3  256  300 0.001 512 6000   4     1.0  3.9 ± 0.3  "
      ]
     },
     "execution_count": 129,
     "metadata": {},
     "output_type": "execute_result"
    }
   ],
   "source": [
    "novStats.query(' hl==3 and hu==256 and bs==512 ')"
   ]
  },
  {
   "cell_type": "code",
   "execution_count": 130,
   "metadata": {},
   "outputs": [],
   "source": [
    "novStats.to_csv('results/06_mosesNovelMetrics.csv')"
   ]
  },
  {
   "cell_type": "code",
   "execution_count": 131,
   "metadata": {},
   "outputs": [],
   "source": [
    "novPvals = pd.DataFrame.from_dict(\n",
    "                {notation: \n",
    "                {metric:stats.ttest_ind(\n",
    "                novGrp.get_group(('moses',notation,*params))[metric],\n",
    "                novGrp.get_group(('moses','fragSMILES',*paramsFrag))[metric],\n",
    "                ).pvalue for metric in metrics} for notation in ['SMILES','SELFIES']\n",
    "                }, orient='index'\n",
    "            )"
   ]
  },
  {
   "cell_type": "code",
   "execution_count": 132,
   "metadata": {},
   "outputs": [
    {
     "data": {
      "text/html": [
       "<div>\n",
       "<style scoped>\n",
       "    .dataframe tbody tr th:only-of-type {\n",
       "        vertical-align: middle;\n",
       "    }\n",
       "\n",
       "    .dataframe tbody tr th {\n",
       "        vertical-align: top;\n",
       "    }\n",
       "\n",
       "    .dataframe thead th {\n",
       "        text-align: right;\n",
       "    }\n",
       "</style>\n",
       "<table border=\"1\" class=\"dataframe\">\n",
       "  <thead>\n",
       "    <tr style=\"text-align: right;\">\n",
       "      <th></th>\n",
       "      <th>FCD/Test</th>\n",
       "      <th>SNN/Test</th>\n",
       "      <th>Scaf/Test</th>\n",
       "      <th>IntDiv</th>\n",
       "      <th>IntDiv2</th>\n",
       "      <th>Filters</th>\n",
       "      <th>logP</th>\n",
       "      <th>SA</th>\n",
       "      <th>QED</th>\n",
       "      <th>weight</th>\n",
       "    </tr>\n",
       "  </thead>\n",
       "  <tbody>\n",
       "    <tr>\n",
       "      <th>SMILES</th>\n",
       "      <td>9.082510e-03</td>\n",
       "      <td>1.218708e-04</td>\n",
       "      <td>0.266493</td>\n",
       "      <td>0.162355</td>\n",
       "      <td>0.134453</td>\n",
       "      <td>4.383837e-02</td>\n",
       "      <td>0.009481</td>\n",
       "      <td>8.413870e-02</td>\n",
       "      <td>0.472570</td>\n",
       "      <td>0.079457</td>\n",
       "    </tr>\n",
       "    <tr>\n",
       "      <th>SELFIES</th>\n",
       "      <td>1.610516e-08</td>\n",
       "      <td>2.550003e-08</td>\n",
       "      <td>0.560384</td>\n",
       "      <td>0.002637</td>\n",
       "      <td>0.001663</td>\n",
       "      <td>1.883966e-07</td>\n",
       "      <td>0.015321</td>\n",
       "      <td>1.589970e-07</td>\n",
       "      <td>0.000174</td>\n",
       "      <td>0.511046</td>\n",
       "    </tr>\n",
       "  </tbody>\n",
       "</table>\n",
       "</div>"
      ],
      "text/plain": [
       "             FCD/Test      SNN/Test  Scaf/Test    IntDiv   IntDiv2  \\\n",
       "SMILES   9.082510e-03  1.218708e-04   0.266493  0.162355  0.134453   \n",
       "SELFIES  1.610516e-08  2.550003e-08   0.560384  0.002637  0.001663   \n",
       "\n",
       "              Filters      logP            SA       QED    weight  \n",
       "SMILES   4.383837e-02  0.009481  8.413870e-02  0.472570  0.079457  \n",
       "SELFIES  1.883966e-07  0.015321  1.589970e-07  0.000174  0.511046  "
      ]
     },
     "execution_count": 132,
     "metadata": {},
     "output_type": "execute_result"
    }
   ],
   "source": [
    "novPvals"
   ]
  }
 ],
 "metadata": {
  "kernelspec": {
   "display_name": "Python 3 (ipykernel)",
   "language": "python",
   "name": "python3"
  }
 },
 "nbformat": 4,
 "nbformat_minor": 5
}
