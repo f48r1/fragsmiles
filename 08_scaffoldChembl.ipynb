{
 "cells": [
  {
   "cell_type": "code",
   "execution_count": 1,
   "id": "84c0c58e-4e3f-4345-ba9b-d0b47b030d8d",
   "metadata": {},
   "outputs": [],
   "source": [
    "import pandas as pd, numpy as np\n",
    "from rdkit import Chem"
   ]
  },
  {
   "cell_type": "code",
   "execution_count": 2,
   "metadata": {},
   "outputs": [],
   "source": [
    "from scipy import stats"
   ]
  },
  {
   "cell_type": "code",
   "execution_count": 3,
   "metadata": {},
   "outputs": [],
   "source": [
    "import pandas as pd, numpy as np, re, os\n",
    "from evaluation import Evaluator, compilerPatterns, ResultsFromMeanStdDF\n",
    "from matplotlib import pyplot as plt\n",
    "plt.rcParams.update({'font.size': 12})"
   ]
  },
  {
   "cell_type": "raw",
   "metadata": {},
   "source": [
    "## This cell would need for testing phase - Ignore this\n",
    "%load_ext autoreload\n",
    "%autoreload 2"
   ]
  },
  {
   "cell_type": "code",
   "execution_count": 5,
   "metadata": {},
   "outputs": [],
   "source": [
    "paths = [ os.path.join(dataset.name, experiment.name) \n",
    "         for dataset in os.scandir('experiments') if dataset.is_dir() and 'grisoni' in dataset.name \n",
    "         for experiment in os.scandir(dataset.path)  ]"
   ]
  },
  {
   "cell_type": "code",
   "execution_count": 6,
   "metadata": {},
   "outputs": [],
   "source": [
    "evaluators = [Evaluator(path, novel=True) for path in paths]"
   ]
  },
  {
   "cell_type": "code",
   "execution_count": null,
   "metadata": {},
   "outputs": [],
   "source": [
    "scaffDFs=pd.concat( [evaluator.getScaffoldResults() for evaluator in evaluators if not evaluator.gens.empty], ignore_index=True)"
   ]
  },
  {
   "cell_type": "code",
   "execution_count": 8,
   "metadata": {},
   "outputs": [],
   "source": [
    "scaffDFs['unique%']=scaffDFs['unique']/scaffDFs['total']\n",
    "scaffDFs['novel%']=scaffDFs['novel']/scaffDFs['unique']\n",
    "scaffDFs['chiral%']=scaffDFs['chiral']/scaffDFs['novel']"
   ]
  },
  {
   "cell_type": "code",
   "execution_count": 9,
   "metadata": {},
   "outputs": [
    {
     "name": "stderr",
     "output_type": "stream",
     "text": [
      "/tmp/ipykernel_1141590/2999511724.py:1: FutureWarning: Downcasting object dtype arrays on .fillna, .ffill, .bfill is deprecated and will change in a future version. Call result.infer_objects(copy=False) instead. To opt-in to the future behavior, set `pd.set_option('future.no_silent_downcasting', True)`\n",
      "  scaffGrp=scaffDFs.fillna(-1).groupby(compilerPatterns.index.drop('fold').tolist(),as_index=True, dropna=False)\n"
     ]
    }
   ],
   "source": [
    "scaffGrp=scaffDFs.fillna(-1).groupby(compilerPatterns.index.drop('fold').tolist(),as_index=True, dropna=False)"
   ]
  },
  {
   "cell_type": "code",
   "execution_count": 10,
   "metadata": {},
   "outputs": [],
   "source": [
    "scaffStats=scaffGrp.describe().loc(axis=1)[ ( slice(None),['mean','std'] ) ].drop(columns='fold')"
   ]
  },
  {
   "cell_type": "code",
   "execution_count": 11,
   "metadata": {},
   "outputs": [],
   "source": [
    "scaffStats=ResultsFromMeanStdDF(scaffStats)"
   ]
  },
  {
   "cell_type": "code",
   "execution_count": 12,
   "metadata": {},
   "outputs": [
    {
     "data": {
      "text/html": [
       "<div>\n",
       "<style scoped>\n",
       "    .dataframe tbody tr th:only-of-type {\n",
       "        vertical-align: middle;\n",
       "    }\n",
       "\n",
       "    .dataframe tbody tr th {\n",
       "        vertical-align: top;\n",
       "    }\n",
       "\n",
       "    .dataframe thead th {\n",
       "        text-align: right;\n",
       "    }\n",
       "</style>\n",
       "<table border=\"1\" class=\"dataframe\">\n",
       "  <thead>\n",
       "    <tr style=\"text-align: right;\">\n",
       "      <th></th>\n",
       "      <th></th>\n",
       "      <th></th>\n",
       "      <th></th>\n",
       "      <th></th>\n",
       "      <th></th>\n",
       "      <th></th>\n",
       "      <th></th>\n",
       "      <th></th>\n",
       "      <th></th>\n",
       "      <th></th>\n",
       "      <th>total</th>\n",
       "      <th>unique</th>\n",
       "      <th>novel</th>\n",
       "      <th>chiral</th>\n",
       "      <th>unique%</th>\n",
       "      <th>novel%</th>\n",
       "      <th>chiral%</th>\n",
       "    </tr>\n",
       "    <tr>\n",
       "      <th>dataset</th>\n",
       "      <th>aug</th>\n",
       "      <th>notation</th>\n",
       "      <th>hl</th>\n",
       "      <th>hu</th>\n",
       "      <th>es</th>\n",
       "      <th>lr</th>\n",
       "      <th>bs</th>\n",
       "      <th>amount</th>\n",
       "      <th>epoch</th>\n",
       "      <th>T</th>\n",
       "      <th></th>\n",
       "      <th></th>\n",
       "      <th></th>\n",
       "      <th></th>\n",
       "      <th></th>\n",
       "      <th></th>\n",
       "      <th></th>\n",
       "    </tr>\n",
       "  </thead>\n",
       "  <tbody>\n",
       "    <tr>\n",
       "      <th rowspan=\"6\" valign=\"top\">grisoni</th>\n",
       "      <th rowspan=\"3\" valign=\"top\">-1</th>\n",
       "      <th>SELFIES</th>\n",
       "      <th>2</th>\n",
       "      <th>512</th>\n",
       "      <th>-1</th>\n",
       "      <th>0.001</th>\n",
       "      <th>512</th>\n",
       "      <th>6000</th>\n",
       "      <th>10</th>\n",
       "      <th>1.0</th>\n",
       "      <td>5964.0 ± 6.0</td>\n",
       "      <td>5570.0 ± 40.0</td>\n",
       "      <td>5160.0 ± 70.0</td>\n",
       "      <td>760.0 ± 40.0</td>\n",
       "      <td>0.934 ± 0.007</td>\n",
       "      <td>0.925 ± 0.006</td>\n",
       "      <td>0.148 ± 0.008</td>\n",
       "    </tr>\n",
       "    <tr>\n",
       "      <th>SMILES</th>\n",
       "      <th>2</th>\n",
       "      <th>512</th>\n",
       "      <th>-1</th>\n",
       "      <th>0.001</th>\n",
       "      <th>512</th>\n",
       "      <th>6000</th>\n",
       "      <th>10</th>\n",
       "      <th>1.0</th>\n",
       "      <td>5976.0 ± 8.0</td>\n",
       "      <td>5490.0 ± 80.0</td>\n",
       "      <td>4600.0 ± 100.0</td>\n",
       "      <td>820.0 ± 40.0</td>\n",
       "      <td>0.92 ± 0.01</td>\n",
       "      <td>0.838 ± 0.009</td>\n",
       "      <td>0.178 ± 0.007</td>\n",
       "    </tr>\n",
       "    <tr>\n",
       "      <th>fragSMILES</th>\n",
       "      <th>2</th>\n",
       "      <th>512</th>\n",
       "      <th>300</th>\n",
       "      <th>0.001</th>\n",
       "      <th>512</th>\n",
       "      <th>6000</th>\n",
       "      <th>16</th>\n",
       "      <th>1.0</th>\n",
       "      <td>5985.0 ± 8.0</td>\n",
       "      <td>5500.0 ± 50.0</td>\n",
       "      <td>4440.0 ± 70.0</td>\n",
       "      <td>750.0 ± 50.0</td>\n",
       "      <td>0.918 ± 0.007</td>\n",
       "      <td>0.809 ± 0.007</td>\n",
       "      <td>0.169 ± 0.009</td>\n",
       "    </tr>\n",
       "    <tr>\n",
       "      <th rowspan=\"3\" valign=\"top\">5</th>\n",
       "      <th>SELFIES</th>\n",
       "      <th>2</th>\n",
       "      <th>512</th>\n",
       "      <th>-1</th>\n",
       "      <th>0.001</th>\n",
       "      <th>256</th>\n",
       "      <th>6000</th>\n",
       "      <th>3</th>\n",
       "      <th>1.0</th>\n",
       "      <td>5978.0 ± 6.0</td>\n",
       "      <td>5620.0 ± 40.0</td>\n",
       "      <td>5240.0 ± 60.0</td>\n",
       "      <td>870.0 ± 60.0</td>\n",
       "      <td>0.941 ± 0.006</td>\n",
       "      <td>0.931 ± 0.004</td>\n",
       "      <td>0.17 ± 0.01</td>\n",
       "    </tr>\n",
       "    <tr>\n",
       "      <th>SMILES</th>\n",
       "      <th>2</th>\n",
       "      <th>512</th>\n",
       "      <th>-1</th>\n",
       "      <th>0.001</th>\n",
       "      <th>256</th>\n",
       "      <th>6000</th>\n",
       "      <th>3</th>\n",
       "      <th>1.0</th>\n",
       "      <td>5976.0 ± 5.0</td>\n",
       "      <td>5610.0 ± 70.0</td>\n",
       "      <td>5000.0 ± 100.0</td>\n",
       "      <td>1000.0 ± 100.0</td>\n",
       "      <td>0.94 ± 0.01</td>\n",
       "      <td>0.9 ± 0.01</td>\n",
       "      <td>0.19 ± 0.02</td>\n",
       "    </tr>\n",
       "    <tr>\n",
       "      <th>fragSMILES</th>\n",
       "      <th>2</th>\n",
       "      <th>512</th>\n",
       "      <th>300</th>\n",
       "      <th>0.001</th>\n",
       "      <th>256</th>\n",
       "      <th>6000</th>\n",
       "      <th>4</th>\n",
       "      <th>1.0</th>\n",
       "      <td>5978.0 ± 7.0</td>\n",
       "      <td>5510.0 ± 80.0</td>\n",
       "      <td>4400.0 ± 100.0</td>\n",
       "      <td>830.0 ± 80.0</td>\n",
       "      <td>0.92 ± 0.01</td>\n",
       "      <td>0.81 ± 0.01</td>\n",
       "      <td>0.19 ± 0.02</td>\n",
       "    </tr>\n",
       "  </tbody>\n",
       "</table>\n",
       "</div>"
      ],
      "text/plain": [
       "                                                                      total  \\\n",
       "dataset aug notation   hl hu  es   lr    bs  amount epoch T                   \n",
       "grisoni -1  SELFIES    2  512 -1   0.001 512 6000   10    1.0  5964.0 ± 6.0   \n",
       "            SMILES     2  512 -1   0.001 512 6000   10    1.0  5976.0 ± 8.0   \n",
       "            fragSMILES 2  512  300 0.001 512 6000   16    1.0  5985.0 ± 8.0   \n",
       "         5  SELFIES    2  512 -1   0.001 256 6000   3     1.0  5978.0 ± 6.0   \n",
       "            SMILES     2  512 -1   0.001 256 6000   3     1.0  5976.0 ± 5.0   \n",
       "            fragSMILES 2  512  300 0.001 256 6000   4     1.0  5978.0 ± 7.0   \n",
       "\n",
       "                                                                      unique  \\\n",
       "dataset aug notation   hl hu  es   lr    bs  amount epoch T                    \n",
       "grisoni -1  SELFIES    2  512 -1   0.001 512 6000   10    1.0  5570.0 ± 40.0   \n",
       "            SMILES     2  512 -1   0.001 512 6000   10    1.0  5490.0 ± 80.0   \n",
       "            fragSMILES 2  512  300 0.001 512 6000   16    1.0  5500.0 ± 50.0   \n",
       "         5  SELFIES    2  512 -1   0.001 256 6000   3     1.0  5620.0 ± 40.0   \n",
       "            SMILES     2  512 -1   0.001 256 6000   3     1.0  5610.0 ± 70.0   \n",
       "            fragSMILES 2  512  300 0.001 256 6000   4     1.0  5510.0 ± 80.0   \n",
       "\n",
       "                                                                        novel  \\\n",
       "dataset aug notation   hl hu  es   lr    bs  amount epoch T                     \n",
       "grisoni -1  SELFIES    2  512 -1   0.001 512 6000   10    1.0   5160.0 ± 70.0   \n",
       "            SMILES     2  512 -1   0.001 512 6000   10    1.0  4600.0 ± 100.0   \n",
       "            fragSMILES 2  512  300 0.001 512 6000   16    1.0   4440.0 ± 70.0   \n",
       "         5  SELFIES    2  512 -1   0.001 256 6000   3     1.0   5240.0 ± 60.0   \n",
       "            SMILES     2  512 -1   0.001 256 6000   3     1.0  5000.0 ± 100.0   \n",
       "            fragSMILES 2  512  300 0.001 256 6000   4     1.0  4400.0 ± 100.0   \n",
       "\n",
       "                                                                       chiral  \\\n",
       "dataset aug notation   hl hu  es   lr    bs  amount epoch T                     \n",
       "grisoni -1  SELFIES    2  512 -1   0.001 512 6000   10    1.0    760.0 ± 40.0   \n",
       "            SMILES     2  512 -1   0.001 512 6000   10    1.0    820.0 ± 40.0   \n",
       "            fragSMILES 2  512  300 0.001 512 6000   16    1.0    750.0 ± 50.0   \n",
       "         5  SELFIES    2  512 -1   0.001 256 6000   3     1.0    870.0 ± 60.0   \n",
       "            SMILES     2  512 -1   0.001 256 6000   3     1.0  1000.0 ± 100.0   \n",
       "            fragSMILES 2  512  300 0.001 256 6000   4     1.0    830.0 ± 80.0   \n",
       "\n",
       "                                                                     unique%  \\\n",
       "dataset aug notation   hl hu  es   lr    bs  amount epoch T                    \n",
       "grisoni -1  SELFIES    2  512 -1   0.001 512 6000   10    1.0  0.934 ± 0.007   \n",
       "            SMILES     2  512 -1   0.001 512 6000   10    1.0    0.92 ± 0.01   \n",
       "            fragSMILES 2  512  300 0.001 512 6000   16    1.0  0.918 ± 0.007   \n",
       "         5  SELFIES    2  512 -1   0.001 256 6000   3     1.0  0.941 ± 0.006   \n",
       "            SMILES     2  512 -1   0.001 256 6000   3     1.0    0.94 ± 0.01   \n",
       "            fragSMILES 2  512  300 0.001 256 6000   4     1.0    0.92 ± 0.01   \n",
       "\n",
       "                                                                      novel%  \\\n",
       "dataset aug notation   hl hu  es   lr    bs  amount epoch T                    \n",
       "grisoni -1  SELFIES    2  512 -1   0.001 512 6000   10    1.0  0.925 ± 0.006   \n",
       "            SMILES     2  512 -1   0.001 512 6000   10    1.0  0.838 ± 0.009   \n",
       "            fragSMILES 2  512  300 0.001 512 6000   16    1.0  0.809 ± 0.007   \n",
       "         5  SELFIES    2  512 -1   0.001 256 6000   3     1.0  0.931 ± 0.004   \n",
       "            SMILES     2  512 -1   0.001 256 6000   3     1.0     0.9 ± 0.01   \n",
       "            fragSMILES 2  512  300 0.001 256 6000   4     1.0    0.81 ± 0.01   \n",
       "\n",
       "                                                                     chiral%  \n",
       "dataset aug notation   hl hu  es   lr    bs  amount epoch T                   \n",
       "grisoni -1  SELFIES    2  512 -1   0.001 512 6000   10    1.0  0.148 ± 0.008  \n",
       "            SMILES     2  512 -1   0.001 512 6000   10    1.0  0.178 ± 0.007  \n",
       "            fragSMILES 2  512  300 0.001 512 6000   16    1.0  0.169 ± 0.009  \n",
       "         5  SELFIES    2  512 -1   0.001 256 6000   3     1.0    0.17 ± 0.01  \n",
       "            SMILES     2  512 -1   0.001 256 6000   3     1.0    0.19 ± 0.02  \n",
       "            fragSMILES 2  512  300 0.001 256 6000   4     1.0    0.19 ± 0.02  "
      ]
     },
     "execution_count": 12,
     "metadata": {},
     "output_type": "execute_result"
    }
   ],
   "source": [
    "scaffStats.query(' ( aug==5 and hl==2 and hu==512 and bs==256 ) or ( aug!=5 and hl==2 and hu==512 and bs==512 ) ')"
   ]
  },
  {
   "cell_type": "code",
   "execution_count": null,
   "metadata": {},
   "outputs": [],
   "source": [
    "scaffStats.to_csv('results/08_grisoniScaffMetrics.csv')"
   ]
  },
  {
   "cell_type": "code",
   "execution_count": 13,
   "metadata": {},
   "outputs": [],
   "source": [
    "params=[2,512,-1,0.001,512,6000,10,1.0]\n",
    "paramsFrag = [2,512,300,0.001,512,6000,16,1.0]"
   ]
  },
  {
   "cell_type": "code",
   "execution_count": 14,
   "metadata": {},
   "outputs": [],
   "source": [
    "params5=[2,512,-1,0.001,256,6000,3,1.0]\n",
    "paramsFrag5 = [2,512,300,0.001,256,6000,4,1.0]"
   ]
  },
  {
   "cell_type": "code",
   "execution_count": 15,
   "metadata": {},
   "outputs": [],
   "source": [
    "genPvals = pd.DataFrame.from_dict(\n",
    "                {notation+'x1': \n",
    "                {metric:stats.ttest_ind(\n",
    "                scaffGrp.get_group(('grisoni',-1,notation,*params))[metric],\n",
    "                scaffGrp.get_group(('grisoni',-1,'fragSMILES',*paramsFrag))[metric],\n",
    "                ).pvalue for metric in scaffStats.columns} for notation in ['SMILES','SELFIES']\n",
    "                } |\n",
    "                {notation+'x5': \n",
    "                {metric:stats.ttest_ind(\n",
    "                scaffGrp.get_group(('grisoni',5,notation,*params5))[metric],\n",
    "                scaffGrp.get_group(('grisoni',5,'fragSMILES',*paramsFrag5))[metric],\n",
    "                ).pvalue for metric in scaffStats.columns} for notation in ['SMILES','SELFIES']\n",
    "                }\n",
    "                , orient='index'\n",
    "            )"
   ]
  },
  {
   "cell_type": "code",
   "execution_count": 16,
   "metadata": {},
   "outputs": [
    {
     "data": {
      "text/html": [
       "<div>\n",
       "<style scoped>\n",
       "    .dataframe tbody tr th:only-of-type {\n",
       "        vertical-align: middle;\n",
       "    }\n",
       "\n",
       "    .dataframe tbody tr th {\n",
       "        vertical-align: top;\n",
       "    }\n",
       "\n",
       "    .dataframe thead th {\n",
       "        text-align: right;\n",
       "    }\n",
       "</style>\n",
       "<table border=\"1\" class=\"dataframe\">\n",
       "  <thead>\n",
       "    <tr style=\"text-align: right;\">\n",
       "      <th></th>\n",
       "      <th>total</th>\n",
       "      <th>unique</th>\n",
       "      <th>novel</th>\n",
       "      <th>chiral</th>\n",
       "      <th>unique%</th>\n",
       "      <th>novel%</th>\n",
       "      <th>chiral%</th>\n",
       "    </tr>\n",
       "  </thead>\n",
       "  <tbody>\n",
       "    <tr>\n",
       "      <th>SMILESx1</th>\n",
       "      <td>0.122287</td>\n",
       "      <td>0.883691</td>\n",
       "      <td>2.905847e-02</td>\n",
       "      <td>0.042347</td>\n",
       "      <td>0.966772</td>\n",
       "      <td>3.886867e-04</td>\n",
       "      <td>0.125945</td>\n",
       "    </tr>\n",
       "    <tr>\n",
       "      <th>SELFIESx1</th>\n",
       "      <td>0.001574</td>\n",
       "      <td>0.034050</td>\n",
       "      <td>2.212652e-07</td>\n",
       "      <td>0.642110</td>\n",
       "      <td>0.007221</td>\n",
       "      <td>3.270683e-09</td>\n",
       "      <td>0.005719</td>\n",
       "    </tr>\n",
       "    <tr>\n",
       "      <th>SMILESx5</th>\n",
       "      <td>0.544191</td>\n",
       "      <td>0.070134</td>\n",
       "      <td>1.120501e-04</td>\n",
       "      <td>0.116053</td>\n",
       "      <td>0.064472</td>\n",
       "      <td>4.878120e-06</td>\n",
       "      <td>0.846064</td>\n",
       "    </tr>\n",
       "    <tr>\n",
       "      <th>SELFIESx5</th>\n",
       "      <td>1.000000</td>\n",
       "      <td>0.017568</td>\n",
       "      <td>2.491563e-06</td>\n",
       "      <td>0.417392</td>\n",
       "      <td>0.017827</td>\n",
       "      <td>9.042331e-08</td>\n",
       "      <td>0.042876</td>\n",
       "    </tr>\n",
       "  </tbody>\n",
       "</table>\n",
       "</div>"
      ],
      "text/plain": [
       "              total    unique         novel    chiral   unique%        novel%  \\\n",
       "SMILESx1   0.122287  0.883691  2.905847e-02  0.042347  0.966772  3.886867e-04   \n",
       "SELFIESx1  0.001574  0.034050  2.212652e-07  0.642110  0.007221  3.270683e-09   \n",
       "SMILESx5   0.544191  0.070134  1.120501e-04  0.116053  0.064472  4.878120e-06   \n",
       "SELFIESx5  1.000000  0.017568  2.491563e-06  0.417392  0.017827  9.042331e-08   \n",
       "\n",
       "            chiral%  \n",
       "SMILESx1   0.125945  \n",
       "SELFIESx1  0.005719  \n",
       "SMILESx5   0.846064  \n",
       "SELFIESx5  0.042876  "
      ]
     },
     "execution_count": 16,
     "metadata": {},
     "output_type": "execute_result"
    }
   ],
   "source": [
    "genPvals"
   ]
  },
  {
   "cell_type": "code",
   "execution_count": 17,
   "metadata": {},
   "outputs": [
    {
     "data": {
      "text/html": [
       "<div>\n",
       "<style scoped>\n",
       "    .dataframe tbody tr th:only-of-type {\n",
       "        vertical-align: middle;\n",
       "    }\n",
       "\n",
       "    .dataframe tbody tr th {\n",
       "        vertical-align: top;\n",
       "    }\n",
       "\n",
       "    .dataframe thead th {\n",
       "        text-align: right;\n",
       "    }\n",
       "</style>\n",
       "<table border=\"1\" class=\"dataframe\">\n",
       "  <thead>\n",
       "    <tr style=\"text-align: right;\">\n",
       "      <th></th>\n",
       "      <th>total</th>\n",
       "      <th>unique</th>\n",
       "      <th>novel</th>\n",
       "      <th>chiral</th>\n",
       "      <th>unique%</th>\n",
       "      <th>novel%</th>\n",
       "      <th>chiral%</th>\n",
       "    </tr>\n",
       "  </thead>\n",
       "  <tbody>\n",
       "    <tr>\n",
       "      <th>SMILESx1</th>\n",
       "      <td>False</td>\n",
       "      <td>False</td>\n",
       "      <td>True</td>\n",
       "      <td>True</td>\n",
       "      <td>False</td>\n",
       "      <td>True</td>\n",
       "      <td>False</td>\n",
       "    </tr>\n",
       "    <tr>\n",
       "      <th>SELFIESx1</th>\n",
       "      <td>True</td>\n",
       "      <td>True</td>\n",
       "      <td>True</td>\n",
       "      <td>False</td>\n",
       "      <td>True</td>\n",
       "      <td>True</td>\n",
       "      <td>True</td>\n",
       "    </tr>\n",
       "    <tr>\n",
       "      <th>SMILESx5</th>\n",
       "      <td>False</td>\n",
       "      <td>False</td>\n",
       "      <td>True</td>\n",
       "      <td>False</td>\n",
       "      <td>False</td>\n",
       "      <td>True</td>\n",
       "      <td>False</td>\n",
       "    </tr>\n",
       "    <tr>\n",
       "      <th>SELFIESx5</th>\n",
       "      <td>False</td>\n",
       "      <td>True</td>\n",
       "      <td>True</td>\n",
       "      <td>False</td>\n",
       "      <td>True</td>\n",
       "      <td>True</td>\n",
       "      <td>True</td>\n",
       "    </tr>\n",
       "  </tbody>\n",
       "</table>\n",
       "</div>"
      ],
      "text/plain": [
       "           total  unique  novel  chiral  unique%  novel%  chiral%\n",
       "SMILESx1   False   False   True    True    False    True    False\n",
       "SELFIESx1   True    True   True   False     True    True     True\n",
       "SMILESx5   False   False   True   False    False    True    False\n",
       "SELFIESx5  False    True   True   False     True    True     True"
      ]
     },
     "execution_count": 17,
     "metadata": {},
     "output_type": "execute_result"
    }
   ],
   "source": [
    "genPvals.map(lambda x: x<0.05)"
   ]
  },
  {
   "cell_type": "markdown",
   "metadata": {},
   "source": [
    "## Count how many scaffolds are novel cause of new cyclic fragments"
   ]
  },
  {
   "cell_type": "code",
   "execution_count": 18,
   "metadata": {},
   "outputs": [],
   "source": [
    "from ast import literal_eval\n",
    "notations = ['SELFIES','SMILES','fragSMILES']\n",
    "def _converting(cell):\n",
    "    if cell.startswith('(') :\n",
    "        return literal_eval(cell)"
   ]
  },
  {
   "cell_type": "code",
   "execution_count": 19,
   "metadata": {},
   "outputs": [],
   "source": [
    "from processer import fragmentSmilesList"
   ]
  },
  {
   "cell_type": "code",
   "execution_count": 54,
   "metadata": {},
   "outputs": [],
   "source": [
    "def checkScaffoldFragments(scaffolds, vocab):\n",
    "\n",
    "    def checkNewFrag(smi, frags):\n",
    "        if pd.isnull(frags):\n",
    "            if smi in vocab:\n",
    "                return False\n",
    "            return True\n",
    "\n",
    "        mask = np.in1d(frags, vocab)\n",
    "\n",
    "        newFrags = np.where(~mask)[0]\n",
    "\n",
    "        if len(newFrags)==0:\n",
    "            return False\n",
    "        \n",
    "        ## If u want track which new fragments are\n",
    "        # return np.array(frags)[newFrags]\n",
    "        return True\n",
    "    \n",
    "    # try:\n",
    "    fragScaff=fragmentSmilesList(scaffolds)\n",
    "    maskNewFrags=fragScaff.apply(lambda x: checkNewFrag(x.smiles, x.tokens), axis=1)\n",
    "\n",
    "    return maskNewFrags.sum()\n",
    "    # except:\n",
    "    #     return -1"
   ]
  },
  {
   "cell_type": "code",
   "execution_count": 21,
   "metadata": {},
   "outputs": [],
   "source": [
    "vocabs=[]\n",
    "for fold in range(5):\n",
    "    train_data = pd.read_csv(f'experiments/data/grisoni_train_{fold}.tar.xz', usecols = ['fragsmiles'], compression=\"xz\",converters={'fragsmiles': _converting} ).squeeze()\n",
    "    vocabs.append(np.unique(np.concatenate(train_data.apply(np.array))))"
   ]
  },
  {
   "cell_type": "code",
   "execution_count": 22,
   "metadata": {},
   "outputs": [],
   "source": [
    "def countNewScaffCauseFrags(evaluator):\n",
    "    results = evaluator.gens.copy()\n",
    "\n",
    "    results['inducedNewFrags']=results.apply(lambda x: checkScaffoldFragments(x.sampled.novelScaff, vocabs[x.fold]), axis=1)\n",
    "\n",
    "    results.drop(columns='sampled', inplace=True)\n",
    "    return results.sort_values(['amount','fold','epoch'])"
   ]
  },
  {
   "cell_type": "raw",
   "metadata": {},
   "source": [
    "idxsEvaluators = np.unique(scaffDFs.query(' ( aug==5 and hl==2 and hu==512 and bs==256 ) or ( aug!=5 and hl==2 and hu==512 and bs==512 ) ').index//5)"
   ]
  },
  {
   "cell_type": "code",
   "execution_count": null,
   "metadata": {},
   "outputs": [],
   "source": [
    "idxsEvaluators = np.unique(scaffDFs.query(' ( aug==5 and hl==2 and hu==512 and bs==256 and notation!=\"fragSMILES\" ) or ( aug!=5 and hl==2 and hu==512 and bs==512 and notation!=\"fragSMILES\") ').index//5)"
   ]
  },
  {
   "cell_type": "code",
   "execution_count": null,
   "metadata": {},
   "outputs": [],
   "source": [
    "inducedNewFrags=pd.concat( [ countNewScaffCauseFrags(evaluators[idx]) for idx in idxsEvaluators], ignore_index=True)"
   ]
  },
  {
   "cell_type": "code",
   "execution_count": 84,
   "metadata": {},
   "outputs": [],
   "source": [
    "induced = scaffDFs.query(' ( aug==5 and hl==2 and hu==512 and bs==256 and notation!=\"fragSMILES\" ) or ( aug!=5 and hl==2 and hu==512 and bs==512 and notation!=\"fragSMILES\" ) ').merge(inducedNewFrags, \n",
    "on=compilerPatterns.index.tolist())"
   ]
  },
  {
   "cell_type": "code",
   "execution_count": 86,
   "metadata": {},
   "outputs": [],
   "source": [
    "induced['inducedNewFrags%']=induced['inducedNewFrags']/induced['novel']"
   ]
  },
  {
   "cell_type": "code",
   "execution_count": 87,
   "metadata": {},
   "outputs": [
    {
     "name": "stderr",
     "output_type": "stream",
     "text": [
      "/tmp/ipykernel_1141590/238393982.py:1: FutureWarning: Downcasting object dtype arrays on .fillna, .ffill, .bfill is deprecated and will change in a future version. Call result.infer_objects(copy=False) instead. To opt-in to the future behavior, set `pd.set_option('future.no_silent_downcasting', True)`\n",
      "  inducedGrp=induced.fillna(-1).groupby(compilerPatterns.index.drop('fold').tolist(),as_index=True, dropna=False)\n"
     ]
    }
   ],
   "source": [
    "inducedGrp=induced.fillna(-1).groupby(compilerPatterns.index.drop('fold').tolist(),as_index=True, dropna=False)"
   ]
  },
  {
   "cell_type": "code",
   "execution_count": 88,
   "metadata": {},
   "outputs": [],
   "source": [
    "inducedStats=inducedGrp.describe().loc(axis=1)[ ( slice(None),['mean','std'] ) ].drop(columns='fold')"
   ]
  },
  {
   "cell_type": "code",
   "execution_count": 89,
   "metadata": {},
   "outputs": [],
   "source": [
    "inducedStats=ResultsFromMeanStdDF(inducedStats)"
   ]
  },
  {
   "cell_type": "code",
   "execution_count": null,
   "metadata": {},
   "outputs": [],
   "source": [
    "inducedStats"
   ]
  }
 ],
 "metadata": {
  "kernelspec": {
   "display_name": "Python 3 (ipykernel)",
   "language": "python",
   "name": "python3"
  }
 },
 "nbformat": 4,
 "nbformat_minor": 5
}
