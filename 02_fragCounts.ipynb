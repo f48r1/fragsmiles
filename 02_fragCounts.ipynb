{
 "cells": [
  {
   "cell_type": "code",
   "execution_count": 1,
   "id": "bd41ea49-be6e-4002-a722-01f9831e38b2",
   "metadata": {},
   "outputs": [],
   "source": [
    "import pandas as pd, numpy as np\n",
    "from matplotlib import pyplot as plt"
   ]
  },
  {
   "cell_type": "code",
   "execution_count": 2,
   "id": "55f2892d-34b5-430b-9b3c-49ee0c568b1e",
   "metadata": {},
   "outputs": [],
   "source": [
    "df = pd.read_csv(\"data/01_zincToks.csv\")"
   ]
  },
  {
   "cell_type": "code",
   "execution_count": 3,
   "id": "8b7d6184-d165-443c-a11f-c64a7f95a353",
   "metadata": {
    "collapsed": true,
    "jupyter": {
     "outputs_hidden": true
    }
   },
   "outputs": [
    {
     "data": {
      "text/html": [
       "<div>\n",
       "<style scoped>\n",
       "    .dataframe tbody tr th:only-of-type {\n",
       "        vertical-align: middle;\n",
       "    }\n",
       "\n",
       "    .dataframe tbody tr th {\n",
       "        vertical-align: top;\n",
       "    }\n",
       "\n",
       "    .dataframe thead th {\n",
       "        text-align: right;\n",
       "    }\n",
       "</style>\n",
       "<table border=\"1\" class=\"dataframe\">\n",
       "  <thead>\n",
       "    <tr style=\"text-align: right;\">\n",
       "      <th></th>\n",
       "      <th>smiles</th>\n",
       "      <th>tokens</th>\n",
       "      <th>length</th>\n",
       "    </tr>\n",
       "  </thead>\n",
       "  <tbody>\n",
       "    <tr>\n",
       "      <th>0</th>\n",
       "      <td>CC(C)(C)c1ccc2occ(CC(=O)Nc3ccccc3F)c2c1</td>\n",
       "      <td>C C ( C ) ( C ) &lt;0&gt; c1ccc2occc2c1 &lt;6&gt; C C=O N ...</td>\n",
       "      <td>18</td>\n",
       "    </tr>\n",
       "    <tr>\n",
       "      <th>1</th>\n",
       "      <td>C[C@@H]1CC(Nc2cncc(-c3nncn3C)c2)C[C@@H](C)C1</td>\n",
       "      <td>C &lt;0S&gt; C1CCCCC1 &lt;2&gt; &lt;4S&gt; ( C ) N &lt;1&gt; c1ccncc1 ...</td>\n",
       "      <td>16</td>\n",
       "    </tr>\n",
       "    <tr>\n",
       "      <th>2</th>\n",
       "      <td>N#Cc1ccc(-c2ccc(O[C@@H](C(=O)N3CCCC3)c3ccccc3)...</td>\n",
       "      <td>C1CCNC1 &lt;3&gt; C=O C|R ( &lt;0&gt; c1ccccc1 ) O &lt;3&gt; c1c...</td>\n",
       "      <td>16</td>\n",
       "    </tr>\n",
       "    <tr>\n",
       "      <th>3</th>\n",
       "      <td>CCOC(=O)[C@@H]1CCCN(C(=O)c2nc(-c3ccc(C)cc3)n3c...</td>\n",
       "      <td>C C O C=O &lt;1R&gt; C1CCNCC1 &lt;3&gt; C=O &lt;0&gt; c1ncn2c1CC...</td>\n",
       "      <td>15</td>\n",
       "    </tr>\n",
       "    <tr>\n",
       "      <th>4</th>\n",
       "      <td>N#CC1=C(SCC(=O)Nc2cccc(Cl)c2)N=C(O)[C@H](C#N)C...</td>\n",
       "      <td>O &lt;4&gt; C1=CC2(CC=N1)CCCCC2 &lt;0&gt; &lt;1&gt; ( C#N ) &lt;3S&gt;...</td>\n",
       "      <td>20</td>\n",
       "    </tr>\n",
       "    <tr>\n",
       "      <th>...</th>\n",
       "      <td>...</td>\n",
       "      <td>...</td>\n",
       "      <td>...</td>\n",
       "    </tr>\n",
       "    <tr>\n",
       "      <th>249323</th>\n",
       "      <td>CC1(C)CC[C@H](CNC(=O)Cn2ncc3ccccc3c2=O)c2ccccc21</td>\n",
       "      <td>C &lt;6&gt; c1ccc2c(c1)CCCC2 &lt;9S&gt; &lt;6&gt; ( C ) C N C=O ...</td>\n",
       "      <td>14</td>\n",
       "    </tr>\n",
       "    <tr>\n",
       "      <th>249324</th>\n",
       "      <td>Cn1ccnc1C(=O)c1ccc(NC(=O)C2CCN(C(=O)C(C)(C)C)C...</td>\n",
       "      <td>C C ( C ) ( C ) C=O &lt;3&gt; C1CCNCC1 &lt;0&gt; C=O N &lt;3&gt;...</td>\n",
       "      <td>22</td>\n",
       "    </tr>\n",
       "    <tr>\n",
       "      <th>249325</th>\n",
       "      <td>Cc1ccc(NC(=O)C(=O)N(C)Cc2ccccc2)c(C)c1</td>\n",
       "      <td>C &lt;0&gt; c1ccccc1 &lt;3&gt; &lt;4&gt; ( C ) N C=O C=O N ( C )...</td>\n",
       "      <td>18</td>\n",
       "    </tr>\n",
       "    <tr>\n",
       "      <th>249326</th>\n",
       "      <td>Cc1cc(C(=O)Nc2ccc(OCC(N)=O)cc2)c(C)n1C1CC1</td>\n",
       "      <td>C &lt;2&gt; c1cc[nH]c1 &lt;0&gt; &lt;4&gt; ( C ) &lt;3&gt; ( &lt;0&gt; C1CC1...</td>\n",
       "      <td>22</td>\n",
       "    </tr>\n",
       "    <tr>\n",
       "      <th>249327</th>\n",
       "      <td>O=C(CC(c1ccccc1)c1ccccc1)N1CCN(S(=O)(=O)c2cccc...</td>\n",
       "      <td>c1ccccc1 &lt;0&gt; C ( &lt;0&gt; c1ccccc1 ) C C=O &lt;2&gt; C1CN...</td>\n",
       "      <td>17</td>\n",
       "    </tr>\n",
       "  </tbody>\n",
       "</table>\n",
       "<p>249328 rows × 3 columns</p>\n",
       "</div>"
      ],
      "text/plain": [
       "                                                   smiles  \\\n",
       "0                 CC(C)(C)c1ccc2occ(CC(=O)Nc3ccccc3F)c2c1   \n",
       "1            C[C@@H]1CC(Nc2cncc(-c3nncn3C)c2)C[C@@H](C)C1   \n",
       "2       N#Cc1ccc(-c2ccc(O[C@@H](C(=O)N3CCCC3)c3ccccc3)...   \n",
       "3       CCOC(=O)[C@@H]1CCCN(C(=O)c2nc(-c3ccc(C)cc3)n3c...   \n",
       "4       N#CC1=C(SCC(=O)Nc2cccc(Cl)c2)N=C(O)[C@H](C#N)C...   \n",
       "...                                                   ...   \n",
       "249323   CC1(C)CC[C@H](CNC(=O)Cn2ncc3ccccc3c2=O)c2ccccc21   \n",
       "249324  Cn1ccnc1C(=O)c1ccc(NC(=O)C2CCN(C(=O)C(C)(C)C)C...   \n",
       "249325             Cc1ccc(NC(=O)C(=O)N(C)Cc2ccccc2)c(C)c1   \n",
       "249326         Cc1cc(C(=O)Nc2ccc(OCC(N)=O)cc2)c(C)n1C1CC1   \n",
       "249327  O=C(CC(c1ccccc1)c1ccccc1)N1CCN(S(=O)(=O)c2cccc...   \n",
       "\n",
       "                                                   tokens  length  \n",
       "0       C C ( C ) ( C ) <0> c1ccc2occc2c1 <6> C C=O N ...      18  \n",
       "1       C <0S> C1CCCCC1 <2> <4S> ( C ) N <1> c1ccncc1 ...      16  \n",
       "2       C1CCNC1 <3> C=O C|R ( <0> c1ccccc1 ) O <3> c1c...      16  \n",
       "3       C C O C=O <1R> C1CCNCC1 <3> C=O <0> c1ncn2c1CC...      15  \n",
       "4       O <4> C1=CC2(CC=N1)CCCCC2 <0> <1> ( C#N ) <3S>...      20  \n",
       "...                                                   ...     ...  \n",
       "249323  C <6> c1ccc2c(c1)CCCC2 <9S> <6> ( C ) C N C=O ...      14  \n",
       "249324  C C ( C ) ( C ) C=O <3> C1CCNCC1 <0> C=O N <3>...      22  \n",
       "249325  C <0> c1ccccc1 <3> <4> ( C ) N C=O C=O N ( C )...      18  \n",
       "249326  C <2> c1cc[nH]c1 <0> <4> ( C ) <3> ( <0> C1CC1...      22  \n",
       "249327  c1ccccc1 <0> C ( <0> c1ccccc1 ) C C=O <2> C1CN...      17  \n",
       "\n",
       "[249328 rows x 3 columns]"
      ]
     },
     "execution_count": 3,
     "metadata": {},
     "output_type": "execute_result"
    }
   ],
   "source": [
    "df"
   ]
  },
  {
   "cell_type": "code",
   "execution_count": 4,
   "id": "9cfdfc35-633f-40c8-8257-9589a60eeab8",
   "metadata": {},
   "outputs": [],
   "source": [
    "_dict=df[\"length\"].describe().to_dict()"
   ]
  },
  {
   "cell_type": "code",
   "execution_count": 5,
   "id": "dd56083e-1c21-4feb-82a4-a6eef4584ca8",
   "metadata": {},
   "outputs": [],
   "source": [
    "iqr=_dict[\"75%\"]-_dict[\"25%\"]\n",
    "_dict[\"lowerWisk\"]= 3 #_dict[\"25%\"]-1.5*iqr -> rounded to 3\n",
    "_dict[\"upperWisk\"]= 30 # _dict[\"75%\"]+1.5*iqr -> rounded to 30"
   ]
  },
  {
   "cell_type": "code",
   "execution_count": 6,
   "id": "1a09c36b-253e-486b-a54c-a5494953b062",
   "metadata": {
    "collapsed": true,
    "jupyter": {
     "outputs_hidden": true
    }
   },
   "outputs": [
    {
     "data": {
      "text/plain": [
       "{'count': 249328.0,\n",
       " 'mean': 16.712374863633446,\n",
       " 'std': 4.855034526776576,\n",
       " 'min': 3.0,\n",
       " '25%': 13.0,\n",
       " '50%': 16.0,\n",
       " '75%': 20.0,\n",
       " 'max': 51.0,\n",
       " 'lowerWisk': 3,\n",
       " 'upperWisk': 30}"
      ]
     },
     "execution_count": 6,
     "metadata": {},
     "output_type": "execute_result"
    }
   ],
   "source": [
    "_dict"
   ]
  },
  {
   "cell_type": "code",
   "execution_count": 7,
   "id": "35faef33-f25a-4ef0-bc51-5c23532c2322",
   "metadata": {},
   "outputs": [],
   "source": [
    "## Data for compactness employed by work of Group SELFIES\n",
    "benchM=pd.read_csv(\"rawdata/compactnessBenchmarking.csv\", index_col=0)"
   ]
  },
  {
   "cell_type": "code",
   "execution_count": 8,
   "id": "7449bd33-d2fb-48cb-a255-2a4578e0d31c",
   "metadata": {},
   "outputs": [
    {
     "data": {
      "text/plain": [
       "(0.0, 80.0)"
      ]
     },
     "execution_count": 8,
     "metadata": {},
     "output_type": "execute_result"
    },
    {
     "data": {
      "image/png": "[encoded data removed]",
      "text/plain": [
       "<Figure size 900x600 with 2 Axes>"
      ]
     },
     "metadata": {},
     "output_type": "display_data"
    }
   ],
   "source": [
    "fig, ax = plt.subplots(\n",
    "    2, figsize=(9, 6), sharex=False,\n",
    "    gridspec_kw={\"height_ratios\": (.2, .8), \"hspace\":.05}\n",
    ")\n",
    "\n",
    "################################\n",
    "# Boxplot #\n",
    "color={'color': 'black'}\n",
    "meanprops={'markerfacecolor': 'black', \"marker\":\"X\", 'markeredgecolor': 'black'}\n",
    "boxP=ax[0].boxplot(df[\"length\"], vert=False, showmeans=True, manage_ticks=True, medianprops=color, meanprops=meanprops)\n",
    "\n",
    "# removing borders\n",
    "ax[0].spines['right'].set_visible(False)\n",
    "ax[0].spines['left'].set_visible(False)\n",
    "ax[0].spines['bottom'].set_visible(False)\n",
    "ax[0].xaxis.set_label_position('top')\n",
    "\n",
    "values = np.array([boxP[\"whiskers\"][i].get_xdata() for i in [0,1]], dtype=int).flatten()\n",
    "values = sorted(values.tolist() + [int(df[\"length\"].median())])\n",
    "ax[0].set_xticks( values, labels=values )\n",
    "ax[0].xaxis.tick_top()\n",
    "\n",
    "ax[0].set_yticks([])\n",
    "ax[0].set_ylim([0.9,1.1])\n",
    "#################################\n",
    "\n",
    "# Histogram\n",
    "fixedKw=dict(fill=True, density=True, bins=np.array(range(1, 121)),\n",
    "            histtype='stepfilled', alpha=0.5, ec=\"black\")\n",
    "\n",
    "ax[1].hist(df[\"length\"], \n",
    "           # hatch=\"+\", \n",
    "           # facecolor=\"grey\",\n",
    "           label=\"fragSMILES\",\n",
    "           **fixedKw\n",
    "          )\n",
    "\n",
    "for bench in [\"Group SELFIES\", \"SELFIES\", \"SMILES\"]:\n",
    "    ax[1].hist(benchM.query(\"Type==@bench\").iloc[...,1], \n",
    "               label=bench,\n",
    "              **fixedKw\n",
    "              )\n",
    "\n",
    "ax[1].set_xlabel(\"# of Tokens per molecule\")\n",
    "ax[1].set_ylabel('Probability density')\n",
    "ax[1].legend()\n",
    "#################\n",
    "\n",
    "ax[1].set_xlim([0, 80])\n",
    "ax[1].set_xticks( np.array(range(0,81,10)) )\n",
    "ax[1].xaxis.set_tick_params(labelbottom=True)\n",
    "ax[0].set_xlim([0,80])"
   ]
  },
  {
   "cell_type": "raw",
   "id": "609ed475-0c8e-4f8b-b6f7-70a3f47e85c7",
   "metadata": {
    "vscode": {
     "languageId": "raw"
    }
   },
   "source": [
    "fig.savefig(\"figures/02_encodingCount.pdf\", bbox_inches='tight', dpi = 200)\n",
    "fig.savefig(\"figures/02_encodingCount.png\", bbox_inches='tight', dpi = 200)"
   ]
  },
  {
   "cell_type": "raw",
   "id": "5e559312",
   "metadata": {},
   "source": []
  },
  {
   "cell_type": "markdown",
   "id": "d64c80fb",
   "metadata": {},
   "source": [
    "Supporting Information"
   ]
  },
  {
   "cell_type": "code",
   "execution_count": 9,
   "id": "8cc1e088",
   "metadata": {},
   "outputs": [],
   "source": [
    "from collections import Counter\n",
    "import itertools\n",
    "\n",
    "def getVocabularyFromTokens(tokens):\n",
    "    counts = Counter(itertools.chain(*tokens))\n",
    "    return {k:v for k,v in sorted(counts.items(), key=lambda x: x[1] , reverse=True ) }"
   ]
  },
  {
   "cell_type": "code",
   "execution_count": 10,
   "id": "759ddd84",
   "metadata": {},
   "outputs": [
    {
     "data": {
      "text/html": [
       "<div>\n",
       "<style scoped>\n",
       "    .dataframe tbody tr th:only-of-type {\n",
       "        vertical-align: middle;\n",
       "    }\n",
       "\n",
       "    .dataframe tbody tr th {\n",
       "        vertical-align: top;\n",
       "    }\n",
       "\n",
       "    .dataframe thead th {\n",
       "        text-align: right;\n",
       "    }\n",
       "</style>\n",
       "<table border=\"1\" class=\"dataframe\">\n",
       "  <thead>\n",
       "    <tr style=\"text-align: right;\">\n",
       "      <th></th>\n",
       "      <th>smiles</th>\n",
       "      <th>tokens</th>\n",
       "      <th>length</th>\n",
       "    </tr>\n",
       "  </thead>\n",
       "  <tbody>\n",
       "    <tr>\n",
       "      <th>0</th>\n",
       "      <td>CC(C)(C)c1ccc2occ(CC(=O)Nc3ccccc3F)c2c1</td>\n",
       "      <td>C C ( C ) ( C ) &lt;0&gt; c1ccc2occc2c1 &lt;6&gt; C C=O N ...</td>\n",
       "      <td>18</td>\n",
       "    </tr>\n",
       "    <tr>\n",
       "      <th>1</th>\n",
       "      <td>C[C@@H]1CC(Nc2cncc(-c3nncn3C)c2)C[C@@H](C)C1</td>\n",
       "      <td>C &lt;0S&gt; C1CCCCC1 &lt;2&gt; &lt;4S&gt; ( C ) N &lt;1&gt; c1ccncc1 ...</td>\n",
       "      <td>16</td>\n",
       "    </tr>\n",
       "    <tr>\n",
       "      <th>2</th>\n",
       "      <td>N#Cc1ccc(-c2ccc(O[C@@H](C(=O)N3CCCC3)c3ccccc3)...</td>\n",
       "      <td>C1CCNC1 &lt;3&gt; C=O C|R ( &lt;0&gt; c1ccccc1 ) O &lt;3&gt; c1c...</td>\n",
       "      <td>16</td>\n",
       "    </tr>\n",
       "    <tr>\n",
       "      <th>3</th>\n",
       "      <td>CCOC(=O)[C@@H]1CCCN(C(=O)c2nc(-c3ccc(C)cc3)n3c...</td>\n",
       "      <td>C C O C=O &lt;1R&gt; C1CCNCC1 &lt;3&gt; C=O &lt;0&gt; c1ncn2c1CC...</td>\n",
       "      <td>15</td>\n",
       "    </tr>\n",
       "    <tr>\n",
       "      <th>4</th>\n",
       "      <td>N#CC1=C(SCC(=O)Nc2cccc(Cl)c2)N=C(O)[C@H](C#N)C...</td>\n",
       "      <td>O &lt;4&gt; C1=CC2(CC=N1)CCCCC2 &lt;0&gt; &lt;1&gt; ( C#N ) &lt;3S&gt;...</td>\n",
       "      <td>20</td>\n",
       "    </tr>\n",
       "    <tr>\n",
       "      <th>...</th>\n",
       "      <td>...</td>\n",
       "      <td>...</td>\n",
       "      <td>...</td>\n",
       "    </tr>\n",
       "    <tr>\n",
       "      <th>249323</th>\n",
       "      <td>CC1(C)CC[C@H](CNC(=O)Cn2ncc3ccccc3c2=O)c2ccccc21</td>\n",
       "      <td>C &lt;6&gt; c1ccc2c(c1)CCCC2 &lt;9S&gt; &lt;6&gt; ( C ) C N C=O ...</td>\n",
       "      <td>14</td>\n",
       "    </tr>\n",
       "    <tr>\n",
       "      <th>249324</th>\n",
       "      <td>Cn1ccnc1C(=O)c1ccc(NC(=O)C2CCN(C(=O)C(C)(C)C)C...</td>\n",
       "      <td>C C ( C ) ( C ) C=O &lt;3&gt; C1CCNCC1 &lt;0&gt; C=O N &lt;3&gt;...</td>\n",
       "      <td>22</td>\n",
       "    </tr>\n",
       "    <tr>\n",
       "      <th>249325</th>\n",
       "      <td>Cc1ccc(NC(=O)C(=O)N(C)Cc2ccccc2)c(C)c1</td>\n",
       "      <td>C &lt;0&gt; c1ccccc1 &lt;3&gt; &lt;4&gt; ( C ) N C=O C=O N ( C )...</td>\n",
       "      <td>18</td>\n",
       "    </tr>\n",
       "    <tr>\n",
       "      <th>249326</th>\n",
       "      <td>Cc1cc(C(=O)Nc2ccc(OCC(N)=O)cc2)c(C)n1C1CC1</td>\n",
       "      <td>C &lt;2&gt; c1cc[nH]c1 &lt;0&gt; &lt;4&gt; ( C ) &lt;3&gt; ( &lt;0&gt; C1CC1...</td>\n",
       "      <td>22</td>\n",
       "    </tr>\n",
       "    <tr>\n",
       "      <th>249327</th>\n",
       "      <td>O=C(CC(c1ccccc1)c1ccccc1)N1CCN(S(=O)(=O)c2cccc...</td>\n",
       "      <td>c1ccccc1 &lt;0&gt; C ( &lt;0&gt; c1ccccc1 ) C C=O &lt;2&gt; C1CN...</td>\n",
       "      <td>17</td>\n",
       "    </tr>\n",
       "  </tbody>\n",
       "</table>\n",
       "<p>249328 rows × 3 columns</p>\n",
       "</div>"
      ],
      "text/plain": [
       "                                                   smiles  \\\n",
       "0                 CC(C)(C)c1ccc2occ(CC(=O)Nc3ccccc3F)c2c1   \n",
       "1            C[C@@H]1CC(Nc2cncc(-c3nncn3C)c2)C[C@@H](C)C1   \n",
       "2       N#Cc1ccc(-c2ccc(O[C@@H](C(=O)N3CCCC3)c3ccccc3)...   \n",
       "3       CCOC(=O)[C@@H]1CCCN(C(=O)c2nc(-c3ccc(C)cc3)n3c...   \n",
       "4       N#CC1=C(SCC(=O)Nc2cccc(Cl)c2)N=C(O)[C@H](C#N)C...   \n",
       "...                                                   ...   \n",
       "249323   CC1(C)CC[C@H](CNC(=O)Cn2ncc3ccccc3c2=O)c2ccccc21   \n",
       "249324  Cn1ccnc1C(=O)c1ccc(NC(=O)C2CCN(C(=O)C(C)(C)C)C...   \n",
       "249325             Cc1ccc(NC(=O)C(=O)N(C)Cc2ccccc2)c(C)c1   \n",
       "249326         Cc1cc(C(=O)Nc2ccc(OCC(N)=O)cc2)c(C)n1C1CC1   \n",
       "249327  O=C(CC(c1ccccc1)c1ccccc1)N1CCN(S(=O)(=O)c2cccc...   \n",
       "\n",
       "                                                   tokens  length  \n",
       "0       C C ( C ) ( C ) <0> c1ccc2occc2c1 <6> C C=O N ...      18  \n",
       "1       C <0S> C1CCCCC1 <2> <4S> ( C ) N <1> c1ccncc1 ...      16  \n",
       "2       C1CCNC1 <3> C=O C|R ( <0> c1ccccc1 ) O <3> c1c...      16  \n",
       "3       C C O C=O <1R> C1CCNCC1 <3> C=O <0> c1ncn2c1CC...      15  \n",
       "4       O <4> C1=CC2(CC=N1)CCCCC2 <0> <1> ( C#N ) <3S>...      20  \n",
       "...                                                   ...     ...  \n",
       "249323  C <6> c1ccc2c(c1)CCCC2 <9S> <6> ( C ) C N C=O ...      14  \n",
       "249324  C C ( C ) ( C ) C=O <3> C1CCNCC1 <0> C=O N <3>...      22  \n",
       "249325  C <0> c1ccccc1 <3> <4> ( C ) N C=O C=O N ( C )...      18  \n",
       "249326  C <2> c1cc[nH]c1 <0> <4> ( C ) <3> ( <0> C1CC1...      22  \n",
       "249327  c1ccccc1 <0> C ( <0> c1ccccc1 ) C C=O <2> C1CN...      17  \n",
       "\n",
       "[249328 rows x 3 columns]"
      ]
     },
     "execution_count": 10,
     "metadata": {},
     "output_type": "execute_result"
    }
   ],
   "source": [
    "df"
   ]
  },
  {
   "cell_type": "code",
   "execution_count": 10,
   "id": "f8ee0ca4",
   "metadata": {},
   "outputs": [],
   "source": [
    "benchExocyclic_size = getVocabularyFromTokens(df.tokens.str.split(' '))"
   ]
  },
  {
   "cell_type": "code",
   "execution_count": 11,
   "id": "08a7ea48",
   "metadata": {},
   "outputs": [],
   "source": [
    "# [ ] Fix hist for t-Smiles\n",
    "benchTsmiles = pd.read_csv(\"data/01_zincTsmilesToks_noDummy.csv\")\n",
    "benchTsmiles_size = getVocabularyFromTokens(benchTsmiles.tokens.str.split(' '))"
   ]
  },
  {
   "cell_type": "code",
   "execution_count": 12,
   "id": "eff0dc60",
   "metadata": {},
   "outputs": [],
   "source": [
    "benchRotatable = pd.read_csv('data/01_zincRotatableToks.csv')\n",
    "benchRotatable_size = getVocabularyFromTokens(benchRotatable.tokens.str.split(' '))"
   ]
  },
  {
   "cell_type": "code",
   "execution_count": 13,
   "id": "c29b1f1d",
   "metadata": {},
   "outputs": [],
   "source": [
    "from matplotlib.patches import Patch"
   ]
  },
  {
   "cell_type": "code",
   "execution_count": 16,
   "id": "cdca2417",
   "metadata": {},
   "outputs": [],
   "source": [
    "# colors = list(plt.get_cmap(\"tab10\").colors)\n",
    "colors = list(plt.get_cmap(\"Pastel2\").colors)\n",
    "\n",
    "labels=['t-SMILES - word-level tokenization', 'fragSMILES - Rotatable bonds', 'fragSMILES - Exocyclic single bonds']\n",
    "\n",
    "legend = [ Patch(facecolor=color, label=label) for label,color in zip(labels, colors) ]"
   ]
  },
  {
   "cell_type": "code",
   "execution_count": 17,
   "id": "a4816d76",
   "metadata": {},
   "outputs": [
    {
     "name": "stderr",
     "output_type": "stream",
     "text": [
      "/tmp/ipykernel_4101115/3890499439.py:2: MatplotlibDeprecationWarning: The 'labels' parameter of boxplot() has been renamed 'tick_labels' since Matplotlib 3.9; support for the old name will be dropped in 3.11.\n",
      "  boxplots = ax.boxplot([benchTsmiles.length, benchRotatable.length, df.length], vert=True, patch_artist=True,\n"
     ]
    },
    {
     "data": {
      "image/png": "[encoded data removed]",
      "text/plain": [
       "<Figure size 640x480 with 1 Axes>"
      ]
     },
     "metadata": {},
     "output_type": "display_data"
    }
   ],
   "source": [
    "fig, ax = plt.subplots(1,1)\n",
    "boxplots = ax.boxplot([benchTsmiles.length, benchRotatable.length, df.length], vert=True, patch_artist=True,\n",
    "                    labels=[len(benchTsmiles_size), len(benchRotatable_size), len(benchExocyclic_size)])\n",
    "\n",
    "ax.set_ylabel('# of tokens per molecule')\n",
    "ax.set_xlabel('Vocabulary size')\n",
    "\n",
    "for box, median, color in zip(boxplots['boxes'], boxplots['medians'], colors):\n",
    "    box.set_color(color)\n",
    "    median.set_color('black')\n",
    "\n",
    "ax.legend(handles=legend)\n",
    "fig.show()"
   ]
  },
  {
   "cell_type": "code",
   "execution_count": 18,
   "id": "2db00a10",
   "metadata": {},
   "outputs": [],
   "source": [
    "fig.savefig(\"figures/02_encodingCount_SI.pdf\", bbox_inches='tight', dpi = 200)\n",
    "fig.savefig(\"figures/02_encodingCount_SI.png\", bbox_inches='tight', dpi = 200)"
   ]
  }
 ],
 "metadata": {
  "kernelspec": {
   "display_name": "Python 3 (ipykernel)",
   "language": "python",
   "name": "python3"
  }
 },
 "nbformat": 4,
 "nbformat_minor": 5
}
