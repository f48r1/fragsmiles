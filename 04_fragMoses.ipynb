{
 "cells": [
  {
   "cell_type": "code",
   "execution_count": 1,
   "id": "03f6573c-327c-4a2a-be8a-65b271467ffa",
   "metadata": {},
   "outputs": [],
   "source": [
    "import pandas as pd\n",
    "import numpy as np\n",
    "from processer import fragmentSmilesList, getSelfiesToks\n",
    "from multiprocesspandas import applyparallel\n"
   ]
  },
  {
   "cell_type": "markdown",
   "id": "7c2c3a12-3649-43fb-b1c1-e718fae8613c",
   "metadata": {},
   "source": [
    "## dataset Moses Tokenization"
   ]
  },
  {
   "cell_type": "raw",
   "id": "50b5583e-36cb-445e-a4ad-c1d288dbc2de",
   "metadata": {},
   "source": [
    "Files are stored in a directory employed for experiments"
   ]
  },
  {
   "cell_type": "code",
   "execution_count": 2,
   "id": "3fad9f4d-f3d0-42ea-bb4b-5203a30673f4",
   "metadata": {},
   "outputs": [],
   "source": [
    "pathData = \"experiments/data/\""
   ]
  },
  {
   "cell_type": "code",
   "execution_count": 3,
   "id": "30a12ad4-58da-4a19-b352-e9b5155075b0",
   "metadata": {},
   "outputs": [],
   "source": [
    "path=\"~/.local/lib/python3.11/site-packages/molsets-1.0-py3.11.egg/moses/dataset/data/\""
   ]
  },
  {
   "cell_type": "code",
   "execution_count": 4,
   "metadata": {},
   "outputs": [],
   "source": [
    "mosesData = np.loadtxt(path+\"dataset_v1.txt\", dtype=str, usecols=[0], comments=None, delimiter=\",\" ,skiprows=1)"
   ]
  },
  {
   "cell_type": "code",
   "execution_count": 5,
   "metadata": {},
   "outputs": [
    {
     "data": {
      "text/plain": [
       "1936962"
      ]
     },
     "execution_count": 5,
     "metadata": {},
     "output_type": "execute_result"
    }
   ],
   "source": [
    "mosesData.size"
   ]
  },
  {
   "cell_type": "code",
   "execution_count": 8,
   "metadata": {},
   "outputs": [
    {
     "name": "stderr",
     "output_type": "stream",
     "text": [
      "100%|████████████████████████████████████████████████████████████████████████████████████████| 1936962/1936962 [00:04<00:00, 472420.32it/s]\n",
      "100%|█████████████████████████████████████████████████████████████████████████████████████████| 1936962/1936962 [00:30<00:00, 62653.24it/s]\n"
     ]
    }
   ],
   "source": [
    "mosesDataToks = fragmentSmilesList(mosesData)"
   ]
  },
  {
   "cell_type": "code",
   "execution_count": 10,
   "metadata": {},
   "outputs": [],
   "source": [
    "mosesDataToks.dropna(inplace=True)\n",
    "mosesDataToks.rename(columns={'tokens':'fragsmiles'},inplace=True)\n",
    "mosesDataToks.drop(columns='nToks', inplace=True)"
   ]
  },
  {
   "cell_type": "code",
   "execution_count": 11,
   "metadata": {},
   "outputs": [
    {
     "name": "stderr",
     "output_type": "stream",
     "text": [
      "100%|████████████████████████████████████████████████████████████████████████████████████████| 1936693/1936693 [00:03<00:00, 489814.56it/s]\n"
     ]
    }
   ],
   "source": [
    "mosesDataToks['selfies']=mosesDataToks['smiles'].apply_parallel(getSelfiesToks, num_processes=30)"
   ]
  },
  {
   "cell_type": "code",
   "execution_count": 14,
   "metadata": {},
   "outputs": [
    {
     "data": {
      "text/html": [
       "<div>\n",
       "<style scoped>\n",
       "    .dataframe tbody tr th:only-of-type {\n",
       "        vertical-align: middle;\n",
       "    }\n",
       "\n",
       "    .dataframe tbody tr th {\n",
       "        vertical-align: top;\n",
       "    }\n",
       "\n",
       "    .dataframe thead th {\n",
       "        text-align: right;\n",
       "    }\n",
       "</style>\n",
       "<table border=\"1\" class=\"dataframe\">\n",
       "  <thead>\n",
       "    <tr style=\"text-align: right;\">\n",
       "      <th></th>\n",
       "      <th>smiles</th>\n",
       "      <th>fragsmiles</th>\n",
       "      <th>selfies</th>\n",
       "    </tr>\n",
       "  </thead>\n",
       "  <tbody>\n",
       "    <tr>\n",
       "      <th>0</th>\n",
       "      <td>CCCS(=O)c1ccc2[nH]c(=NC(=O)OC)[nH]c2c1</td>\n",
       "      <td>(C, C, C, O=[SH2], &lt;6&gt;, N=c1[nH]c2ccccc2[nH]1,...</td>\n",
       "      <td>([C], [C], [C], [S], [=Branch1], [C], [=O], [C...</td>\n",
       "    </tr>\n",
       "    <tr>\n",
       "      <th>1</th>\n",
       "      <td>CC(C)(C)C(=O)C(Oc1ccc(Cl)cc1)n1ccnc1</td>\n",
       "      <td>(C, C, (, C, ), (, C, ), C=O, C, (, &lt;2&gt;, c1c[n...</td>\n",
       "      <td>([C], [C], [Branch1], [C], [C], [Branch1], [C]...</td>\n",
       "    </tr>\n",
       "    <tr>\n",
       "      <th>2</th>\n",
       "      <td>CC1C2CCC(C2)C1CN(CCO)C(=O)c1ccc(Cl)cc1</td>\n",
       "      <td>(C, &lt;4&gt;, C1CC2CCC1C2, &lt;3&gt;, C, N, (, C, C, O, )...</td>\n",
       "      <td>([C], [C], [C], [C], [C], [C], [Branch1], [Rin...</td>\n",
       "    </tr>\n",
       "    <tr>\n",
       "      <th>3</th>\n",
       "      <td>Cc1c(Cl)cccc1Nc1ncccc1C(=O)OCC(O)CO</td>\n",
       "      <td>(C, &lt;5&gt;, c1ccccc1, &lt;4&gt;, &lt;0&gt;, (, Cl, ), N, &lt;2&gt;,...</td>\n",
       "      <td>([C], [C], [=C], [Branch1], [C], [Cl], [C], [=...</td>\n",
       "    </tr>\n",
       "    <tr>\n",
       "      <th>4</th>\n",
       "      <td>Cn1cnc2c1c(=O)n(CC(O)CO)c(=O)n2C</td>\n",
       "      <td>(C, &lt;6&gt;, O=c1[nH]c(=O)c2[nH]cnc2[nH]1, &lt;2&gt;, &lt;1...</td>\n",
       "      <td>([C], [N], [C], [=N], [C], [=C], [Ring1], [Bra...</td>\n",
       "    </tr>\n",
       "    <tr>\n",
       "      <th>...</th>\n",
       "      <td>...</td>\n",
       "      <td>...</td>\n",
       "      <td>...</td>\n",
       "    </tr>\n",
       "    <tr>\n",
       "      <th>1936957</th>\n",
       "      <td>N#Cc1c(Br)cnc(N)c1Br</td>\n",
       "      <td>(C#N, &lt;0&gt;, c1ccncc1, &lt;1&gt;, &lt;4&gt;, (, N, ), &lt;5&gt;, (...</td>\n",
       "      <td>([N], [#C], [C], [=C], [Branch1], [C], [Br], [...</td>\n",
       "    </tr>\n",
       "    <tr>\n",
       "      <th>1936958</th>\n",
       "      <td>COC(=O)c1cc(CNC(=O)OC(C)(C)C)ccc1C</td>\n",
       "      <td>(C, C, (, C, ), (, C, ), O, C=O, N, C, &lt;0&gt;, c1...</td>\n",
       "      <td>([C], [O], [C], [=Branch1], [C], [=O], [C], [=...</td>\n",
       "    </tr>\n",
       "    <tr>\n",
       "      <th>1936959</th>\n",
       "      <td>NC(=O)c1ccc2ccccc2c1Br</td>\n",
       "      <td>(N, C=O, &lt;0&gt;, c1ccc2ccccc2c1, &lt;9&gt;, Br)</td>\n",
       "      <td>([N], [C], [=Branch1], [C], [=O], [C], [=C], [...</td>\n",
       "    </tr>\n",
       "    <tr>\n",
       "      <th>1936960</th>\n",
       "      <td>CC(=O)Nc1cccc(-c2nc3cc(C)ccc3[nH]c2=O)c1</td>\n",
       "      <td>(C, C=O, N, &lt;0&gt;, c1ccccc1, &lt;4&gt;, &lt;2&gt;, O=c1cnc2c...</td>\n",
       "      <td>([C], [C], [=Branch1], [C], [=O], [N], [C], [=...</td>\n",
       "    </tr>\n",
       "    <tr>\n",
       "      <th>1936961</th>\n",
       "      <td>CC(NC(=O)OC(C)(C)C)c1nc(CO)nn1Cc1ccccc1</td>\n",
       "      <td>(C, C, (, C, ), (, C, ), O, C=O, N, C, (, C, )...</td>\n",
       "      <td>([C], [C], [Branch1], [#C], [N], [C], [=Branch...</td>\n",
       "    </tr>\n",
       "  </tbody>\n",
       "</table>\n",
       "<p>1936693 rows × 3 columns</p>\n",
       "</div>"
      ],
      "text/plain": [
       "                                           smiles  \\\n",
       "0          CCCS(=O)c1ccc2[nH]c(=NC(=O)OC)[nH]c2c1   \n",
       "1            CC(C)(C)C(=O)C(Oc1ccc(Cl)cc1)n1ccnc1   \n",
       "2          CC1C2CCC(C2)C1CN(CCO)C(=O)c1ccc(Cl)cc1   \n",
       "3             Cc1c(Cl)cccc1Nc1ncccc1C(=O)OCC(O)CO   \n",
       "4                Cn1cnc2c1c(=O)n(CC(O)CO)c(=O)n2C   \n",
       "...                                           ...   \n",
       "1936957                      N#Cc1c(Br)cnc(N)c1Br   \n",
       "1936958        COC(=O)c1cc(CNC(=O)OC(C)(C)C)ccc1C   \n",
       "1936959                    NC(=O)c1ccc2ccccc2c1Br   \n",
       "1936960  CC(=O)Nc1cccc(-c2nc3cc(C)ccc3[nH]c2=O)c1   \n",
       "1936961   CC(NC(=O)OC(C)(C)C)c1nc(CO)nn1Cc1ccccc1   \n",
       "\n",
       "                                                fragsmiles  \\\n",
       "0        (C, C, C, O=[SH2], <6>, N=c1[nH]c2ccccc2[nH]1,...   \n",
       "1        (C, C, (, C, ), (, C, ), C=O, C, (, <2>, c1c[n...   \n",
       "2        (C, <4>, C1CC2CCC1C2, <3>, C, N, (, C, C, O, )...   \n",
       "3        (C, <5>, c1ccccc1, <4>, <0>, (, Cl, ), N, <2>,...   \n",
       "4        (C, <6>, O=c1[nH]c(=O)c2[nH]cnc2[nH]1, <2>, <1...   \n",
       "...                                                    ...   \n",
       "1936957  (C#N, <0>, c1ccncc1, <1>, <4>, (, N, ), <5>, (...   \n",
       "1936958  (C, C, (, C, ), (, C, ), O, C=O, N, C, <0>, c1...   \n",
       "1936959             (N, C=O, <0>, c1ccc2ccccc2c1, <9>, Br)   \n",
       "1936960  (C, C=O, N, <0>, c1ccccc1, <4>, <2>, O=c1cnc2c...   \n",
       "1936961  (C, C, (, C, ), (, C, ), O, C=O, N, C, (, C, )...   \n",
       "\n",
       "                                                   selfies  \n",
       "0        ([C], [C], [C], [S], [=Branch1], [C], [=O], [C...  \n",
       "1        ([C], [C], [Branch1], [C], [C], [Branch1], [C]...  \n",
       "2        ([C], [C], [C], [C], [C], [C], [Branch1], [Rin...  \n",
       "3        ([C], [C], [=C], [Branch1], [C], [Cl], [C], [=...  \n",
       "4        ([C], [N], [C], [=N], [C], [=C], [Ring1], [Bra...  \n",
       "...                                                    ...  \n",
       "1936957  ([N], [#C], [C], [=C], [Branch1], [C], [Br], [...  \n",
       "1936958  ([C], [O], [C], [=Branch1], [C], [=O], [C], [=...  \n",
       "1936959  ([N], [C], [=Branch1], [C], [=O], [C], [=C], [...  \n",
       "1936960  ([C], [C], [=Branch1], [C], [=O], [N], [C], [=...  \n",
       "1936961  ([C], [C], [Branch1], [#C], [N], [C], [=Branch...  \n",
       "\n",
       "[1936693 rows x 3 columns]"
      ]
     },
     "execution_count": 14,
     "metadata": {},
     "output_type": "execute_result"
    }
   ],
   "source": [
    "mosesDataToks"
   ]
  },
  {
   "cell_type": "code",
   "execution_count": 12,
   "metadata": {},
   "outputs": [
    {
     "data": {
      "text/plain": [
       "269"
      ]
     },
     "execution_count": 12,
     "metadata": {},
     "output_type": "execute_result"
    }
   ],
   "source": [
    "## 269 are molecules composed by only 1 fragment, so they are not considered as fragSmiles\n",
    "len(mosesData)-len(mosesDataToks)"
   ]
  },
  {
   "cell_type": "code",
   "execution_count": 16,
   "metadata": {},
   "outputs": [],
   "source": [
    "from sklearn.model_selection import KFold\n",
    "def saveSplittedDataset(dataset, suffix=''):\n",
    "\n",
    "    indexes = dataset.index.unique()\n",
    "\n",
    "    kf=KFold(n_splits=5, shuffle=True, random_state=0)\n",
    "\n",
    "    kf = kf.split( indexes )\n",
    "\n",
    "    for fold,(trainIdx,testIdx) in enumerate(kf):\n",
    "        train = dataset.loc[indexes[trainIdx]]\n",
    "        test = dataset.loc[indexes[testIdx]]\n",
    "\n",
    "        train.to_csv(pathData+f\"moses_train{suffix}_{fold}.tar.xz\", compression=\"xz\", index=False)\n",
    "        test.to_csv(pathData+f\"moses_test{suffix}_{fold}.tar.xz\", compression=\"xz\", index=False)"
   ]
  },
  {
   "cell_type": "code",
   "execution_count": 17,
   "metadata": {},
   "outputs": [],
   "source": [
    "saveSplittedDataset(mosesDataToks)"
   ]
  }
 ],
 "metadata": {
  "kernelspec": {
   "display_name": "Python 3 (ipykernel)",
   "language": "python",
   "name": "python3"
  }
 },
 "nbformat": 4,
 "nbformat_minor": 5
}
