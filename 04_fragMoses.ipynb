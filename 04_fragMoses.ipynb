{
 "cells": [
  {
   "cell_type": "code",
   "execution_count": 1,
   "id": "03f6573c-327c-4a2a-be8a-65b271467ffa",
   "metadata": {},
   "outputs": [],
   "source": [
    "import pandas as pd\n",
    "import numpy as np\n",
    "from src.processer import fragmentSmiles, getSelfiesToks, applyFncPool, getTsmiles\n",
    "import os"
   ]
  },
  {
   "cell_type": "markdown",
   "id": "7c2c3a12-3649-43fb-b1c1-e718fae8613c",
   "metadata": {},
   "source": [
    "## dataset Moses Tokenization"
   ]
  },
  {
   "cell_type": "raw",
   "id": "50b5583e-36cb-445e-a4ad-c1d288dbc2de",
   "metadata": {},
   "source": [
    "Files are stored in a directory employed for experiments"
   ]
  },
  {
   "cell_type": "code",
   "execution_count": 2,
   "id": "3fad9f4d-f3d0-42ea-bb4b-5203a30673f4",
   "metadata": {},
   "outputs": [],
   "source": [
    "pathData = \"data/\""
   ]
  },
  {
   "cell_type": "code",
   "execution_count": 3,
   "id": "e10c1a8d",
   "metadata": {},
   "outputs": [],
   "source": [
    "mosesData = pd.read_csv(\"rawdata/moses.txt\",usecols=['SMILES']).squeeze()"
   ]
  },
  {
   "cell_type": "code",
   "execution_count": 4,
   "id": "08651acd",
   "metadata": {},
   "outputs": [
    {
     "data": {
      "text/plain": [
       "1936962"
      ]
     },
     "execution_count": 4,
     "metadata": {},
     "output_type": "execute_result"
    }
   ],
   "source": [
    "mosesData.size"
   ]
  },
  {
   "cell_type": "code",
   "execution_count": 5,
   "id": "70d10f8a",
   "metadata": {},
   "outputs": [],
   "source": [
    "mosesDataToks = mosesData.to_frame(name='smiles')"
   ]
  },
  {
   "cell_type": "code",
   "execution_count": 6,
   "id": "66a21964",
   "metadata": {},
   "outputs": [],
   "source": [
    "mosesDataToks['tsmiles'] = applyFncPool(mosesData, fnc = getTsmiles)"
   ]
  },
  {
   "cell_type": "code",
   "execution_count": 7,
   "id": "68ba0a3f",
   "metadata": {},
   "outputs": [],
   "source": [
    "mosesDataToks['fragsmiles'] = applyFncPool( mosesData, fnc = fragmentSmiles )"
   ]
  },
  {
   "cell_type": "raw",
   "id": "2b05fafc",
   "metadata": {
    "vscode": {
     "languageId": "raw"
    }
   },
   "source": [
    "fragSmiles algorithm took shorter than tsmiles one"
   ]
  },
  {
   "cell_type": "code",
   "execution_count": 8,
   "metadata": {},
   "outputs": [],
   "source": [
    "mosesDataToks['selfies']=applyFncPool(mosesData, fnc = getSelfiesToks)"
   ]
  },
  {
   "cell_type": "code",
   "execution_count": 9,
   "metadata": {},
   "outputs": [
    {
     "data": {
      "text/html": [
       "<div>\n",
       "<style scoped>\n",
       "    .dataframe tbody tr th:only-of-type {\n",
       "        vertical-align: middle;\n",
       "    }\n",
       "\n",
       "    .dataframe tbody tr th {\n",
       "        vertical-align: top;\n",
       "    }\n",
       "\n",
       "    .dataframe thead th {\n",
       "        text-align: right;\n",
       "    }\n",
       "</style>\n",
       "<table border=\"1\" class=\"dataframe\">\n",
       "  <thead>\n",
       "    <tr style=\"text-align: right;\">\n",
       "      <th></th>\n",
       "      <th>smiles</th>\n",
       "      <th>tsmiles</th>\n",
       "      <th>fragsmiles</th>\n",
       "      <th>selfies</th>\n",
       "    </tr>\n",
       "  </thead>\n",
       "  <tbody>\n",
       "    <tr>\n",
       "      <th>0</th>\n",
       "      <td>CCCS(=O)c1ccc2[nH]c(=NC(=O)OC)[nH]c2c1</td>\n",
       "      <td>*C&amp;*C*&amp;*C*&amp;*S(*)=O&amp;*C1=CC=C2NC(=NC(=O)O*)NC2=C...</td>\n",
       "      <td>C C C O=[SH2] &lt;6&gt; N=c1[nH]c2ccccc2[nH]1 &lt;0&gt; C=...</td>\n",
       "      <td>[C] [C] [C] [S] [=Branch1] [C] [=O] [C] [=C] [...</td>\n",
       "    </tr>\n",
       "    <tr>\n",
       "      <th>1</th>\n",
       "      <td>CC(C)(C)C(=O)C(Oc1ccc(Cl)cc1)n1ccnc1</td>\n",
       "      <td>*C&amp;*C(*)(C)C&amp;*C(*)=O&amp;*C(*)*&amp;*O*&amp;*C1=CC=C(*)C=C...</td>\n",
       "      <td>C C ( C ) ( C ) C=O C ( &lt;2&gt; c1c[nH]cn1 ) O &lt;0&gt;...</td>\n",
       "      <td>[C] [C] [Branch1] [C] [C] [Branch1] [C] [C] [C...</td>\n",
       "    </tr>\n",
       "    <tr>\n",
       "      <th>2</th>\n",
       "      <td>CC1C2CCC(C2)C1CN(CCO)C(=O)c1ccc(Cl)cc1</td>\n",
       "      <td>*C&amp;*C1C2CCC(C2)C1*&amp;*C*&amp;*N(*)C(*)=O&amp;*C*&amp;*C*^*C1...</td>\n",
       "      <td>O C C N ( C=O &lt;0&gt; c1ccccc1 &lt;3&gt; Cl ) C &lt;3&gt; C1CC...</td>\n",
       "      <td>[C] [C] [C] [C] [C] [C] [Branch1] [Ring2] [C] ...</td>\n",
       "    </tr>\n",
       "    <tr>\n",
       "      <th>3</th>\n",
       "      <td>Cc1c(Cl)cccc1Nc1ncccc1C(=O)OCC(O)CO</td>\n",
       "      <td>*C&amp;*C1=C(*)C=CC=C1*&amp;*Cl&amp;&amp;*NC1=NC=CC=C1*^*C(=O)...</td>\n",
       "      <td>C &lt;5&gt; c1ccccc1 &lt;4&gt; &lt;0&gt; ( Cl ) N &lt;2&gt; c1ccncc1 &lt;...</td>\n",
       "      <td>[C] [C] [=C] [Branch1] [C] [Cl] [C] [=C] [C] [...</td>\n",
       "    </tr>\n",
       "    <tr>\n",
       "      <th>4</th>\n",
       "      <td>Cn1cnc2c1c(=O)n(CC(O)CO)c(=O)n2C</td>\n",
       "      <td>*C&amp;*N1C=NC2=C1C(=O)N(*)C(=O)N2*&amp;*C*&amp;*C(*)*^*C^...</td>\n",
       "      <td>C &lt;6&gt; O=c1[nH]c(=O)c2[nH]cnc2[nH]1 &lt;2&gt; &lt;10&gt; ( ...</td>\n",
       "      <td>[C] [N] [C] [=N] [C] [=C] [Ring1] [Branch1] [C...</td>\n",
       "    </tr>\n",
       "    <tr>\n",
       "      <th>...</th>\n",
       "      <td>...</td>\n",
       "      <td>...</td>\n",
       "      <td>...</td>\n",
       "      <td>...</td>\n",
       "    </tr>\n",
       "    <tr>\n",
       "      <th>1936957</th>\n",
       "      <td>N#Cc1c(Br)cnc(N)c1Br</td>\n",
       "      <td>*C#N&amp;*C1=C(*)C=NC(*)=C1*&amp;*Br&amp;&amp;*N&amp;*Br&amp;&amp;</td>\n",
       "      <td>Br &lt;1&gt; c1ccncc1 &lt;4&gt; &lt;5&gt; ( Br ) &lt;0&gt; ( C#N ) N</td>\n",
       "      <td>[N] [#C] [C] [=C] [Branch1] [C] [Br] [C] [=N] ...</td>\n",
       "    </tr>\n",
       "    <tr>\n",
       "      <th>1936958</th>\n",
       "      <td>COC(=O)c1cc(CNC(=O)OC(C)(C)C)ccc1C</td>\n",
       "      <td>*C&amp;*OC(*)=O&amp;*C1=CC(*)=CC=C1*&amp;*C*&amp;*NC(=O)O*^*C^...</td>\n",
       "      <td>C C ( C ) ( C ) O C=O N C &lt;0&gt; c1ccccc1 &lt;4&gt; &lt;3&gt;...</td>\n",
       "      <td>[C] [O] [C] [=Branch1] [C] [=O] [C] [=C] [C] [...</td>\n",
       "    </tr>\n",
       "    <tr>\n",
       "      <th>1936959</th>\n",
       "      <td>NC(=O)c1ccc2ccccc2c1Br</td>\n",
       "      <td>*C(N)=O&amp;*C1=CC=C2C=CC=CC2=C1*&amp;*Br&amp;&amp;&amp;</td>\n",
       "      <td>N C=O &lt;0&gt; c1ccc2ccccc2c1 &lt;9&gt; Br</td>\n",
       "      <td>[N] [C] [=Branch1] [C] [=O] [C] [=C] [C] [=C] ...</td>\n",
       "    </tr>\n",
       "    <tr>\n",
       "      <th>1936960</th>\n",
       "      <td>CC(=O)Nc1cccc(-c2nc3cc(C)ccc3[nH]c2=O)c1</td>\n",
       "      <td>*C&amp;*C(=O)N*&amp;*C1=CC=CC(*)=C1&amp;*C1=NC2=CC(*)=CC=C...</td>\n",
       "      <td>C C=O N &lt;0&gt; c1ccccc1 &lt;4&gt; &lt;2&gt; O=c1cnc2ccccc2[nH...</td>\n",
       "      <td>[C] [C] [=Branch1] [C] [=O] [N] [C] [=C] [C] [...</td>\n",
       "    </tr>\n",
       "    <tr>\n",
       "      <th>1936961</th>\n",
       "      <td>CC(NC(=O)OC(C)(C)C)c1nc(CO)nn1Cc1ccccc1</td>\n",
       "      <td>*C&amp;*C(*)*&amp;*NC(=O)O*&amp;*C(*)(C)C^*C1=NC(*)=NN1*^*...</td>\n",
       "      <td>C C ( C ) ( C ) O C=O N C ( C ) &lt;2&gt; c1nc[nH]n1...</td>\n",
       "      <td>[C] [C] [Branch1] [#C] [N] [C] [=Branch1] [C] ...</td>\n",
       "    </tr>\n",
       "  </tbody>\n",
       "</table>\n",
       "<p>1936962 rows × 4 columns</p>\n",
       "</div>"
      ],
      "text/plain": [
       "                                           smiles  \\\n",
       "0          CCCS(=O)c1ccc2[nH]c(=NC(=O)OC)[nH]c2c1   \n",
       "1            CC(C)(C)C(=O)C(Oc1ccc(Cl)cc1)n1ccnc1   \n",
       "2          CC1C2CCC(C2)C1CN(CCO)C(=O)c1ccc(Cl)cc1   \n",
       "3             Cc1c(Cl)cccc1Nc1ncccc1C(=O)OCC(O)CO   \n",
       "4                Cn1cnc2c1c(=O)n(CC(O)CO)c(=O)n2C   \n",
       "...                                           ...   \n",
       "1936957                      N#Cc1c(Br)cnc(N)c1Br   \n",
       "1936958        COC(=O)c1cc(CNC(=O)OC(C)(C)C)ccc1C   \n",
       "1936959                    NC(=O)c1ccc2ccccc2c1Br   \n",
       "1936960  CC(=O)Nc1cccc(-c2nc3cc(C)ccc3[nH]c2=O)c1   \n",
       "1936961   CC(NC(=O)OC(C)(C)C)c1nc(CO)nn1Cc1ccccc1   \n",
       "\n",
       "                                                   tsmiles  \\\n",
       "0        *C&*C*&*C*&*S(*)=O&*C1=CC=C2NC(=NC(=O)O*)NC2=C...   \n",
       "1        *C&*C(*)(C)C&*C(*)=O&*C(*)*&*O*&*C1=CC=C(*)C=C...   \n",
       "2        *C&*C1C2CCC(C2)C1*&*C*&*N(*)C(*)=O&*C*&*C*^*C1...   \n",
       "3        *C&*C1=C(*)C=CC=C1*&*Cl&&*NC1=NC=CC=C1*^*C(=O)...   \n",
       "4        *C&*N1C=NC2=C1C(=O)N(*)C(=O)N2*&*C*&*C(*)*^*C^...   \n",
       "...                                                    ...   \n",
       "1936957             *C#N&*C1=C(*)C=NC(*)=C1*&*Br&&*N&*Br&&   \n",
       "1936958  *C&*OC(*)=O&*C1=CC(*)=CC=C1*&*C*&*NC(=O)O*^*C^...   \n",
       "1936959               *C(N)=O&*C1=CC=C2C=CC=CC2=C1*&*Br&&&   \n",
       "1936960  *C&*C(=O)N*&*C1=CC=CC(*)=C1&*C1=NC2=CC(*)=CC=C...   \n",
       "1936961  *C&*C(*)*&*NC(=O)O*&*C(*)(C)C^*C1=NC(*)=NN1*^*...   \n",
       "\n",
       "                                                fragsmiles  \\\n",
       "0        C C C O=[SH2] <6> N=c1[nH]c2ccccc2[nH]1 <0> C=...   \n",
       "1        C C ( C ) ( C ) C=O C ( <2> c1c[nH]cn1 ) O <0>...   \n",
       "2        O C C N ( C=O <0> c1ccccc1 <3> Cl ) C <3> C1CC...   \n",
       "3        C <5> c1ccccc1 <4> <0> ( Cl ) N <2> c1ccncc1 <...   \n",
       "4        C <6> O=c1[nH]c(=O)c2[nH]cnc2[nH]1 <2> <10> ( ...   \n",
       "...                                                    ...   \n",
       "1936957       Br <1> c1ccncc1 <4> <5> ( Br ) <0> ( C#N ) N   \n",
       "1936958  C C ( C ) ( C ) O C=O N C <0> c1ccccc1 <4> <3>...   \n",
       "1936959                    N C=O <0> c1ccc2ccccc2c1 <9> Br   \n",
       "1936960  C C=O N <0> c1ccccc1 <4> <2> O=c1cnc2ccccc2[nH...   \n",
       "1936961  C C ( C ) ( C ) O C=O N C ( C ) <2> c1nc[nH]n1...   \n",
       "\n",
       "                                                   selfies  \n",
       "0        [C] [C] [C] [S] [=Branch1] [C] [=O] [C] [=C] [...  \n",
       "1        [C] [C] [Branch1] [C] [C] [Branch1] [C] [C] [C...  \n",
       "2        [C] [C] [C] [C] [C] [C] [Branch1] [Ring2] [C] ...  \n",
       "3        [C] [C] [=C] [Branch1] [C] [Cl] [C] [=C] [C] [...  \n",
       "4        [C] [N] [C] [=N] [C] [=C] [Ring1] [Branch1] [C...  \n",
       "...                                                    ...  \n",
       "1936957  [N] [#C] [C] [=C] [Branch1] [C] [Br] [C] [=N] ...  \n",
       "1936958  [C] [O] [C] [=Branch1] [C] [=O] [C] [=C] [C] [...  \n",
       "1936959  [N] [C] [=Branch1] [C] [=O] [C] [=C] [C] [=C] ...  \n",
       "1936960  [C] [C] [=Branch1] [C] [=O] [N] [C] [=C] [C] [...  \n",
       "1936961  [C] [C] [Branch1] [#C] [N] [C] [=Branch1] [C] ...  \n",
       "\n",
       "[1936962 rows x 4 columns]"
      ]
     },
     "execution_count": 9,
     "metadata": {},
     "output_type": "execute_result"
    }
   ],
   "source": [
    "mosesDataToks"
   ]
  },
  {
   "cell_type": "markdown",
   "id": "08fb9da1",
   "metadata": {},
   "source": [
    "## Discarding molecule composed by only 1 fragment in according to GoF cleavage pattern"
   ]
  },
  {
   "cell_type": "code",
   "execution_count": 12,
   "id": "411cdcbb",
   "metadata": {},
   "outputs": [],
   "source": [
    "length_fragsmiles = mosesDataToks['fragsmiles'].apply(lambda x: len(x.split(' ')))"
   ]
  },
  {
   "cell_type": "code",
   "execution_count": 13,
   "id": "e572a196",
   "metadata": {},
   "outputs": [],
   "source": [
    "mask_1frag = length_fragsmiles < 2"
   ]
  },
  {
   "cell_type": "code",
   "execution_count": 16,
   "id": "43c7d775",
   "metadata": {},
   "outputs": [
    {
     "data": {
      "text/plain": [
       "269"
      ]
     },
     "execution_count": 16,
     "metadata": {},
     "output_type": "execute_result"
    }
   ],
   "source": [
    "## 269 are molecules composed by only 1 fragment, so they are not considered as fragSmiles\n",
    "mask_1frag.sum()"
   ]
  },
  {
   "cell_type": "code",
   "execution_count": 15,
   "id": "11564db7",
   "metadata": {},
   "outputs": [],
   "source": [
    "mosesDataToks = mosesDataToks[~mask_1frag]"
   ]
  },
  {
   "cell_type": "markdown",
   "id": "f279c2e0",
   "metadata": {},
   "source": [
    "## splitting by 5-fold. Random seed = 0"
   ]
  },
  {
   "cell_type": "code",
   "execution_count": 25,
   "id": "428b537a",
   "metadata": {},
   "outputs": [],
   "source": [
    "from sklearn.model_selection import KFold\n",
    "\n",
    "kf=KFold(n_splits=5, shuffle=True, random_state=0)\n",
    "\n",
    "indexes = mosesDataToks.index.unique()"
   ]
  },
  {
   "cell_type": "code",
   "execution_count": 33,
   "metadata": {},
   "outputs": [],
   "source": [
    "def tabular_fold_idxs(indexes, splitting_object):\n",
    "\n",
    "    df = pd.DataFrame(index=indexes)    \n",
    "\n",
    "    kf = splitting_object.split( indexes )\n",
    "\n",
    "    for fold,(trainIdx,validIdx) in enumerate(kf):\n",
    "        df[f'fold{fold}'] = None\n",
    "        df.iloc[trainIdx,fold] = 'train'\n",
    "        df.iloc[validIdx,fold] = 'valid'\n",
    "\n",
    "    return df"
   ]
  },
  {
   "cell_type": "code",
   "execution_count": 34,
   "id": "f1a96a8e",
   "metadata": {},
   "outputs": [],
   "source": [
    "split_df = tabular_fold_idxs(indexes=indexes, splitting_object=kf)"
   ]
  },
  {
   "cell_type": "code",
   "execution_count": 37,
   "id": "443b80a8",
   "metadata": {},
   "outputs": [],
   "source": [
    "datafile = pd.concat([mosesDataToks, split_df], axis=1, ignore_index=False)"
   ]
  },
  {
   "cell_type": "raw",
   "id": "a3246c83",
   "metadata": {
    "vscode": {
     "languageId": "raw"
    }
   },
   "source": [
    "datafile.to_csv(os.path.join(pathData,\"moses.tar.xz\"), compression=\"xz\", index=False)"
   ]
  },
  {
   "cell_type": "markdown",
   "id": "52df731a",
   "metadata": {},
   "source": [
    "## Prova"
   ]
  },
  {
   "cell_type": "code",
   "execution_count": 1,
   "id": "40fc7f9b",
   "metadata": {},
   "outputs": [],
   "source": [
    "import pandas as pd"
   ]
  },
  {
   "cell_type": "code",
   "execution_count": 2,
   "id": "9458d267",
   "metadata": {},
   "outputs": [],
   "source": [
    "datafile = pd.read_csv(\"data/moses.tar.xz\", compression=\"xz\", usecols=['smiles', 'fold0'])"
   ]
  },
  {
   "cell_type": "code",
   "execution_count": 5,
   "id": "32cbfbdc",
   "metadata": {},
   "outputs": [
    {
     "data": {
      "text/html": [
       "<div>\n",
       "<style scoped>\n",
       "    .dataframe tbody tr th:only-of-type {\n",
       "        vertical-align: middle;\n",
       "    }\n",
       "\n",
       "    .dataframe tbody tr th {\n",
       "        vertical-align: top;\n",
       "    }\n",
       "\n",
       "    .dataframe thead th {\n",
       "        text-align: right;\n",
       "    }\n",
       "</style>\n",
       "<table border=\"1\" class=\"dataframe\">\n",
       "  <thead>\n",
       "    <tr style=\"text-align: right;\">\n",
       "      <th></th>\n",
       "      <th>smiles</th>\n",
       "      <th>fold0</th>\n",
       "    </tr>\n",
       "  </thead>\n",
       "  <tbody>\n",
       "    <tr>\n",
       "      <th>1</th>\n",
       "      <td>CC(C)(C)C(=O)C(Oc1ccc(Cl)cc1)n1ccnc1</td>\n",
       "      <td>train</td>\n",
       "    </tr>\n",
       "    <tr>\n",
       "      <th>3</th>\n",
       "      <td>Cc1c(Cl)cccc1Nc1ncccc1C(=O)OCC(O)CO</td>\n",
       "      <td>train</td>\n",
       "    </tr>\n",
       "    <tr>\n",
       "      <th>4</th>\n",
       "      <td>Cn1cnc2c1c(=O)n(CC(O)CO)c(=O)n2C</td>\n",
       "      <td>train</td>\n",
       "    </tr>\n",
       "    <tr>\n",
       "      <th>5</th>\n",
       "      <td>CC1Oc2ccc(Cl)cc2N(CC(O)CO)C1=O</td>\n",
       "      <td>train</td>\n",
       "    </tr>\n",
       "    <tr>\n",
       "      <th>6</th>\n",
       "      <td>O=C(C1CCCCC1)N1CC(=O)N2CCCc3ccccc3C2C1</td>\n",
       "      <td>train</td>\n",
       "    </tr>\n",
       "    <tr>\n",
       "      <th>...</th>\n",
       "      <td>...</td>\n",
       "      <td>...</td>\n",
       "    </tr>\n",
       "    <tr>\n",
       "      <th>1936687</th>\n",
       "      <td>CCc1nc(N)c(Br)cc1Br</td>\n",
       "      <td>train</td>\n",
       "    </tr>\n",
       "    <tr>\n",
       "      <th>1936688</th>\n",
       "      <td>N#Cc1c(Br)cnc(N)c1Br</td>\n",
       "      <td>train</td>\n",
       "    </tr>\n",
       "    <tr>\n",
       "      <th>1936690</th>\n",
       "      <td>NC(=O)c1ccc2ccccc2c1Br</td>\n",
       "      <td>train</td>\n",
       "    </tr>\n",
       "    <tr>\n",
       "      <th>1936691</th>\n",
       "      <td>CC(=O)Nc1cccc(-c2nc3cc(C)ccc3[nH]c2=O)c1</td>\n",
       "      <td>train</td>\n",
       "    </tr>\n",
       "    <tr>\n",
       "      <th>1936692</th>\n",
       "      <td>CC(NC(=O)OC(C)(C)C)c1nc(CO)nn1Cc1ccccc1</td>\n",
       "      <td>train</td>\n",
       "    </tr>\n",
       "  </tbody>\n",
       "</table>\n",
       "<p>1549354 rows × 2 columns</p>\n",
       "</div>"
      ],
      "text/plain": [
       "                                           smiles  fold0\n",
       "1            CC(C)(C)C(=O)C(Oc1ccc(Cl)cc1)n1ccnc1  train\n",
       "3             Cc1c(Cl)cccc1Nc1ncccc1C(=O)OCC(O)CO  train\n",
       "4                Cn1cnc2c1c(=O)n(CC(O)CO)c(=O)n2C  train\n",
       "5                  CC1Oc2ccc(Cl)cc2N(CC(O)CO)C1=O  train\n",
       "6          O=C(C1CCCCC1)N1CC(=O)N2CCCc3ccccc3C2C1  train\n",
       "...                                           ...    ...\n",
       "1936687                       CCc1nc(N)c(Br)cc1Br  train\n",
       "1936688                      N#Cc1c(Br)cnc(N)c1Br  train\n",
       "1936690                    NC(=O)c1ccc2ccccc2c1Br  train\n",
       "1936691  CC(=O)Nc1cccc(-c2nc3cc(C)ccc3[nH]c2=O)c1  train\n",
       "1936692   CC(NC(=O)OC(C)(C)C)c1nc(CO)nn1Cc1ccccc1  train\n",
       "\n",
       "[1549354 rows x 2 columns]"
      ]
     },
     "execution_count": 5,
     "metadata": {},
     "output_type": "execute_result"
    }
   ],
   "source": [
    "datafile.groupby('fold0').get_group('train')"
   ]
  }
 ],
 "metadata": {
  "kernelspec": {
   "display_name": "Python 3 (ipykernel)",
   "language": "python",
   "name": "python3"
  },
  "language_info": {
   "codemirror_mode": {
    "name": "ipython",
    "version": 3
   },
   "file_extension": ".py",
   "mimetype": "text/x-python",
   "name": "python",
   "nbconvert_exporter": "python",
   "pygments_lexer": "ipython3",
   "version": "3.11.9"
  }
 },
 "nbformat": 4,
 "nbformat_minor": 5
}
