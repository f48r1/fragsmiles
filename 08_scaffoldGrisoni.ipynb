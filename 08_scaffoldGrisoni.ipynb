{
 "cells": [
  {
   "cell_type": "code",
   "execution_count": 1,
   "id": "84c0c58e-4e3f-4345-ba9b-d0b47b030d8d",
   "metadata": {},
   "outputs": [],
   "source": [
    "import pandas as pd, numpy as np\n",
    "from rdkit import Chem"
   ]
  },
  {
   "cell_type": "code",
   "execution_count": 2,
   "metadata": {},
   "outputs": [],
   "source": [
    "from scipy import stats"
   ]
  },
  {
   "cell_type": "code",
   "execution_count": 3,
   "metadata": {},
   "outputs": [],
   "source": [
    "import pandas as pd, numpy as np, re, os\n",
    "from evaluation import Evaluator, compilerPatterns, ResultsFromMeanStdDF\n",
    "from matplotlib import pyplot as plt\n",
    "plt.rcParams.update({'font.size': 12})"
   ]
  },
  {
   "cell_type": "code",
   "execution_count": 4,
   "metadata": {},
   "outputs": [],
   "source": [
    "%load_ext autoreload\n",
    "%autoreload 2"
   ]
  },
  {
   "cell_type": "code",
   "execution_count": 5,
   "metadata": {},
   "outputs": [],
   "source": [
    "paths = [ os.path.join(dataset.name, experiment.name) \n",
    "         for dataset in os.scandir('experiments') if dataset.is_dir() and 'grisoni' in dataset.name \n",
    "         for experiment in os.scandir(dataset.path)  ]"
   ]
  },
  {
   "cell_type": "code",
   "execution_count": 6,
   "metadata": {},
   "outputs": [],
   "source": [
    "evaluators = [Evaluator(path, novel=True) for path in paths]"
   ]
  },
  {
   "cell_type": "code",
   "execution_count": 7,
   "metadata": {},
   "outputs": [
    {
     "name": "stderr",
     "output_type": "stream",
     "text": [
      "[19:00:45] WARNING: could not find number of expected rings. Switching to an approximate ring finding algorithm.\n",
      "[19:00:45] WARNING: could not find number of expected rings. Switching to an approximate ring finding algorithm.\n",
      "[19:01:17] Explicit valence for atom # 8 C greater than permitted\n"
     ]
    },
    {
     "name": "stdout",
     "output_type": "stream",
     "text": [
      "<evaluation.SampledMoleculesSm object at 0x7fbd16a57c50> Explicit valence for atom # 8 C greater than permitted\n"
     ]
    },
    {
     "name": "stderr",
     "output_type": "stream",
     "text": [
      "[19:04:08] Explicit valence for atom # 0 C greater than permitted\n"
     ]
    },
    {
     "name": "stdout",
     "output_type": "stream",
     "text": [
      "<evaluation.SampledMoleculesSm object at 0x7fbd09c99c10> Explicit valence for atom # 0 C greater than permitted\n"
     ]
    }
   ],
   "source": [
    "scaffDFs=pd.concat( [evaluator.getScaffoldResults() for evaluator in evaluators if not evaluator.gens.empty], ignore_index=True)"
   ]
  },
  {
   "cell_type": "code",
   "execution_count": 8,
   "metadata": {},
   "outputs": [],
   "source": [
    "scaffDFs['unique%']=scaffDFs['unique']/scaffDFs['total']\n",
    "scaffDFs['novel%']=scaffDFs['novel']/scaffDFs['unique']\n",
    "scaffDFs['chiral%']=scaffDFs['chiral']/scaffDFs['novel']"
   ]
  },
  {
   "cell_type": "code",
   "execution_count": 9,
   "metadata": {},
   "outputs": [
    {
     "name": "stderr",
     "output_type": "stream",
     "text": [
      "/tmp/ipykernel_1141590/2999511724.py:1: FutureWarning: Downcasting object dtype arrays on .fillna, .ffill, .bfill is deprecated and will change in a future version. Call result.infer_objects(copy=False) instead. To opt-in to the future behavior, set `pd.set_option('future.no_silent_downcasting', True)`\n",
      "  scaffGrp=scaffDFs.fillna(-1).groupby(compilerPatterns.index.drop('fold').tolist(),as_index=True, dropna=False)\n"
     ]
    }
   ],
   "source": [
    "scaffGrp=scaffDFs.fillna(-1).groupby(compilerPatterns.index.drop('fold').tolist(),as_index=True, dropna=False)"
   ]
  },
  {
   "cell_type": "code",
   "execution_count": 10,
   "metadata": {},
   "outputs": [],
   "source": [
    "scaffStats=scaffGrp.describe().loc(axis=1)[ ( slice(None),['mean','std'] ) ].drop(columns='fold')"
   ]
  },
  {
   "cell_type": "code",
   "execution_count": 11,
   "metadata": {},
   "outputs": [],
   "source": [
    "scaffStats=ResultsFromMeanStdDF(scaffStats)"
   ]
  },
  {
   "cell_type": "code",
   "execution_count": 12,
   "metadata": {},
   "outputs": [
    {
     "data": {
      "text/html": [
       "<div>\n",
       "<style scoped>\n",
       "    .dataframe tbody tr th:only-of-type {\n",
       "        vertical-align: middle;\n",
       "    }\n",
       "\n",
       "    .dataframe tbody tr th {\n",
       "        vertical-align: top;\n",
       "    }\n",
       "\n",
       "    .dataframe thead th {\n",
       "        text-align: right;\n",
       "    }\n",
       "</style>\n",
       "<table border=\"1\" class=\"dataframe\">\n",
       "  <thead>\n",
       "    <tr style=\"text-align: right;\">\n",
       "      <th></th>\n",
       "      <th></th>\n",
       "      <th></th>\n",
       "      <th></th>\n",
       "      <th></th>\n",
       "      <th></th>\n",
       "      <th></th>\n",
       "      <th></th>\n",
       "      <th></th>\n",
       "      <th></th>\n",
       "      <th></th>\n",
       "      <th>total</th>\n",
       "      <th>unique</th>\n",
       "      <th>novel</th>\n",
       "      <th>chiral</th>\n",
       "      <th>unique%</th>\n",
       "      <th>novel%</th>\n",
       "      <th>chiral%</th>\n",
       "    </tr>\n",
       "    <tr>\n",
       "      <th>dataset</th>\n",
       "      <th>aug</th>\n",
       "      <th>notation</th>\n",
       "      <th>hl</th>\n",
       "      <th>hu</th>\n",
       "      <th>es</th>\n",
       "      <th>lr</th>\n",
       "      <th>bs</th>\n",
       "      <th>amount</th>\n",
       "      <th>epoch</th>\n",
       "      <th>T</th>\n",
       "      <th></th>\n",
       "      <th></th>\n",
       "      <th></th>\n",
       "      <th></th>\n",
       "      <th></th>\n",
       "      <th></th>\n",
       "      <th></th>\n",
       "    </tr>\n",
       "  </thead>\n",
       "  <tbody>\n",
       "    <tr>\n",
       "      <th rowspan=\"6\" valign=\"top\">grisoni</th>\n",
       "      <th rowspan=\"3\" valign=\"top\">-1</th>\n",
       "      <th>SELFIES</th>\n",
       "      <th>2</th>\n",
       "      <th>512</th>\n",
       "      <th>-1</th>\n",
       "      <th>0.001</th>\n",
       "      <th>512</th>\n",
       "      <th>6000</th>\n",
       "      <th>10</th>\n",
       "      <th>1.0</th>\n",
       "      <td>5964.0 ± 6.0</td>\n",
       "      <td>5570.0 ± 40.0</td>\n",
       "      <td>5160.0 ± 70.0</td>\n",
       "      <td>760.0 ± 40.0</td>\n",
       "      <td>0.934 ± 0.007</td>\n",
       "      <td>0.925 ± 0.006</td>\n",
       "      <td>0.148 ± 0.008</td>\n",
       "    </tr>\n",
       "    <tr>\n",
       "      <th>SMILES</th>\n",
       "      <th>2</th>\n",
       "      <th>512</th>\n",
       "      <th>-1</th>\n",
       "      <th>0.001</th>\n",
       "      <th>512</th>\n",
       "      <th>6000</th>\n",
       "      <th>10</th>\n",
       "      <th>1.0</th>\n",
       "      <td>5976.0 ± 8.0</td>\n",
       "      <td>5490.0 ± 80.0</td>\n",
       "      <td>4600.0 ± 100.0</td>\n",
       "      <td>820.0 ± 40.0</td>\n",
       "      <td>0.92 ± 0.01</td>\n",
       "      <td>0.838 ± 0.009</td>\n",
       "      <td>0.178 ± 0.007</td>\n",
       "    </tr>\n",
       "    <tr>\n",
       "      <th>fragSMILES</th>\n",
       "      <th>2</th>\n",
       "      <th>512</th>\n",
       "      <th>300</th>\n",
       "      <th>0.001</th>\n",
       "      <th>512</th>\n",
       "      <th>6000</th>\n",
       "      <th>16</th>\n",
       "      <th>1.0</th>\n",
       "      <td>5985.0 ± 8.0</td>\n",
       "      <td>5500.0 ± 50.0</td>\n",
       "      <td>4440.0 ± 70.0</td>\n",
       "      <td>750.0 ± 50.0</td>\n",
       "      <td>0.918 ± 0.007</td>\n",
       "      <td>0.809 ± 0.007</td>\n",
       "      <td>0.169 ± 0.009</td>\n",
       "    </tr>\n",
       "    <tr>\n",
       "      <th rowspan=\"3\" valign=\"top\">5</th>\n",
       "      <th>SELFIES</th>\n",
       "      <th>2</th>\n",
       "      <th>512</th>\n",
       "      <th>-1</th>\n",
       "      <th>0.001</th>\n",
       "      <th>256</th>\n",
       "      <th>6000</th>\n",
       "      <th>3</th>\n",
       "      <th>1.0</th>\n",
       "      <td>5978.0 ± 6.0</td>\n",
       "      <td>5620.0 ± 40.0</td>\n",
       "      <td>5240.0 ± 60.0</td>\n",
       "      <td>870.0 ± 60.0</td>\n",
       "      <td>0.941 ± 0.006</td>\n",
       "      <td>0.931 ± 0.004</td>\n",
       "      <td>0.17 ± 0.01</td>\n",
       "    </tr>\n",
       "    <tr>\n",
       "      <th>SMILES</th>\n",
       "      <th>2</th>\n",
       "      <th>512</th>\n",
       "      <th>-1</th>\n",
       "      <th>0.001</th>\n",
       "      <th>256</th>\n",
       "      <th>6000</th>\n",
       "      <th>3</th>\n",
       "      <th>1.0</th>\n",
       "      <td>5976.0 ± 5.0</td>\n",
       "      <td>5610.0 ± 70.0</td>\n",
       "      <td>5000.0 ± 100.0</td>\n",
       "      <td>1000.0 ± 100.0</td>\n",
       "      <td>0.94 ± 0.01</td>\n",
       "      <td>0.9 ± 0.01</td>\n",
       "      <td>0.19 ± 0.02</td>\n",
       "    </tr>\n",
       "    <tr>\n",
       "      <th>fragSMILES</th>\n",
       "      <th>2</th>\n",
       "      <th>512</th>\n",
       "      <th>300</th>\n",
       "      <th>0.001</th>\n",
       "      <th>256</th>\n",
       "      <th>6000</th>\n",
       "      <th>4</th>\n",
       "      <th>1.0</th>\n",
       "      <td>5978.0 ± 7.0</td>\n",
       "      <td>5510.0 ± 80.0</td>\n",
       "      <td>4400.0 ± 100.0</td>\n",
       "      <td>830.0 ± 80.0</td>\n",
       "      <td>0.92 ± 0.01</td>\n",
       "      <td>0.81 ± 0.01</td>\n",
       "      <td>0.19 ± 0.02</td>\n",
       "    </tr>\n",
       "  </tbody>\n",
       "</table>\n",
       "</div>"
      ],
      "text/plain": [
       "                                                                      total  \\\n",
       "dataset aug notation   hl hu  es   lr    bs  amount epoch T                   \n",
       "grisoni -1  SELFIES    2  512 -1   0.001 512 6000   10    1.0  5964.0 ± 6.0   \n",
       "            SMILES     2  512 -1   0.001 512 6000   10    1.0  5976.0 ± 8.0   \n",
       "            fragSMILES 2  512  300 0.001 512 6000   16    1.0  5985.0 ± 8.0   \n",
       "         5  SELFIES    2  512 -1   0.001 256 6000   3     1.0  5978.0 ± 6.0   \n",
       "            SMILES     2  512 -1   0.001 256 6000   3     1.0  5976.0 ± 5.0   \n",
       "            fragSMILES 2  512  300 0.001 256 6000   4     1.0  5978.0 ± 7.0   \n",
       "\n",
       "                                                                      unique  \\\n",
       "dataset aug notation   hl hu  es   lr    bs  amount epoch T                    \n",
       "grisoni -1  SELFIES    2  512 -1   0.001 512 6000   10    1.0  5570.0 ± 40.0   \n",
       "            SMILES     2  512 -1   0.001 512 6000   10    1.0  5490.0 ± 80.0   \n",
       "            fragSMILES 2  512  300 0.001 512 6000   16    1.0  5500.0 ± 50.0   \n",
       "         5  SELFIES    2  512 -1   0.001 256 6000   3     1.0  5620.0 ± 40.0   \n",
       "            SMILES     2  512 -1   0.001 256 6000   3     1.0  5610.0 ± 70.0   \n",
       "            fragSMILES 2  512  300 0.001 256 6000   4     1.0  5510.0 ± 80.0   \n",
       "\n",
       "                                                                        novel  \\\n",
       "dataset aug notation   hl hu  es   lr    bs  amount epoch T                     \n",
       "grisoni -1  SELFIES    2  512 -1   0.001 512 6000   10    1.0   5160.0 ± 70.0   \n",
       "            SMILES     2  512 -1   0.001 512 6000   10    1.0  4600.0 ± 100.0   \n",
       "            fragSMILES 2  512  300 0.001 512 6000   16    1.0   4440.0 ± 70.0   \n",
       "         5  SELFIES    2  512 -1   0.001 256 6000   3     1.0   5240.0 ± 60.0   \n",
       "            SMILES     2  512 -1   0.001 256 6000   3     1.0  5000.0 ± 100.0   \n",
       "            fragSMILES 2  512  300 0.001 256 6000   4     1.0  4400.0 ± 100.0   \n",
       "\n",
       "                                                                       chiral  \\\n",
       "dataset aug notation   hl hu  es   lr    bs  amount epoch T                     \n",
       "grisoni -1  SELFIES    2  512 -1   0.001 512 6000   10    1.0    760.0 ± 40.0   \n",
       "            SMILES     2  512 -1   0.001 512 6000   10    1.0    820.0 ± 40.0   \n",
       "            fragSMILES 2  512  300 0.001 512 6000   16    1.0    750.0 ± 50.0   \n",
       "         5  SELFIES    2  512 -1   0.001 256 6000   3     1.0    870.0 ± 60.0   \n",
       "            SMILES     2  512 -1   0.001 256 6000   3     1.0  1000.0 ± 100.0   \n",
       "            fragSMILES 2  512  300 0.001 256 6000   4     1.0    830.0 ± 80.0   \n",
       "\n",
       "                                                                     unique%  \\\n",
       "dataset aug notation   hl hu  es   lr    bs  amount epoch T                    \n",
       "grisoni -1  SELFIES    2  512 -1   0.001 512 6000   10    1.0  0.934 ± 0.007   \n",
       "            SMILES     2  512 -1   0.001 512 6000   10    1.0    0.92 ± 0.01   \n",
       "            fragSMILES 2  512  300 0.001 512 6000   16    1.0  0.918 ± 0.007   \n",
       "         5  SELFIES    2  512 -1   0.001 256 6000   3     1.0  0.941 ± 0.006   \n",
       "            SMILES     2  512 -1   0.001 256 6000   3     1.0    0.94 ± 0.01   \n",
       "            fragSMILES 2  512  300 0.001 256 6000   4     1.0    0.92 ± 0.01   \n",
       "\n",
       "                                                                      novel%  \\\n",
       "dataset aug notation   hl hu  es   lr    bs  amount epoch T                    \n",
       "grisoni -1  SELFIES    2  512 -1   0.001 512 6000   10    1.0  0.925 ± 0.006   \n",
       "            SMILES     2  512 -1   0.001 512 6000   10    1.0  0.838 ± 0.009   \n",
       "            fragSMILES 2  512  300 0.001 512 6000   16    1.0  0.809 ± 0.007   \n",
       "         5  SELFIES    2  512 -1   0.001 256 6000   3     1.0  0.931 ± 0.004   \n",
       "            SMILES     2  512 -1   0.001 256 6000   3     1.0     0.9 ± 0.01   \n",
       "            fragSMILES 2  512  300 0.001 256 6000   4     1.0    0.81 ± 0.01   \n",
       "\n",
       "                                                                     chiral%  \n",
       "dataset aug notation   hl hu  es   lr    bs  amount epoch T                   \n",
       "grisoni -1  SELFIES    2  512 -1   0.001 512 6000   10    1.0  0.148 ± 0.008  \n",
       "            SMILES     2  512 -1   0.001 512 6000   10    1.0  0.178 ± 0.007  \n",
       "            fragSMILES 2  512  300 0.001 512 6000   16    1.0  0.169 ± 0.009  \n",
       "         5  SELFIES    2  512 -1   0.001 256 6000   3     1.0    0.17 ± 0.01  \n",
       "            SMILES     2  512 -1   0.001 256 6000   3     1.0    0.19 ± 0.02  \n",
       "            fragSMILES 2  512  300 0.001 256 6000   4     1.0    0.19 ± 0.02  "
      ]
     },
     "execution_count": 12,
     "metadata": {},
     "output_type": "execute_result"
    }
   ],
   "source": [
    "scaffStats.query(' ( aug==5 and hl==2 and hu==512 and bs==256 ) or ( aug!=5 and hl==2 and hu==512 and bs==512 ) ')"
   ]
  },
  {
   "cell_type": "code",
   "execution_count": null,
   "metadata": {},
   "outputs": [],
   "source": [
    "scaffStats.to_csv('results/08_grisoniScaffMetrics.csv')"
   ]
  },
  {
   "cell_type": "code",
   "execution_count": 13,
   "metadata": {},
   "outputs": [],
   "source": [
    "params=[2,512,-1,0.001,512,6000,10,1.0]\n",
    "paramsFrag = [2,512,300,0.001,512,6000,16,1.0]"
   ]
  },
  {
   "cell_type": "code",
   "execution_count": 14,
   "metadata": {},
   "outputs": [],
   "source": [
    "params5=[2,512,-1,0.001,256,6000,3,1.0]\n",
    "paramsFrag5 = [2,512,300,0.001,256,6000,4,1.0]"
   ]
  },
  {
   "cell_type": "code",
   "execution_count": 15,
   "metadata": {},
   "outputs": [],
   "source": [
    "genPvals = pd.DataFrame.from_dict(\n",
    "                {notation+'x1': \n",
    "                {metric:stats.ttest_ind(\n",
    "                scaffGrp.get_group(('grisoni',-1,notation,*params))[metric],\n",
    "                scaffGrp.get_group(('grisoni',-1,'fragSMILES',*paramsFrag))[metric],\n",
    "                ).pvalue for metric in scaffStats.columns} for notation in ['SMILES','SELFIES']\n",
    "                } |\n",
    "                {notation+'x5': \n",
    "                {metric:stats.ttest_ind(\n",
    "                scaffGrp.get_group(('grisoni',5,notation,*params5))[metric],\n",
    "                scaffGrp.get_group(('grisoni',5,'fragSMILES',*paramsFrag5))[metric],\n",
    "                ).pvalue for metric in scaffStats.columns} for notation in ['SMILES','SELFIES']\n",
    "                }\n",
    "                , orient='index'\n",
    "            )"
   ]
  },
  {
   "cell_type": "code",
   "execution_count": 16,
   "metadata": {},
   "outputs": [
    {
     "data": {
      "text/html": [
       "<div>\n",
       "<style scoped>\n",
       "    .dataframe tbody tr th:only-of-type {\n",
       "        vertical-align: middle;\n",
       "    }\n",
       "\n",
       "    .dataframe tbody tr th {\n",
       "        vertical-align: top;\n",
       "    }\n",
       "\n",
       "    .dataframe thead th {\n",
       "        text-align: right;\n",
       "    }\n",
       "</style>\n",
       "<table border=\"1\" class=\"dataframe\">\n",
       "  <thead>\n",
       "    <tr style=\"text-align: right;\">\n",
       "      <th></th>\n",
       "      <th>total</th>\n",
       "      <th>unique</th>\n",
       "      <th>novel</th>\n",
       "      <th>chiral</th>\n",
       "      <th>unique%</th>\n",
       "      <th>novel%</th>\n",
       "      <th>chiral%</th>\n",
       "    </tr>\n",
       "  </thead>\n",
       "  <tbody>\n",
       "    <tr>\n",
       "      <th>SMILESx1</th>\n",
       "      <td>0.122287</td>\n",
       "      <td>0.883691</td>\n",
       "      <td>2.905847e-02</td>\n",
       "      <td>0.042347</td>\n",
       "      <td>0.966772</td>\n",
       "      <td>3.886867e-04</td>\n",
       "      <td>0.125945</td>\n",
       "    </tr>\n",
       "    <tr>\n",
       "      <th>SELFIESx1</th>\n",
       "      <td>0.001574</td>\n",
       "      <td>0.034050</td>\n",
       "      <td>2.212652e-07</td>\n",
       "      <td>0.642110</td>\n",
       "      <td>0.007221</td>\n",
       "      <td>3.270683e-09</td>\n",
       "      <td>0.005719</td>\n",
       "    </tr>\n",
       "    <tr>\n",
       "      <th>SMILESx5</th>\n",
       "      <td>0.544191</td>\n",
       "      <td>0.070134</td>\n",
       "      <td>1.120501e-04</td>\n",
       "      <td>0.116053</td>\n",
       "      <td>0.064472</td>\n",
       "      <td>4.878120e-06</td>\n",
       "      <td>0.846064</td>\n",
       "    </tr>\n",
       "    <tr>\n",
       "      <th>SELFIESx5</th>\n",
       "      <td>1.000000</td>\n",
       "      <td>0.017568</td>\n",
       "      <td>2.491563e-06</td>\n",
       "      <td>0.417392</td>\n",
       "      <td>0.017827</td>\n",
       "      <td>9.042331e-08</td>\n",
       "      <td>0.042876</td>\n",
       "    </tr>\n",
       "  </tbody>\n",
       "</table>\n",
       "</div>"
      ],
      "text/plain": [
       "              total    unique         novel    chiral   unique%        novel%  \\\n",
       "SMILESx1   0.122287  0.883691  2.905847e-02  0.042347  0.966772  3.886867e-04   \n",
       "SELFIESx1  0.001574  0.034050  2.212652e-07  0.642110  0.007221  3.270683e-09   \n",
       "SMILESx5   0.544191  0.070134  1.120501e-04  0.116053  0.064472  4.878120e-06   \n",
       "SELFIESx5  1.000000  0.017568  2.491563e-06  0.417392  0.017827  9.042331e-08   \n",
       "\n",
       "            chiral%  \n",
       "SMILESx1   0.125945  \n",
       "SELFIESx1  0.005719  \n",
       "SMILESx5   0.846064  \n",
       "SELFIESx5  0.042876  "
      ]
     },
     "execution_count": 16,
     "metadata": {},
     "output_type": "execute_result"
    }
   ],
   "source": [
    "genPvals"
   ]
  },
  {
   "cell_type": "code",
   "execution_count": 17,
   "metadata": {},
   "outputs": [
    {
     "data": {
      "text/html": [
       "<div>\n",
       "<style scoped>\n",
       "    .dataframe tbody tr th:only-of-type {\n",
       "        vertical-align: middle;\n",
       "    }\n",
       "\n",
       "    .dataframe tbody tr th {\n",
       "        vertical-align: top;\n",
       "    }\n",
       "\n",
       "    .dataframe thead th {\n",
       "        text-align: right;\n",
       "    }\n",
       "</style>\n",
       "<table border=\"1\" class=\"dataframe\">\n",
       "  <thead>\n",
       "    <tr style=\"text-align: right;\">\n",
       "      <th></th>\n",
       "      <th>total</th>\n",
       "      <th>unique</th>\n",
       "      <th>novel</th>\n",
       "      <th>chiral</th>\n",
       "      <th>unique%</th>\n",
       "      <th>novel%</th>\n",
       "      <th>chiral%</th>\n",
       "    </tr>\n",
       "  </thead>\n",
       "  <tbody>\n",
       "    <tr>\n",
       "      <th>SMILESx1</th>\n",
       "      <td>False</td>\n",
       "      <td>False</td>\n",
       "      <td>True</td>\n",
       "      <td>True</td>\n",
       "      <td>False</td>\n",
       "      <td>True</td>\n",
       "      <td>False</td>\n",
       "    </tr>\n",
       "    <tr>\n",
       "      <th>SELFIESx1</th>\n",
       "      <td>True</td>\n",
       "      <td>True</td>\n",
       "      <td>True</td>\n",
       "      <td>False</td>\n",
       "      <td>True</td>\n",
       "      <td>True</td>\n",
       "      <td>True</td>\n",
       "    </tr>\n",
       "    <tr>\n",
       "      <th>SMILESx5</th>\n",
       "      <td>False</td>\n",
       "      <td>False</td>\n",
       "      <td>True</td>\n",
       "      <td>False</td>\n",
       "      <td>False</td>\n",
       "      <td>True</td>\n",
       "      <td>False</td>\n",
       "    </tr>\n",
       "    <tr>\n",
       "      <th>SELFIESx5</th>\n",
       "      <td>False</td>\n",
       "      <td>True</td>\n",
       "      <td>True</td>\n",
       "      <td>False</td>\n",
       "      <td>True</td>\n",
       "      <td>True</td>\n",
       "      <td>True</td>\n",
       "    </tr>\n",
       "  </tbody>\n",
       "</table>\n",
       "</div>"
      ],
      "text/plain": [
       "           total  unique  novel  chiral  unique%  novel%  chiral%\n",
       "SMILESx1   False   False   True    True    False    True    False\n",
       "SELFIESx1   True    True   True   False     True    True     True\n",
       "SMILESx5   False   False   True   False    False    True    False\n",
       "SELFIESx5  False    True   True   False     True    True     True"
      ]
     },
     "execution_count": 17,
     "metadata": {},
     "output_type": "execute_result"
    }
   ],
   "source": [
    "genPvals.map(lambda x: x<0.05)"
   ]
  },
  {
   "cell_type": "markdown",
   "metadata": {},
   "source": [
    "## Count how many scaffolds are novel cause of new cyclic fragments"
   ]
  },
  {
   "cell_type": "code",
   "execution_count": 18,
   "metadata": {},
   "outputs": [],
   "source": [
    "from ast import literal_eval\n",
    "notations = ['SELFIES','SMILES','fragSMILES']\n",
    "def _converting(cell):\n",
    "    if cell.startswith('(') :\n",
    "        return literal_eval(cell)"
   ]
  },
  {
   "cell_type": "code",
   "execution_count": 19,
   "metadata": {},
   "outputs": [],
   "source": [
    "from processer import fragmentSmilesList"
   ]
  },
  {
   "cell_type": "code",
   "execution_count": 54,
   "metadata": {},
   "outputs": [],
   "source": [
    "def checkScaffoldFragments(scaffolds, vocab):\n",
    "\n",
    "    def checkNewFrag(smi, frags):\n",
    "        if pd.isnull(frags):\n",
    "            if smi in vocab:\n",
    "                return False\n",
    "            return True\n",
    "\n",
    "        mask = np.in1d(frags, vocab)\n",
    "\n",
    "        newFrags = np.where(~mask)[0]\n",
    "\n",
    "        if len(newFrags)==0:\n",
    "            return False\n",
    "        \n",
    "        ## If u want track which new fragments are\n",
    "        # return np.array(frags)[newFrags]\n",
    "        return True\n",
    "    \n",
    "    # try:\n",
    "    fragScaff=fragmentSmilesList(scaffolds)\n",
    "    maskNewFrags=fragScaff.apply(lambda x: checkNewFrag(x.smiles, x.tokens), axis=1)\n",
    "\n",
    "    return maskNewFrags.sum()\n",
    "    # except:\n",
    "    #     return -1"
   ]
  },
  {
   "cell_type": "code",
   "execution_count": 21,
   "metadata": {},
   "outputs": [],
   "source": [
    "vocabs=[]\n",
    "for fold in range(5):\n",
    "    train_data = pd.read_csv(f'experiments/data/grisoni_train_{fold}.tar.xz', usecols = ['fragsmiles'], compression=\"xz\",converters={'fragsmiles': _converting} ).squeeze()\n",
    "    vocabs.append(np.unique(np.concatenate(train_data.apply(np.array))))"
   ]
  },
  {
   "cell_type": "code",
   "execution_count": 22,
   "metadata": {},
   "outputs": [],
   "source": [
    "def countNewScaffCauseFrags(evaluator):\n",
    "    results = evaluator.gens.copy()\n",
    "\n",
    "    results['inducedNewFrags']=results.apply(lambda x: checkScaffoldFragments(x.sampled.novelScaff, vocabs[x.fold]), axis=1)\n",
    "\n",
    "    results.drop(columns='sampled', inplace=True)\n",
    "    return results.sort_values(['amount','fold','epoch'])"
   ]
  },
  {
   "cell_type": "raw",
   "metadata": {},
   "source": [
    "idxsEvaluators = np.unique(scaffDFs.query(' ( aug==5 and hl==2 and hu==512 and bs==256 ) or ( aug!=5 and hl==2 and hu==512 and bs==512 ) ').index//5)"
   ]
  },
  {
   "cell_type": "code",
   "execution_count": null,
   "metadata": {},
   "outputs": [],
   "source": [
    "idxsEvaluators = np.unique(scaffDFs.query(' ( aug==5 and hl==2 and hu==512 and bs==256 and notation!=\"fragSMILES\" ) or ( aug!=5 and hl==2 and hu==512 and bs==512 and notation!=\"fragSMILES\") ').index//5)"
   ]
  },
  {
   "cell_type": "code",
   "execution_count": null,
   "metadata": {},
   "outputs": [],
   "source": [
    "inducedNewFrags=pd.concat( [ countNewScaffCauseFrags(evaluators[idx]) for idx in idxsEvaluators], ignore_index=True)"
   ]
  },
  {
   "cell_type": "code",
   "execution_count": 84,
   "metadata": {},
   "outputs": [],
   "source": [
    "induced = scaffDFs.query(' ( aug==5 and hl==2 and hu==512 and bs==256 and notation!=\"fragSMILES\" ) or ( aug!=5 and hl==2 and hu==512 and bs==512 and notation!=\"fragSMILES\" ) ').merge(inducedNewFrags, \n",
    "on=compilerPatterns.index.tolist())"
   ]
  },
  {
   "cell_type": "code",
   "execution_count": 86,
   "metadata": {},
   "outputs": [],
   "source": [
    "induced['inducedNewFrags%']=induced['inducedNewFrags']/induced['novel']"
   ]
  },
  {
   "cell_type": "code",
   "execution_count": 87,
   "metadata": {},
   "outputs": [
    {
     "name": "stderr",
     "output_type": "stream",
     "text": [
      "/tmp/ipykernel_1141590/238393982.py:1: FutureWarning: Downcasting object dtype arrays on .fillna, .ffill, .bfill is deprecated and will change in a future version. Call result.infer_objects(copy=False) instead. To opt-in to the future behavior, set `pd.set_option('future.no_silent_downcasting', True)`\n",
      "  inducedGrp=induced.fillna(-1).groupby(compilerPatterns.index.drop('fold').tolist(),as_index=True, dropna=False)\n"
     ]
    }
   ],
   "source": [
    "inducedGrp=induced.fillna(-1).groupby(compilerPatterns.index.drop('fold').tolist(),as_index=True, dropna=False)"
   ]
  },
  {
   "cell_type": "code",
   "execution_count": 88,
   "metadata": {},
   "outputs": [],
   "source": [
    "inducedStats=inducedGrp.describe().loc(axis=1)[ ( slice(None),['mean','std'] ) ].drop(columns='fold')"
   ]
  },
  {
   "cell_type": "code",
   "execution_count": 89,
   "metadata": {},
   "outputs": [],
   "source": [
    "inducedStats=ResultsFromMeanStdDF(inducedStats)"
   ]
  },
  {
   "cell_type": "code",
   "execution_count": null,
   "metadata": {},
   "outputs": [],
   "source": [
    "inducedStats"
   ]
  },
  {
   "cell_type": "code",
   "execution_count": null,
   "metadata": {},
   "outputs": [],
   "source": []
  },
  {
   "cell_type": "code",
   "execution_count": null,
   "metadata": {},
   "outputs": [],
   "source": []
  },
  {
   "cell_type": "markdown",
   "id": "1448616d-e09e-4bd7-9feb-6944c13f728f",
   "metadata": {},
   "source": [
    "## Describe Scaffs"
   ]
  },
  {
   "cell_type": "code",
   "execution_count": null,
   "id": "dcd883ea-6f42-4198-9ecd-3fe0da38fc60",
   "metadata": {},
   "outputs": [],
   "source": [
    "from rdkit import Chem\n",
    "from rdkit.Chem import RDConfig\n",
    "from rdkit.Chem import Descriptors\n",
    "from matplotlib import pyplot as plt\n",
    "import os\n",
    "import sys\n",
    "sys.path.append(os.path.join(RDConfig.RDContribDir, 'SA_Score'))\n",
    "\n",
    "import sascorer"
   ]
  },
  {
   "cell_type": "code",
   "execution_count": null,
   "id": "e2c87c6a-5f92-4f31-9a59-91079790275e",
   "metadata": {},
   "outputs": [],
   "source": [
    "from sklearn.decomposition import PCA\n",
    "from sklearn.preprocessing import StandardScaler"
   ]
  },
  {
   "cell_type": "code",
   "execution_count": null,
   "id": "34f239cb-4382-4fca-b046-32275a8edd97",
   "metadata": {},
   "outputs": [],
   "source": [
    "descs = dict(\n",
    "    logP=Descriptors.MolLogP,\n",
    "    qed=Descriptors.qed,\n",
    "    sa=sascorer.calculateScore,\n",
    "    weight=Chem.rdMolDescriptors.CalcExactMolWt,\n",
    "    morgan1=Descriptors.FpDensityMorgan1,\n",
    "    morgan3=Descriptors.FpDensityMorgan3,\n",
    "    morgan2=Descriptors.FpDensityMorgan2,\n",
    ")"
   ]
  },
  {
   "cell_type": "code",
   "execution_count": null,
   "metadata": {},
   "outputs": [],
   "source": [
    "allChirScaffDF=joinMultipleDF(\n",
    "     *list( zip(*[\n",
    "         [ pd.concat([ sampl.chirScaff for sampl in evaluator.gens['sampled']], ignore_index=True, axis=0).drop_duplicates(), evaluator.dataInfo['notation']  ]\n",
    "    for evaluator in evaluators if not evaluator.dataInfo['aug'] and evaluator.params['hl']==2 and evaluator.params['hu']==512 and evaluator.params['bs']==512 and not evaluator.gens.empty\n",
    "    ])\n",
    "))"
   ]
  },
  {
   "cell_type": "code",
   "execution_count": null,
   "id": "85c569fc-0179-415c-928b-1e372ea0dd1c",
   "metadata": {},
   "outputs": [],
   "source": [
    "allChirScaffDF[\"molScaff\"]=allChirScaffDF.index.map(Chem.MolFromSmiles)"
   ]
  },
  {
   "cell_type": "code",
   "execution_count": null,
   "id": "0ef3b8b3-0bcb-464c-b698-0c8897305e9b",
   "metadata": {
    "collapsed": true,
    "jupyter": {
     "outputs_hidden": true
    }
   },
   "outputs": [],
   "source": [
    "for name,fn in descs.items():\n",
    "    allChirScaffDF[name]=allChirScaffDF[\"molScaff\"].apply(fn)"
   ]
  },
  {
   "cell_type": "code",
   "execution_count": null,
   "id": "ce5c2e25-dfb1-4532-886b-71921e3ce93b",
   "metadata": {},
   "outputs": [],
   "source": [
    "pcascaff = PCA(n_components=2)\n",
    "pcscaff = StandardScaler().fit_transform(allChirScaffDF[descs.keys()])\n",
    "allChirScaffDF = pd.concat([allChirScaffDF, pd.DataFrame(pcascaff.fit_transform(pcscaff), columns=[\"PC1\",\"PC2\"], index=allChirScaffDF.index ) ],axis=1)"
   ]
  },
  {
   "cell_type": "code",
   "execution_count": null,
   "metadata": {},
   "outputs": [
    {
     "data": {
      "text/html": [
       "<div>\n",
       "<style scoped>\n",
       "    .dataframe tbody tr th:only-of-type {\n",
       "        vertical-align: middle;\n",
       "    }\n",
       "\n",
       "    .dataframe tbody tr th {\n",
       "        vertical-align: top;\n",
       "    }\n",
       "\n",
       "    .dataframe thead th {\n",
       "        text-align: right;\n",
       "    }\n",
       "</style>\n",
       "<table border=\"1\" class=\"dataframe\">\n",
       "  <thead>\n",
       "    <tr style=\"text-align: right;\">\n",
       "      <th></th>\n",
       "      <th>SELFIES</th>\n",
       "      <th>SMILES</th>\n",
       "      <th>fragSMILES</th>\n",
       "      <th>molScaff</th>\n",
       "      <th>logP</th>\n",
       "      <th>qed</th>\n",
       "      <th>sa</th>\n",
       "      <th>weight</th>\n",
       "      <th>morgan1</th>\n",
       "      <th>morgan3</th>\n",
       "      <th>morgan2</th>\n",
       "      <th>PC1</th>\n",
       "      <th>PC2</th>\n",
       "    </tr>\n",
       "    <tr>\n",
       "      <th>smiles</th>\n",
       "      <th></th>\n",
       "      <th></th>\n",
       "      <th></th>\n",
       "      <th></th>\n",
       "      <th></th>\n",
       "      <th></th>\n",
       "      <th></th>\n",
       "      <th></th>\n",
       "      <th></th>\n",
       "      <th></th>\n",
       "      <th></th>\n",
       "      <th></th>\n",
       "      <th></th>\n",
       "    </tr>\n",
       "  </thead>\n",
       "  <tbody>\n",
       "    <tr>\n",
       "      <th>B(OCCOCC1CCCOCC1)[C@@H]1CCCN1</th>\n",
       "      <td>True</td>\n",
       "      <td>NaN</td>\n",
       "      <td>NaN</td>\n",
       "      <td>&lt;rdkit.Chem.rdchem.Mol object at 0x7fa58fdd2f80&gt;</td>\n",
       "      <td>0.89730</td>\n",
       "      <td>0.541646</td>\n",
       "      <td>4.271427</td>\n",
       "      <td>255.200574</td>\n",
       "      <td>1.111111</td>\n",
       "      <td>3.000000</td>\n",
       "      <td>2.111111</td>\n",
       "      <td>-2.270988</td>\n",
       "      <td>0.647369</td>\n",
       "    </tr>\n",
       "    <tr>\n",
       "      <th>B(OCc1ccccc1)[C@@H]1CCCN1</th>\n",
       "      <td>True</td>\n",
       "      <td>NaN</td>\n",
       "      <td>NaN</td>\n",
       "      <td>&lt;rdkit.Chem.rdchem.Mol object at 0x7fa58fdd2c00&gt;</td>\n",
       "      <td>1.26420</td>\n",
       "      <td>0.719694</td>\n",
       "      <td>3.702151</td>\n",
       "      <td>189.132495</td>\n",
       "      <td>1.357143</td>\n",
       "      <td>2.928571</td>\n",
       "      <td>2.214286</td>\n",
       "      <td>-3.371790</td>\n",
       "      <td>-0.329465</td>\n",
       "    </tr>\n",
       "    <tr>\n",
       "      <th>B1CCN[CH]C2CCC[C@@H]12</th>\n",
       "      <td>True</td>\n",
       "      <td>NaN</td>\n",
       "      <td>NaN</td>\n",
       "      <td>&lt;rdkit.Chem.rdchem.Mol object at 0x7fa58fdd3060&gt;</td>\n",
       "      <td>1.19479</td>\n",
       "      <td>0.493010</td>\n",
       "      <td>5.917750</td>\n",
       "      <td>136.129755</td>\n",
       "      <td>1.400000</td>\n",
       "      <td>3.400000</td>\n",
       "      <td>2.400000</td>\n",
       "      <td>-4.702006</td>\n",
       "      <td>2.015127</td>\n",
       "    </tr>\n",
       "    <tr>\n",
       "      <th>B1OCc2cc(CC3C[C@H](N4CCCCC4)N3)ccc21</th>\n",
       "      <td>True</td>\n",
       "      <td>NaN</td>\n",
       "      <td>NaN</td>\n",
       "      <td>&lt;rdkit.Chem.rdchem.Mol object at 0x7fa58fdd26c0&gt;</td>\n",
       "      <td>0.91000</td>\n",
       "      <td>0.826266</td>\n",
       "      <td>4.438284</td>\n",
       "      <td>270.190344</td>\n",
       "      <td>1.250000</td>\n",
       "      <td>2.950000</td>\n",
       "      <td>2.100000</td>\n",
       "      <td>-2.968894</td>\n",
       "      <td>0.079675</td>\n",
       "    </tr>\n",
       "    <tr>\n",
       "      <th>C(#CC(N=CN1CCC2C3C=CC[C@@H](CC3)C21)c1cncnc1)C1CC1</th>\n",
       "      <td>True</td>\n",
       "      <td>NaN</td>\n",
       "      <td>NaN</td>\n",
       "      <td>&lt;rdkit.Chem.rdchem.Mol object at 0x7fa58fdd25e0&gt;</td>\n",
       "      <td>3.63600</td>\n",
       "      <td>0.363119</td>\n",
       "      <td>5.817045</td>\n",
       "      <td>346.215747</td>\n",
       "      <td>1.153846</td>\n",
       "      <td>2.884615</td>\n",
       "      <td>2.038462</td>\n",
       "      <td>-1.116357</td>\n",
       "      <td>2.776276</td>\n",
       "    </tr>\n",
       "    <tr>\n",
       "      <th>...</th>\n",
       "      <td>...</td>\n",
       "      <td>...</td>\n",
       "      <td>...</td>\n",
       "      <td>...</td>\n",
       "      <td>...</td>\n",
       "      <td>...</td>\n",
       "      <td>...</td>\n",
       "      <td>...</td>\n",
       "      <td>...</td>\n",
       "      <td>...</td>\n",
       "      <td>...</td>\n",
       "      <td>...</td>\n",
       "      <td>...</td>\n",
       "    </tr>\n",
       "    <tr>\n",
       "      <th>c1ncnc([C@@H]2C[C@H]2CN2CCOCC2)n1</th>\n",
       "      <td>True</td>\n",
       "      <td>NaN</td>\n",
       "      <td>NaN</td>\n",
       "      <td>&lt;rdkit.Chem.rdchem.Mol object at 0x7fa58921ec70&gt;</td>\n",
       "      <td>0.30730</td>\n",
       "      <td>0.733364</td>\n",
       "      <td>3.568648</td>\n",
       "      <td>220.132411</td>\n",
       "      <td>1.250000</td>\n",
       "      <td>2.750000</td>\n",
       "      <td>2.000000</td>\n",
       "      <td>-2.520667</td>\n",
       "      <td>-0.802732</td>\n",
       "    </tr>\n",
       "    <tr>\n",
       "      <th>c1nn(CCCCC2CCCCC2)c2c1C[C@H]1C[C@@H]21</th>\n",
       "      <td>NaN</td>\n",
       "      <td>NaN</td>\n",
       "      <td>True</td>\n",
       "      <td>&lt;rdkit.Chem.rdchem.Mol object at 0x7fa58921ece0&gt;</td>\n",
       "      <td>4.29330</td>\n",
       "      <td>0.720240</td>\n",
       "      <td>3.429659</td>\n",
       "      <td>258.209599</td>\n",
       "      <td>1.157895</td>\n",
       "      <td>2.947368</td>\n",
       "      <td>2.052632</td>\n",
       "      <td>-1.591616</td>\n",
       "      <td>-0.038347</td>\n",
       "    </tr>\n",
       "    <tr>\n",
       "      <th>c1nnc(-c2ccc([C@H]3CCCCO3)cc2)s1</th>\n",
       "      <td>NaN</td>\n",
       "      <td>True</td>\n",
       "      <td>NaN</td>\n",
       "      <td>&lt;rdkit.Chem.rdchem.Mol object at 0x7fa58921ed50&gt;</td>\n",
       "      <td>3.44670</td>\n",
       "      <td>0.813745</td>\n",
       "      <td>2.872151</td>\n",
       "      <td>246.082684</td>\n",
       "      <td>1.176471</td>\n",
       "      <td>2.705882</td>\n",
       "      <td>2.058824</td>\n",
       "      <td>-1.592531</td>\n",
       "      <td>-1.009348</td>\n",
       "    </tr>\n",
       "    <tr>\n",
       "      <th>c1nnc(-c2cnc(NC[C@@H]3CCNC3)s2)o1</th>\n",
       "      <td>True</td>\n",
       "      <td>NaN</td>\n",
       "      <td>NaN</td>\n",
       "      <td>&lt;rdkit.Chem.rdchem.Mol object at 0x7fa58921edc0&gt;</td>\n",
       "      <td>1.21450</td>\n",
       "      <td>0.850464</td>\n",
       "      <td>3.535463</td>\n",
       "      <td>251.084081</td>\n",
       "      <td>1.588235</td>\n",
       "      <td>3.352941</td>\n",
       "      <td>2.588235</td>\n",
       "      <td>-5.321535</td>\n",
       "      <td>0.352035</td>\n",
       "    </tr>\n",
       "    <tr>\n",
       "      <th>c1oc2c(c1CN1CCCCC1)CC[C@H]2NC1CCCCC1</th>\n",
       "      <td>NaN</td>\n",
       "      <td>True</td>\n",
       "      <td>NaN</td>\n",
       "      <td>&lt;rdkit.Chem.rdchem.Mol object at 0x7fa58921ee30&gt;</td>\n",
       "      <td>4.17510</td>\n",
       "      <td>0.904367</td>\n",
       "      <td>3.153080</td>\n",
       "      <td>302.235814</td>\n",
       "      <td>1.000000</td>\n",
       "      <td>2.590909</td>\n",
       "      <td>1.772727</td>\n",
       "      <td>-0.222519</td>\n",
       "      <td>-1.155492</td>\n",
       "    </tr>\n",
       "  </tbody>\n",
       "</table>\n",
       "<p>11496 rows × 13 columns</p>\n",
       "</div>"
      ],
      "text/plain": [
       "                                                   SELFIES SMILES fragSMILES  \\\n",
       "smiles                                                                         \n",
       "B(OCCOCC1CCCOCC1)[C@@H]1CCCN1                         True    NaN        NaN   \n",
       "B(OCc1ccccc1)[C@@H]1CCCN1                             True    NaN        NaN   \n",
       "B1CCN[CH]C2CCC[C@@H]12                                True    NaN        NaN   \n",
       "B1OCc2cc(CC3C[C@H](N4CCCCC4)N3)ccc21                  True    NaN        NaN   \n",
       "C(#CC(N=CN1CCC2C3C=CC[C@@H](CC3)C21)c1cncnc1)C1CC1    True    NaN        NaN   \n",
       "...                                                    ...    ...        ...   \n",
       "c1ncnc([C@@H]2C[C@H]2CN2CCOCC2)n1                     True    NaN        NaN   \n",
       "c1nn(CCCCC2CCCCC2)c2c1C[C@H]1C[C@@H]21                 NaN    NaN       True   \n",
       "c1nnc(-c2ccc([C@H]3CCCCO3)cc2)s1                       NaN   True        NaN   \n",
       "c1nnc(-c2cnc(NC[C@@H]3CCNC3)s2)o1                     True    NaN        NaN   \n",
       "c1oc2c(c1CN1CCCCC1)CC[C@H]2NC1CCCCC1                   NaN   True        NaN   \n",
       "\n",
       "                                                                                            molScaff  \\\n",
       "smiles                                                                                                 \n",
       "B(OCCOCC1CCCOCC1)[C@@H]1CCCN1                       <rdkit.Chem.rdchem.Mol object at 0x7fa58fdd2f80>   \n",
       "B(OCc1ccccc1)[C@@H]1CCCN1                           <rdkit.Chem.rdchem.Mol object at 0x7fa58fdd2c00>   \n",
       "B1CCN[CH]C2CCC[C@@H]12                              <rdkit.Chem.rdchem.Mol object at 0x7fa58fdd3060>   \n",
       "B1OCc2cc(CC3C[C@H](N4CCCCC4)N3)ccc21                <rdkit.Chem.rdchem.Mol object at 0x7fa58fdd26c0>   \n",
       "C(#CC(N=CN1CCC2C3C=CC[C@@H](CC3)C21)c1cncnc1)C1CC1  <rdkit.Chem.rdchem.Mol object at 0x7fa58fdd25e0>   \n",
       "...                                                                                              ...   \n",
       "c1ncnc([C@@H]2C[C@H]2CN2CCOCC2)n1                   <rdkit.Chem.rdchem.Mol object at 0x7fa58921ec70>   \n",
       "c1nn(CCCCC2CCCCC2)c2c1C[C@H]1C[C@@H]21              <rdkit.Chem.rdchem.Mol object at 0x7fa58921ece0>   \n",
       "c1nnc(-c2ccc([C@H]3CCCCO3)cc2)s1                    <rdkit.Chem.rdchem.Mol object at 0x7fa58921ed50>   \n",
       "c1nnc(-c2cnc(NC[C@@H]3CCNC3)s2)o1                   <rdkit.Chem.rdchem.Mol object at 0x7fa58921edc0>   \n",
       "c1oc2c(c1CN1CCCCC1)CC[C@H]2NC1CCCCC1                <rdkit.Chem.rdchem.Mol object at 0x7fa58921ee30>   \n",
       "\n",
       "                                                       logP       qed  \\\n",
       "smiles                                                                  \n",
       "B(OCCOCC1CCCOCC1)[C@@H]1CCCN1                       0.89730  0.541646   \n",
       "B(OCc1ccccc1)[C@@H]1CCCN1                           1.26420  0.719694   \n",
       "B1CCN[CH]C2CCC[C@@H]12                              1.19479  0.493010   \n",
       "B1OCc2cc(CC3C[C@H](N4CCCCC4)N3)ccc21                0.91000  0.826266   \n",
       "C(#CC(N=CN1CCC2C3C=CC[C@@H](CC3)C21)c1cncnc1)C1CC1  3.63600  0.363119   \n",
       "...                                                     ...       ...   \n",
       "c1ncnc([C@@H]2C[C@H]2CN2CCOCC2)n1                   0.30730  0.733364   \n",
       "c1nn(CCCCC2CCCCC2)c2c1C[C@H]1C[C@@H]21              4.29330  0.720240   \n",
       "c1nnc(-c2ccc([C@H]3CCCCO3)cc2)s1                    3.44670  0.813745   \n",
       "c1nnc(-c2cnc(NC[C@@H]3CCNC3)s2)o1                   1.21450  0.850464   \n",
       "c1oc2c(c1CN1CCCCC1)CC[C@H]2NC1CCCCC1                4.17510  0.904367   \n",
       "\n",
       "                                                          sa      weight  \\\n",
       "smiles                                                                     \n",
       "B(OCCOCC1CCCOCC1)[C@@H]1CCCN1                       4.271427  255.200574   \n",
       "B(OCc1ccccc1)[C@@H]1CCCN1                           3.702151  189.132495   \n",
       "B1CCN[CH]C2CCC[C@@H]12                              5.917750  136.129755   \n",
       "B1OCc2cc(CC3C[C@H](N4CCCCC4)N3)ccc21                4.438284  270.190344   \n",
       "C(#CC(N=CN1CCC2C3C=CC[C@@H](CC3)C21)c1cncnc1)C1CC1  5.817045  346.215747   \n",
       "...                                                      ...         ...   \n",
       "c1ncnc([C@@H]2C[C@H]2CN2CCOCC2)n1                   3.568648  220.132411   \n",
       "c1nn(CCCCC2CCCCC2)c2c1C[C@H]1C[C@@H]21              3.429659  258.209599   \n",
       "c1nnc(-c2ccc([C@H]3CCCCO3)cc2)s1                    2.872151  246.082684   \n",
       "c1nnc(-c2cnc(NC[C@@H]3CCNC3)s2)o1                   3.535463  251.084081   \n",
       "c1oc2c(c1CN1CCCCC1)CC[C@H]2NC1CCCCC1                3.153080  302.235814   \n",
       "\n",
       "                                                     morgan1   morgan3  \\\n",
       "smiles                                                                   \n",
       "B(OCCOCC1CCCOCC1)[C@@H]1CCCN1                       1.111111  3.000000   \n",
       "B(OCc1ccccc1)[C@@H]1CCCN1                           1.357143  2.928571   \n",
       "B1CCN[CH]C2CCC[C@@H]12                              1.400000  3.400000   \n",
       "B1OCc2cc(CC3C[C@H](N4CCCCC4)N3)ccc21                1.250000  2.950000   \n",
       "C(#CC(N=CN1CCC2C3C=CC[C@@H](CC3)C21)c1cncnc1)C1CC1  1.153846  2.884615   \n",
       "...                                                      ...       ...   \n",
       "c1ncnc([C@@H]2C[C@H]2CN2CCOCC2)n1                   1.250000  2.750000   \n",
       "c1nn(CCCCC2CCCCC2)c2c1C[C@H]1C[C@@H]21              1.157895  2.947368   \n",
       "c1nnc(-c2ccc([C@H]3CCCCO3)cc2)s1                    1.176471  2.705882   \n",
       "c1nnc(-c2cnc(NC[C@@H]3CCNC3)s2)o1                   1.588235  3.352941   \n",
       "c1oc2c(c1CN1CCCCC1)CC[C@H]2NC1CCCCC1                1.000000  2.590909   \n",
       "\n",
       "                                                     morgan2       PC1  \\\n",
       "smiles                                                                   \n",
       "B(OCCOCC1CCCOCC1)[C@@H]1CCCN1                       2.111111 -2.270988   \n",
       "B(OCc1ccccc1)[C@@H]1CCCN1                           2.214286 -3.371790   \n",
       "B1CCN[CH]C2CCC[C@@H]12                              2.400000 -4.702006   \n",
       "B1OCc2cc(CC3C[C@H](N4CCCCC4)N3)ccc21                2.100000 -2.968894   \n",
       "C(#CC(N=CN1CCC2C3C=CC[C@@H](CC3)C21)c1cncnc1)C1CC1  2.038462 -1.116357   \n",
       "...                                                      ...       ...   \n",
       "c1ncnc([C@@H]2C[C@H]2CN2CCOCC2)n1                   2.000000 -2.520667   \n",
       "c1nn(CCCCC2CCCCC2)c2c1C[C@H]1C[C@@H]21              2.052632 -1.591616   \n",
       "c1nnc(-c2ccc([C@H]3CCCCO3)cc2)s1                    2.058824 -1.592531   \n",
       "c1nnc(-c2cnc(NC[C@@H]3CCNC3)s2)o1                   2.588235 -5.321535   \n",
       "c1oc2c(c1CN1CCCCC1)CC[C@H]2NC1CCCCC1                1.772727 -0.222519   \n",
       "\n",
       "                                                         PC2  \n",
       "smiles                                                        \n",
       "B(OCCOCC1CCCOCC1)[C@@H]1CCCN1                       0.647369  \n",
       "B(OCc1ccccc1)[C@@H]1CCCN1                          -0.329465  \n",
       "B1CCN[CH]C2CCC[C@@H]12                              2.015127  \n",
       "B1OCc2cc(CC3C[C@H](N4CCCCC4)N3)ccc21                0.079675  \n",
       "C(#CC(N=CN1CCC2C3C=CC[C@@H](CC3)C21)c1cncnc1)C1CC1  2.776276  \n",
       "...                                                      ...  \n",
       "c1ncnc([C@@H]2C[C@H]2CN2CCOCC2)n1                  -0.802732  \n",
       "c1nn(CCCCC2CCCCC2)c2c1C[C@H]1C[C@@H]21             -0.038347  \n",
       "c1nnc(-c2ccc([C@H]3CCCCO3)cc2)s1                   -1.009348  \n",
       "c1nnc(-c2cnc(NC[C@@H]3CCNC3)s2)o1                   0.352035  \n",
       "c1oc2c(c1CN1CCCCC1)CC[C@H]2NC1CCCCC1               -1.155492  \n",
       "\n",
       "[11496 rows x 13 columns]"
      ]
     },
     "execution_count": 74,
     "metadata": {},
     "output_type": "execute_result"
    }
   ],
   "source": [
    "allChirScaffDF"
   ]
  },
  {
   "cell_type": "code",
   "execution_count": null,
   "id": "f0961024-72c9-4e81-9458-f0a8bd01bb91",
   "metadata": {},
   "outputs": [
    {
     "data": {
      "text/plain": [
       "array([0.5308354 , 0.22871271])"
      ]
     },
     "execution_count": 75,
     "metadata": {},
     "output_type": "execute_result"
    }
   ],
   "source": [
    "pcascaff.explained_variance_ratio_"
   ]
  },
  {
   "cell_type": "code",
   "execution_count": null,
   "id": "0ec6274c-bd9a-4ec6-aca6-3d80896f043d",
   "metadata": {},
   "outputs": [
    {
     "data": {
      "image/png": "[encoded data removed]",
      "text/plain": [
       "<Figure size 640x480 with 1 Axes>"
      ]
     },
     "metadata": {},
     "output_type": "display_data"
    }
   ],
   "source": [
    "# filtered = pcscaff[pcscaff.scaff.str.contains(\"@\", regex=False)]\n",
    "# grps = filtered.groupby(\"set\")\n",
    "# grpTrain = grps.get_group(\"training\")\n",
    "\n",
    "notations = ['SELFIES','SMILES','fragSMILES']\n",
    "PCs = allChirScaffDF[[\"PC1\",\"PC2\"]]\n",
    "scaffNotations = allChirScaffDF[notations]\n",
    "\n",
    "# plt.scatter(*xy.values, s = 9,color=\"grey\")\n",
    "\n",
    "for i,notation in enumerate(notations[:2]):\n",
    "    filter = [np.nan,np.nan,np.nan]\n",
    "    filter[i]=True\n",
    "    mask=(scaffNotations==filter).any(axis=1)\n",
    "    # grpGen = grps.get_group(f\"generated{seed}\")\n",
    "\n",
    "    xy = PCs[mask].T\n",
    "    plt.scatter(*xy.values, s = 12, alpha=.6, label=notation)\n",
    "\n",
    "plt.xlabel(\"PC 1 (53%)\")\n",
    "plt.ylabel(\"PC 2 (23%)\")\n",
    "plt.legend()\n",
    "fig =plt.gcf()"
   ]
  },
  {
   "cell_type": "raw",
   "id": "8e589b44-e2ff-417f-829b-c8b70af563de",
   "metadata": {},
   "source": [
    "fig.savefig(\"figures/08_scaffSpace.svg\",bbox_inches=\"tight\")\n",
    "fig.savefig(\"figures/08_scaffSpace.png\",bbox_inches=\"tight\")"
   ]
  }
 ],
 "metadata": {
  "kernelspec": {
   "display_name": "Python 3 (ipykernel)",
   "language": "python",
   "name": "python3"
  }
 },
 "nbformat": 4,
 "nbformat_minor": 5
}
