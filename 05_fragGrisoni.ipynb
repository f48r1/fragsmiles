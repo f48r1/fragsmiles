{
 "cells": [
  {
   "cell_type": "code",
   "execution_count": 1,
   "id": "df6c2a40-f375-409c-be3b-2c085f96cffb",
   "metadata": {},
   "outputs": [],
   "source": [
    "import pandas as pd\n",
    "import numpy as np\n",
    "from processer import preprocessSmilesList, fragmentSmilesList, getSelfiesToks, augSmiles\n",
    "from multiprocesspandas import applyparallel\n",
    "from rdkit import Chem"
   ]
  },
  {
   "cell_type": "code",
   "execution_count": 2,
   "id": "f3e29d29-1f67-49ea-9e22-0676557b9019",
   "metadata": {},
   "outputs": [],
   "source": [
    "## these smiles data are provided by grisoni github (BIMODAL work)\n",
    "rawData= pd.read_csv('data/chembl_smiles.tar.xz', \n",
    "                     compression=\"xz\", skipfooter= 1, engine='python').astype(str).squeeze()"
   ]
  },
  {
   "cell_type": "code",
   "execution_count": 3,
   "id": "2b556034-9fc0-4a02-b5cb-48b11283e072",
   "metadata": {},
   "outputs": [
    {
     "data": {
      "text/plain": [
       "0                  CSc1nn(-c2cccc(C)c2)c2cc(C3=CCNCC3)ccc21\n",
       "1                  CSc1nn(-c2cccc(F)c2)c2cc(C3=CCNCC3)ccc21\n",
       "2                  CSc1nn(-c2ccc(C)cc2)c2cc(C3=CCNCC3)ccc21\n",
       "3         O=C(c1ccc2c3c(cnn3C3CCCC3)c(=O)[nH]c2c1)N1CCc2...\n",
       "4         Cc1cc2[nH]c(=O)c3cnn(C4CCOCC4)c3c2cc1C(=O)N1CC...\n",
       "                                ...                        \n",
       "677039    COc1cccc(-c2ccc3c(c2)C2(COC(N)=N2)C2(COC2)C(C)...\n",
       "677040    CC1(C)Oc2ccc(-c3cc(Cl)cnc3F)cc2C2(COC(N)=N2)C1...\n",
       "677041       NC1=NC2(c3cc(-c4cncnc4)ccc3OCC23CC3)C(F)(F)CS1\n",
       "677042    CS(=O)(=O)Nc1ccc(OC[C@@H](O)CN2CCN(c3ccc(Cl)cc...\n",
       "677043    O[C@H](COc1ccc2[nH]ncc2c1)CN1CCN(c2ccc(Cl)cc2)CC1\n",
       "Name: chembl_smiles.csv\u0000\u0000\u0000\u0000\u0000\u0000\u0000\u0000\u0000\u0000\u0000\u0000\u0000\u0000\u0000\u0000\u0000\u0000\u0000\u0000\u0000\u0000\u0000\u0000\u0000\u0000\u0000\u0000\u0000\u0000\u0000\u0000\u0000\u0000\u0000\u0000\u0000\u0000\u0000\u0000\u0000\u0000\u0000\u0000\u0000\u0000\u0000\u0000\u0000\u0000\u0000\u0000\u0000\u0000\u0000\u0000\u0000\u0000\u0000\u0000\u0000\u0000\u0000\u0000\u0000\u0000\u0000\u0000\u0000\u0000\u0000\u0000\u0000\u0000\u0000\u0000\u0000\u0000\u0000\u0000\u0000\u0000\u0000000664 \u0000001750 \u0000001750 \u000000237257540 13547162144 014727\u0000 0\u0000\u0000\u0000\u0000\u0000\u0000\u0000\u0000\u0000\u0000\u0000\u0000\u0000\u0000\u0000\u0000\u0000\u0000\u0000\u0000\u0000\u0000\u0000\u0000\u0000\u0000\u0000\u0000\u0000\u0000\u0000\u0000\u0000\u0000\u0000\u0000\u0000\u0000\u0000\u0000\u0000\u0000\u0000\u0000\u0000\u0000\u0000\u0000\u0000\u0000\u0000\u0000\u0000\u0000\u0000\u0000\u0000\u0000\u0000\u0000\u0000\u0000\u0000\u0000\u0000\u0000\u0000\u0000\u0000\u0000\u0000\u0000\u0000\u0000\u0000\u0000\u0000\u0000\u0000\u0000\u0000\u0000\u0000\u0000\u0000\u0000\u0000\u0000\u0000\u0000\u0000\u0000\u0000\u0000\u0000\u0000\u0000\u0000\u0000\u0000ustar\u000000robin\u0000\u0000\u0000\u0000\u0000\u0000\u0000\u0000\u0000\u0000\u0000\u0000\u0000\u0000\u0000\u0000\u0000\u0000\u0000\u0000\u0000\u0000\u0000\u0000\u0000\u0000\u0000robin\u0000\u0000\u0000\u0000\u0000\u0000\u0000\u0000\u0000\u0000\u0000\u0000\u0000\u0000\u0000\u0000\u0000\u0000\u0000\u0000\u0000\u0000\u0000\u0000\u0000\u0000\u0000000000 \u0000000000 \u0000\u0000\u0000\u0000\u0000\u0000\u0000\u0000\u0000\u0000\u0000\u0000\u0000\u0000\u0000\u0000\u0000\u0000\u0000\u0000\u0000\u0000\u0000\u0000\u0000\u0000\u0000\u0000\u0000\u0000\u0000\u0000\u0000\u0000\u0000\u0000\u0000\u0000\u0000\u0000\u0000\u0000\u0000\u0000\u0000\u0000\u0000\u0000\u0000\u0000\u0000\u0000\u0000\u0000\u0000\u0000\u0000\u0000\u0000\u0000\u0000\u0000\u0000\u0000\u0000\u0000\u0000\u0000\u0000\u0000\u0000\u0000\u0000\u0000\u0000\u0000\u0000\u0000\u0000\u0000\u0000\u0000\u0000\u0000\u0000\u0000\u0000\u0000\u0000\u0000\u0000\u0000\u0000\u0000\u0000\u0000\u0000\u0000\u0000\u0000\u0000\u0000\u0000\u0000\u0000\u0000\u0000\u0000\u0000\u0000\u0000\u0000\u0000\u0000\u0000\u0000\u0000\u0000\u0000\u0000\u0000\u0000\u0000\u0000\u0000\u0000\u0000\u0000\u0000\u0000\u0000\u0000\u0000\u0000\u0000\u0000\u0000\u0000\u0000\u0000\u0000\u0000\u0000\u0000\u0000\u0000\u0000\u0000\u0000\u0000\u0000\u0000\u0000\u0000\u0000\u0000\u0000\u0000\u0000\u0000\u0000\u0000\u0000\u0000\u0000\u0000\u0000\u0000, Length: 677044, dtype: object"
      ]
     },
     "execution_count": 3,
     "metadata": {},
     "output_type": "execute_result"
    }
   ],
   "source": [
    "rawData"
   ]
  },
  {
   "cell_type": "code",
   "execution_count": 4,
   "id": "2403fa41-4ead-40f0-adaa-e96ac23dfed2",
   "metadata": {},
   "outputs": [
    {
     "name": "stderr",
     "output_type": "stream",
     "text": [
      "100%|███████████████████████████████████████████████████████████████████████████████████████████████████████████████████████████████████████████████████████████████████████████████████████████████████████████████████████████████| 677044/677044 [00:01<00:00, 439302.86it/s]\n"
     ]
    }
   ],
   "source": [
    "prepData = preprocessSmilesList(rawData)"
   ]
  },
  {
   "cell_type": "code",
   "execution_count": 5,
   "id": "09d10c81-3754-471e-925c-c04ef757a6a0",
   "metadata": {},
   "outputs": [
    {
     "data": {
      "text/plain": [
       "(340301,)"
      ]
     },
     "execution_count": 5,
     "metadata": {},
     "output_type": "execute_result"
    }
   ],
   "source": [
    "# so much data are discarded. Optical stereochemical is kept\n",
    "prepData.shape"
   ]
  },
  {
   "cell_type": "raw",
   "id": "3aa0df68-8c3a-4705-b561-13e1b39abdec",
   "metadata": {},
   "source": [
    "Files are stored in a directory employed for experiments"
   ]
  },
  {
   "cell_type": "code",
   "execution_count": 6,
   "id": "4a230e6c-6a75-4a5b-b33e-7779b6cd2b5f",
   "metadata": {},
   "outputs": [],
   "source": [
    "pathData = \"experiments/data/\""
   ]
  },
  {
   "cell_type": "code",
   "execution_count": 7,
   "id": "36453de0-3c64-4013-a18b-57637e6ec7c7",
   "metadata": {},
   "outputs": [
    {
     "name": "stderr",
     "output_type": "stream",
     "text": [
      "100%|███████████████████████████████████████████████████████████████████████████████████████████████████████████████████████████████████████████████████████████████████████████████████████████████████████████████████████████████| 340301/340301 [00:01<00:00, 327686.00it/s]\n",
      "100%|████████████████████████████████████████████████████████████████████████████████████████████████████████████████████████████████████████████████████████████████████████████████████████████████████████████████████████████████| 340301/340301 [00:08<00:00, 39054.63it/s]\n"
     ]
    }
   ],
   "source": [
    "grisoni_fragSmiles = fragmentSmilesList(prepData)"
   ]
  },
  {
   "cell_type": "code",
   "execution_count": 8,
   "id": "d38e6225-92cb-4a26-9ba7-bc3875274bd0",
   "metadata": {},
   "outputs": [],
   "source": [
    "grisoni_fragSmiles_10_32 = grisoni_fragSmiles.query('nToks >=10 and nToks<=32')"
   ]
  },
  {
   "cell_type": "code",
   "execution_count": 9,
   "metadata": {},
   "outputs": [
    {
     "name": "stderr",
     "output_type": "stream",
     "text": [
      "100%|███████████████████████████████████████████████████████████████████████████████████████████████████████████████████████████████████████████████████████████████████████████████████████████████████████████████████████████████| 270408/270408 [00:00<00:00, 447856.17it/s]\n"
     ]
    }
   ],
   "source": [
    "grisoni_train = grisoni_fragSmiles_10_32.copy()\n",
    "grisoni_train.rename(columns={'tokens':'fragsmiles'},inplace=True)\n",
    "grisoni_train.drop(columns='nToks', inplace=True)\n",
    "grisoni_train['selfies']=grisoni_train['smiles'].apply_parallel(getSelfiesToks, num_processes=30)"
   ]
  },
  {
   "cell_type": "raw",
   "metadata": {},
   "source": [
    "grisoni_train.to_csv(pathData+\"grisoni_train.tar.xz\", compression=\"xz\", index=False)"
   ]
  },
  {
   "cell_type": "code",
   "execution_count": null,
   "id": "d9ca08ea-83ca-4a60-8685-4c4ce9c4280e",
   "metadata": {},
   "outputs": [],
   "source": []
  },
  {
   "cell_type": "code",
   "execution_count": null,
   "id": "2bb4f50a-3169-4206-a93d-6540e1bb8cdf",
   "metadata": {},
   "outputs": [
    {
     "data": {
      "text/html": [
       "<div>\n",
       "<style scoped>\n",
       "    .dataframe tbody tr th:only-of-type {\n",
       "        vertical-align: middle;\n",
       "    }\n",
       "\n",
       "    .dataframe tbody tr th {\n",
       "        vertical-align: top;\n",
       "    }\n",
       "\n",
       "    .dataframe thead th {\n",
       "        text-align: right;\n",
       "    }\n",
       "</style>\n",
       "<table border=\"1\" class=\"dataframe\">\n",
       "  <thead>\n",
       "    <tr style=\"text-align: right;\">\n",
       "      <th></th>\n",
       "      <th>smiles</th>\n",
       "      <th>fragsmiles</th>\n",
       "      <th>selfies</th>\n",
       "    </tr>\n",
       "  </thead>\n",
       "  <tbody>\n",
       "    <tr>\n",
       "      <th>0</th>\n",
       "      <td>CSc1nn(-c2cccc(C)c2)c2cc(C3=CCNCC3)ccc12</td>\n",
       "      <td>(C, S, &lt;6&gt;, c1ccc2[nH]ncc2c1, &lt;4&gt;, &lt;1&gt;, (, &lt;0&gt;...</td>\n",
       "      <td>([C], [S], [C], [=N], [N], [Branch1], [N], [C]...</td>\n",
       "    </tr>\n",
       "    <tr>\n",
       "      <th>1</th>\n",
       "      <td>CSc1nn(-c2cccc(F)c2)c2cc(C3=CCNCC3)ccc12</td>\n",
       "      <td>(C, S, &lt;6&gt;, c1ccc2[nH]ncc2c1, &lt;4&gt;, &lt;1&gt;, (, &lt;0&gt;...</td>\n",
       "      <td>([C], [S], [C], [=N], [N], [Branch1], [N], [C]...</td>\n",
       "    </tr>\n",
       "    <tr>\n",
       "      <th>2</th>\n",
       "      <td>CSc1nn(-c2ccc(C)cc2)c2cc(C3=CCNCC3)ccc12</td>\n",
       "      <td>(C, S, &lt;6&gt;, c1ccc2[nH]ncc2c1, &lt;4&gt;, &lt;1&gt;, (, &lt;0&gt;...</td>\n",
       "      <td>([C], [S], [C], [=N], [N], [Branch1], [N], [C]...</td>\n",
       "    </tr>\n",
       "    <tr>\n",
       "      <th>3</th>\n",
       "      <td>O=C(c1ccc2c(c1)[nH]c(=O)c1cnn(C3CCCC3)c12)N1CC...</td>\n",
       "      <td>(Cl, &lt;0&gt;, c1ccc2c(c1)CCN2, &lt;8&gt;, C=O, &lt;5&gt;, O=c1...</td>\n",
       "      <td>([O], [=C], [Branch2], [Ring2], [C], [C], [=C]...</td>\n",
       "    </tr>\n",
       "    <tr>\n",
       "      <th>4</th>\n",
       "      <td>Cc1cc2[nH]c(=O)c3cnn(C4CCOCC4)c3c2cc1C(=O)N1CC...</td>\n",
       "      <td>(C, &lt;5&gt;, O=c1[nH]c2ccccc2c2[nH]ncc12, &lt;6&gt;, &lt;10...</td>\n",
       "      <td>([C], [C], [=C], [C], [NH1], [C], [=Branch1], ...</td>\n",
       "    </tr>\n",
       "    <tr>\n",
       "      <th>...</th>\n",
       "      <td>...</td>\n",
       "      <td>...</td>\n",
       "      <td>...</td>\n",
       "    </tr>\n",
       "    <tr>\n",
       "      <th>677034</th>\n",
       "      <td>OC[C@@H]1CCCN1Cc1nc2ccccc2n1Cc1ccc(Cl)cc1</td>\n",
       "      <td>(O, C, &lt;4S&gt;, C1CCNC1, &lt;3&gt;, C, &lt;5&gt;, c1ccc2[nH]c...</td>\n",
       "      <td>([O], [C], [C@@H1], [C], [C], [C], [N], [Ring1...</td>\n",
       "    </tr>\n",
       "    <tr>\n",
       "      <th>677035</th>\n",
       "      <td>Cc1ccc2nc(CN3CCCC3)n(Cc3ccc(Cl)cc3)c2c1</td>\n",
       "      <td>(C1CCNC1, &lt;3&gt;, C, &lt;5&gt;, c1ccc2[nH]cnc2c1, &lt;4&gt;, ...</td>\n",
       "      <td>([C], [C], [=C], [C], [=C], [N], [=C], [Branch...</td>\n",
       "    </tr>\n",
       "    <tr>\n",
       "      <th>677041</th>\n",
       "      <td>NC1=NC2(c3cc(-c4cncnc4)ccc3OCC23CC3)C(F)(F)CS1</td>\n",
       "      <td>(F, &lt;3&gt;, C1=NC2(CCS1)c1ccccc1OCC21CC1, &lt;0&gt;, &lt;3...</td>\n",
       "      <td>([N], [C], [=N], [C], [Branch2], [Ring1], [N],...</td>\n",
       "    </tr>\n",
       "    <tr>\n",
       "      <th>677042</th>\n",
       "      <td>CS(=O)(=O)Nc1ccc(OC[C@@H](O)CN2CCN(c3ccc(Cl)cc...</td>\n",
       "      <td>(Cl, &lt;3&gt;, c1ccccc1, &lt;0&gt;, &lt;5&gt;, C1CNCCN1, &lt;2&gt;, C...</td>\n",
       "      <td>([C], [S], [=Branch1], [C], [=O], [=Branch1], ...</td>\n",
       "    </tr>\n",
       "    <tr>\n",
       "      <th>677043</th>\n",
       "      <td>O[C@H](COc1ccc2[nH]ncc2c1)CN1CCN(c2ccc(Cl)cc2)CC1</td>\n",
       "      <td>(c1ccc2[nH]ncc2c1, &lt;0&gt;, O, C, C|S, (, O, ), C,...</td>\n",
       "      <td>([O], [C@H1], [Branch1], [S], [C], [O], [C], [...</td>\n",
       "    </tr>\n",
       "  </tbody>\n",
       "</table>\n",
       "<p>270408 rows × 3 columns</p>\n",
       "</div>"
      ],
      "text/plain": [
       "                                                   smiles  ...                                            selfies\n",
       "0                CSc1nn(-c2cccc(C)c2)c2cc(C3=CCNCC3)ccc12  ...  ([C], [S], [C], [=N], [N], [Branch1], [N], [C]...\n",
       "1                CSc1nn(-c2cccc(F)c2)c2cc(C3=CCNCC3)ccc12  ...  ([C], [S], [C], [=N], [N], [Branch1], [N], [C]...\n",
       "2                CSc1nn(-c2ccc(C)cc2)c2cc(C3=CCNCC3)ccc12  ...  ([C], [S], [C], [=N], [N], [Branch1], [N], [C]...\n",
       "3       O=C(c1ccc2c(c1)[nH]c(=O)c1cnn(C3CCCC3)c12)N1CC...  ...  ([O], [=C], [Branch2], [Ring2], [C], [C], [=C]...\n",
       "4       Cc1cc2[nH]c(=O)c3cnn(C4CCOCC4)c3c2cc1C(=O)N1CC...  ...  ([C], [C], [=C], [C], [NH1], [C], [=Branch1], ...\n",
       "...                                                   ...  ...                                                ...\n",
       "677034          OC[C@@H]1CCCN1Cc1nc2ccccc2n1Cc1ccc(Cl)cc1  ...  ([O], [C], [C@@H1], [C], [C], [C], [N], [Ring1...\n",
       "677035            Cc1ccc2nc(CN3CCCC3)n(Cc3ccc(Cl)cc3)c2c1  ...  ([C], [C], [=C], [C], [=C], [N], [=C], [Branch...\n",
       "677041     NC1=NC2(c3cc(-c4cncnc4)ccc3OCC23CC3)C(F)(F)CS1  ...  ([N], [C], [=N], [C], [Branch2], [Ring1], [N],...\n",
       "677042  CS(=O)(=O)Nc1ccc(OC[C@@H](O)CN2CCN(c3ccc(Cl)cc...  ...  ([C], [S], [=Branch1], [C], [=O], [=Branch1], ...\n",
       "677043  O[C@H](COc1ccc2[nH]ncc2c1)CN1CCN(c2ccc(Cl)cc2)CC1  ...  ([O], [C@H1], [Branch1], [S], [C], [O], [C], [...\n",
       "\n",
       "[270408 rows x 3 columns]"
      ]
     },
     "execution_count": 9,
     "metadata": {},
     "output_type": "execute_result"
    }
   ],
   "source": [
    "grisoni_train"
   ]
  },
  {
   "cell_type": "code",
   "execution_count": 10,
   "id": "7665727e-a22a-40ed-8521-b5ab99cc2397",
   "metadata": {},
   "outputs": [
    {
     "name": "stderr",
     "output_type": "stream",
     "text": [
      "100%|███████████████████████████████████████████████████████████████████████████████████████████████████████████████████████████████████████████████████████████████████████████████████████████████████████████████████████████████| 270408/270408 [00:00<00:00, 302061.84it/s]\n",
      "100%|██████████████████████████████████████████████████████████████████████████████████████████████████████████████████████████████████████████████████████████████████████████████████████████████████████████████████████████████| 1352040/1352040 [00:44<00:00, 30183.49it/s]\n"
     ]
    }
   ],
   "source": [
    "grisoni_fragSmilesAug5 = fragmentSmilesList( grisoni_train[\"smiles\"], augmentation=5 )"
   ]
  },
  {
   "cell_type": "code",
   "execution_count": 11,
   "metadata": {},
   "outputs": [
    {
     "name": "stderr",
     "output_type": "stream",
     "text": [
      "100%|███████████████████████████████████████████████████████████████████████████████████████████████████████████████████████████████████████████████████████████████████████████████████████████████████████████████████████████████| 270408/270408 [00:00<00:00, 371896.33it/s]\n"
     ]
    }
   ],
   "source": [
    "grisoni_SmilesAug5 = grisoni_train[\"smiles\"].apply_parallel(augSmiles)\n",
    "grisoni_SmilesAug5 = grisoni_SmilesAug5.explode()"
   ]
  },
  {
   "cell_type": "code",
   "execution_count": 12,
   "metadata": {},
   "outputs": [],
   "source": [
    "grisoni_trainAug5 = grisoni_SmilesAug5.to_frame(name='smiles')"
   ]
  },
  {
   "cell_type": "code",
   "execution_count": 13,
   "metadata": {},
   "outputs": [],
   "source": [
    "grisoni_trainAug5['fragsmiles']=grisoni_fragSmilesAug5['tokens']"
   ]
  },
  {
   "cell_type": "code",
   "execution_count": 14,
   "metadata": {},
   "outputs": [
    {
     "name": "stderr",
     "output_type": "stream",
     "text": [
      "100%|█████████████████████████████████████████████████████████████████████████████████████████████████████████████████████████████████████████████████████████████████████████████████████████████████████████████████████████████| 1352040/1352040 [00:03<00:00, 345763.14it/s]\n"
     ]
    }
   ],
   "source": [
    "grisoni_trainAug5['selfies']=grisoni_trainAug5['smiles'].apply_parallel(getSelfiesToks, num_processes=30)"
   ]
  },
  {
   "cell_type": "code",
   "execution_count": 17,
   "metadata": {},
   "outputs": [
    {
     "data": {
      "text/plain": [
       "Index([     3,      6,      8,    102,    233,    234,    235,    236,    239,\n",
       "          240,\n",
       "       ...\n",
       "       676851, 676852, 676853, 676854, 676912, 676924, 677023, 677025, 677033,\n",
       "       677034],\n",
       "      dtype='int64', length=61870)"
      ]
     },
     "execution_count": 17,
     "metadata": {},
     "output_type": "execute_result"
    }
   ],
   "source": [
    "## some molecules cant be represented more than 1/2/3 fragSmiles representation\n",
    "## specifically 61,870\n",
    "grisoni_trainAug5[grisoni_trainAug5.isnull().any(axis=1)].index.unique()"
   ]
  },
  {
   "cell_type": "raw",
   "id": "fe2a299f-2bbf-4e6c-9e55-48566471af76",
   "metadata": {},
   "source": [
    "grisoni_trainAug5.to_csv(pathData+\"grisoni_trainAug5.tar.xz\", compression=\"xz\", index=False)"
   ]
  },
  {
   "cell_type": "code",
   "execution_count": null,
   "id": "52a5cad2-ebf6-41ef-91bf-550dbb7f1bd3",
   "metadata": {},
   "outputs": [],
   "source": []
  },
  {
   "cell_type": "code",
   "execution_count": null,
   "id": "8232398c-7fa8-4f3d-b54f-ea01ea690049",
   "metadata": {},
   "outputs": [],
   "source": [
    "from sklearn.model_selection import KFold"
   ]
  },
  {
   "cell_type": "code",
   "execution_count": 41,
   "metadata": {},
   "outputs": [],
   "source": [
    "def saveSplittedDataset(dataset, suffix=''):\n",
    "\n",
    "    indexes = dataset.index.unique()\n",
    "\n",
    "    kf=KFold(n_splits=5, shuffle=True, random_state=0)\n",
    "\n",
    "    kf = kf.split( indexes )\n",
    "\n",
    "    for fold,(trainIdx,testIdx) in enumerate(kf):\n",
    "        train = dataset.loc[indexes[trainIdx]]\n",
    "        test = dataset.loc[indexes[testIdx]]\n",
    "\n",
    "        train.to_csv(pathData+f\"grisoni_train{suffix}_{fold}.tar.xz\", compression=\"xz\", index=False)\n",
    "        test.to_csv(pathData+f\"grisoni_test{suffix}_{fold}.tar.xz\", compression=\"xz\", index=False)"
   ]
  },
  {
   "cell_type": "code",
   "execution_count": null,
   "id": "d19250cb-5617-47a1-8fc9-08698ad60d06",
   "metadata": {},
   "outputs": [],
   "source": [
    "saveSplittedDataset(grisoni_train)"
   ]
  },
  {
   "cell_type": "code",
   "execution_count": null,
   "id": "5ead0441-c624-4979-8571-9af7b17c2e79",
   "metadata": {},
   "outputs": [],
   "source": [
    "saveSplittedDataset(grisoni_trainAug5, suffix='Aug5')"
   ]
  }
 ],
 "metadata": {
  "kernelspec": {
   "display_name": "Python 3 (ipykernel)",
   "language": "python",
   "name": "python3"
  }
 },
 "nbformat": 4,
 "nbformat_minor": 5
}
