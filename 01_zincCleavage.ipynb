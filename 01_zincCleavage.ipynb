{
 "cells": [
  {
   "cell_type": "code",
   "execution_count": 1,
   "id": "257acbdd-0a16-4cb8-bf73-4ac3f0481003",
   "metadata": {},
   "outputs": [],
   "source": [
    "import pandas as pd\n",
    "import numpy as np\n",
    "from src.processer import fragmentSmiles, preprocessSmiles, applyFncPool"
   ]
  },
  {
   "cell_type": "markdown",
   "id": "398e1077-f71d-4611-bcb0-048733f0ffa5",
   "metadata": {},
   "source": [
    "# Zinc data"
   ]
  },
  {
   "cell_type": "code",
   "execution_count": 2,
   "id": "3d10cb90-d4d7-49e2-9007-e59332ed82e8",
   "metadata": {},
   "outputs": [],
   "source": [
    "# this .csv is just one of the elaborated dataset\n",
    "rawData=np.loadtxt(\"rawdata/zinc.csv\", skiprows=1, dtype=str,comments=None)"
   ]
  },
  {
   "cell_type": "code",
   "execution_count": 3,
   "id": "b8dcc1d4-8415-4f4a-a5cd-1cbb5add0a89",
   "metadata": {},
   "outputs": [
    {
     "data": {
      "text/plain": [
       "array(['CC(C)(C)c1ccc2occ(CC(=O)Nc3ccccc3F)c2c1',\n",
       "       'C[C@@H]1CC(Nc2cncc(-c3nncn3C)c2)C[C@@H](C)C1',\n",
       "       'N#Cc1ccc(-c2ccc(O[C@@H](C(=O)N3CCCC3)c3ccccc3)cc2)cc1', ...,\n",
       "       'Cc1ccc(NC(=O)C(=O)N(C)Cc2ccccc2)c(C)c1',\n",
       "       'Cc1cc(C(=O)Nc2ccc(OCC(N)=O)cc2)c(C)n1C1CC1',\n",
       "       'O=C(CC(c1ccccc1)c1ccccc1)N1CCN(S(=O)(=O)c2ccccc2[N+](=O)[O-])CC1'],\n",
       "      dtype='<U120')"
      ]
     },
     "execution_count": 3,
     "metadata": {},
     "output_type": "execute_result"
    }
   ],
   "source": [
    "rawData"
   ]
  },
  {
   "cell_type": "code",
   "execution_count": 4,
   "id": "37b95a53",
   "metadata": {},
   "outputs": [],
   "source": [
    "prepData = pd.Series ( applyFncPool(rawData, fnc = preprocessSmiles) )"
   ]
  },
  {
   "cell_type": "code",
   "execution_count": 5,
   "id": "52bda76e",
   "metadata": {},
   "outputs": [],
   "source": [
    "prepData.dropna(inplace=True)\n",
    "prepData.drop_duplicates(keep='first', inplace=True)"
   ]
  },
  {
   "cell_type": "code",
   "execution_count": 6,
   "metadata": {},
   "outputs": [
    {
     "data": {
      "text/plain": [
       "249414"
      ]
     },
     "execution_count": 6,
     "metadata": {},
     "output_type": "execute_result"
    }
   ],
   "source": [
    "prepData.size"
   ]
  },
  {
   "cell_type": "code",
   "execution_count": 7,
   "id": "22dcd5e5",
   "metadata": {},
   "outputs": [],
   "source": [
    "zincT = pd.Series ( applyFncPool(prepData, fnc = fragmentSmiles), index = prepData.index )"
   ]
  },
  {
   "cell_type": "code",
   "execution_count": 8,
   "id": "8682f890",
   "metadata": {},
   "outputs": [],
   "source": [
    "zincT.name = 'tokens'\n",
    "prepData.name = 'smiles'"
   ]
  },
  {
   "cell_type": "code",
   "execution_count": 9,
   "id": "298b6116",
   "metadata": {},
   "outputs": [],
   "source": [
    "zincT_full = pd.concat([prepData, zincT], axis=1)"
   ]
  },
  {
   "cell_type": "code",
   "execution_count": 10,
   "id": "5eb4e877",
   "metadata": {},
   "outputs": [],
   "source": [
    "zincT_full['length'] = zincT_full['tokens'].apply(lambda x: len(x.split(' ')))"
   ]
  },
  {
   "cell_type": "code",
   "execution_count": 11,
   "id": "f23a3db8",
   "metadata": {},
   "outputs": [],
   "source": [
    "## filtering molecule composed by only 1 fragment (tokens length == 1)\n",
    "zincT_full = zincT_full.query('length > 1')"
   ]
  },
  {
   "cell_type": "raw",
   "id": "e51e3192-ef1e-46bb-b34e-84e2a09e5c7f",
   "metadata": {
    "vscode": {
     "languageId": "raw"
    }
   },
   "source": [
    "# if you prefer to save tokenized data\n",
    "zincT_full.to_csv(\"data/01_zincToks.csv\", index=False)"
   ]
  },
  {
   "cell_type": "markdown",
   "id": "7d939fa7",
   "metadata": {
    "vscode": {
     "languageId": "raw"
    }
   },
   "source": [
    "## GoF tool can dempose by a customize SMARTS for cleavage pattern. Here, the rotatable pattern is adopted"
   ]
  },
  {
   "cell_type": "code",
   "execution_count": 12,
   "metadata": {},
   "outputs": [],
   "source": [
    "from functools import partial"
   ]
  },
  {
   "cell_type": "code",
   "execution_count": 13,
   "metadata": {},
   "outputs": [],
   "source": [
    "from chemicalgof import Smiles2GoF\n",
    "smartsRotatable=\"[!$(*#*)&!D1]-!@[!$(*#*)&!D1]\"\n",
    "decomposeSmilesByRotatable = partial(Smiles2GoF, pattBonds = smartsRotatable)\n",
    "fragmentSmilesByRotatable = partial(fragmentSmiles, fncDecompose = decomposeSmilesByRotatable)"
   ]
  },
  {
   "cell_type": "code",
   "execution_count": 14,
   "id": "2720c17d",
   "metadata": {},
   "outputs": [],
   "source": [
    "zincRotatable = pd.Series ( applyFncPool(prepData, fnc = fragmentSmilesByRotatable), index = prepData.index )"
   ]
  },
  {
   "cell_type": "code",
   "execution_count": 15,
   "id": "11e19143",
   "metadata": {},
   "outputs": [],
   "source": [
    "zincRotatable.name = 'tokens'"
   ]
  },
  {
   "cell_type": "code",
   "execution_count": 16,
   "id": "f31cfe38",
   "metadata": {},
   "outputs": [],
   "source": [
    "zincRotatable_full = pd.concat([prepData, zincRotatable], axis=1)"
   ]
  },
  {
   "cell_type": "code",
   "execution_count": 17,
   "id": "b2abb6a4",
   "metadata": {},
   "outputs": [],
   "source": [
    "zincRotatable_full['length'] = zincRotatable_full['tokens'].apply(lambda x: len(x.split(' ')))"
   ]
  },
  {
   "cell_type": "code",
   "execution_count": 18,
   "id": "e8b541ab",
   "metadata": {},
   "outputs": [],
   "source": [
    "## filtering molecules composed by only 1 fragment (tokens length == 1)\n",
    "zincRotatable_full = zincRotatable_full.query('length > 1')"
   ]
  },
  {
   "cell_type": "code",
   "execution_count": 19,
   "id": "1b106ff3",
   "metadata": {},
   "outputs": [
    {
     "data": {
      "text/html": [
       "<div>\n",
       "<style scoped>\n",
       "    .dataframe tbody tr th:only-of-type {\n",
       "        vertical-align: middle;\n",
       "    }\n",
       "\n",
       "    .dataframe tbody tr th {\n",
       "        vertical-align: top;\n",
       "    }\n",
       "\n",
       "    .dataframe thead th {\n",
       "        text-align: right;\n",
       "    }\n",
       "</style>\n",
       "<table border=\"1\" class=\"dataframe\">\n",
       "  <thead>\n",
       "    <tr style=\"text-align: right;\">\n",
       "      <th></th>\n",
       "      <th>smiles</th>\n",
       "      <th>tokens</th>\n",
       "      <th>length</th>\n",
       "    </tr>\n",
       "  </thead>\n",
       "  <tbody>\n",
       "    <tr>\n",
       "      <th>0</th>\n",
       "      <td>CC(C)(C)c1ccc2occ(CC(=O)Nc3ccccc3F)c2c1</td>\n",
       "      <td>CC(C)C &lt;1&gt; &lt;0&gt; c1ccc2occc2c1 &lt;6&gt; C C=O N &lt;2&gt; F...</td>\n",
       "      <td>10</td>\n",
       "    </tr>\n",
       "    <tr>\n",
       "      <th>1</th>\n",
       "      <td>C[C@@H]1CC(Nc2cncc(-c3nncn3C)c2)C[C@@H](C)C1</td>\n",
       "      <td>Cn1cnnc1 &lt;2&gt; &lt;5&gt; c1ccncc1 &lt;1&gt; N &lt;3&gt; CC1CCCC(C)...</td>\n",
       "      <td>8</td>\n",
       "    </tr>\n",
       "    <tr>\n",
       "      <th>2</th>\n",
       "      <td>N#Cc1ccc(-c2ccc(O[C@@H](C(=O)N3CCCC3)c3ccccc3)...</td>\n",
       "      <td>C1CCNC1 &lt;3&gt; C=O C|R ( &lt;0&gt; c1ccccc1 ) O &lt;3&gt; c1c...</td>\n",
       "      <td>14</td>\n",
       "    </tr>\n",
       "    <tr>\n",
       "      <th>3</th>\n",
       "      <td>CCOC(=O)[C@@H]1CCCN(C(=O)c2nc(-c3ccc(C)cc3)n3c...</td>\n",
       "      <td>CC &lt;0&gt; O C=O &lt;1R&gt; C1CCNCC1 &lt;3&gt; C=O &lt;0&gt; c1ncn2c...</td>\n",
       "      <td>13</td>\n",
       "    </tr>\n",
       "    <tr>\n",
       "      <th>4</th>\n",
       "      <td>N#CC1=C(SCC(=O)Nc2cccc(Cl)c2)N=C(O)[C@H](C#N)C...</td>\n",
       "      <td>Clc1ccccc1 &lt;3&gt; N C=O C S &lt;3&gt; N#CC1=CN=C(O)C(C#...</td>\n",
       "      <td>8</td>\n",
       "    </tr>\n",
       "    <tr>\n",
       "      <th>...</th>\n",
       "      <td>...</td>\n",
       "      <td>...</td>\n",
       "      <td>...</td>\n",
       "    </tr>\n",
       "    <tr>\n",
       "      <th>249451</th>\n",
       "      <td>CC1(C)CC[C@H](CNC(=O)Cn2ncc3ccccc3c2=O)c2ccccc21</td>\n",
       "      <td>CC1(C)CCCc2ccccc21 &lt;5S&gt; C N C=O C &lt;2&gt; O=c1[nH]...</td>\n",
       "      <td>8</td>\n",
       "    </tr>\n",
       "    <tr>\n",
       "      <th>249452</th>\n",
       "      <td>Cn1ccnc1C(=O)c1ccc(NC(=O)C2CCN(C(=O)C(C)(C)C)C...</td>\n",
       "      <td>CC(C)C &lt;1&gt; C=O &lt;3&gt; C1CCNCC1 &lt;0&gt; C=O N &lt;3&gt; c1cc...</td>\n",
       "      <td>14</td>\n",
       "    </tr>\n",
       "    <tr>\n",
       "      <th>249453</th>\n",
       "      <td>Cc1ccc(NC(=O)C(=O)N(C)Cc2ccccc2)c(C)c1</td>\n",
       "      <td>c1ccccc1 &lt;0&gt; C &lt;1&gt; CN &lt;1&gt; C=O C=O N &lt;4&gt; Cc1ccc...</td>\n",
       "      <td>11</td>\n",
       "    </tr>\n",
       "    <tr>\n",
       "      <th>249454</th>\n",
       "      <td>Cc1cc(C(=O)Nc2ccc(OCC(N)=O)cc2)c(C)n1C1CC1</td>\n",
       "      <td>NC=O &lt;1&gt; C O &lt;3&gt; c1ccccc1 &lt;0&gt; N C=O &lt;3&gt; Cc1ccc...</td>\n",
       "      <td>14</td>\n",
       "    </tr>\n",
       "    <tr>\n",
       "      <th>249455</th>\n",
       "      <td>O=C(CC(c1ccccc1)c1ccccc1)N1CCN(S(=O)(=O)c2cccc...</td>\n",
       "      <td>c1ccccc1 &lt;0&gt; C ( &lt;0&gt; c1ccccc1 ) C C=O &lt;2&gt; C1CN...</td>\n",
       "      <td>17</td>\n",
       "    </tr>\n",
       "  </tbody>\n",
       "</table>\n",
       "<p>248550 rows × 3 columns</p>\n",
       "</div>"
      ],
      "text/plain": [
       "                                                   smiles  \\\n",
       "0                 CC(C)(C)c1ccc2occ(CC(=O)Nc3ccccc3F)c2c1   \n",
       "1            C[C@@H]1CC(Nc2cncc(-c3nncn3C)c2)C[C@@H](C)C1   \n",
       "2       N#Cc1ccc(-c2ccc(O[C@@H](C(=O)N3CCCC3)c3ccccc3)...   \n",
       "3       CCOC(=O)[C@@H]1CCCN(C(=O)c2nc(-c3ccc(C)cc3)n3c...   \n",
       "4       N#CC1=C(SCC(=O)Nc2cccc(Cl)c2)N=C(O)[C@H](C#N)C...   \n",
       "...                                                   ...   \n",
       "249451   CC1(C)CC[C@H](CNC(=O)Cn2ncc3ccccc3c2=O)c2ccccc21   \n",
       "249452  Cn1ccnc1C(=O)c1ccc(NC(=O)C2CCN(C(=O)C(C)(C)C)C...   \n",
       "249453             Cc1ccc(NC(=O)C(=O)N(C)Cc2ccccc2)c(C)c1   \n",
       "249454         Cc1cc(C(=O)Nc2ccc(OCC(N)=O)cc2)c(C)n1C1CC1   \n",
       "249455  O=C(CC(c1ccccc1)c1ccccc1)N1CCN(S(=O)(=O)c2cccc...   \n",
       "\n",
       "                                                   tokens  length  \n",
       "0       CC(C)C <1> <0> c1ccc2occc2c1 <6> C C=O N <2> F...      10  \n",
       "1       Cn1cnnc1 <2> <5> c1ccncc1 <1> N <3> CC1CCCC(C)...       8  \n",
       "2       C1CCNC1 <3> C=O C|R ( <0> c1ccccc1 ) O <3> c1c...      14  \n",
       "3       CC <0> O C=O <1R> C1CCNCC1 <3> C=O <0> c1ncn2c...      13  \n",
       "4       Clc1ccccc1 <3> N C=O C S <3> N#CC1=CN=C(O)C(C#...       8  \n",
       "...                                                   ...     ...  \n",
       "249451  CC1(C)CCCc2ccccc21 <5S> C N C=O C <2> O=c1[nH]...       8  \n",
       "249452  CC(C)C <1> C=O <3> C1CCNCC1 <0> C=O N <3> c1cc...      14  \n",
       "249453  c1ccccc1 <0> C <1> CN <1> C=O C=O N <4> Cc1ccc...      11  \n",
       "249454  NC=O <1> C O <3> c1ccccc1 <0> N C=O <3> Cc1ccc...      14  \n",
       "249455  c1ccccc1 <0> C ( <0> c1ccccc1 ) C C=O <2> C1CN...      17  \n",
       "\n",
       "[248550 rows x 3 columns]"
      ]
     },
     "execution_count": 19,
     "metadata": {},
     "output_type": "execute_result"
    }
   ],
   "source": [
    "zincRotatable_full"
   ]
  },
  {
   "cell_type": "raw",
   "id": "2cafc610-9016-4586-a58a-1943508918f6",
   "metadata": {
    "vscode": {
     "languageId": "raw"
    }
   },
   "source": [
    "# if you prefer to save tokenized data\n",
    "zincRotatable_full.to_csv(\"data/01_zincRotatableToks.csv\", index=False)"
   ]
  }
 ],
 "metadata": {
  "kernelspec": {
   "display_name": "Python 3 (ipykernel)",
   "language": "python",
   "name": "python3"
  },
  "language_info": {
   "codemirror_mode": {
    "name": "ipython",
    "version": 3
   },
   "file_extension": ".py",
   "mimetype": "text/x-python",
   "name": "python",
   "nbconvert_exporter": "python",
   "pygments_lexer": "ipython3",
   "version": "3.11.9"
  }
 },
 "nbformat": 4,
 "nbformat_minor": 5
}
