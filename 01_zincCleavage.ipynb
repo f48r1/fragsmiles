{
 "cells": [
  {
   "cell_type": "code",
   "execution_count": 1,
   "id": "257acbdd-0a16-4cb8-bf73-4ac3f0481003",
   "metadata": {},
   "outputs": [],
   "source": [
    "import pandas as pd\n",
    "import numpy as np\n",
    "from processer import preprocessSmilesList, fragmentSmilesList"
   ]
  },
  {
   "cell_type": "markdown",
   "id": "398e1077-f71d-4611-bcb0-048733f0ffa5",
   "metadata": {},
   "source": [
    "# Zinc data"
   ]
  },
  {
   "cell_type": "code",
   "execution_count": 2,
   "id": "3d10cb90-d4d7-49e2-9007-e59332ed82e8",
   "metadata": {},
   "outputs": [],
   "source": [
    "# this .csv is just one of the elaborated dataset\n",
    "rawData=np.loadtxt(\"data/zinc.csv\", skiprows=1, dtype=str,comments=None)"
   ]
  },
  {
   "cell_type": "code",
   "execution_count": 3,
   "id": "b8dcc1d4-8415-4f4a-a5cd-1cbb5add0a89",
   "metadata": {},
   "outputs": [
    {
     "data": {
      "text/plain": [
       "array(['CC(C)(C)c1ccc2occ(CC(=O)Nc3ccccc3F)c2c1',\n",
       "       'C[C@@H]1CC(Nc2cncc(-c3nncn3C)c2)C[C@@H](C)C1',\n",
       "       'N#Cc1ccc(-c2ccc(O[C@@H](C(=O)N3CCCC3)c3ccccc3)cc2)cc1', ...,\n",
       "       'Cc1ccc(NC(=O)C(=O)N(C)Cc2ccccc2)c(C)c1',\n",
       "       'Cc1cc(C(=O)Nc2ccc(OCC(N)=O)cc2)c(C)n1C1CC1',\n",
       "       'O=C(CC(c1ccccc1)c1ccccc1)N1CCN(S(=O)(=O)c2ccccc2[N+](=O)[O-])CC1'],\n",
       "      dtype='<U120')"
      ]
     },
     "execution_count": 3,
     "metadata": {},
     "output_type": "execute_result"
    }
   ],
   "source": [
    "rawData"
   ]
  },
  {
   "cell_type": "code",
   "execution_count": 4,
   "id": "95d34d83-498f-46bc-b608-397e6977225f",
   "metadata": {},
   "outputs": [
    {
     "name": "stderr",
     "output_type": "stream",
     "text": [
      " 28%|██████████████████████████████████████████████████████████████▉                                                                                                                                                                 | 70155/249456 [00:00<00:00, 652152.92it/s]"
     ]
    },
    {
     "name": "stderr",
     "output_type": "stream",
     "text": [
      "100%|███████████████████████████████████████████████████████████████████████████████████████████████████████████████████████████████████████████████████████████████████████████████████████████████████████████████████████████████| 249456/249456 [00:00<00:00, 447136.61it/s]\n"
     ]
    }
   ],
   "source": [
    "# preprocess data removing salts, isotopes, geometric stereochemical and duplicates\n",
    "prepData=preprocessSmilesList(rawData)"
   ]
  },
  {
   "cell_type": "code",
   "execution_count": 9,
   "metadata": {},
   "outputs": [
    {
     "data": {
      "text/plain": [
       "249414"
      ]
     },
     "execution_count": 9,
     "metadata": {},
     "output_type": "execute_result"
    }
   ],
   "source": [
    "prepData.size"
   ]
  },
  {
   "cell_type": "code",
   "execution_count": 5,
   "id": "8ea8c862-2c34-4922-a9c8-f605d51eafe2",
   "metadata": {},
   "outputs": [
    {
     "name": "stderr",
     "output_type": "stream",
     "text": [
      "100%|███████████████████████████████████████████████████████████████████████████████████████████████████████████████████████████████████████████████████████████████████████████████████████████████████████████████████████████████| 249414/249414 [00:00<00:00, 382975.74it/s]\n",
      "100%|████████████████████████████████████████████████████████████████████████████████████████████████████████████████████████████████████████████████████████████████████████████████████████████████████████████████████████████████| 249414/249414 [00:04<00:00, 53091.23it/s]\n"
     ]
    }
   ],
   "source": [
    "# tokenize cured data with default cleavage pattern : exocyclic single bonds\n",
    "zincT = fragmentSmilesList(prepData)"
   ]
  },
  {
   "cell_type": "code",
   "execution_count": 11,
   "metadata": {},
   "outputs": [],
   "source": [
    "zincT.dropna(inplace=True)"
   ]
  },
  {
   "cell_type": "raw",
   "id": "e51e3192-ef1e-46bb-b34e-84e2a09e5c7f",
   "metadata": {},
   "source": [
    "# if you prefer to save tokenized data\n",
    "zincT.to_csv(\"data/01_zincToks.csv\", index=False)"
   ]
  },
  {
   "cell_type": "code",
   "execution_count": 12,
   "metadata": {},
   "outputs": [
    {
     "data": {
      "text/plain": [
       "86"
      ]
     },
     "execution_count": 12,
     "metadata": {},
     "output_type": "execute_result"
    }
   ],
   "source": [
    "prepData.size-zincT.shape[0]"
   ]
  },
  {
   "cell_type": "code",
   "execution_count": 10,
   "id": "79461ee4-69ec-4afe-a320-1e6dd9e5dc63",
   "metadata": {
    "collapsed": true,
    "jupyter": {
     "outputs_hidden": true
    }
   },
   "outputs": [
    {
     "data": {
      "text/html": [
       "<div>\n",
       "<style scoped>\n",
       "    .dataframe tbody tr th:only-of-type {\n",
       "        vertical-align: middle;\n",
       "    }\n",
       "\n",
       "    .dataframe tbody tr th {\n",
       "        vertical-align: top;\n",
       "    }\n",
       "\n",
       "    .dataframe thead th {\n",
       "        text-align: right;\n",
       "    }\n",
       "</style>\n",
       "<table border=\"1\" class=\"dataframe\">\n",
       "  <thead>\n",
       "    <tr style=\"text-align: right;\">\n",
       "      <th></th>\n",
       "      <th>smiles</th>\n",
       "      <th>tokens</th>\n",
       "      <th>nToks</th>\n",
       "    </tr>\n",
       "  </thead>\n",
       "  <tbody>\n",
       "    <tr>\n",
       "      <th>0</th>\n",
       "      <td>CC(C)(C)c1ccc2occ(CC(=O)Nc3ccccc3F)c2c1</td>\n",
       "      <td>(F, &lt;5&gt;, c1ccccc1, &lt;0&gt;, N, C=O, C, &lt;6&gt;, c1ccc2...</td>\n",
       "      <td>18</td>\n",
       "    </tr>\n",
       "    <tr>\n",
       "      <th>1</th>\n",
       "      <td>C[C@@H]1CC(Nc2cncc(-c3nncn3C)c2)C[C@@H](C)C1</td>\n",
       "      <td>(C, &lt;0S&gt;, C1CCCCC1, &lt;2&gt;, &lt;4S&gt;, (, C, ), N, &lt;1&gt;...</td>\n",
       "      <td>16</td>\n",
       "    </tr>\n",
       "    <tr>\n",
       "      <th>2</th>\n",
       "      <td>N#Cc1ccc(-c2ccc(O[C@@H](C(=O)N3CCCC3)c3ccccc3)...</td>\n",
       "      <td>(C1CCNC1, &lt;3&gt;, C=O, C|R, (, &lt;0&gt;, c1ccccc1, ), ...</td>\n",
       "      <td>16</td>\n",
       "    </tr>\n",
       "    <tr>\n",
       "      <th>3</th>\n",
       "      <td>CCOC(=O)[C@@H]1CCCN(C(=O)c2nc(-c3ccc(C)cc3)n3c...</td>\n",
       "      <td>(C, C, O, C=O, &lt;1R&gt;, C1CCNCC1, &lt;3&gt;, C=O, &lt;0&gt;, ...</td>\n",
       "      <td>15</td>\n",
       "    </tr>\n",
       "    <tr>\n",
       "      <th>4</th>\n",
       "      <td>N#CC1=C(SCC(=O)Nc2cccc(Cl)c2)N=C(O)[C@H](C#N)C...</td>\n",
       "      <td>(O, &lt;4&gt;, C1=CC2(CC=N1)CCCCC2, &lt;0&gt;, &lt;1&gt;, (, C#N...</td>\n",
       "      <td>20</td>\n",
       "    </tr>\n",
       "    <tr>\n",
       "      <th>...</th>\n",
       "      <td>...</td>\n",
       "      <td>...</td>\n",
       "      <td>...</td>\n",
       "    </tr>\n",
       "    <tr>\n",
       "      <th>249451</th>\n",
       "      <td>CC1(C)CC[C@H](CNC(=O)Cn2ncc3ccccc3c2=O)c2ccccc21</td>\n",
       "      <td>(C, &lt;6&gt;, c1ccc2c(c1)CCCC2, &lt;9S&gt;, &lt;6&gt;, (, C, ),...</td>\n",
       "      <td>14</td>\n",
       "    </tr>\n",
       "    <tr>\n",
       "      <th>249452</th>\n",
       "      <td>Cn1ccnc1C(=O)c1ccc(NC(=O)C2CCN(C(=O)C(C)(C)C)C...</td>\n",
       "      <td>(C, C, (, C, ), (, C, ), C=O, &lt;3&gt;, C1CCNCC1, &lt;...</td>\n",
       "      <td>22</td>\n",
       "    </tr>\n",
       "    <tr>\n",
       "      <th>249453</th>\n",
       "      <td>Cc1ccc(NC(=O)C(=O)N(C)Cc2ccccc2)c(C)c1</td>\n",
       "      <td>(c1ccccc1, &lt;0&gt;, C, N, (, C, ), C=O, C=O, N, &lt;3...</td>\n",
       "      <td>18</td>\n",
       "    </tr>\n",
       "    <tr>\n",
       "      <th>249454</th>\n",
       "      <td>Cc1cc(C(=O)Nc2ccc(OCC(N)=O)cc2)c(C)n1C1CC1</td>\n",
       "      <td>(C, &lt;2&gt;, c1cc[nH]c1, &lt;0&gt;, &lt;4&gt;, (, C, ), &lt;3&gt;, (...</td>\n",
       "      <td>22</td>\n",
       "    </tr>\n",
       "    <tr>\n",
       "      <th>249455</th>\n",
       "      <td>O=C(CC(c1ccccc1)c1ccccc1)N1CCN(S(=O)(=O)c2cccc...</td>\n",
       "      <td>(O=[NH+][O-], &lt;5&gt;, c1ccccc1, &lt;0&gt;, O=[SH2]=O, &lt;...</td>\n",
       "      <td>17</td>\n",
       "    </tr>\n",
       "  </tbody>\n",
       "</table>\n",
       "<p>249328 rows × 3 columns</p>\n",
       "</div>"
      ],
      "text/plain": [
       "                                                   smiles  \\\n",
       "0                 CC(C)(C)c1ccc2occ(CC(=O)Nc3ccccc3F)c2c1   \n",
       "1            C[C@@H]1CC(Nc2cncc(-c3nncn3C)c2)C[C@@H](C)C1   \n",
       "2       N#Cc1ccc(-c2ccc(O[C@@H](C(=O)N3CCCC3)c3ccccc3)...   \n",
       "3       CCOC(=O)[C@@H]1CCCN(C(=O)c2nc(-c3ccc(C)cc3)n3c...   \n",
       "4       N#CC1=C(SCC(=O)Nc2cccc(Cl)c2)N=C(O)[C@H](C#N)C...   \n",
       "...                                                   ...   \n",
       "249451   CC1(C)CC[C@H](CNC(=O)Cn2ncc3ccccc3c2=O)c2ccccc21   \n",
       "249452  Cn1ccnc1C(=O)c1ccc(NC(=O)C2CCN(C(=O)C(C)(C)C)C...   \n",
       "249453             Cc1ccc(NC(=O)C(=O)N(C)Cc2ccccc2)c(C)c1   \n",
       "249454         Cc1cc(C(=O)Nc2ccc(OCC(N)=O)cc2)c(C)n1C1CC1   \n",
       "249455  O=C(CC(c1ccccc1)c1ccccc1)N1CCN(S(=O)(=O)c2cccc...   \n",
       "\n",
       "                                                   tokens  nToks  \n",
       "0       (F, <5>, c1ccccc1, <0>, N, C=O, C, <6>, c1ccc2...     18  \n",
       "1       (C, <0S>, C1CCCCC1, <2>, <4S>, (, C, ), N, <1>...     16  \n",
       "2       (C1CCNC1, <3>, C=O, C|R, (, <0>, c1ccccc1, ), ...     16  \n",
       "3       (C, C, O, C=O, <1R>, C1CCNCC1, <3>, C=O, <0>, ...     15  \n",
       "4       (O, <4>, C1=CC2(CC=N1)CCCCC2, <0>, <1>, (, C#N...     20  \n",
       "...                                                   ...    ...  \n",
       "249451  (C, <6>, c1ccc2c(c1)CCCC2, <9S>, <6>, (, C, ),...     14  \n",
       "249452  (C, C, (, C, ), (, C, ), C=O, <3>, C1CCNCC1, <...     22  \n",
       "249453  (c1ccccc1, <0>, C, N, (, C, ), C=O, C=O, N, <3...     18  \n",
       "249454  (C, <2>, c1cc[nH]c1, <0>, <4>, (, C, ), <3>, (...     22  \n",
       "249455  (O=[NH+][O-], <5>, c1ccccc1, <0>, O=[SH2]=O, <...     17  \n",
       "\n",
       "[249328 rows x 3 columns]"
      ]
     },
     "execution_count": 10,
     "metadata": {},
     "output_type": "execute_result"
    }
   ],
   "source": [
    "zincT"
   ]
  },
  {
   "cell_type": "code",
   "execution_count": 16,
   "metadata": {},
   "outputs": [],
   "source": [
    "from functools import partial"
   ]
  },
  {
   "cell_type": "code",
   "execution_count": 17,
   "metadata": {},
   "outputs": [],
   "source": [
    "from chemicalgof import Smiles2GoF\n",
    "smartsRotatable=\"[!$(*#*)&!D1]-!@[!$(*#*)&!D1]\"\n",
    "decomposeSmilesByRotatable = partial(Smiles2GoF, pattBonds = smartsRotatable)"
   ]
  },
  {
   "cell_type": "code",
   "execution_count": 18,
   "id": "9847412f-b2e4-4581-b563-0fa617873c7e",
   "metadata": {},
   "outputs": [
    {
     "name": "stderr",
     "output_type": "stream",
     "text": [
      "100%|███████████████████████████████████████████████████████████████████████████████████████████████████████████████████████████████████████████████████████████████████████████████████████████████████████████████████████████████| 249414/249414 [00:00<00:00, 409528.54it/s]\n",
      "100%|████████████████████████████████████████████████████████████████████████████████████████████████████████████████████████████████████████████████████████████████████████████████████████████████████████████████████████████████| 249414/249414 [00:04<00:00, 62006.97it/s]\n"
     ]
    }
   ],
   "source": [
    "# fncDecompose argument is just in case of non default cleavage pattern\n",
    "zincRotatable=fragmentSmilesList(prepData, fncDecompose=decomposeSmilesByRotatable)"
   ]
  },
  {
   "cell_type": "raw",
   "id": "2cafc610-9016-4586-a58a-1943508918f6",
   "metadata": {},
   "source": [
    "# if you prefer to save tokenized data\n",
    "zincRotatable.to_csv(\"data/01_zincRotatableToks.csv\", index=False)"
   ]
  },
  {
   "cell_type": "code",
   "execution_count": 19,
   "metadata": {},
   "outputs": [],
   "source": [
    "zincRotatable.dropna(inplace=True)"
   ]
  },
  {
   "cell_type": "code",
   "execution_count": 21,
   "metadata": {},
   "outputs": [
    {
     "data": {
      "text/plain": [
       "864"
      ]
     },
     "execution_count": 21,
     "metadata": {},
     "output_type": "execute_result"
    }
   ],
   "source": [
    "prepData.size-zincRotatable.shape[0]"
   ]
  },
  {
   "cell_type": "code",
   "execution_count": 20,
   "id": "8d27a108-96a7-4730-8127-779194a8dbe3",
   "metadata": {
    "collapsed": true,
    "jupyter": {
     "outputs_hidden": true
    }
   },
   "outputs": [
    {
     "data": {
      "text/html": [
       "<div>\n",
       "<style scoped>\n",
       "    .dataframe tbody tr th:only-of-type {\n",
       "        vertical-align: middle;\n",
       "    }\n",
       "\n",
       "    .dataframe tbody tr th {\n",
       "        vertical-align: top;\n",
       "    }\n",
       "\n",
       "    .dataframe thead th {\n",
       "        text-align: right;\n",
       "    }\n",
       "</style>\n",
       "<table border=\"1\" class=\"dataframe\">\n",
       "  <thead>\n",
       "    <tr style=\"text-align: right;\">\n",
       "      <th></th>\n",
       "      <th>smiles</th>\n",
       "      <th>tokens</th>\n",
       "      <th>nToks</th>\n",
       "    </tr>\n",
       "  </thead>\n",
       "  <tbody>\n",
       "    <tr>\n",
       "      <th>0</th>\n",
       "      <td>CC(C)(C)c1ccc2occ(CC(=O)Nc3ccccc3F)c2c1</td>\n",
       "      <td>(CC(C)C, &lt;1&gt;, &lt;0&gt;, c1ccc2occc2c1, &lt;6&gt;, C, C=O,...</td>\n",
       "      <td>10.0</td>\n",
       "    </tr>\n",
       "    <tr>\n",
       "      <th>1</th>\n",
       "      <td>C[C@@H]1CC(Nc2cncc(-c3nncn3C)c2)C[C@@H](C)C1</td>\n",
       "      <td>(Cn1cnnc1, &lt;2&gt;, &lt;5&gt;, c1ccncc1, &lt;1&gt;, N, &lt;3&gt;, CC...</td>\n",
       "      <td>8.0</td>\n",
       "    </tr>\n",
       "    <tr>\n",
       "      <th>2</th>\n",
       "      <td>N#Cc1ccc(-c2ccc(O[C@@H](C(=O)N3CCCC3)c3ccccc3)...</td>\n",
       "      <td>(C1CCNC1, &lt;3&gt;, C=O, C|R, (, &lt;0&gt;, c1ccccc1, ), ...</td>\n",
       "      <td>14.0</td>\n",
       "    </tr>\n",
       "    <tr>\n",
       "      <th>3</th>\n",
       "      <td>CCOC(=O)[C@@H]1CCCN(C(=O)c2nc(-c3ccc(C)cc3)n3c...</td>\n",
       "      <td>(CC, &lt;0&gt;, O, C=O, &lt;1R&gt;, C1CCNCC1, &lt;3&gt;, C=O, &lt;0...</td>\n",
       "      <td>13.0</td>\n",
       "    </tr>\n",
       "    <tr>\n",
       "      <th>4</th>\n",
       "      <td>N#CC1=C(SCC(=O)Nc2cccc(Cl)c2)N=C(O)[C@H](C#N)C...</td>\n",
       "      <td>(Clc1ccccc1, &lt;3&gt;, N, C=O, C, S, &lt;3&gt;, N#CC1=CN=...</td>\n",
       "      <td>8.0</td>\n",
       "    </tr>\n",
       "    <tr>\n",
       "      <th>...</th>\n",
       "      <td>...</td>\n",
       "      <td>...</td>\n",
       "      <td>...</td>\n",
       "    </tr>\n",
       "    <tr>\n",
       "      <th>249451</th>\n",
       "      <td>CC1(C)CC[C@H](CNC(=O)Cn2ncc3ccccc3c2=O)c2ccccc21</td>\n",
       "      <td>(CC1(C)CCCc2ccccc21, &lt;5S&gt;, C, N, C=O, C, &lt;2&gt;, ...</td>\n",
       "      <td>8.0</td>\n",
       "    </tr>\n",
       "    <tr>\n",
       "      <th>249452</th>\n",
       "      <td>Cn1ccnc1C(=O)c1ccc(NC(=O)C2CCN(C(=O)C(C)(C)C)C...</td>\n",
       "      <td>(CC(C)C, &lt;1&gt;, C=O, &lt;3&gt;, C1CCNCC1, &lt;0&gt;, C=O, N,...</td>\n",
       "      <td>14.0</td>\n",
       "    </tr>\n",
       "    <tr>\n",
       "      <th>249453</th>\n",
       "      <td>Cc1ccc(NC(=O)C(=O)N(C)Cc2ccccc2)c(C)c1</td>\n",
       "      <td>(c1ccccc1, &lt;0&gt;, C, &lt;1&gt;, CN, &lt;1&gt;, C=O, C=O, N, ...</td>\n",
       "      <td>11.0</td>\n",
       "    </tr>\n",
       "    <tr>\n",
       "      <th>249454</th>\n",
       "      <td>Cc1cc(C(=O)Nc2ccc(OCC(N)=O)cc2)c(C)n1C1CC1</td>\n",
       "      <td>(NC=O, &lt;1&gt;, C, O, &lt;3&gt;, c1ccccc1, &lt;0&gt;, N, C=O, ...</td>\n",
       "      <td>14.0</td>\n",
       "    </tr>\n",
       "    <tr>\n",
       "      <th>249455</th>\n",
       "      <td>O=C(CC(c1ccccc1)c1ccccc1)N1CCN(S(=O)(=O)c2cccc...</td>\n",
       "      <td>(c1ccccc1, &lt;0&gt;, C, (, &lt;0&gt;, c1ccccc1, ), C, C=O...</td>\n",
       "      <td>17.0</td>\n",
       "    </tr>\n",
       "  </tbody>\n",
       "</table>\n",
       "<p>248550 rows × 3 columns</p>\n",
       "</div>"
      ],
      "text/plain": [
       "                                                   smiles  \\\n",
       "0                 CC(C)(C)c1ccc2occ(CC(=O)Nc3ccccc3F)c2c1   \n",
       "1            C[C@@H]1CC(Nc2cncc(-c3nncn3C)c2)C[C@@H](C)C1   \n",
       "2       N#Cc1ccc(-c2ccc(O[C@@H](C(=O)N3CCCC3)c3ccccc3)...   \n",
       "3       CCOC(=O)[C@@H]1CCCN(C(=O)c2nc(-c3ccc(C)cc3)n3c...   \n",
       "4       N#CC1=C(SCC(=O)Nc2cccc(Cl)c2)N=C(O)[C@H](C#N)C...   \n",
       "...                                                   ...   \n",
       "249451   CC1(C)CC[C@H](CNC(=O)Cn2ncc3ccccc3c2=O)c2ccccc21   \n",
       "249452  Cn1ccnc1C(=O)c1ccc(NC(=O)C2CCN(C(=O)C(C)(C)C)C...   \n",
       "249453             Cc1ccc(NC(=O)C(=O)N(C)Cc2ccccc2)c(C)c1   \n",
       "249454         Cc1cc(C(=O)Nc2ccc(OCC(N)=O)cc2)c(C)n1C1CC1   \n",
       "249455  O=C(CC(c1ccccc1)c1ccccc1)N1CCN(S(=O)(=O)c2cccc...   \n",
       "\n",
       "                                                   tokens  nToks  \n",
       "0       (CC(C)C, <1>, <0>, c1ccc2occc2c1, <6>, C, C=O,...   10.0  \n",
       "1       (Cn1cnnc1, <2>, <5>, c1ccncc1, <1>, N, <3>, CC...    8.0  \n",
       "2       (C1CCNC1, <3>, C=O, C|R, (, <0>, c1ccccc1, ), ...   14.0  \n",
       "3       (CC, <0>, O, C=O, <1R>, C1CCNCC1, <3>, C=O, <0...   13.0  \n",
       "4       (Clc1ccccc1, <3>, N, C=O, C, S, <3>, N#CC1=CN=...    8.0  \n",
       "...                                                   ...    ...  \n",
       "249451  (CC1(C)CCCc2ccccc21, <5S>, C, N, C=O, C, <2>, ...    8.0  \n",
       "249452  (CC(C)C, <1>, C=O, <3>, C1CCNCC1, <0>, C=O, N,...   14.0  \n",
       "249453  (c1ccccc1, <0>, C, <1>, CN, <1>, C=O, C=O, N, ...   11.0  \n",
       "249454  (NC=O, <1>, C, O, <3>, c1ccccc1, <0>, N, C=O, ...   14.0  \n",
       "249455  (c1ccccc1, <0>, C, (, <0>, c1ccccc1, ), C, C=O...   17.0  \n",
       "\n",
       "[248550 rows x 3 columns]"
      ]
     },
     "execution_count": 20,
     "metadata": {},
     "output_type": "execute_result"
    }
   ],
   "source": [
    "zincRotatable"
   ]
  }
 ],
 "metadata": {
  "kernelspec": {
   "display_name": "Python 3 (ipykernel)",
   "language": "python",
   "name": "python3"
  }
 },
 "nbformat": 4,
 "nbformat_minor": 5
}
