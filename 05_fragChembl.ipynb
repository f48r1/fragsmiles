{
 "cells": [
  {
   "cell_type": "code",
   "execution_count": 1,
   "id": "1b6d22ba",
   "metadata": {},
   "outputs": [],
   "source": [
    "import pandas as pd\n",
    "import numpy as np\n",
    "from src.processer import fragmentSmiles, getSelfiesToks, applyFncPool, getTsmiles, augSmiles, preprocessSmiles\n",
    "import os"
   ]
  },
  {
   "cell_type": "code",
   "execution_count": 2,
   "id": "f3e29d29-1f67-49ea-9e22-0676557b9019",
   "metadata": {},
   "outputs": [],
   "source": [
    "## these smiles data are provided by grisoni github (BIMODAL work)\n",
    "chemblDataRaw= pd.read_csv('rawdata/chembl_smiles.tar.xz', \n",
    "                     compression=\"xz\", skipfooter= 1, engine='python').astype(str).squeeze()"
   ]
  },
  {
   "cell_type": "raw",
   "id": "305cc0cd",
   "metadata": {
    "vscode": {
     "languageId": "raw"
    }
   },
   "source": [
    "Files are stored in a data directory employed for experiments and analysis"
   ]
  },
  {
   "cell_type": "code",
   "execution_count": 3,
   "id": "fc1d0632",
   "metadata": {},
   "outputs": [],
   "source": [
    "pathData = \"data/\""
   ]
  },
  {
   "cell_type": "code",
   "execution_count": 4,
   "id": "2b556034-9fc0-4a02-b5cb-48b11283e072",
   "metadata": {},
   "outputs": [
    {
     "data": {
      "text/plain": [
       "677044"
      ]
     },
     "execution_count": 4,
     "metadata": {},
     "output_type": "execute_result"
    }
   ],
   "source": [
    "chemblDataRaw.size"
   ]
  },
  {
   "cell_type": "code",
   "execution_count": 5,
   "id": "97f861c5",
   "metadata": {},
   "outputs": [],
   "source": [
    "chemblData = pd.Series (\n",
    "    applyFncPool(chemblDataRaw, fnc = preprocessSmiles),\n",
    "    index=chemblDataRaw.index\n",
    ")"
   ]
  },
  {
   "cell_type": "code",
   "execution_count": 6,
   "id": "5edce430",
   "metadata": {},
   "outputs": [],
   "source": [
    "chemblData.drop_duplicates(keep='first',inplace=True)\n",
    "chemblData.dropna(inplace=True)"
   ]
  },
  {
   "cell_type": "code",
   "execution_count": 7,
   "id": "09d10c81-3754-471e-925c-c04ef757a6a0",
   "metadata": {},
   "outputs": [
    {
     "data": {
      "text/plain": [
       "340301"
      ]
     },
     "execution_count": 7,
     "metadata": {},
     "output_type": "execute_result"
    }
   ],
   "source": [
    "# so many data are discarded. Chirality information is kept\n",
    "chemblData.size"
   ]
  },
  {
   "cell_type": "code",
   "execution_count": 8,
   "id": "193bea7e",
   "metadata": {},
   "outputs": [],
   "source": [
    "chemblDataToks = chemblData.to_frame(name='smiles')"
   ]
  },
  {
   "cell_type": "code",
   "execution_count": 9,
   "id": "716e1f27",
   "metadata": {},
   "outputs": [],
   "source": [
    "chemblDataToks['fragsmiles'] = applyFncPool( chemblData, fnc = fragmentSmiles )"
   ]
  },
  {
   "cell_type": "markdown",
   "id": "5fe58fef",
   "metadata": {},
   "source": [
    "## In order to build a dataset of size comparable to reference work of Grisoni et al., we deciced to analyze length distribution of fragSMILES tokens"
   ]
  },
  {
   "cell_type": "code",
   "execution_count": 10,
   "id": "4c111691",
   "metadata": {},
   "outputs": [],
   "source": [
    "length_fragsmiles = chemblDataToks['fragsmiles'].apply(lambda x: len(x.split(' ')))"
   ]
  },
  {
   "cell_type": "code",
   "execution_count": 11,
   "id": "7c183d0b",
   "metadata": {},
   "outputs": [
    {
     "data": {
      "text/plain": [
       "<AxesSubplot: >"
      ]
     },
     "execution_count": 11,
     "metadata": {},
     "output_type": "execute_result"
    },
    {
     "data": {
      "image/png": "[encoded data removed]",
      "text/plain": [
       "<Figure size 640x480 with 1 Axes>"
      ]
     },
     "metadata": {},
     "output_type": "display_data"
    }
   ],
   "source": [
    "length_fragsmiles.hist(bins=100, range = (0,100))"
   ]
  },
  {
   "cell_type": "code",
   "execution_count": 12,
   "id": "1cd5c49c",
   "metadata": {},
   "outputs": [
    {
     "data": {
      "text/plain": [
       "count    340301.000000\n",
       "mean         24.014561\n",
       "std          16.757076\n",
       "min           1.000000\n",
       "25%          16.000000\n",
       "50%          21.000000\n",
       "75%          28.000000\n",
       "max         603.000000\n",
       "Name: fragsmiles, dtype: float64"
      ]
     },
     "execution_count": 12,
     "metadata": {},
     "output_type": "execute_result"
    }
   ],
   "source": [
    "length_fragsmiles.describe()"
   ]
  },
  {
   "cell_type": "code",
   "execution_count": 13,
   "id": "079c7ab0",
   "metadata": {},
   "outputs": [],
   "source": [
    "## 10-32 is an optim range to obtain ~250K molecules\n",
    "mask_length_10_32 = (length_fragsmiles >=10) & (length_fragsmiles<=32)"
   ]
  },
  {
   "cell_type": "code",
   "execution_count": 14,
   "id": "3d129c86",
   "metadata": {},
   "outputs": [
    {
     "data": {
      "text/plain": [
       "270408"
      ]
     },
     "execution_count": 14,
     "metadata": {},
     "output_type": "execute_result"
    }
   ],
   "source": [
    "mask_length_10_32.sum()"
   ]
  },
  {
   "cell_type": "markdown",
   "id": "ba50bbea",
   "metadata": {},
   "source": [
    "## build the definitive dataset !"
   ]
  },
  {
   "cell_type": "code",
   "execution_count": 15,
   "id": "66db5871",
   "metadata": {},
   "outputs": [],
   "source": [
    "chemblData_10_32 = chemblData[mask_length_10_32]"
   ]
  },
  {
   "cell_type": "code",
   "execution_count": 16,
   "id": "dcb6e0f4",
   "metadata": {},
   "outputs": [],
   "source": [
    "chemblDataToks_10_32 = chemblDataToks[mask_length_10_32]"
   ]
  },
  {
   "cell_type": "code",
   "execution_count": 17,
   "id": "b3f44c1a",
   "metadata": {},
   "outputs": [
    {
     "name": "stderr",
     "output_type": "stream",
     "text": [
      "/tmp/ipykernel_1822604/917547025.py:1: SettingWithCopyWarning: \n",
      "A value is trying to be set on a copy of a slice from a DataFrame.\n",
      "Try using .loc[row_indexer,col_indexer] = value instead\n",
      "\n",
      "See the caveats in the documentation: https://pandas.pydata.org/pandas-docs/stable/user_guide/indexing.html#returning-a-view-versus-a-copy\n",
      "  chemblDataToks_10_32['selfies'] = applyFncPool(chemblData_10_32, fnc = getSelfiesToks)\n"
     ]
    }
   ],
   "source": [
    "chemblDataToks_10_32['selfies'] = applyFncPool(chemblData_10_32, fnc = getSelfiesToks)"
   ]
  },
  {
   "cell_type": "code",
   "execution_count": 18,
   "id": "2653acb4",
   "metadata": {},
   "outputs": [
    {
     "name": "stderr",
     "output_type": "stream",
     "text": [
      "/tmp/ipykernel_1822604/2903495064.py:1: SettingWithCopyWarning: \n",
      "A value is trying to be set on a copy of a slice from a DataFrame.\n",
      "Try using .loc[row_indexer,col_indexer] = value instead\n",
      "\n",
      "See the caveats in the documentation: https://pandas.pydata.org/pandas-docs/stable/user_guide/indexing.html#returning-a-view-versus-a-copy\n",
      "  chemblDataToks_10_32['tsmiles'] = applyFncPool(chemblData_10_32, fnc = getTsmiles)\n"
     ]
    }
   ],
   "source": [
    "chemblDataToks_10_32['tsmiles'] = applyFncPool(chemblData_10_32, fnc = getTsmiles)"
   ]
  },
  {
   "cell_type": "code",
   "execution_count": 19,
   "id": "91151cf5",
   "metadata": {},
   "outputs": [
    {
     "data": {
      "text/html": [
       "<div>\n",
       "<style scoped>\n",
       "    .dataframe tbody tr th:only-of-type {\n",
       "        vertical-align: middle;\n",
       "    }\n",
       "\n",
       "    .dataframe tbody tr th {\n",
       "        vertical-align: top;\n",
       "    }\n",
       "\n",
       "    .dataframe thead th {\n",
       "        text-align: right;\n",
       "    }\n",
       "</style>\n",
       "<table border=\"1\" class=\"dataframe\">\n",
       "  <thead>\n",
       "    <tr style=\"text-align: right;\">\n",
       "      <th></th>\n",
       "      <th>smiles</th>\n",
       "      <th>fragsmiles</th>\n",
       "      <th>selfies</th>\n",
       "      <th>tsmiles</th>\n",
       "    </tr>\n",
       "  </thead>\n",
       "  <tbody>\n",
       "    <tr>\n",
       "      <th>0</th>\n",
       "      <td>CSc1nn(-c2cccc(C)c2)c2cc(C3=CCNCC3)ccc12</td>\n",
       "      <td>C S &lt;6&gt; c1ccc2[nH]ncc2c1 &lt;4&gt; &lt;1&gt; ( &lt;0&gt; C1=CCNC...</td>\n",
       "      <td>[C] [S] [C] [=N] [N] [Branch1] [N] [C] [=C] [C...</td>\n",
       "      <td>*C&amp;*SC1=NN(*)C2=CC(*)=CC=C12&amp;*C1=CC=CC(*)=C1&amp;*...</td>\n",
       "    </tr>\n",
       "    <tr>\n",
       "      <th>1</th>\n",
       "      <td>CSc1nn(-c2cccc(F)c2)c2cc(C3=CCNCC3)ccc12</td>\n",
       "      <td>C S &lt;6&gt; c1ccc2[nH]ncc2c1 &lt;4&gt; &lt;1&gt; ( &lt;0&gt; C1=CCNC...</td>\n",
       "      <td>[C] [S] [C] [=N] [N] [Branch1] [N] [C] [=C] [C...</td>\n",
       "      <td>*C&amp;*SC1=NN(*)C2=CC(*)=CC=C12&amp;*C1=CC=CC(*)=C1&amp;*...</td>\n",
       "    </tr>\n",
       "    <tr>\n",
       "      <th>2</th>\n",
       "      <td>CSc1nn(-c2ccc(C)cc2)c2cc(C3=CCNCC3)ccc12</td>\n",
       "      <td>C S &lt;6&gt; c1ccc2[nH]ncc2c1 &lt;4&gt; &lt;1&gt; ( &lt;0&gt; C1=CCNC...</td>\n",
       "      <td>[C] [S] [C] [=N] [N] [Branch1] [N] [C] [=C] [C...</td>\n",
       "      <td>*C&amp;*SC1=NN(*)C2=CC(*)=CC=C12&amp;*C1=CC=C(*)C=C1&amp;*...</td>\n",
       "    </tr>\n",
       "    <tr>\n",
       "      <th>3</th>\n",
       "      <td>O=C(c1ccc2c(c1)[nH]c(=O)c1cnn(C3CCCC3)c12)N1CC...</td>\n",
       "      <td>Cl &lt;0&gt; c1ccc2c(c1)CCN2 &lt;8&gt; C=O &lt;5&gt; O=c1[nH]c2c...</td>\n",
       "      <td>[O] [=C] [Branch2] [Ring2] [C] [C] [=C] [C] [=...</td>\n",
       "      <td>*C(=O)N1CCC2=CC(*)=CC=C21&amp;*C1=CC=C2C(=C1)NC(=O...</td>\n",
       "    </tr>\n",
       "    <tr>\n",
       "      <th>4</th>\n",
       "      <td>Cc1cc2[nH]c(=O)c3cnn(C4CCOCC4)c3c2cc1C(=O)N1CC...</td>\n",
       "      <td>C &lt;5&gt; O=c1[nH]c2ccccc2c2[nH]ncc12 &lt;6&gt; &lt;10&gt; ( &lt;...</td>\n",
       "      <td>[C] [C] [=C] [C] [NH1] [C] [=Branch1] [C] [=O]...</td>\n",
       "      <td>*C&amp;*C1=CC2=C(C=C1*)C1=C(C=NN1*)C(=O)N2&amp;*C(=O)N...</td>\n",
       "    </tr>\n",
       "    <tr>\n",
       "      <th>...</th>\n",
       "      <td>...</td>\n",
       "      <td>...</td>\n",
       "      <td>...</td>\n",
       "      <td>...</td>\n",
       "    </tr>\n",
       "    <tr>\n",
       "      <th>677034</th>\n",
       "      <td>OC[C@@H]1CCCN1Cc1nc2ccccc2n1Cc1ccc(Cl)cc1</td>\n",
       "      <td>O C &lt;4S&gt; C1CCNC1 &lt;3&gt; C &lt;5&gt; c1ccc2[nH]cnc2c1 &lt;4...</td>\n",
       "      <td>[O] [C] [C@@H1] [C] [C] [C] [N] [Ring1] [Branc...</td>\n",
       "      <td>*O&amp;*C*&amp;*[C@@H]1CCCN1*&amp;*C*&amp;*C1=NC2=CC=CC=C2N1*&amp;...</td>\n",
       "    </tr>\n",
       "    <tr>\n",
       "      <th>677035</th>\n",
       "      <td>Cc1ccc2nc(CN3CCCC3)n(Cc3ccc(Cl)cc3)c2c1</td>\n",
       "      <td>C1CCNC1 &lt;3&gt; C &lt;5&gt; c1ccc2[nH]cnc2c1 &lt;4&gt; &lt;1&gt; ( C...</td>\n",
       "      <td>[C] [C] [=C] [C] [=C] [N] [=C] [Branch1] [=Bra...</td>\n",
       "      <td>*C&amp;*C1=CC=C2N=C(*)N(*)C2=C1&amp;*C*&amp;*N1CCCC1^*C*&amp;&amp;...</td>\n",
       "    </tr>\n",
       "    <tr>\n",
       "      <th>677041</th>\n",
       "      <td>NC1=NC2(c3cc(-c4cncnc4)ccc3OCC23CC3)C(F)(F)CS1</td>\n",
       "      <td>c1cncnc1 &lt;0&gt; &lt;8&gt; C1=NC2(CCS1)c1ccccc1OCC21CC1 ...</td>\n",
       "      <td>[N] [C] [=N] [C] [Branch2] [Ring1] [N] [C] [=C...</td>\n",
       "      <td>*C1=CC=C2OCC3(CC3)C3(N=C(N)SCC3(*)F)C2=C1&amp;*C1=...</td>\n",
       "    </tr>\n",
       "    <tr>\n",
       "      <th>677042</th>\n",
       "      <td>CS(=O)(=O)Nc1ccc(OC[C@@H](O)CN2CCN(c3ccc(Cl)cc...</td>\n",
       "      <td>Cl &lt;3&gt; c1ccccc1 &lt;0&gt; &lt;5&gt; C1CNCCN1 &lt;2&gt; C C|S ( O...</td>\n",
       "      <td>[C] [S] [=Branch1] [C] [=O] [=Branch1] [C] [=O...</td>\n",
       "      <td>*C&amp;*S(=O)(=O)N*&amp;*C1=CC=C(*)C=C1&amp;*O*&amp;*C*&amp;*[C@@H...</td>\n",
       "    </tr>\n",
       "    <tr>\n",
       "      <th>677043</th>\n",
       "      <td>O[C@H](COc1ccc2[nH]ncc2c1)CN1CCN(c2ccc(Cl)cc2)CC1</td>\n",
       "      <td>c1ccc2[nH]ncc2c1 &lt;0&gt; O C C|S ( O ) C &lt;2&gt; C1CNC...</td>\n",
       "      <td>[O] [C@H1] [Branch1] [S] [C] [O] [C] [=C] [C] ...</td>\n",
       "      <td>*O&amp;*[C@H](*)*&amp;*C*&amp;*O*^*C*^*C1=CC=C2NN=CC2=C1&amp;*...</td>\n",
       "    </tr>\n",
       "  </tbody>\n",
       "</table>\n",
       "<p>270408 rows × 4 columns</p>\n",
       "</div>"
      ],
      "text/plain": [
       "                                                   smiles  \\\n",
       "0                CSc1nn(-c2cccc(C)c2)c2cc(C3=CCNCC3)ccc12   \n",
       "1                CSc1nn(-c2cccc(F)c2)c2cc(C3=CCNCC3)ccc12   \n",
       "2                CSc1nn(-c2ccc(C)cc2)c2cc(C3=CCNCC3)ccc12   \n",
       "3       O=C(c1ccc2c(c1)[nH]c(=O)c1cnn(C3CCCC3)c12)N1CC...   \n",
       "4       Cc1cc2[nH]c(=O)c3cnn(C4CCOCC4)c3c2cc1C(=O)N1CC...   \n",
       "...                                                   ...   \n",
       "677034          OC[C@@H]1CCCN1Cc1nc2ccccc2n1Cc1ccc(Cl)cc1   \n",
       "677035            Cc1ccc2nc(CN3CCCC3)n(Cc3ccc(Cl)cc3)c2c1   \n",
       "677041     NC1=NC2(c3cc(-c4cncnc4)ccc3OCC23CC3)C(F)(F)CS1   \n",
       "677042  CS(=O)(=O)Nc1ccc(OC[C@@H](O)CN2CCN(c3ccc(Cl)cc...   \n",
       "677043  O[C@H](COc1ccc2[nH]ncc2c1)CN1CCN(c2ccc(Cl)cc2)CC1   \n",
       "\n",
       "                                               fragsmiles  \\\n",
       "0       C S <6> c1ccc2[nH]ncc2c1 <4> <1> ( <0> C1=CCNC...   \n",
       "1       C S <6> c1ccc2[nH]ncc2c1 <4> <1> ( <0> C1=CCNC...   \n",
       "2       C S <6> c1ccc2[nH]ncc2c1 <4> <1> ( <0> C1=CCNC...   \n",
       "3       Cl <0> c1ccc2c(c1)CCN2 <8> C=O <5> O=c1[nH]c2c...   \n",
       "4       C <5> O=c1[nH]c2ccccc2c2[nH]ncc12 <6> <10> ( <...   \n",
       "...                                                   ...   \n",
       "677034  O C <4S> C1CCNC1 <3> C <5> c1ccc2[nH]cnc2c1 <4...   \n",
       "677035  C1CCNC1 <3> C <5> c1ccc2[nH]cnc2c1 <4> <1> ( C...   \n",
       "677041  c1cncnc1 <0> <8> C1=NC2(CCS1)c1ccccc1OCC21CC1 ...   \n",
       "677042  Cl <3> c1ccccc1 <0> <5> C1CNCCN1 <2> C C|S ( O...   \n",
       "677043  c1ccc2[nH]ncc2c1 <0> O C C|S ( O ) C <2> C1CNC...   \n",
       "\n",
       "                                                  selfies  \\\n",
       "0       [C] [S] [C] [=N] [N] [Branch1] [N] [C] [=C] [C...   \n",
       "1       [C] [S] [C] [=N] [N] [Branch1] [N] [C] [=C] [C...   \n",
       "2       [C] [S] [C] [=N] [N] [Branch1] [N] [C] [=C] [C...   \n",
       "3       [O] [=C] [Branch2] [Ring2] [C] [C] [=C] [C] [=...   \n",
       "4       [C] [C] [=C] [C] [NH1] [C] [=Branch1] [C] [=O]...   \n",
       "...                                                   ...   \n",
       "677034  [O] [C] [C@@H1] [C] [C] [C] [N] [Ring1] [Branc...   \n",
       "677035  [C] [C] [=C] [C] [=C] [N] [=C] [Branch1] [=Bra...   \n",
       "677041  [N] [C] [=N] [C] [Branch2] [Ring1] [N] [C] [=C...   \n",
       "677042  [C] [S] [=Branch1] [C] [=O] [=Branch1] [C] [=O...   \n",
       "677043  [O] [C@H1] [Branch1] [S] [C] [O] [C] [=C] [C] ...   \n",
       "\n",
       "                                                  tsmiles  \n",
       "0       *C&*SC1=NN(*)C2=CC(*)=CC=C12&*C1=CC=CC(*)=C1&*...  \n",
       "1       *C&*SC1=NN(*)C2=CC(*)=CC=C12&*C1=CC=CC(*)=C1&*...  \n",
       "2       *C&*SC1=NN(*)C2=CC(*)=CC=C12&*C1=CC=C(*)C=C1&*...  \n",
       "3       *C(=O)N1CCC2=CC(*)=CC=C21&*C1=CC=C2C(=C1)NC(=O...  \n",
       "4       *C&*C1=CC2=C(C=C1*)C1=C(C=NN1*)C(=O)N2&*C(=O)N...  \n",
       "...                                                   ...  \n",
       "677034  *O&*C*&*[C@@H]1CCCN1*&*C*&*C1=NC2=CC=CC=C2N1*&...  \n",
       "677035  *C&*C1=CC=C2N=C(*)N(*)C2=C1&*C*&*N1CCCC1^*C*&&...  \n",
       "677041  *C1=CC=C2OCC3(CC3)C3(N=C(N)SCC3(*)F)C2=C1&*C1=...  \n",
       "677042  *C&*S(=O)(=O)N*&*C1=CC=C(*)C=C1&*O*&*C*&*[C@@H...  \n",
       "677043  *O&*[C@H](*)*&*C*&*O*^*C*^*C1=CC=C2NN=CC2=C1&*...  \n",
       "\n",
       "[270408 rows x 4 columns]"
      ]
     },
     "execution_count": 19,
     "metadata": {},
     "output_type": "execute_result"
    }
   ],
   "source": [
    "chemblDataToks_10_32"
   ]
  },
  {
   "cell_type": "markdown",
   "id": "1f39cf45",
   "metadata": {},
   "source": [
    "## saving"
   ]
  },
  {
   "cell_type": "code",
   "execution_count": 20,
   "id": "5cf4b697",
   "metadata": {},
   "outputs": [],
   "source": [
    "from sklearn.model_selection import KFold\n",
    "\n",
    "kf=KFold(n_splits=5, shuffle=True, random_state=0)\n",
    "\n",
    "indexes = chemblDataToks_10_32.index.unique()"
   ]
  },
  {
   "cell_type": "code",
   "execution_count": 21,
   "id": "c9a5e3c0",
   "metadata": {},
   "outputs": [],
   "source": [
    "def tabular_fold_idxs(indexes, splitting_object):\n",
    "\n",
    "    df = pd.DataFrame(index=indexes)    \n",
    "\n",
    "    kf = splitting_object.split( indexes )\n",
    "\n",
    "    for fold,(trainIdx,validIdx) in enumerate(kf):\n",
    "        df[f'fold{fold}'] = None\n",
    "        df.iloc[trainIdx,fold] = 'train'\n",
    "        df.iloc[validIdx,fold] = 'valid'\n",
    "\n",
    "    return df"
   ]
  },
  {
   "cell_type": "code",
   "execution_count": 22,
   "id": "73c90b6d",
   "metadata": {},
   "outputs": [],
   "source": [
    "split_df = tabular_fold_idxs(indexes=indexes, splitting_object=kf)"
   ]
  },
  {
   "cell_type": "code",
   "execution_count": 23,
   "id": "786cdde7",
   "metadata": {},
   "outputs": [
    {
     "data": {
      "text/html": [
       "<div>\n",
       "<style scoped>\n",
       "    .dataframe tbody tr th:only-of-type {\n",
       "        vertical-align: middle;\n",
       "    }\n",
       "\n",
       "    .dataframe tbody tr th {\n",
       "        vertical-align: top;\n",
       "    }\n",
       "\n",
       "    .dataframe thead th {\n",
       "        text-align: right;\n",
       "    }\n",
       "</style>\n",
       "<table border=\"1\" class=\"dataframe\">\n",
       "  <thead>\n",
       "    <tr style=\"text-align: right;\">\n",
       "      <th></th>\n",
       "      <th>fold0</th>\n",
       "      <th>fold1</th>\n",
       "      <th>fold2</th>\n",
       "      <th>fold3</th>\n",
       "      <th>fold4</th>\n",
       "    </tr>\n",
       "  </thead>\n",
       "  <tbody>\n",
       "    <tr>\n",
       "      <th>0</th>\n",
       "      <td>train</td>\n",
       "      <td>valid</td>\n",
       "      <td>train</td>\n",
       "      <td>train</td>\n",
       "      <td>train</td>\n",
       "    </tr>\n",
       "    <tr>\n",
       "      <th>1</th>\n",
       "      <td>train</td>\n",
       "      <td>train</td>\n",
       "      <td>train</td>\n",
       "      <td>valid</td>\n",
       "      <td>train</td>\n",
       "    </tr>\n",
       "    <tr>\n",
       "      <th>2</th>\n",
       "      <td>train</td>\n",
       "      <td>train</td>\n",
       "      <td>train</td>\n",
       "      <td>train</td>\n",
       "      <td>valid</td>\n",
       "    </tr>\n",
       "    <tr>\n",
       "      <th>3</th>\n",
       "      <td>train</td>\n",
       "      <td>train</td>\n",
       "      <td>valid</td>\n",
       "      <td>train</td>\n",
       "      <td>train</td>\n",
       "    </tr>\n",
       "    <tr>\n",
       "      <th>4</th>\n",
       "      <td>train</td>\n",
       "      <td>train</td>\n",
       "      <td>train</td>\n",
       "      <td>valid</td>\n",
       "      <td>train</td>\n",
       "    </tr>\n",
       "    <tr>\n",
       "      <th>...</th>\n",
       "      <td>...</td>\n",
       "      <td>...</td>\n",
       "      <td>...</td>\n",
       "      <td>...</td>\n",
       "      <td>...</td>\n",
       "    </tr>\n",
       "    <tr>\n",
       "      <th>677034</th>\n",
       "      <td>train</td>\n",
       "      <td>valid</td>\n",
       "      <td>train</td>\n",
       "      <td>train</td>\n",
       "      <td>train</td>\n",
       "    </tr>\n",
       "    <tr>\n",
       "      <th>677035</th>\n",
       "      <td>train</td>\n",
       "      <td>train</td>\n",
       "      <td>valid</td>\n",
       "      <td>train</td>\n",
       "      <td>train</td>\n",
       "    </tr>\n",
       "    <tr>\n",
       "      <th>677041</th>\n",
       "      <td>valid</td>\n",
       "      <td>train</td>\n",
       "      <td>train</td>\n",
       "      <td>train</td>\n",
       "      <td>train</td>\n",
       "    </tr>\n",
       "    <tr>\n",
       "      <th>677042</th>\n",
       "      <td>valid</td>\n",
       "      <td>train</td>\n",
       "      <td>train</td>\n",
       "      <td>train</td>\n",
       "      <td>train</td>\n",
       "    </tr>\n",
       "    <tr>\n",
       "      <th>677043</th>\n",
       "      <td>train</td>\n",
       "      <td>train</td>\n",
       "      <td>train</td>\n",
       "      <td>valid</td>\n",
       "      <td>train</td>\n",
       "    </tr>\n",
       "  </tbody>\n",
       "</table>\n",
       "<p>270408 rows × 5 columns</p>\n",
       "</div>"
      ],
      "text/plain": [
       "        fold0  fold1  fold2  fold3  fold4\n",
       "0       train  valid  train  train  train\n",
       "1       train  train  train  valid  train\n",
       "2       train  train  train  train  valid\n",
       "3       train  train  valid  train  train\n",
       "4       train  train  train  valid  train\n",
       "...       ...    ...    ...    ...    ...\n",
       "677034  train  valid  train  train  train\n",
       "677035  train  train  valid  train  train\n",
       "677041  valid  train  train  train  train\n",
       "677042  valid  train  train  train  train\n",
       "677043  train  train  train  valid  train\n",
       "\n",
       "[270408 rows x 5 columns]"
      ]
     },
     "execution_count": 23,
     "metadata": {},
     "output_type": "execute_result"
    }
   ],
   "source": [
    "split_df"
   ]
  },
  {
   "cell_type": "code",
   "execution_count": 24,
   "id": "d3d6a007",
   "metadata": {},
   "outputs": [],
   "source": [
    "datafile = pd.concat([chemblDataToks_10_32, split_df], axis=1, ignore_index=False)"
   ]
  },
  {
   "cell_type": "code",
   "execution_count": 25,
   "metadata": {},
   "outputs": [],
   "source": [
    "datafile.to_csv(os.path.join(pathData,\"chembl.tar.xz\"), compression=\"xz\", index=False)"
   ]
  },
  {
   "cell_type": "markdown",
   "id": "7e4f954c",
   "metadata": {},
   "source": [
    "## Let's augment dataset !"
   ]
  },
  {
   "cell_type": "code",
   "execution_count": 26,
   "id": "de9d428d",
   "metadata": {},
   "outputs": [],
   "source": [
    "from functools import partial"
   ]
  },
  {
   "cell_type": "code",
   "execution_count": 52,
   "id": "d9ca08ea-83ca-4a60-8685-4c4ce9c4280e",
   "metadata": {},
   "outputs": [],
   "source": [
    "chemblAug5DataToks_10_32 = pd.DataFrame(index=chemblData_10_32.index)"
   ]
  },
  {
   "cell_type": "code",
   "execution_count": 53,
   "id": "ac097d9a",
   "metadata": {},
   "outputs": [],
   "source": [
    "chemblAug5DataToks_10_32['smiles']=applyFncPool(chemblData_10_32, fnc = augSmiles)"
   ]
  },
  {
   "cell_type": "code",
   "execution_count": 54,
   "id": "abb23bad",
   "metadata": {},
   "outputs": [],
   "source": [
    "fragmentSmilesAug5 = partial(fragmentSmiles, aug=5)"
   ]
  },
  {
   "cell_type": "code",
   "execution_count": 55,
   "id": "416cf332",
   "metadata": {},
   "outputs": [],
   "source": [
    "chemblAug5DataToks_10_32['fragsmiles']=applyFncPool(chemblData_10_32, fnc = fragmentSmilesAug5)"
   ]
  },
  {
   "cell_type": "raw",
   "id": "86433d0c",
   "metadata": {
    "vscode": {
     "languageId": "raw"
    }
   },
   "source": [
    "Only now we can explode dataframe. This is becasue selfies and tsmiles are converted by augmented smiles representations directly"
   ]
  },
  {
   "cell_type": "code",
   "execution_count": 56,
   "id": "91f2fdad",
   "metadata": {},
   "outputs": [],
   "source": [
    "chemblAug5DataToks_10_32 = chemblAug5DataToks_10_32.explode(['smiles','fragsmiles'])"
   ]
  },
  {
   "cell_type": "code",
   "execution_count": 51,
   "id": "5ebe2c2f",
   "metadata": {},
   "outputs": [
    {
     "data": {
      "text/html": [
       "<div>\n",
       "<style scoped>\n",
       "    .dataframe tbody tr th:only-of-type {\n",
       "        vertical-align: middle;\n",
       "    }\n",
       "\n",
       "    .dataframe tbody tr th {\n",
       "        vertical-align: top;\n",
       "    }\n",
       "\n",
       "    .dataframe thead th {\n",
       "        text-align: right;\n",
       "    }\n",
       "</style>\n",
       "<table border=\"1\" class=\"dataframe\">\n",
       "  <thead>\n",
       "    <tr style=\"text-align: right;\">\n",
       "      <th></th>\n",
       "      <th>smiles</th>\n",
       "      <th>fragsmiles</th>\n",
       "    </tr>\n",
       "  </thead>\n",
       "  <tbody>\n",
       "    <tr>\n",
       "      <th>3</th>\n",
       "      <td>n1cc2c([nH]c3cc(C(=O)N4c5c(cc(cc5)Cl)CC4)ccc3c...</td>\n",
       "      <td>None</td>\n",
       "    </tr>\n",
       "    <tr>\n",
       "      <th>3</th>\n",
       "      <td>C(N1c2ccc(Cl)cc2CC1)(=O)c1ccc2c3n(ncc3c(=O)[nH...</td>\n",
       "      <td>None</td>\n",
       "    </tr>\n",
       "    <tr>\n",
       "      <th>3</th>\n",
       "      <td>c1cc2c3c(cnn3C3CCCC3)c([nH]c2cc1C(=O)N1c2c(CC1...</td>\n",
       "      <td>None</td>\n",
       "    </tr>\n",
       "    <tr>\n",
       "      <th>6</th>\n",
       "      <td>C1(CCOCC1)n1ncc2c([nH]c3c(ccc(c3)C(=O)N3CCc4c3...</td>\n",
       "      <td>None</td>\n",
       "    </tr>\n",
       "    <tr>\n",
       "      <th>6</th>\n",
       "      <td>c1nn(C2CCOCC2)c2c3ccc(C(N4CCc5cc(Cl)ccc45)=O)c...</td>\n",
       "      <td>None</td>\n",
       "    </tr>\n",
       "    <tr>\n",
       "      <th>...</th>\n",
       "      <td>...</td>\n",
       "      <td>...</td>\n",
       "    </tr>\n",
       "    <tr>\n",
       "      <th>677033</th>\n",
       "      <td>c1c(ccc(Cl)c1)Cn1c2c(nc1CN1CCCC1)cccc2</td>\n",
       "      <td>None</td>\n",
       "    </tr>\n",
       "    <tr>\n",
       "      <th>677033</th>\n",
       "      <td>C(N1CCCC1)c1nc2ccccc2n1Cc1ccc(Cl)cc1</td>\n",
       "      <td>None</td>\n",
       "    </tr>\n",
       "    <tr>\n",
       "      <th>677034</th>\n",
       "      <td>OC[C@H]1N(CCC1)Cc1nc2ccccc2n1Cc1ccc(cc1)Cl</td>\n",
       "      <td>None</td>\n",
       "    </tr>\n",
       "    <tr>\n",
       "      <th>677034</th>\n",
       "      <td>c1(nc2ccccc2n1Cc1ccc(Cl)cc1)CN1CCC[C@H]1CO</td>\n",
       "      <td>None</td>\n",
       "    </tr>\n",
       "    <tr>\n",
       "      <th>677034</th>\n",
       "      <td>Clc1ccc(Cn2c3c(nc2CN2CCC[C@H]2CO)cccc3)cc1</td>\n",
       "      <td>None</td>\n",
       "    </tr>\n",
       "  </tbody>\n",
       "</table>\n",
       "<p>164517 rows × 2 columns</p>\n",
       "</div>"
      ],
      "text/plain": [
       "                                                   smiles fragsmiles\n",
       "3       n1cc2c([nH]c3cc(C(=O)N4c5c(cc(cc5)Cl)CC4)ccc3c...       None\n",
       "3       C(N1c2ccc(Cl)cc2CC1)(=O)c1ccc2c3n(ncc3c(=O)[nH...       None\n",
       "3       c1cc2c3c(cnn3C3CCCC3)c([nH]c2cc1C(=O)N1c2c(CC1...       None\n",
       "6       C1(CCOCC1)n1ncc2c([nH]c3c(ccc(c3)C(=O)N3CCc4c3...       None\n",
       "6       c1nn(C2CCOCC2)c2c3ccc(C(N4CCc5cc(Cl)ccc45)=O)c...       None\n",
       "...                                                   ...        ...\n",
       "677033             c1c(ccc(Cl)c1)Cn1c2c(nc1CN1CCCC1)cccc2       None\n",
       "677033               C(N1CCCC1)c1nc2ccccc2n1Cc1ccc(Cl)cc1       None\n",
       "677034         OC[C@H]1N(CCC1)Cc1nc2ccccc2n1Cc1ccc(cc1)Cl       None\n",
       "677034         c1(nc2ccccc2n1Cc1ccc(Cl)cc1)CN1CCC[C@H]1CO       None\n",
       "677034         Clc1ccc(Cn2c3c(nc2CN2CCC[C@H]2CO)cccc3)cc1       None\n",
       "\n",
       "[164517 rows x 2 columns]"
      ]
     },
     "execution_count": 51,
     "metadata": {},
     "output_type": "execute_result"
    }
   ],
   "source": [
    "chemblAug5DataToks_10_32[chemblAug5DataToks_10_32.isna().any(axis=1)]"
   ]
  },
  {
   "cell_type": "code",
   "execution_count": 57,
   "id": "bb6e0f92",
   "metadata": {},
   "outputs": [],
   "source": [
    "chemblAug5DataToks_10_32['selfies'] = applyFncPool(chemblAug5DataToks_10_32['smiles'], fnc = getSelfiesToks)"
   ]
  },
  {
   "cell_type": "code",
   "execution_count": 58,
   "id": "fc9cee80",
   "metadata": {},
   "outputs": [],
   "source": [
    "chemblAug5DataToks_10_32['tsmiles'] = applyFncPool(chemblAug5DataToks_10_32['smiles'], fnc = getTsmiles)"
   ]
  },
  {
   "cell_type": "code",
   "execution_count": 60,
   "id": "6a5bfc5e",
   "metadata": {},
   "outputs": [
    {
     "data": {
      "text/html": [
       "<div>\n",
       "<style scoped>\n",
       "    .dataframe tbody tr th:only-of-type {\n",
       "        vertical-align: middle;\n",
       "    }\n",
       "\n",
       "    .dataframe tbody tr th {\n",
       "        vertical-align: top;\n",
       "    }\n",
       "\n",
       "    .dataframe thead th {\n",
       "        text-align: right;\n",
       "    }\n",
       "</style>\n",
       "<table border=\"1\" class=\"dataframe\">\n",
       "  <thead>\n",
       "    <tr style=\"text-align: right;\">\n",
       "      <th></th>\n",
       "      <th>smiles</th>\n",
       "      <th>fragsmiles</th>\n",
       "      <th>selfies</th>\n",
       "      <th>tsmiles</th>\n",
       "    </tr>\n",
       "  </thead>\n",
       "  <tbody>\n",
       "    <tr>\n",
       "      <th>0</th>\n",
       "      <td>CSc1nn(-c2cccc(C)c2)c2cc(C3=CCNCC3)ccc12</td>\n",
       "      <td>C S &lt;6&gt; c1ccc2[nH]ncc2c1 &lt;4&gt; &lt;1&gt; ( &lt;0&gt; C1=CCNC...</td>\n",
       "      <td>[C] [S] [C] [=N] [N] [Branch1] [N] [C] [=C] [C...</td>\n",
       "      <td>*C&amp;*SC1=NN(*)C2=CC(*)=CC=C12&amp;*C1=CC=CC(*)=C1&amp;*...</td>\n",
       "    </tr>\n",
       "    <tr>\n",
       "      <th>0</th>\n",
       "      <td>c1ccc(C)cc1-n1c2c(ccc(C3CCNCC=3)c2)c(n1)SC</td>\n",
       "      <td>C &lt;4&gt; c1ccccc1 &lt;0&gt; &lt;4&gt; c1ccc2[nH]ncc2c1 &lt;6&gt; &lt;1...</td>\n",
       "      <td>[C] [=C] [C] [=C] [Branch1] [C] [C] [C] [=C] [...</td>\n",
       "      <td>*C&amp;*SC1=NN(*)C2=CC(*)=CC=C12&amp;*C1=CC(*)=CC=C1&amp;*...</td>\n",
       "    </tr>\n",
       "    <tr>\n",
       "      <th>0</th>\n",
       "      <td>c1c(-n2nc(c3c2cc(C2=CCNCC2)cc3)SC)cccc1C</td>\n",
       "      <td>C1=CCNCC1 &lt;0&gt; &lt;1&gt; c1ccc2[nH]ncc2c1 &lt;6&gt; &lt;4&gt; ( &lt;...</td>\n",
       "      <td>[C] [=C] [Branch2] [Ring1] [=N] [N] [N] [=C] [...</td>\n",
       "      <td>*C&amp;*SC1=NN(*)C2=C1C=CC(*)=C2&amp;*C1=CC(*)=CC=C1&amp;*...</td>\n",
       "    </tr>\n",
       "    <tr>\n",
       "      <th>0</th>\n",
       "      <td>N1CC=C(CC1)c1ccc2c(c1)n(-c1cccc(c1)C)nc2SC</td>\n",
       "      <td>C S &lt;6&gt; c1ccc2[nH]ncc2c1 &lt;1&gt; &lt;4&gt; ( &lt;0&gt; c1ccccc...</td>\n",
       "      <td>[N] [C] [C] [=C] [Branch1] [Branch1] [C] [C] [...</td>\n",
       "      <td>*C&amp;*SC1=NN(*)C2=CC(*)=CC=C12&amp;*C1=CC=CC(*)=C1&amp;*...</td>\n",
       "    </tr>\n",
       "    <tr>\n",
       "      <th>0</th>\n",
       "      <td>c1cc(C)cc(-n2c3c(c(SC)n2)ccc(c3)C2=CCNCC2)c1</td>\n",
       "      <td>C1=CCNCC1 &lt;0&gt; &lt;1&gt; c1ccc2[nH]ncc2c1 &lt;4&gt; &lt;6&gt; ( S...</td>\n",
       "      <td>[C] [=C] [C] [Branch1] [C] [C] [=C] [C] [Branc...</td>\n",
       "      <td>*C&amp;*SC1=NN(*)C2=C1C=CC(*)=C2&amp;*C1=CC=CC(*)=C1&amp;*...</td>\n",
       "    </tr>\n",
       "    <tr>\n",
       "      <th>...</th>\n",
       "      <td>...</td>\n",
       "      <td>...</td>\n",
       "      <td>...</td>\n",
       "      <td>...</td>\n",
       "    </tr>\n",
       "    <tr>\n",
       "      <th>677043</th>\n",
       "      <td>O[C@H](COc1ccc2[nH]ncc2c1)CN1CCN(c2ccc(Cl)cc2)CC1</td>\n",
       "      <td>c1ccc2[nH]ncc2c1 &lt;0&gt; O C C|S ( O ) C &lt;2&gt; C1CNC...</td>\n",
       "      <td>[O] [C@H1] [Branch1] [S] [C] [O] [C] [=C] [C] ...</td>\n",
       "      <td>*O&amp;*[C@H](*)*&amp;*C*&amp;*O*^*C*^*C1=CC=C2NN=CC2=C1&amp;*...</td>\n",
       "    </tr>\n",
       "    <tr>\n",
       "      <th>677043</th>\n",
       "      <td>n1cc2c(ccc(OC[C@@H](O)CN3CCN(CC3)c3ccc(cc3)Cl)...</td>\n",
       "      <td>Cl &lt;3&gt; c1ccccc1 &lt;0&gt; &lt;5&gt; C1CNCCN1 &lt;2&gt; C C|S ( O...</td>\n",
       "      <td>[N] [=C] [C] [=C] [Branch2] [Ring2] [#Branch1]...</td>\n",
       "      <td>*O&amp;*[C@H](*)*&amp;*C*&amp;*O*^*C*^*C1=CC2=C(C=C1)NN=C2...</td>\n",
       "    </tr>\n",
       "    <tr>\n",
       "      <th>677043</th>\n",
       "      <td>C1CN(c2ccc(cc2)Cl)CCN1C[C@@H](COc1ccc2[nH]ncc2...</td>\n",
       "      <td>Cl &lt;3&gt; c1ccccc1 &lt;0&gt; &lt;5&gt; C1CNCCN1 &lt;2&gt; C C|S ( C...</td>\n",
       "      <td>[C] [C] [N] [Branch1] [N] [C] [=C] [C] [=C] [B...</td>\n",
       "      <td>*O&amp;*[C@H](*)*&amp;*C*&amp;*O*^*C*^*C1=CC=C2NN=CC2=C1&amp;*...</td>\n",
       "    </tr>\n",
       "    <tr>\n",
       "      <th>677043</th>\n",
       "      <td>C([C@@H](COc1ccc2c(cn[nH]2)c1)O)N1CCN(CC1)c1cc...</td>\n",
       "      <td>O C|S ( C O &lt;0&gt; c1ccc2[nH]ncc2c1 ) C &lt;2&gt; C1CNC...</td>\n",
       "      <td>[C] [Branch2] [Ring1] [#Branch1] [C@@H1] [Bran...</td>\n",
       "      <td>*O&amp;*[C@H](*)*&amp;*C*&amp;*O*^*C*^*C1=CC=C2NN=CC2=C1&amp;*...</td>\n",
       "    </tr>\n",
       "    <tr>\n",
       "      <th>677043</th>\n",
       "      <td>c1c(N2CCN(CC2)C[C@@H](COc2cc3c(cc2)[nH]nc3)O)c...</td>\n",
       "      <td>c1ccc2[nH]ncc2c1 &lt;0&gt; O C C|S ( C &lt;2&gt; C1CNCCN1 ...</td>\n",
       "      <td>[C] [=C] [Branch2] [Ring2] [C] [N] [C] [C] [N]...</td>\n",
       "      <td>*O&amp;*[C@H](*)*&amp;*C*&amp;*O*^*C*^*C1=CC2=C(C=C1)NN=C2...</td>\n",
       "    </tr>\n",
       "  </tbody>\n",
       "</table>\n",
       "<p>1352040 rows × 4 columns</p>\n",
       "</div>"
      ],
      "text/plain": [
       "                                                   smiles  \\\n",
       "0                CSc1nn(-c2cccc(C)c2)c2cc(C3=CCNCC3)ccc12   \n",
       "0              c1ccc(C)cc1-n1c2c(ccc(C3CCNCC=3)c2)c(n1)SC   \n",
       "0                c1c(-n2nc(c3c2cc(C2=CCNCC2)cc3)SC)cccc1C   \n",
       "0              N1CC=C(CC1)c1ccc2c(c1)n(-c1cccc(c1)C)nc2SC   \n",
       "0            c1cc(C)cc(-n2c3c(c(SC)n2)ccc(c3)C2=CCNCC2)c1   \n",
       "...                                                   ...   \n",
       "677043  O[C@H](COc1ccc2[nH]ncc2c1)CN1CCN(c2ccc(Cl)cc2)CC1   \n",
       "677043  n1cc2c(ccc(OC[C@@H](O)CN3CCN(CC3)c3ccc(cc3)Cl)...   \n",
       "677043  C1CN(c2ccc(cc2)Cl)CCN1C[C@@H](COc1ccc2[nH]ncc2...   \n",
       "677043  C([C@@H](COc1ccc2c(cn[nH]2)c1)O)N1CCN(CC1)c1cc...   \n",
       "677043  c1c(N2CCN(CC2)C[C@@H](COc2cc3c(cc2)[nH]nc3)O)c...   \n",
       "\n",
       "                                               fragsmiles  \\\n",
       "0       C S <6> c1ccc2[nH]ncc2c1 <4> <1> ( <0> C1=CCNC...   \n",
       "0       C <4> c1ccccc1 <0> <4> c1ccc2[nH]ncc2c1 <6> <1...   \n",
       "0       C1=CCNCC1 <0> <1> c1ccc2[nH]ncc2c1 <6> <4> ( <...   \n",
       "0       C S <6> c1ccc2[nH]ncc2c1 <1> <4> ( <0> c1ccccc...   \n",
       "0       C1=CCNCC1 <0> <1> c1ccc2[nH]ncc2c1 <4> <6> ( S...   \n",
       "...                                                   ...   \n",
       "677043  c1ccc2[nH]ncc2c1 <0> O C C|S ( O ) C <2> C1CNC...   \n",
       "677043  Cl <3> c1ccccc1 <0> <5> C1CNCCN1 <2> C C|S ( O...   \n",
       "677043  Cl <3> c1ccccc1 <0> <5> C1CNCCN1 <2> C C|S ( C...   \n",
       "677043  O C|S ( C O <0> c1ccc2[nH]ncc2c1 ) C <2> C1CNC...   \n",
       "677043  c1ccc2[nH]ncc2c1 <0> O C C|S ( C <2> C1CNCCN1 ...   \n",
       "\n",
       "                                                  selfies  \\\n",
       "0       [C] [S] [C] [=N] [N] [Branch1] [N] [C] [=C] [C...   \n",
       "0       [C] [=C] [C] [=C] [Branch1] [C] [C] [C] [=C] [...   \n",
       "0       [C] [=C] [Branch2] [Ring1] [=N] [N] [N] [=C] [...   \n",
       "0       [N] [C] [C] [=C] [Branch1] [Branch1] [C] [C] [...   \n",
       "0       [C] [=C] [C] [Branch1] [C] [C] [=C] [C] [Branc...   \n",
       "...                                                   ...   \n",
       "677043  [O] [C@H1] [Branch1] [S] [C] [O] [C] [=C] [C] ...   \n",
       "677043  [N] [=C] [C] [=C] [Branch2] [Ring2] [#Branch1]...   \n",
       "677043  [C] [C] [N] [Branch1] [N] [C] [=C] [C] [=C] [B...   \n",
       "677043  [C] [Branch2] [Ring1] [#Branch1] [C@@H1] [Bran...   \n",
       "677043  [C] [=C] [Branch2] [Ring2] [C] [N] [C] [C] [N]...   \n",
       "\n",
       "                                                  tsmiles  \n",
       "0       *C&*SC1=NN(*)C2=CC(*)=CC=C12&*C1=CC=CC(*)=C1&*...  \n",
       "0       *C&*SC1=NN(*)C2=CC(*)=CC=C12&*C1=CC(*)=CC=C1&*...  \n",
       "0       *C&*SC1=NN(*)C2=C1C=CC(*)=C2&*C1=CC(*)=CC=C1&*...  \n",
       "0       *C&*SC1=NN(*)C2=CC(*)=CC=C12&*C1=CC=CC(*)=C1&*...  \n",
       "0       *C&*SC1=NN(*)C2=C1C=CC(*)=C2&*C1=CC=CC(*)=C1&*...  \n",
       "...                                                   ...  \n",
       "677043  *O&*[C@H](*)*&*C*&*O*^*C*^*C1=CC=C2NN=CC2=C1&*...  \n",
       "677043  *O&*[C@H](*)*&*C*&*O*^*C*^*C1=CC2=C(C=C1)NN=C2...  \n",
       "677043  *O&*[C@H](*)*&*C*&*O*^*C*^*C1=CC=C2NN=CC2=C1&*...  \n",
       "677043  *O&*[C@H](*)*&*C*&*O*^*C*^*C1=CC=C2NN=CC2=C1&*...  \n",
       "677043  *O&*[C@H](*)*&*C*&*O*^*C*^*C1=CC2=C(C=C1)NN=C2...  \n",
       "\n",
       "[1352040 rows x 4 columns]"
      ]
     },
     "execution_count": 60,
     "metadata": {},
     "output_type": "execute_result"
    }
   ],
   "source": [
    "chemblAug5DataToks_10_32"
   ]
  },
  {
   "cell_type": "code",
   "execution_count": 61,
   "id": "e50ab197",
   "metadata": {},
   "outputs": [
    {
     "data": {
      "text/html": [
       "<div>\n",
       "<style scoped>\n",
       "    .dataframe tbody tr th:only-of-type {\n",
       "        vertical-align: middle;\n",
       "    }\n",
       "\n",
       "    .dataframe tbody tr th {\n",
       "        vertical-align: top;\n",
       "    }\n",
       "\n",
       "    .dataframe thead th {\n",
       "        text-align: right;\n",
       "    }\n",
       "</style>\n",
       "<table border=\"1\" class=\"dataframe\">\n",
       "  <thead>\n",
       "    <tr style=\"text-align: right;\">\n",
       "      <th></th>\n",
       "      <th>fold0</th>\n",
       "      <th>fold1</th>\n",
       "      <th>fold2</th>\n",
       "      <th>fold3</th>\n",
       "      <th>fold4</th>\n",
       "    </tr>\n",
       "  </thead>\n",
       "  <tbody>\n",
       "    <tr>\n",
       "      <th>0</th>\n",
       "      <td>train</td>\n",
       "      <td>valid</td>\n",
       "      <td>train</td>\n",
       "      <td>train</td>\n",
       "      <td>train</td>\n",
       "    </tr>\n",
       "    <tr>\n",
       "      <th>1</th>\n",
       "      <td>train</td>\n",
       "      <td>train</td>\n",
       "      <td>train</td>\n",
       "      <td>valid</td>\n",
       "      <td>train</td>\n",
       "    </tr>\n",
       "    <tr>\n",
       "      <th>2</th>\n",
       "      <td>train</td>\n",
       "      <td>train</td>\n",
       "      <td>train</td>\n",
       "      <td>train</td>\n",
       "      <td>valid</td>\n",
       "    </tr>\n",
       "    <tr>\n",
       "      <th>3</th>\n",
       "      <td>train</td>\n",
       "      <td>train</td>\n",
       "      <td>valid</td>\n",
       "      <td>train</td>\n",
       "      <td>train</td>\n",
       "    </tr>\n",
       "    <tr>\n",
       "      <th>4</th>\n",
       "      <td>train</td>\n",
       "      <td>train</td>\n",
       "      <td>train</td>\n",
       "      <td>valid</td>\n",
       "      <td>train</td>\n",
       "    </tr>\n",
       "    <tr>\n",
       "      <th>...</th>\n",
       "      <td>...</td>\n",
       "      <td>...</td>\n",
       "      <td>...</td>\n",
       "      <td>...</td>\n",
       "      <td>...</td>\n",
       "    </tr>\n",
       "    <tr>\n",
       "      <th>677034</th>\n",
       "      <td>train</td>\n",
       "      <td>valid</td>\n",
       "      <td>train</td>\n",
       "      <td>train</td>\n",
       "      <td>train</td>\n",
       "    </tr>\n",
       "    <tr>\n",
       "      <th>677035</th>\n",
       "      <td>train</td>\n",
       "      <td>train</td>\n",
       "      <td>valid</td>\n",
       "      <td>train</td>\n",
       "      <td>train</td>\n",
       "    </tr>\n",
       "    <tr>\n",
       "      <th>677041</th>\n",
       "      <td>valid</td>\n",
       "      <td>train</td>\n",
       "      <td>train</td>\n",
       "      <td>train</td>\n",
       "      <td>train</td>\n",
       "    </tr>\n",
       "    <tr>\n",
       "      <th>677042</th>\n",
       "      <td>valid</td>\n",
       "      <td>train</td>\n",
       "      <td>train</td>\n",
       "      <td>train</td>\n",
       "      <td>train</td>\n",
       "    </tr>\n",
       "    <tr>\n",
       "      <th>677043</th>\n",
       "      <td>train</td>\n",
       "      <td>train</td>\n",
       "      <td>train</td>\n",
       "      <td>valid</td>\n",
       "      <td>train</td>\n",
       "    </tr>\n",
       "  </tbody>\n",
       "</table>\n",
       "<p>270408 rows × 5 columns</p>\n",
       "</div>"
      ],
      "text/plain": [
       "        fold0  fold1  fold2  fold3  fold4\n",
       "0       train  valid  train  train  train\n",
       "1       train  train  train  valid  train\n",
       "2       train  train  train  train  valid\n",
       "3       train  train  valid  train  train\n",
       "4       train  train  train  valid  train\n",
       "...       ...    ...    ...    ...    ...\n",
       "677034  train  valid  train  train  train\n",
       "677035  train  train  valid  train  train\n",
       "677041  valid  train  train  train  train\n",
       "677042  valid  train  train  train  train\n",
       "677043  train  train  train  valid  train\n",
       "\n",
       "[270408 rows x 5 columns]"
      ]
     },
     "execution_count": 61,
     "metadata": {},
     "output_type": "execute_result"
    }
   ],
   "source": [
    "split_df"
   ]
  },
  {
   "cell_type": "code",
   "execution_count": 63,
   "id": "6b7d6f67",
   "metadata": {},
   "outputs": [],
   "source": [
    "datafileAug5 = chemblAug5DataToks_10_32.join(split_df)"
   ]
  },
  {
   "cell_type": "code",
   "execution_count": 67,
   "id": "356dbbba",
   "metadata": {},
   "outputs": [],
   "source": [
    "datafileAug5.to_csv(os.path.join(pathData,\"chemblAug5.tar.xz\"), compression=\"xz\", index=False)"
   ]
  }
 ],
 "metadata": {
  "kernelspec": {
   "display_name": "Python 3 (ipykernel)",
   "language": "python",
   "name": "python3"
  },
  "language_info": {
   "codemirror_mode": {
    "name": "ipython",
    "version": 3
   },
   "file_extension": ".py",
   "mimetype": "text/x-python",
   "name": "python",
   "nbconvert_exporter": "python",
   "pygments_lexer": "ipython3",
   "version": "3.11.9"
  }
 },
 "nbformat": 4,
 "nbformat_minor": 5
}
