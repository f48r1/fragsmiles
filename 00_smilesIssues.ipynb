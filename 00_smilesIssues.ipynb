{
 "cells": [
  {
   "cell_type": "code",
   "execution_count": 1,
   "id": "48119bf8-b7b1-4e60-8f7e-ca5ecdc4412a",
   "metadata": {},
   "outputs": [],
   "source": [
    "import pandas as pd, numpy as np\n",
    "from PIL import Image\n",
    "from io import BytesIO\n",
    "from rdkit import Chem\n",
    "from rdkit.Chem import Draw\n",
    "from IPython.display import display_png\n",
    "from IPython.display import SVG as displaySvg\n",
    "import selfies as sf"
   ]
  },
  {
   "cell_type": "markdown",
   "id": "8a14ce7b-3a15-48b5-88c4-e870b5583fbf",
   "metadata": {},
   "source": [
    "## Pictures"
   ]
  },
  {
   "cell_type": "code",
   "execution_count": 2,
   "id": "a193daae-4d0c-47b0-ae23-2e1c9ce76ea1",
   "metadata": {},
   "outputs": [],
   "source": [
    "def drawMol(mol,legend='',highlightAtoms=[]):\n",
    "    # d2d = Draw.MolDraw2DCairo(-1,-1)\n",
    "    d2d = Draw.MolDraw2DSVG(-1,-1)\n",
    "    dopts = d2d.drawOptions()\n",
    "    dopts.useBWAtomPalette()\n",
    "    dopts.continuousHighlight = True\n",
    "    dopts.circleAtoms = False\n",
    "    dopts.atomHighlightsAreCircles=False\n",
    "    dopts.highlightRadius=0.1\n",
    "    dopts.setHighlightColour((1,0,0,.5))\n",
    "    # dopts.setBackgroundColour((1,1,1,0))\n",
    "    d2d.DrawMolecule(mol,legend=legend, highlightAtoms=highlightAtoms)\n",
    "    d2d.FinishDrawing()\n",
    "    # bio = BytesIO(d2d.GetDrawingText())\n",
    "    svg = d2d.GetDrawingText()\n",
    "    return svg.replace('svg:','')\n",
    "    # return Image.open(bio)"
   ]
  },
  {
   "cell_type": "code",
   "execution_count": 3,
   "id": "f9c516e0-7b74-4f8f-ad8d-14b8ca3e46ef",
   "metadata": {},
   "outputs": [],
   "source": [
    "paracetamol = Chem.MolFromSmiles(\"c1(O)ccc(cc1)NC(C)=O\")"
   ]
  },
  {
   "cell_type": "code",
   "execution_count": 4,
   "id": "70ebac12-f30c-4ff2-9d59-136db25b9fdf",
   "metadata": {},
   "outputs": [
    {
     "data": {
      "image/svg+xml": [
       "<svg xmlns=\"http://www.w3.org/2000/svg\" xmlns:rdkit=\"http://www.rdkit.org/xml\" xmlns:xlink=\"http://www.w3.org/1999/xlink\" version=\"1.1\" baseProfile=\"full\" xml:space=\"preserve\" width=\"196px\" height=\"75px\" viewBox=\"0 0 196 75\">\n",
       "<!-- END OF HEADER -->\n",
       "<rect style=\"opacity:1.0;fill:#FFFFFF;stroke:none\" width=\"196.0\" height=\"75.0\" x=\"0.0\" y=\"0.0\"> </rect>\n",
       "<path class=\"bond-0 atom-0 atom-1\" d=\"M 50.7,40.0 L 27.1,46.3\" style=\"fill:none;fill-rule:evenodd;stroke:#000000;stroke-width:2.0px;stroke-linecap:butt;stroke-linejoin:miter;stroke-opacity:1\"/>\n",
       "<path class=\"bond-1 atom-0 atom-2\" d=\"M 50.7,40.0 L 58.4,11.5\" style=\"fill:none;fill-rule:evenodd;stroke:#000000;stroke-width:2.0px;stroke-linecap:butt;stroke-linejoin:miter;stroke-opacity:1\"/>\n",
       "<path class=\"bond-1 atom-0 atom-2\" d=\"M 55.7,38.7 L 62.0,15.1\" style=\"fill:none;fill-rule:evenodd;stroke:#000000;stroke-width:2.0px;stroke-linecap:butt;stroke-linejoin:miter;stroke-opacity:1\"/>\n",
       "<path class=\"bond-2 atom-2 atom-3\" d=\"M 58.4,11.5 L 86.8,3.9\" style=\"fill:none;fill-rule:evenodd;stroke:#000000;stroke-width:2.0px;stroke-linecap:butt;stroke-linejoin:miter;stroke-opacity:1\"/>\n",
       "<path class=\"bond-3 atom-3 atom-4\" d=\"M 86.8,3.9 L 107.6,24.7\" style=\"fill:none;fill-rule:evenodd;stroke:#000000;stroke-width:2.0px;stroke-linecap:butt;stroke-linejoin:miter;stroke-opacity:1\"/>\n",
       "<path class=\"bond-3 atom-3 atom-4\" d=\"M 85.5,8.8 L 102.7,26.0\" style=\"fill:none;fill-rule:evenodd;stroke:#000000;stroke-width:2.0px;stroke-linecap:butt;stroke-linejoin:miter;stroke-opacity:1\"/>\n",
       "<path class=\"bond-4 atom-4 atom-5\" d=\"M 107.6,24.7 L 100.0,53.2\" style=\"fill:none;fill-rule:evenodd;stroke:#000000;stroke-width:2.0px;stroke-linecap:butt;stroke-linejoin:miter;stroke-opacity:1\"/>\n",
       "<path class=\"bond-5 atom-5 atom-6\" d=\"M 100.0,53.2 L 71.6,60.8\" style=\"fill:none;fill-rule:evenodd;stroke:#000000;stroke-width:2.0px;stroke-linecap:butt;stroke-linejoin:miter;stroke-opacity:1\"/>\n",
       "<path class=\"bond-5 atom-5 atom-6\" d=\"M 96.4,49.6 L 72.9,55.9\" style=\"fill:none;fill-rule:evenodd;stroke:#000000;stroke-width:2.0px;stroke-linecap:butt;stroke-linejoin:miter;stroke-opacity:1\"/>\n",
       "<path class=\"bond-6 atom-4 atom-7\" d=\"M 107.6,24.7 L 132.0,18.2\" style=\"fill:none;fill-rule:evenodd;stroke:#000000;stroke-width:2.0px;stroke-linecap:butt;stroke-linejoin:miter;stroke-opacity:1\"/>\n",
       "<path class=\"bond-7 atom-7 atom-8\" d=\"M 140.2,21.2 L 156.9,37.9\" style=\"fill:none;fill-rule:evenodd;stroke:#000000;stroke-width:2.0px;stroke-linecap:butt;stroke-linejoin:miter;stroke-opacity:1\"/>\n",
       "<path class=\"bond-8 atom-8 atom-9\" d=\"M 156.9,37.9 L 185.4,30.3\" style=\"fill:none;fill-rule:evenodd;stroke:#000000;stroke-width:2.0px;stroke-linecap:butt;stroke-linejoin:miter;stroke-opacity:1\"/>\n",
       "<path class=\"bond-9 atom-8 atom-10\" d=\"M 155.1,36.1 L 148.6,60.6\" style=\"fill:none;fill-rule:evenodd;stroke:#000000;stroke-width:2.0px;stroke-linecap:butt;stroke-linejoin:miter;stroke-opacity:1\"/>\n",
       "<path class=\"bond-9 atom-8 atom-10\" d=\"M 159.4,37.3 L 152.8,61.8\" style=\"fill:none;fill-rule:evenodd;stroke:#000000;stroke-width:2.0px;stroke-linecap:butt;stroke-linejoin:miter;stroke-opacity:1\"/>\n",
       "<path class=\"bond-10 atom-6 atom-0\" d=\"M 71.6,60.8 L 50.7,40.0\" style=\"fill:none;fill-rule:evenodd;stroke:#000000;stroke-width:2.0px;stroke-linecap:butt;stroke-linejoin:miter;stroke-opacity:1\"/>\n",
       "<path d=\"M 58.0,12.9 L 58.4,11.5 L 59.8,11.1\" style=\"fill:none;stroke:#000000;stroke-width:2.0px;stroke-linecap:butt;stroke-linejoin:miter;stroke-opacity:1;\"/>\n",
       "<path d=\"M 85.4,4.3 L 86.8,3.9 L 87.9,4.9\" style=\"fill:none;stroke:#000000;stroke-width:2.0px;stroke-linecap:butt;stroke-linejoin:miter;stroke-opacity:1;\"/>\n",
       "<path d=\"M 100.4,51.8 L 100.0,53.2 L 98.6,53.6\" style=\"fill:none;stroke:#000000;stroke-width:2.0px;stroke-linecap:butt;stroke-linejoin:miter;stroke-opacity:1;\"/>\n",
       "<path d=\"M 73.0,60.4 L 71.6,60.8 L 70.5,59.8\" style=\"fill:none;stroke:#000000;stroke-width:2.0px;stroke-linecap:butt;stroke-linejoin:miter;stroke-opacity:1;\"/>\n",
       "<path d=\"M 156.1,37.1 L 156.9,37.9 L 158.4,37.6\" style=\"fill:none;stroke:#000000;stroke-width:2.0px;stroke-linecap:butt;stroke-linejoin:miter;stroke-opacity:1;\"/>\n",
       "<path class=\"atom-1\" d=\"M 10.2 43.5 L 11.3 43.5 L 11.3 47.0 L 15.6 47.0 L 15.6 43.5 L 16.7 43.5 L 16.7 51.8 L 15.6 51.8 L 15.6 48.0 L 11.3 48.0 L 11.3 51.8 L 10.2 51.8 L 10.2 43.5 \" fill=\"#000000\"/>\n",
       "<path class=\"atom-1\" d=\"M 18.4 47.6 Q 18.4 45.6, 19.4 44.5 Q 20.4 43.4, 22.3 43.4 Q 24.1 43.4, 25.1 44.5 Q 26.1 45.6, 26.1 47.6 Q 26.1 49.7, 25.1 50.8 Q 24.1 52.0, 22.3 52.0 Q 20.4 52.0, 19.4 50.8 Q 18.4 49.7, 18.4 47.6 M 22.3 51.0 Q 23.5 51.0, 24.2 50.2 Q 24.9 49.3, 24.9 47.6 Q 24.9 46.0, 24.2 45.2 Q 23.5 44.3, 22.3 44.3 Q 21.0 44.3, 20.3 45.2 Q 19.6 46.0, 19.6 47.6 Q 19.6 49.3, 20.3 50.2 Q 21.0 51.0, 22.3 51.0 \" fill=\"#000000\"/>\n",
       "<path class=\"atom-7\" d=\"M 134.3 12.9 L 137.0 17.3 Q 137.3 17.8, 137.7 18.6 Q 138.1 19.4, 138.2 19.4 L 138.2 12.9 L 139.3 12.9 L 139.3 21.3 L 138.1 21.3 L 135.2 16.4 Q 134.9 15.9, 134.5 15.2 Q 134.1 14.6, 134.0 14.4 L 134.0 21.3 L 132.9 21.3 L 132.9 12.9 L 134.3 12.9 \" fill=\"#000000\"/>\n",
       "<path class=\"atom-7\" d=\"M 132.8 3.7 L 134.0 3.7 L 134.0 7.3 L 138.2 7.3 L 138.2 3.7 L 139.4 3.7 L 139.4 12.1 L 138.2 12.1 L 138.2 8.2 L 134.0 8.2 L 134.0 12.1 L 132.8 12.1 L 132.8 3.7 \" fill=\"#000000\"/>\n",
       "<path class=\"atom-10\" d=\"M 145.5 66.4 Q 145.5 64.4, 146.5 63.3 Q 147.5 62.2, 149.3 62.2 Q 151.2 62.2, 152.2 63.3 Q 153.2 64.4, 153.2 66.4 Q 153.2 68.5, 152.2 69.6 Q 151.1 70.8, 149.3 70.8 Q 147.5 70.8, 146.5 69.6 Q 145.5 68.5, 145.5 66.4 M 149.3 69.8 Q 150.6 69.8, 151.3 69.0 Q 152.0 68.1, 152.0 66.4 Q 152.0 64.8, 151.3 64.0 Q 150.6 63.1, 149.3 63.1 Q 148.0 63.1, 147.4 63.9 Q 146.7 64.8, 146.7 66.4 Q 146.7 68.1, 147.4 69.0 Q 148.0 69.8, 149.3 69.8 \" fill=\"#000000\"/>\n",
       "</svg>"
      ],
      "text/plain": [
       "<IPython.core.display.SVG object>"
      ]
     },
     "execution_count": 4,
     "metadata": {},
     "output_type": "execute_result"
    }
   ],
   "source": [
    "displaySvg(drawMol(paracetamol))"
   ]
  },
  {
   "cell_type": "code",
   "execution_count": 4,
   "id": "af4fe26a-9a78-4a31-a588-3828b8e18518",
   "metadata": {},
   "outputs": [],
   "source": [
    "chemicals={\"Indomethacin\":Chem.CanonSmiles(\"CC1=C(C2=C(N1C(=O)C3=CC=C(C=C3)Cl)C=CC(=C2)OC)CC(=O)O\"),\n",
    "     \"Serotonin\":Chem.CanonSmiles(\"C1=CC2=C(C=C1O)C(=CN2)CCN\"),\n",
    "     \"Sumatriptan\":Chem.CanonSmiles(\"CNS(=O)(=O)CC1=CC2=C(C=C1)NC=C2CCN(C)C\"),\n",
    "          \"Paracetamol\":\"c1(O)ccc(cc1)NC(C)=O\"}\n",
    "df = pd.DataFrame( list(chemicals.values()), columns=[\"canonSmiles\"], index = chemicals.keys() )"
   ]
  },
  {
   "cell_type": "code",
   "execution_count": 8,
   "id": "0c5fe0a8-2a52-447a-8824-9535fab81a25",
   "metadata": {},
   "outputs": [],
   "source": [
    "df[\"mol\"]=df[\"canonSmiles\"].apply(Chem.MolFromSmiles)"
   ]
  },
  {
   "cell_type": "code",
   "execution_count": 7,
   "id": "f9e17225-c2a7-406d-87a7-3a928de1f98d",
   "metadata": {},
   "outputs": [],
   "source": [
    "patt=Chem.MolFromSmiles('c1ccc2[nH]ccc2c1')\n",
    "df[\"img\"]=df[\"mol\"].apply(lambda mol : drawMol( mol, highlightAtoms=mol.GetSubstructMatch(patt)))"
   ]
  },
  {
   "cell_type": "code",
   "execution_count": 8,
   "id": "07257340-55ba-4ad6-a41c-97f7748fb077",
   "metadata": {},
   "outputs": [
    {
     "data": {
      "image/svg+xml": [
       "<svg xmlns=\"http://www.w3.org/2000/svg\" xmlns:rdkit=\"http://www.rdkit.org/xml\" xmlns:xlink=\"http://www.w3.org/1999/xlink\" version=\"1.1\" baseProfile=\"full\" xml:space=\"preserve\" width=\"306px\" height=\"198px\" viewBox=\"0 0 306 198\">\n",
       "<!-- END OF HEADER -->\n",
       "<rect style=\"opacity:1.0;fill:#FFFFFF;stroke:none\" width=\"306.0\" height=\"198.0\" x=\"0.0\" y=\"0.0\"> </rect>\n",
       "<path class=\"bond-2 atom-2 atom-3\" d=\"M 72.5,33.7 L 76.5,39.8 L 65.0,63.0 L 57.7,63.5 Z\" style=\"fill:#FF00007F;fill-rule:evenodd;fill-opacity:0.5;stroke:#FF00007F;stroke-width:0.0px;stroke-linecap:butt;stroke-linejoin:miter;stroke-opacity:0.5;\"/>\n",
       "<path class=\"bond-24 atom-2 atom-7\" d=\"M 65.0,63.0 L 79.4,84.6 L 76.2,91.1 L 57.7,63.5 Z\" style=\"fill:#FF00007F;fill-rule:evenodd;fill-opacity:0.5;stroke:#FF00007F;stroke-width:0.0px;stroke-linecap:butt;stroke-linejoin:miter;stroke-opacity:0.5;\"/>\n",
       "<path class=\"bond-3 atom-3 atom-4\" d=\"M 105.6,31.6 L 102.4,38.1 L 76.5,39.8 L 72.5,33.7 Z\" style=\"fill:#FF00007F;fill-rule:evenodd;fill-opacity:0.5;stroke:#FF00007F;stroke-width:0.0px;stroke-linecap:butt;stroke-linejoin:miter;stroke-opacity:0.5;\"/>\n",
       "<path class=\"bond-4 atom-4 atom-5\" d=\"M 105.6,31.6 L 122.3,56.6 L 120.4,59.5 L 116.8,59.7 L 102.4,38.1 Z\" style=\"fill:#FF00007F;fill-rule:evenodd;fill-opacity:0.5;stroke:#FF00007F;stroke-width:0.0px;stroke-linecap:butt;stroke-linejoin:miter;stroke-opacity:0.5;\"/>\n",
       "<path class=\"bond-5 atom-5 atom-6\" d=\"M 120.4,59.5 L 122.2,62.9 L 111.1,85.3 L 107.3,86.0 L 105.3,83.0 L 116.8,59.7 Z\" style=\"fill:#FF00007F;fill-rule:evenodd;fill-opacity:0.5;stroke:#FF00007F;stroke-width:0.0px;stroke-linecap:butt;stroke-linejoin:miter;stroke-opacity:0.5;\"/>\n",
       "<path class=\"bond-26 atom-5 atom-15\" d=\"M 122.3,56.6 L 152.4,61.0 L 146.9,66.6 L 122.2,62.9 L 120.4,59.5 Z\" style=\"fill:#FF00007F;fill-rule:evenodd;fill-opacity:0.5;stroke:#FF00007F;stroke-width:0.0px;stroke-linecap:butt;stroke-linejoin:miter;stroke-opacity:0.5;\"/>\n",
       "<path class=\"bond-6 atom-6 atom-7\" d=\"M 105.3,83.0 L 107.3,86.0 L 106.1,89.2 L 76.2,91.1 L 79.4,84.6 Z\" style=\"fill:#FF00007F;fill-rule:evenodd;fill-opacity:0.5;stroke:#FF00007F;stroke-width:0.0px;stroke-linecap:butt;stroke-linejoin:miter;stroke-opacity:0.5;\"/>\n",
       "<path class=\"bond-7 atom-6 atom-8\" d=\"M 111.1,85.3 L 129.0,102.8 L 127.9,110.5 L 106.1,89.2 L 107.3,86.0 Z\" style=\"fill:#FF00007F;fill-rule:evenodd;fill-opacity:0.5;stroke:#FF00007F;stroke-width:0.0px;stroke-linecap:butt;stroke-linejoin:miter;stroke-opacity:0.5;\"/>\n",
       "<path class=\"bond-12 atom-8 atom-13\" d=\"M 151.1,91.2 L 158.1,94.7 L 127.9,110.5 L 129.0,102.8 Z\" style=\"fill:#FF00007F;fill-rule:evenodd;fill-opacity:0.5;stroke:#FF00007F;stroke-width:0.0px;stroke-linecap:butt;stroke-linejoin:miter;stroke-opacity:0.5;\"/>\n",
       "<path class=\"bond-14 atom-13 atom-15\" d=\"M 152.4,61.0 L 158.1,94.7 L 151.1,91.2 L 146.9,66.6 Z\" style=\"fill:#FF00007F;fill-rule:evenodd;fill-opacity:0.5;stroke:#FF00007F;stroke-width:0.0px;stroke-linecap:butt;stroke-linejoin:miter;stroke-opacity:0.5;\"/>\n",
       "<ellipse cx=\"61.4\" cy=\"63.3\" rx=\"2.0\" ry=\"2.0\" class=\"atom-2\" style=\"fill:#FF00007F;fill-rule:evenodd;stroke:#FF00007F;stroke-width:1.0px;stroke-linecap:butt;stroke-linejoin:miter;stroke-opacity:1\"/>\n",
       "<ellipse cx=\"74.5\" cy=\"36.8\" rx=\"2.0\" ry=\"2.0\" class=\"atom-3\" style=\"fill:#FF00007F;fill-rule:evenodd;stroke:#FF00007F;stroke-width:1.0px;stroke-linecap:butt;stroke-linejoin:miter;stroke-opacity:1\"/>\n",
       "<ellipse cx=\"104.0\" cy=\"34.9\" rx=\"2.0\" ry=\"2.0\" class=\"atom-4\" style=\"fill:#FF00007F;fill-rule:evenodd;stroke:#FF00007F;stroke-width:1.0px;stroke-linecap:butt;stroke-linejoin:miter;stroke-opacity:1\"/>\n",
       "<ellipse cx=\"120.4\" cy=\"59.5\" rx=\"2.0\" ry=\"2.0\" class=\"atom-5\" style=\"fill:#FF00007F;fill-rule:evenodd;stroke:#FF00007F;stroke-width:1.0px;stroke-linecap:butt;stroke-linejoin:miter;stroke-opacity:1\"/>\n",
       "<ellipse cx=\"107.3\" cy=\"86.0\" rx=\"2.0\" ry=\"2.0\" class=\"atom-6\" style=\"fill:#FF00007F;fill-rule:evenodd;stroke:#FF00007F;stroke-width:1.0px;stroke-linecap:butt;stroke-linejoin:miter;stroke-opacity:1\"/>\n",
       "<ellipse cx=\"77.8\" cy=\"87.9\" rx=\"2.0\" ry=\"2.0\" class=\"atom-7\" style=\"fill:#FF00007F;fill-rule:evenodd;stroke:#FF00007F;stroke-width:1.0px;stroke-linecap:butt;stroke-linejoin:miter;stroke-opacity:1\"/>\n",
       "<ellipse cx=\"128.4\" cy=\"106.7\" rx=\"2.0\" ry=\"2.0\" class=\"atom-8\" style=\"fill:#FF00007F;fill-rule:evenodd;stroke:#FF00007F;stroke-width:1.0px;stroke-linecap:butt;stroke-linejoin:miter;stroke-opacity:1\"/>\n",
       "<ellipse cx=\"154.6\" cy=\"92.9\" rx=\"2.0\" ry=\"2.0\" class=\"atom-13\" style=\"fill:#FF00007F;fill-rule:evenodd;stroke:#FF00007F;stroke-width:1.0px;stroke-linecap:butt;stroke-linejoin:miter;stroke-opacity:1\"/>\n",
       "<ellipse cx=\"149.7\" cy=\"63.8\" rx=\"4.5\" ry=\"5.9\" class=\"atom-15\" style=\"fill:#FF00007F;fill-rule:evenodd;stroke:#FF00007F;stroke-width:1.0px;stroke-linecap:butt;stroke-linejoin:miter;stroke-opacity:1\"/>\n",
       "<path class=\"bond-0 atom-0 atom-1\" d=\"M 15.5,40.5 L 28.4,59.9\" style=\"fill:none;fill-rule:evenodd;stroke:#000000;stroke-width:2.0px;stroke-linecap:butt;stroke-linejoin:miter;stroke-opacity:1\"/>\n",
       "<path class=\"bond-1 atom-1 atom-2\" d=\"M 36.7,64.9 L 61.4,63.3\" style=\"fill:none;fill-rule:evenodd;stroke:#000000;stroke-width:2.0px;stroke-linecap:butt;stroke-linejoin:miter;stroke-opacity:1\"/>\n",
       "<path class=\"bond-2 atom-2 atom-3\" d=\"M 61.4,63.3 L 74.5,36.8\" style=\"fill:none;fill-rule:evenodd;stroke:#000000;stroke-width:2.0px;stroke-linecap:butt;stroke-linejoin:miter;stroke-opacity:1\"/>\n",
       "<path class=\"bond-2 atom-2 atom-3\" d=\"M 66.5,62.9 L 77.3,41.0\" style=\"fill:none;fill-rule:evenodd;stroke:#000000;stroke-width:2.0px;stroke-linecap:butt;stroke-linejoin:miter;stroke-opacity:1\"/>\n",
       "<path class=\"bond-3 atom-3 atom-4\" d=\"M 74.5,36.8 L 104.0,34.9\" style=\"fill:none;fill-rule:evenodd;stroke:#000000;stroke-width:2.0px;stroke-linecap:butt;stroke-linejoin:miter;stroke-opacity:1\"/>\n",
       "<path class=\"bond-4 atom-4 atom-5\" d=\"M 104.0,34.9 L 120.4,59.5\" style=\"fill:none;fill-rule:evenodd;stroke:#000000;stroke-width:2.0px;stroke-linecap:butt;stroke-linejoin:miter;stroke-opacity:1\"/>\n",
       "<path class=\"bond-4 atom-4 atom-5\" d=\"M 101.7,39.5 L 115.3,59.8\" style=\"fill:none;fill-rule:evenodd;stroke:#000000;stroke-width:2.0px;stroke-linecap:butt;stroke-linejoin:miter;stroke-opacity:1\"/>\n",
       "<path class=\"bond-5 atom-5 atom-6\" d=\"M 120.4,59.5 L 107.3,86.0\" style=\"fill:none;fill-rule:evenodd;stroke:#000000;stroke-width:2.0px;stroke-linecap:butt;stroke-linejoin:miter;stroke-opacity:1\"/>\n",
       "<path class=\"bond-6 atom-6 atom-7\" d=\"M 107.3,86.0 L 77.8,87.9\" style=\"fill:none;fill-rule:evenodd;stroke:#000000;stroke-width:2.0px;stroke-linecap:butt;stroke-linejoin:miter;stroke-opacity:1\"/>\n",
       "<path class=\"bond-6 atom-6 atom-7\" d=\"M 104.4,81.7 L 80.0,83.3\" style=\"fill:none;fill-rule:evenodd;stroke:#000000;stroke-width:2.0px;stroke-linecap:butt;stroke-linejoin:miter;stroke-opacity:1\"/>\n",
       "<path class=\"bond-7 atom-6 atom-8\" d=\"M 107.3,86.0 L 128.4,106.7\" style=\"fill:none;fill-rule:evenodd;stroke:#000000;stroke-width:2.0px;stroke-linecap:butt;stroke-linejoin:miter;stroke-opacity:1\"/>\n",
       "<path class=\"bond-8 atom-8 atom-9\" d=\"M 128.4,106.7 L 124.2,135.9\" style=\"fill:none;fill-rule:evenodd;stroke:#000000;stroke-width:2.0px;stroke-linecap:butt;stroke-linejoin:miter;stroke-opacity:1\"/>\n",
       "<path class=\"bond-9 atom-9 atom-10\" d=\"M 124.2,135.9 L 147.4,154.3\" style=\"fill:none;fill-rule:evenodd;stroke:#000000;stroke-width:2.0px;stroke-linecap:butt;stroke-linejoin:miter;stroke-opacity:1\"/>\n",
       "<path class=\"bond-10 atom-10 atom-11\" d=\"M 147.0,156.8 L 170.8,147.3\" style=\"fill:none;fill-rule:evenodd;stroke:#000000;stroke-width:2.0px;stroke-linecap:butt;stroke-linejoin:miter;stroke-opacity:1\"/>\n",
       "<path class=\"bond-10 atom-10 atom-11\" d=\"M 145.4,152.7 L 169.2,143.2\" style=\"fill:none;fill-rule:evenodd;stroke:#000000;stroke-width:2.0px;stroke-linecap:butt;stroke-linejoin:miter;stroke-opacity:1\"/>\n",
       "<path class=\"bond-11 atom-10 atom-12\" d=\"M 147.4,154.3 L 143.8,178.3\" style=\"fill:none;fill-rule:evenodd;stroke:#000000;stroke-width:2.0px;stroke-linecap:butt;stroke-linejoin:miter;stroke-opacity:1\"/>\n",
       "<path class=\"bond-12 atom-8 atom-13\" d=\"M 128.4,106.7 L 154.6,92.9\" style=\"fill:none;fill-rule:evenodd;stroke:#000000;stroke-width:2.0px;stroke-linecap:butt;stroke-linejoin:miter;stroke-opacity:1\"/>\n",
       "<path class=\"bond-12 atom-8 atom-13\" d=\"M 129.2,101.2 L 149.7,90.5\" style=\"fill:none;fill-rule:evenodd;stroke:#000000;stroke-width:2.0px;stroke-linecap:butt;stroke-linejoin:miter;stroke-opacity:1\"/>\n",
       "<path class=\"bond-13 atom-13 atom-14\" d=\"M 154.6,92.9 L 181.1,106.0\" style=\"fill:none;fill-rule:evenodd;stroke:#000000;stroke-width:2.0px;stroke-linecap:butt;stroke-linejoin:miter;stroke-opacity:1\"/>\n",
       "<path class=\"bond-14 atom-13 atom-15\" d=\"M 154.6,92.9 L 150.6,68.9\" style=\"fill:none;fill-rule:evenodd;stroke:#000000;stroke-width:2.0px;stroke-linecap:butt;stroke-linejoin:miter;stroke-opacity:1\"/>\n",
       "<path class=\"bond-15 atom-15 atom-16\" d=\"M 153.8,59.5 L 170.3,42.6\" style=\"fill:none;fill-rule:evenodd;stroke:#000000;stroke-width:2.0px;stroke-linecap:butt;stroke-linejoin:miter;stroke-opacity:1\"/>\n",
       "<path class=\"bond-16 atom-16 atom-17\" d=\"M 172.8,43.2 L 166.0,18.9\" style=\"fill:none;fill-rule:evenodd;stroke:#000000;stroke-width:2.0px;stroke-linecap:butt;stroke-linejoin:miter;stroke-opacity:1\"/>\n",
       "<path class=\"bond-16 atom-16 atom-17\" d=\"M 168.6,44.4 L 161.7,20.1\" style=\"fill:none;fill-rule:evenodd;stroke:#000000;stroke-width:2.0px;stroke-linecap:butt;stroke-linejoin:miter;stroke-opacity:1\"/>\n",
       "<path class=\"bond-17 atom-16 atom-18\" d=\"M 170.3,42.6 L 199.0,49.9\" style=\"fill:none;fill-rule:evenodd;stroke:#000000;stroke-width:2.0px;stroke-linecap:butt;stroke-linejoin:miter;stroke-opacity:1\"/>\n",
       "<path class=\"bond-18 atom-18 atom-19\" d=\"M 199.0,49.9 L 207.0,78.4\" style=\"fill:none;fill-rule:evenodd;stroke:#000000;stroke-width:2.0px;stroke-linecap:butt;stroke-linejoin:miter;stroke-opacity:1\"/>\n",
       "<path class=\"bond-18 atom-18 atom-19\" d=\"M 204.0,51.2 L 210.6,74.7\" style=\"fill:none;fill-rule:evenodd;stroke:#000000;stroke-width:2.0px;stroke-linecap:butt;stroke-linejoin:miter;stroke-opacity:1\"/>\n",
       "<path class=\"bond-19 atom-19 atom-20\" d=\"M 207.0,78.4 L 235.6,85.7\" style=\"fill:none;fill-rule:evenodd;stroke:#000000;stroke-width:2.0px;stroke-linecap:butt;stroke-linejoin:miter;stroke-opacity:1\"/>\n",
       "<path class=\"bond-20 atom-20 atom-21\" d=\"M 235.6,85.7 L 256.3,64.6\" style=\"fill:none;fill-rule:evenodd;stroke:#000000;stroke-width:2.0px;stroke-linecap:butt;stroke-linejoin:miter;stroke-opacity:1\"/>\n",
       "<path class=\"bond-20 atom-20 atom-21\" d=\"M 234.3,80.8 L 251.3,63.3\" style=\"fill:none;fill-rule:evenodd;stroke:#000000;stroke-width:2.0px;stroke-linecap:butt;stroke-linejoin:miter;stroke-opacity:1\"/>\n",
       "<path class=\"bond-21 atom-21 atom-22\" d=\"M 256.3,64.6 L 280.8,70.8\" style=\"fill:none;fill-rule:evenodd;stroke:#000000;stroke-width:2.0px;stroke-linecap:butt;stroke-linejoin:miter;stroke-opacity:1\"/>\n",
       "<path class=\"bond-22 atom-21 atom-23\" d=\"M 256.3,64.6 L 248.3,36.1\" style=\"fill:none;fill-rule:evenodd;stroke:#000000;stroke-width:2.0px;stroke-linecap:butt;stroke-linejoin:miter;stroke-opacity:1\"/>\n",
       "<path class=\"bond-23 atom-23 atom-24\" d=\"M 248.3,36.1 L 219.7,28.8\" style=\"fill:none;fill-rule:evenodd;stroke:#000000;stroke-width:2.0px;stroke-linecap:butt;stroke-linejoin:miter;stroke-opacity:1\"/>\n",
       "<path class=\"bond-23 atom-23 atom-24\" d=\"M 244.7,39.8 L 221.1,33.7\" style=\"fill:none;fill-rule:evenodd;stroke:#000000;stroke-width:2.0px;stroke-linecap:butt;stroke-linejoin:miter;stroke-opacity:1\"/>\n",
       "<path class=\"bond-24 atom-7 atom-2\" d=\"M 77.8,87.9 L 61.4,63.3\" style=\"fill:none;fill-rule:evenodd;stroke:#000000;stroke-width:2.0px;stroke-linecap:butt;stroke-linejoin:miter;stroke-opacity:1\"/>\n",
       "<path class=\"bond-25 atom-24 atom-18\" d=\"M 219.7,28.8 L 199.0,49.9\" style=\"fill:none;fill-rule:evenodd;stroke:#000000;stroke-width:2.0px;stroke-linecap:butt;stroke-linejoin:miter;stroke-opacity:1\"/>\n",
       "<path class=\"bond-26 atom-15 atom-5\" d=\"M 145.5,63.2 L 120.4,59.5\" style=\"fill:none;fill-rule:evenodd;stroke:#000000;stroke-width:2.0px;stroke-linecap:butt;stroke-linejoin:miter;stroke-opacity:1\"/>\n",
       "<path d=\"M 73.8,38.1 L 74.5,36.8 L 76.0,36.7\" style=\"fill:none;stroke:#000000;stroke-width:2.0px;stroke-linecap:butt;stroke-linejoin:miter;stroke-opacity:1;\"/>\n",
       "<path d=\"M 102.5,35.0 L 104.0,34.9 L 104.8,36.1\" style=\"fill:none;stroke:#000000;stroke-width:2.0px;stroke-linecap:butt;stroke-linejoin:miter;stroke-opacity:1;\"/>\n",
       "<path d=\"M 79.2,87.8 L 77.8,87.9 L 77.0,86.7\" style=\"fill:none;stroke:#000000;stroke-width:2.0px;stroke-linecap:butt;stroke-linejoin:miter;stroke-opacity:1;\"/>\n",
       "<path d=\"M 124.4,134.5 L 124.2,135.9 L 125.3,136.8\" style=\"fill:none;stroke:#000000;stroke-width:2.0px;stroke-linecap:butt;stroke-linejoin:miter;stroke-opacity:1;\"/>\n",
       "<path d=\"M 146.2,153.4 L 147.4,154.3 L 147.2,155.5\" style=\"fill:none;stroke:#000000;stroke-width:2.0px;stroke-linecap:butt;stroke-linejoin:miter;stroke-opacity:1;\"/>\n",
       "<path d=\"M 169.5,43.5 L 170.3,42.6 L 171.8,43.0\" style=\"fill:none;stroke:#000000;stroke-width:2.0px;stroke-linecap:butt;stroke-linejoin:miter;stroke-opacity:1;\"/>\n",
       "<path d=\"M 206.6,77.0 L 207.0,78.4 L 208.4,78.8\" style=\"fill:none;stroke:#000000;stroke-width:2.0px;stroke-linecap:butt;stroke-linejoin:miter;stroke-opacity:1;\"/>\n",
       "<path d=\"M 234.2,85.4 L 235.6,85.7 L 236.7,84.7\" style=\"fill:none;stroke:#000000;stroke-width:2.0px;stroke-linecap:butt;stroke-linejoin:miter;stroke-opacity:1;\"/>\n",
       "<path d=\"M 248.7,37.5 L 248.3,36.1 L 246.9,35.7\" style=\"fill:none;stroke:#000000;stroke-width:2.0px;stroke-linecap:butt;stroke-linejoin:miter;stroke-opacity:1;\"/>\n",
       "<path d=\"M 221.1,29.1 L 219.7,28.8 L 218.6,29.8\" style=\"fill:none;stroke:#000000;stroke-width:2.0px;stroke-linecap:butt;stroke-linejoin:miter;stroke-opacity:1;\"/>\n",
       "<path class=\"atom-1\" d=\"M 28.0 65.2 Q 28.0 63.2, 29.0 62.0 Q 30.0 60.9, 31.9 60.9 Q 33.7 60.9, 34.7 62.0 Q 35.7 63.2, 35.7 65.2 Q 35.7 67.2, 34.7 68.4 Q 33.7 69.5, 31.9 69.5 Q 30.0 69.5, 29.0 68.4 Q 28.0 67.2, 28.0 65.2 M 31.9 68.6 Q 33.1 68.6, 33.8 67.7 Q 34.5 66.9, 34.5 65.2 Q 34.5 63.5, 33.8 62.7 Q 33.1 61.9, 31.9 61.9 Q 30.6 61.9, 29.9 62.7 Q 29.2 63.5, 29.2 65.2 Q 29.2 66.9, 29.9 67.7 Q 30.6 68.6, 31.9 68.6 \" fill=\"#000000\"/>\n",
       "<path class=\"atom-11\" d=\"M 171.0 143.4 Q 171.0 141.4, 172.0 140.2 Q 173.0 139.1, 174.8 139.1 Q 176.7 139.1, 177.7 140.2 Q 178.7 141.4, 178.7 143.4 Q 178.7 145.4, 177.7 146.6 Q 176.7 147.7, 174.8 147.7 Q 173.0 147.7, 172.0 146.6 Q 171.0 145.4, 171.0 143.4 M 174.8 146.8 Q 176.1 146.8, 176.8 145.9 Q 177.5 145.1, 177.5 143.4 Q 177.5 141.7, 176.8 140.9 Q 176.1 140.1, 174.8 140.1 Q 173.6 140.1, 172.9 140.9 Q 172.2 141.7, 172.2 143.4 Q 172.2 145.1, 172.9 145.9 Q 173.6 146.8, 174.8 146.8 \" fill=\"#000000\"/>\n",
       "<path class=\"atom-12\" d=\"M 139.2 183.6 Q 139.2 181.5, 140.2 180.4 Q 141.2 179.3, 143.1 179.3 Q 144.9 179.3, 145.9 180.4 Q 146.9 181.5, 146.9 183.6 Q 146.9 185.6, 145.9 186.8 Q 144.9 187.9, 143.1 187.9 Q 141.2 187.9, 140.2 186.8 Q 139.2 185.6, 139.2 183.6 M 143.1 187.0 Q 144.4 187.0, 145.0 186.1 Q 145.7 185.2, 145.7 183.6 Q 145.7 181.9, 145.0 181.1 Q 144.4 180.2, 143.1 180.2 Q 141.8 180.2, 141.1 181.1 Q 140.4 181.9, 140.4 183.6 Q 140.4 185.2, 141.1 186.1 Q 141.8 187.0, 143.1 187.0 \" fill=\"#000000\"/>\n",
       "<path class=\"atom-12\" d=\"M 148.2 179.4 L 149.4 179.4 L 149.4 183.0 L 153.6 183.0 L 153.6 179.4 L 154.8 179.4 L 154.8 187.8 L 153.6 187.8 L 153.6 183.9 L 149.4 183.9 L 149.4 187.8 L 148.2 187.8 L 148.2 179.4 \" fill=\"#000000\"/>\n",
       "<path class=\"atom-15\" d=\"M 147.8 59.6 L 150.6 64.0 Q 150.8 64.5, 151.3 65.2 Q 151.7 66.0, 151.7 66.1 L 151.7 59.6 L 152.9 59.6 L 152.9 68.0 L 151.7 68.0 L 148.8 63.1 Q 148.4 62.5, 148.0 61.9 Q 147.7 61.2, 147.6 61.0 L 147.6 68.0 L 146.5 68.0 L 146.5 59.6 L 147.8 59.6 \" fill=\"#000000\"/>\n",
       "<path class=\"atom-17\" d=\"M 158.5 14.2 Q 158.5 12.1, 159.5 11.0 Q 160.5 9.9, 162.4 9.9 Q 164.2 9.9, 165.2 11.0 Q 166.2 12.1, 166.2 14.2 Q 166.2 16.2, 165.2 17.4 Q 164.2 18.5, 162.4 18.5 Q 160.5 18.5, 159.5 17.4 Q 158.5 16.2, 158.5 14.2 M 162.4 17.6 Q 163.6 17.6, 164.3 16.7 Q 165.0 15.8, 165.0 14.2 Q 165.0 12.5, 164.3 11.7 Q 163.6 10.8, 162.4 10.8 Q 161.1 10.8, 160.4 11.7 Q 159.7 12.5, 159.7 14.2 Q 159.7 15.9, 160.4 16.7 Q 161.1 17.6, 162.4 17.6 \" fill=\"#000000\"/>\n",
       "<path class=\"atom-22\" d=\"M 281.7 72.2 Q 281.7 70.1, 282.7 69.0 Q 283.7 67.9, 285.5 67.9 Q 287.3 67.9, 288.2 69.1 L 287.4 69.8 Q 286.7 68.9, 285.5 68.9 Q 284.3 68.9, 283.6 69.7 Q 282.9 70.6, 282.9 72.2 Q 282.9 73.8, 283.6 74.7 Q 284.3 75.6, 285.7 75.6 Q 286.6 75.6, 287.7 75.0 L 288.0 75.9 Q 287.6 76.2, 286.9 76.3 Q 286.2 76.5, 285.5 76.5 Q 283.7 76.5, 282.7 75.4 Q 281.7 74.3, 281.7 72.2 \" fill=\"#000000\"/>\n",
       "<path class=\"atom-22\" d=\"M 289.0 67.4 L 290.1 67.4 L 290.1 76.4 L 289.0 76.4 L 289.0 67.4 \" fill=\"#000000\"/>\n",
       "</svg>"
      ],
      "text/plain": [
       "<IPython.core.display.SVG object>"
      ]
     },
     "execution_count": 8,
     "metadata": {},
     "output_type": "execute_result"
    }
   ],
   "source": [
    "displaySvg(df.iloc[0,-1])"
   ]
  },
  {
   "cell_type": "code",
   "execution_count": 11,
   "id": "3f1114b5-6d87-48ff-8ec2-6fdb37669b8a",
   "metadata": {},
   "outputs": [],
   "source": [
    "def MolToRestrictedSmiles(mol):\n",
    "    match = mol.GetSubstructMatch(patt)\n",
    "    order = set(range(mol.GetNumAtoms()))-set(match)\n",
    "    np.random.shuffle(list(order))\n",
    "    random_mol = Chem.RenumberAtoms(mol, newOrder=[*match,*order])\n",
    "    return Chem.MolToSmiles(random_mol, canonical=False, isomericSmiles=False)"
   ]
  },
  {
   "cell_type": "code",
   "execution_count": 12,
   "id": "5cce6c1f-c2cc-49b1-ab4b-5c252868209d",
   "metadata": {},
   "outputs": [
    {
     "ename": "NameError",
     "evalue": "name 'patt' is not defined",
     "output_type": "error",
     "traceback": [
      "\u001b[0;31m---------------------------------------------------------------------------\u001b[0m",
      "\u001b[0;31mNameError\u001b[0m                                 Traceback (most recent call last)",
      "Cell \u001b[0;32mIn[12], line 1\u001b[0m\n\u001b[0;32m----> 1\u001b[0m df[\u001b[38;5;124m\"\u001b[39m\u001b[38;5;124mrestrictSmiles\u001b[39m\u001b[38;5;124m\"\u001b[39m]\u001b[38;5;241m=\u001b[39m\u001b[43mdf\u001b[49m\u001b[43m[\u001b[49m\u001b[38;5;124;43m\"\u001b[39;49m\u001b[38;5;124;43mmol\u001b[39;49m\u001b[38;5;124;43m\"\u001b[39;49m\u001b[43m]\u001b[49m\u001b[38;5;241;43m.\u001b[39;49m\u001b[43mapply\u001b[49m\u001b[43m(\u001b[49m\u001b[43mMolToRestrictedSmiles\u001b[49m\u001b[43m)\u001b[49m\n",
      "File \u001b[0;32m~/.local/lib/python3.11/site-packages/pandas/core/series.py:4915\u001b[0m, in \u001b[0;36mSeries.apply\u001b[0;34m(self, func, convert_dtype, args, by_row, **kwargs)\u001b[0m\n\u001b[1;32m   4780\u001b[0m \u001b[38;5;28;01mdef\u001b[39;00m \u001b[38;5;21mapply\u001b[39m(\n\u001b[1;32m   4781\u001b[0m     \u001b[38;5;28mself\u001b[39m,\n\u001b[1;32m   4782\u001b[0m     func: AggFuncType,\n\u001b[0;32m   (...)\u001b[0m\n\u001b[1;32m   4787\u001b[0m     \u001b[38;5;241m*\u001b[39m\u001b[38;5;241m*\u001b[39mkwargs,\n\u001b[1;32m   4788\u001b[0m ) \u001b[38;5;241m-\u001b[39m\u001b[38;5;241m>\u001b[39m DataFrame \u001b[38;5;241m|\u001b[39m Series:\n\u001b[1;32m   4789\u001b[0m \u001b[38;5;250m    \u001b[39m\u001b[38;5;124;03m\"\"\"\u001b[39;00m\n\u001b[1;32m   4790\u001b[0m \u001b[38;5;124;03m    Invoke function on values of Series.\u001b[39;00m\n\u001b[1;32m   4791\u001b[0m \n\u001b[0;32m   (...)\u001b[0m\n\u001b[1;32m   4906\u001b[0m \u001b[38;5;124;03m    dtype: float64\u001b[39;00m\n\u001b[1;32m   4907\u001b[0m \u001b[38;5;124;03m    \"\"\"\u001b[39;00m\n\u001b[1;32m   4908\u001b[0m     \u001b[38;5;28;01mreturn\u001b[39;00m \u001b[43mSeriesApply\u001b[49m\u001b[43m(\u001b[49m\n\u001b[1;32m   4909\u001b[0m \u001b[43m        \u001b[49m\u001b[38;5;28;43mself\u001b[39;49m\u001b[43m,\u001b[49m\n\u001b[1;32m   4910\u001b[0m \u001b[43m        \u001b[49m\u001b[43mfunc\u001b[49m\u001b[43m,\u001b[49m\n\u001b[1;32m   4911\u001b[0m \u001b[43m        \u001b[49m\u001b[43mconvert_dtype\u001b[49m\u001b[38;5;241;43m=\u001b[39;49m\u001b[43mconvert_dtype\u001b[49m\u001b[43m,\u001b[49m\n\u001b[1;32m   4912\u001b[0m \u001b[43m        \u001b[49m\u001b[43mby_row\u001b[49m\u001b[38;5;241;43m=\u001b[39;49m\u001b[43mby_row\u001b[49m\u001b[43m,\u001b[49m\n\u001b[1;32m   4913\u001b[0m \u001b[43m        \u001b[49m\u001b[43margs\u001b[49m\u001b[38;5;241;43m=\u001b[39;49m\u001b[43margs\u001b[49m\u001b[43m,\u001b[49m\n\u001b[1;32m   4914\u001b[0m \u001b[43m        \u001b[49m\u001b[43mkwargs\u001b[49m\u001b[38;5;241;43m=\u001b[39;49m\u001b[43mkwargs\u001b[49m\u001b[43m,\u001b[49m\n\u001b[0;32m-> 4915\u001b[0m \u001b[43m    \u001b[49m\u001b[43m)\u001b[49m\u001b[38;5;241;43m.\u001b[39;49m\u001b[43mapply\u001b[49m\u001b[43m(\u001b[49m\u001b[43m)\u001b[49m\n",
      "File \u001b[0;32m~/.local/lib/python3.11/site-packages/pandas/core/apply.py:1427\u001b[0m, in \u001b[0;36mSeriesApply.apply\u001b[0;34m(self)\u001b[0m\n\u001b[1;32m   1424\u001b[0m     \u001b[38;5;28;01mreturn\u001b[39;00m \u001b[38;5;28mself\u001b[39m\u001b[38;5;241m.\u001b[39mapply_compat()\n\u001b[1;32m   1426\u001b[0m \u001b[38;5;66;03m# self.func is Callable\u001b[39;00m\n\u001b[0;32m-> 1427\u001b[0m \u001b[38;5;28;01mreturn\u001b[39;00m \u001b[38;5;28;43mself\u001b[39;49m\u001b[38;5;241;43m.\u001b[39;49m\u001b[43mapply_standard\u001b[49m\u001b[43m(\u001b[49m\u001b[43m)\u001b[49m\n",
      "File \u001b[0;32m~/.local/lib/python3.11/site-packages/pandas/core/apply.py:1507\u001b[0m, in \u001b[0;36mSeriesApply.apply_standard\u001b[0;34m(self)\u001b[0m\n\u001b[1;32m   1501\u001b[0m \u001b[38;5;66;03m# row-wise access\u001b[39;00m\n\u001b[1;32m   1502\u001b[0m \u001b[38;5;66;03m# apply doesn't have a `na_action` keyword and for backward compat reasons\u001b[39;00m\n\u001b[1;32m   1503\u001b[0m \u001b[38;5;66;03m# we need to give `na_action=\"ignore\"` for categorical data.\u001b[39;00m\n\u001b[1;32m   1504\u001b[0m \u001b[38;5;66;03m# TODO: remove the `na_action=\"ignore\"` when that default has been changed in\u001b[39;00m\n\u001b[1;32m   1505\u001b[0m \u001b[38;5;66;03m#  Categorical (GH51645).\u001b[39;00m\n\u001b[1;32m   1506\u001b[0m action \u001b[38;5;241m=\u001b[39m \u001b[38;5;124m\"\u001b[39m\u001b[38;5;124mignore\u001b[39m\u001b[38;5;124m\"\u001b[39m \u001b[38;5;28;01mif\u001b[39;00m \u001b[38;5;28misinstance\u001b[39m(obj\u001b[38;5;241m.\u001b[39mdtype, CategoricalDtype) \u001b[38;5;28;01melse\u001b[39;00m \u001b[38;5;28;01mNone\u001b[39;00m\n\u001b[0;32m-> 1507\u001b[0m mapped \u001b[38;5;241m=\u001b[39m \u001b[43mobj\u001b[49m\u001b[38;5;241;43m.\u001b[39;49m\u001b[43m_map_values\u001b[49m\u001b[43m(\u001b[49m\n\u001b[1;32m   1508\u001b[0m \u001b[43m    \u001b[49m\u001b[43mmapper\u001b[49m\u001b[38;5;241;43m=\u001b[39;49m\u001b[43mcurried\u001b[49m\u001b[43m,\u001b[49m\u001b[43m \u001b[49m\u001b[43mna_action\u001b[49m\u001b[38;5;241;43m=\u001b[39;49m\u001b[43maction\u001b[49m\u001b[43m,\u001b[49m\u001b[43m \u001b[49m\u001b[43mconvert\u001b[49m\u001b[38;5;241;43m=\u001b[39;49m\u001b[38;5;28;43mself\u001b[39;49m\u001b[38;5;241;43m.\u001b[39;49m\u001b[43mconvert_dtype\u001b[49m\n\u001b[1;32m   1509\u001b[0m \u001b[43m\u001b[49m\u001b[43m)\u001b[49m\n\u001b[1;32m   1511\u001b[0m \u001b[38;5;28;01mif\u001b[39;00m \u001b[38;5;28mlen\u001b[39m(mapped) \u001b[38;5;129;01mand\u001b[39;00m \u001b[38;5;28misinstance\u001b[39m(mapped[\u001b[38;5;241m0\u001b[39m], ABCSeries):\n\u001b[1;32m   1512\u001b[0m     \u001b[38;5;66;03m# GH#43986 Need to do list(mapped) in order to get treated as nested\u001b[39;00m\n\u001b[1;32m   1513\u001b[0m     \u001b[38;5;66;03m#  See also GH#25959 regarding EA support\u001b[39;00m\n\u001b[1;32m   1514\u001b[0m     \u001b[38;5;28;01mreturn\u001b[39;00m obj\u001b[38;5;241m.\u001b[39m_constructor_expanddim(\u001b[38;5;28mlist\u001b[39m(mapped), index\u001b[38;5;241m=\u001b[39mobj\u001b[38;5;241m.\u001b[39mindex)\n",
      "File \u001b[0;32m~/.local/lib/python3.11/site-packages/pandas/core/base.py:921\u001b[0m, in \u001b[0;36mIndexOpsMixin._map_values\u001b[0;34m(self, mapper, na_action, convert)\u001b[0m\n\u001b[1;32m    918\u001b[0m \u001b[38;5;28;01mif\u001b[39;00m \u001b[38;5;28misinstance\u001b[39m(arr, ExtensionArray):\n\u001b[1;32m    919\u001b[0m     \u001b[38;5;28;01mreturn\u001b[39;00m arr\u001b[38;5;241m.\u001b[39mmap(mapper, na_action\u001b[38;5;241m=\u001b[39mna_action)\n\u001b[0;32m--> 921\u001b[0m \u001b[38;5;28;01mreturn\u001b[39;00m \u001b[43malgorithms\u001b[49m\u001b[38;5;241;43m.\u001b[39;49m\u001b[43mmap_array\u001b[49m\u001b[43m(\u001b[49m\u001b[43marr\u001b[49m\u001b[43m,\u001b[49m\u001b[43m \u001b[49m\u001b[43mmapper\u001b[49m\u001b[43m,\u001b[49m\u001b[43m \u001b[49m\u001b[43mna_action\u001b[49m\u001b[38;5;241;43m=\u001b[39;49m\u001b[43mna_action\u001b[49m\u001b[43m,\u001b[49m\u001b[43m \u001b[49m\u001b[43mconvert\u001b[49m\u001b[38;5;241;43m=\u001b[39;49m\u001b[43mconvert\u001b[49m\u001b[43m)\u001b[49m\n",
      "File \u001b[0;32m~/.local/lib/python3.11/site-packages/pandas/core/algorithms.py:1743\u001b[0m, in \u001b[0;36mmap_array\u001b[0;34m(arr, mapper, na_action, convert)\u001b[0m\n\u001b[1;32m   1741\u001b[0m values \u001b[38;5;241m=\u001b[39m arr\u001b[38;5;241m.\u001b[39mastype(\u001b[38;5;28mobject\u001b[39m, copy\u001b[38;5;241m=\u001b[39m\u001b[38;5;28;01mFalse\u001b[39;00m)\n\u001b[1;32m   1742\u001b[0m \u001b[38;5;28;01mif\u001b[39;00m na_action \u001b[38;5;129;01mis\u001b[39;00m \u001b[38;5;28;01mNone\u001b[39;00m:\n\u001b[0;32m-> 1743\u001b[0m     \u001b[38;5;28;01mreturn\u001b[39;00m \u001b[43mlib\u001b[49m\u001b[38;5;241;43m.\u001b[39;49m\u001b[43mmap_infer\u001b[49m\u001b[43m(\u001b[49m\u001b[43mvalues\u001b[49m\u001b[43m,\u001b[49m\u001b[43m \u001b[49m\u001b[43mmapper\u001b[49m\u001b[43m,\u001b[49m\u001b[43m \u001b[49m\u001b[43mconvert\u001b[49m\u001b[38;5;241;43m=\u001b[39;49m\u001b[43mconvert\u001b[49m\u001b[43m)\u001b[49m\n\u001b[1;32m   1744\u001b[0m \u001b[38;5;28;01melse\u001b[39;00m:\n\u001b[1;32m   1745\u001b[0m     \u001b[38;5;28;01mreturn\u001b[39;00m lib\u001b[38;5;241m.\u001b[39mmap_infer_mask(\n\u001b[1;32m   1746\u001b[0m         values, mapper, mask\u001b[38;5;241m=\u001b[39misna(values)\u001b[38;5;241m.\u001b[39mview(np\u001b[38;5;241m.\u001b[39muint8), convert\u001b[38;5;241m=\u001b[39mconvert\n\u001b[1;32m   1747\u001b[0m     )\n",
      "File \u001b[0;32mlib.pyx:2972\u001b[0m, in \u001b[0;36mpandas._libs.lib.map_infer\u001b[0;34m()\u001b[0m\n",
      "Cell \u001b[0;32mIn[11], line 2\u001b[0m, in \u001b[0;36mMolToRestrictedSmiles\u001b[0;34m(mol)\u001b[0m\n\u001b[1;32m      1\u001b[0m \u001b[38;5;28;01mdef\u001b[39;00m \u001b[38;5;21mMolToRestrictedSmiles\u001b[39m(mol):\n\u001b[0;32m----> 2\u001b[0m     match \u001b[38;5;241m=\u001b[39m mol\u001b[38;5;241m.\u001b[39mGetSubstructMatch(\u001b[43mpatt\u001b[49m)\n\u001b[1;32m      3\u001b[0m     order \u001b[38;5;241m=\u001b[39m \u001b[38;5;28mset\u001b[39m(\u001b[38;5;28mrange\u001b[39m(mol\u001b[38;5;241m.\u001b[39mGetNumAtoms()))\u001b[38;5;241m-\u001b[39m\u001b[38;5;28mset\u001b[39m(match)\n\u001b[1;32m      4\u001b[0m     np\u001b[38;5;241m.\u001b[39mrandom\u001b[38;5;241m.\u001b[39mshuffle(\u001b[38;5;28mlist\u001b[39m(order))\n",
      "\u001b[0;31mNameError\u001b[0m: name 'patt' is not defined"
     ]
    }
   ],
   "source": [
    "df[\"restrictSmiles\"]=df[\"mol\"].apply(MolToRestrictedSmiles)"
   ]
  },
  {
   "cell_type": "code",
   "execution_count": 13,
   "metadata": {},
   "outputs": [
    {
     "data": {
      "text/html": [
       "<div>\n",
       "<style scoped>\n",
       "    .dataframe tbody tr th:only-of-type {\n",
       "        vertical-align: middle;\n",
       "    }\n",
       "\n",
       "    .dataframe tbody tr th {\n",
       "        vertical-align: top;\n",
       "    }\n",
       "\n",
       "    .dataframe thead th {\n",
       "        text-align: right;\n",
       "    }\n",
       "</style>\n",
       "<table border=\"1\" class=\"dataframe\">\n",
       "  <thead>\n",
       "    <tr style=\"text-align: right;\">\n",
       "      <th></th>\n",
       "      <th>canonSmiles</th>\n",
       "      <th>mol</th>\n",
       "    </tr>\n",
       "  </thead>\n",
       "  <tbody>\n",
       "    <tr>\n",
       "      <th>Indomethacin</th>\n",
       "      <td>COc1ccc2c(c1)c(CC(=O)O)c(C)n2C(=O)c1ccc(Cl)cc1</td>\n",
       "      <td>&lt;rdkit.Chem.rdchem.Mol object at 0x7fa28ae17300&gt;</td>\n",
       "    </tr>\n",
       "    <tr>\n",
       "      <th>Serotonin</th>\n",
       "      <td>NCCc1c[nH]c2ccc(O)cc12</td>\n",
       "      <td>&lt;rdkit.Chem.rdchem.Mol object at 0x7fa28ae17f40&gt;</td>\n",
       "    </tr>\n",
       "    <tr>\n",
       "      <th>Sumatriptan</th>\n",
       "      <td>CNS(=O)(=O)Cc1ccc2[nH]cc(CCN(C)C)c2c1</td>\n",
       "      <td>&lt;rdkit.Chem.rdchem.Mol object at 0x7fa28ed38820&gt;</td>\n",
       "    </tr>\n",
       "    <tr>\n",
       "      <th>Paracetamol</th>\n",
       "      <td>c1(O)ccc(cc1)NC(C)=O</td>\n",
       "      <td>&lt;rdkit.Chem.rdchem.Mol object at 0x7fa28ed38430&gt;</td>\n",
       "    </tr>\n",
       "  </tbody>\n",
       "</table>\n",
       "</div>"
      ],
      "text/plain": [
       "                                                 canonSmiles  \\\n",
       "Indomethacin  COc1ccc2c(c1)c(CC(=O)O)c(C)n2C(=O)c1ccc(Cl)cc1   \n",
       "Serotonin                             NCCc1c[nH]c2ccc(O)cc12   \n",
       "Sumatriptan            CNS(=O)(=O)Cc1ccc2[nH]cc(CCN(C)C)c2c1   \n",
       "Paracetamol                             c1(O)ccc(cc1)NC(C)=O   \n",
       "\n",
       "                                                           mol  \n",
       "Indomethacin  <rdkit.Chem.rdchem.Mol object at 0x7fa28ae17300>  \n",
       "Serotonin     <rdkit.Chem.rdchem.Mol object at 0x7fa28ae17f40>  \n",
       "Sumatriptan   <rdkit.Chem.rdchem.Mol object at 0x7fa28ed38820>  \n",
       "Paracetamol   <rdkit.Chem.rdchem.Mol object at 0x7fa28ed38430>  "
      ]
     },
     "execution_count": 13,
     "metadata": {},
     "output_type": "execute_result"
    }
   ],
   "source": [
    "df"
   ]
  },
  {
   "cell_type": "raw",
   "id": "bbe377c3-fb37-4bbd-a870-f237ae439287",
   "metadata": {},
   "source": [
    "for name,row in df.iterrows():\n",
    "    with open(f'figures/{name}.svg', 'w') as f:\n",
    "        f.write(row[\"img\"])"
   ]
  },
  {
   "cell_type": "code",
   "execution_count": 11,
   "id": "999382c7-fa64-4754-a040-f8a2647653bc",
   "metadata": {},
   "outputs": [
    {
     "data": {
      "text/plain": [
       "Indomethacin    c1(OC)ccc2n(C(=O)c3ccc(Cl)cc3)c(C)c(CC(=O)O)c2c1\n",
       "Serotonin                               c1(O)ccc2[nH]cc(CCN)c2c1\n",
       "Sumatriptan              c1(CS(NC)(=O)=O)ccc2[nH]cc(CCN(C)C)c2c1\n",
       "Paracetamol                                 c1(O)ccc(NC(C)=O)cc1\n",
       "Name: restrictSmiles, dtype: object"
      ]
     },
     "execution_count": 11,
     "metadata": {},
     "output_type": "execute_result"
    }
   ],
   "source": [
    "df.restrictSmiles"
   ]
  },
  {
   "cell_type": "code",
   "execution_count": 42,
   "metadata": {},
   "outputs": [],
   "source": [
    "df['selfies']=df['canonSmiles'].apply(sf.encoder)"
   ]
  },
  {
   "cell_type": "code",
   "execution_count": 45,
   "metadata": {},
   "outputs": [
    {
     "data": {
      "text/plain": [
       "['COc1ccc2c(c1)c(CC(=O)O)c(C)n2C(=O)c1ccc(Cl)cc1',\n",
       " 'NCCc1c[nH]c2ccc(O)cc12',\n",
       " 'CNS(=O)(=O)Cc1ccc2[nH]cc(CCN(C)C)c2c1',\n",
       " 'c1(O)ccc(cc1)NC(C)=O']"
      ]
     },
     "execution_count": 45,
     "metadata": {},
     "output_type": "execute_result"
    }
   ],
   "source": [
    "df['canonSmiles'].tolist()"
   ]
  },
  {
   "cell_type": "code",
   "execution_count": 44,
   "metadata": {},
   "outputs": [
    {
     "data": {
      "text/plain": [
       "['[C][O][C][=C][C][=C][C][=Branch1][Ring2][=C][Ring1][=Branch1][C][Branch1][#Branch1][C][C][=Branch1][C][=O][O][=C][Branch1][C][C][N][Ring1][O][C][=Branch1][C][=O][C][=C][C][=C][Branch1][C][Cl][C][=C][Ring1][#Branch1]',\n",
       " '[N][C][C][C][=C][NH1][C][=C][C][=C][Branch1][C][O][C][=C][Ring1][#Branch2][Ring1][#Branch1]',\n",
       " '[C][N][S][=Branch1][C][=O][=Branch1][C][=O][C][C][=C][C][=C][NH1][C][=C][Branch1][Branch2][C][C][N][Branch1][C][C][C][C][Ring1][#Branch2][=C][Ring1][=C]',\n",
       " '[C][Branch1][C][O][=C][C][=C][Branch1][Branch1][C][=C][Ring1][#Branch1][N][C][Branch1][C][C][=O]']"
      ]
     },
     "execution_count": 44,
     "metadata": {},
     "output_type": "execute_result"
    }
   ],
   "source": [
    "df['selfies'].tolist()"
   ]
  },
  {
   "cell_type": "markdown",
   "id": "8a09656a-001a-42d3-81ba-f5bf63d96ca8",
   "metadata": {},
   "source": [
    "## GoF"
   ]
  },
  {
   "cell_type": "code",
   "execution_count": 17,
   "id": "1b078299-f054-4caa-ae07-10046235e249",
   "metadata": {},
   "outputs": [],
   "source": [
    "from chemicalgof import Smiles2GoF, GoF2Tokens, CanonicalGoF2Tokens, GoF2MoreTokens\n",
    "from src.processer import augSmiles"
   ]
  },
  {
   "cell_type": "code",
   "execution_count": 13,
   "id": "52ae0c21-fa1b-4961-aae3-b9f7ae595314",
   "metadata": {},
   "outputs": [
    {
     "name": "stdout",
     "output_type": "stream",
     "text": [
      "Cl.<3>c1ccccc1<0>.C=O.<4>c1ccc2[nH]ccc2c1<6>.<0>(O.C.)<5>(C.).C.C=O.O.\n",
      "N.C.C.<6>c1ccc2[nH]ccc2c1<0>.O.\n",
      "C.N.(C.).C.C.<6>c1ccc2[nH]ccc2c1<0>.C.O=[SH2]=O.N.C.\n",
      "C.C=O.N.<0>c1ccccc1<3>.O.\n"
     ]
    }
   ],
   "source": [
    "for s in chemicals.values():\n",
    "    G=Smiles2GoF(s)\n",
    "    T=GoF2Tokens(G)\n",
    "    print(T.getString())"
   ]
  },
  {
   "cell_type": "code",
   "execution_count": 29,
   "id": "ab6e2daf-ef5d-40b3-a2b3-4f261e8cea75",
   "metadata": {},
   "outputs": [],
   "source": [
    "def drawMolPNG(mol,legend='',highlightAtoms=[]):\n",
    "    # d2d = Draw.MolDraw2DCairo(-1,-1)\n",
    "    d2d = Draw.MolDraw2DSVG(-1,-1)\n",
    "    dopts = d2d.drawOptions()\n",
    "    dopts.useBWAtomPalette()\n",
    "    dopts.continuousHighlight = True\n",
    "    dopts.circleAtoms = False\n",
    "    dopts.atomHighlightsAreCircles=False\n",
    "    dopts.highlightRadius=0.1\n",
    "    dopts.setHighlightColour((1,0,0,.5))\n",
    "    dopts.setBackgroundColour((1,1,1,0))\n",
    "    d2d.DrawMolecule(mol,legend=legend, highlightAtoms=highlightAtoms)\n",
    "    d2d.FinishDrawing()\n",
    "    # bio = BytesIO(d2d.GetDrawingText())\n",
    "    svg = d2d.GetDrawingText()\n",
    "    return svg.replace('svg:','')\n",
    "    # return Image.open(bio)"
   ]
  },
  {
   "cell_type": "code",
   "execution_count": 15,
   "id": "9d5b6e89-96a8-42c2-beb1-6b013a1ff117",
   "metadata": {},
   "outputs": [],
   "source": [
    "benzene = drawMolPNG(Chem.MolFromSmiles(\"c1ccccc1\"))"
   ]
  },
  {
   "cell_type": "code",
   "execution_count": 16,
   "id": "25ba8645-c3af-4b99-a41c-ecd964c54034",
   "metadata": {},
   "outputs": [],
   "source": [
    "carbonile = drawMolPNG(Chem.MolFromSmiles(\"C=O\"))"
   ]
  },
  {
   "cell_type": "code",
   "execution_count": 11,
   "id": "6c2bbb5d-e7e2-498b-a1a0-d98022249fb0",
   "metadata": {},
   "outputs": [],
   "source": [
    "with open(f'carbonile.svg', 'w') as f:\n",
    "    f.write(carbonile)"
   ]
  },
  {
   "cell_type": "raw",
   "id": "49b1e993-333c-4761-b2e4-7af6f60425da",
   "metadata": {},
   "source": [
    "with open(f'benzene.svg', 'w') as f:\n",
    "    f.write(benzene)"
   ]
  },
  {
   "cell_type": "code",
   "execution_count": 12,
   "id": "fd0cb290-0697-4ea8-810e-39366f1e8c66",
   "metadata": {},
   "outputs": [
    {
     "data": {
      "image/svg+xml": [
       "<svg xmlns=\"http://www.w3.org/2000/svg\" xmlns:rdkit=\"http://www.rdkit.org/xml\" xmlns:xlink=\"http://www.w3.org/1999/xlink\" version=\"1.1\" baseProfile=\"full\" xml:space=\"preserve\" width=\"37px\" height=\"9px\" viewBox=\"0 0 37 9\">\n",
       "<!-- END OF HEADER -->\n",
       "<rect style=\"opacity:1.0;fill:#FFFFFF00;stroke:none\" width=\"37.0\" height=\"9.0\" x=\"0.0\" y=\"0.0\"> </rect>\n",
       "<path class=\"bond-0 atom-0 atom-1\" d=\"M 2.8,2.3 L 25.8,2.3\" style=\"fill:none;fill-rule:evenodd;stroke:#000000;stroke-width:2.0px;stroke-linecap:butt;stroke-linejoin:miter;stroke-opacity:1\"/>\n",
       "<path class=\"bond-0 atom-0 atom-1\" d=\"M 2.8,6.5 L 25.8,6.5\" style=\"fill:none;fill-rule:evenodd;stroke:#000000;stroke-width:2.0px;stroke-linecap:butt;stroke-linejoin:miter;stroke-opacity:1\"/>\n",
       "<path class=\"atom-1\" d=\"M 26.7 4.4 Q 26.7 2.5, 27.7 1.5 Q 28.6 0.5, 30.3 0.5 Q 32.0 0.5, 33.0 1.5 Q 33.9 2.5, 33.9 4.4 Q 33.9 6.3, 33.0 7.4 Q 32.0 8.5, 30.3 8.5 Q 28.6 8.5, 27.7 7.4 Q 26.7 6.3, 26.7 4.4 M 30.3 7.6 Q 31.5 7.6, 32.1 6.8 Q 32.8 6.0, 32.8 4.4 Q 32.8 2.9, 32.1 2.1 Q 31.5 1.3, 30.3 1.3 Q 29.1 1.3, 28.5 2.1 Q 27.8 2.9, 27.8 4.4 Q 27.8 6.0, 28.5 6.8 Q 29.1 7.6, 30.3 7.6 \" fill=\"#000000\"/>\n",
       "</svg>"
      ],
      "text/plain": [
       "<IPython.core.display.SVG object>"
      ]
     },
     "execution_count": 12,
     "metadata": {},
     "output_type": "execute_result"
    }
   ],
   "source": [
    "displaySvg(carbonile)"
   ]
  },
  {
   "cell_type": "markdown",
   "metadata": {},
   "source": [
    "## Chiral fragments"
   ]
  },
  {
   "cell_type": "code",
   "execution_count": 4,
   "metadata": {},
   "outputs": [],
   "source": [
    "chiral1='C[C@@](O)(Cl)C(=O)NC[C@@H]1CC[C@H](C(=O)O)O1'"
   ]
  },
  {
   "cell_type": "code",
   "execution_count": 5,
   "id": "c54a471b",
   "metadata": {},
   "outputs": [
    {
     "data": {
      "image/png": "[encoded data removed]",
      "text/plain": [
       "<rdkit.Chem.rdchem.Mol at 0x7fcdd573c9e0>"
      ]
     },
     "execution_count": 5,
     "metadata": {},
     "output_type": "execute_result"
    }
   ],
   "source": [
    "Chem.MolFromSmiles(chiral1)"
   ]
  },
  {
   "cell_type": "code",
   "execution_count": 8,
   "metadata": {},
   "outputs": [],
   "source": [
    "G=Smiles2GoF(chiral1)\n",
    "Ts=GoF2MoreTokens(G)"
   ]
  },
  {
   "cell_type": "code",
   "execution_count": 9,
   "metadata": {},
   "outputs": [
    {
     "name": "stdout",
     "output_type": "stream",
     "text": [
      "C C|R ( O ) ( Cl ) C=O N C <4S> C1CCOC1 <2R> C=O O\n",
      "C C|R ( Cl ) ( O ) C=O N C <4S> C1CCOC1 <2R> C=O O\n",
      "O C=O <2R> C1CCOC1 <4S> C N C=O C|R ( C ) ( Cl ) O\n",
      "O C=O <2R> C1CCOC1 <4S> C N C=O C|R ( Cl ) ( C ) O\n",
      "Cl C|R ( C ) ( O ) C=O N C <4S> C1CCOC1 <2R> C=O O\n"
     ]
    }
   ],
   "source": [
    "for T in Ts:\n",
    "    print(*T.getSequence())"
   ]
  },
  {
   "cell_type": "code",
   "execution_count": 31,
   "id": "900d0e6d",
   "metadata": {},
   "outputs": [],
   "source": [
    "augmented_smiles = augSmiles(chiral1)"
   ]
  },
  {
   "cell_type": "code",
   "execution_count": 32,
   "id": "a2838958",
   "metadata": {},
   "outputs": [
    {
     "name": "stdout",
     "output_type": "stream",
     "text": [
      "C[C@@](O)(Cl)C(=O)NC[C@@H]1CC[C@H](C(=O)O)O1\n",
      "C1C[C@H](O[C@H]1C(=O)O)CNC(=O)[C@@](Cl)(O)C\n",
      "C([C@H]1O[C@H](CC1)C(=O)O)NC(=O)[C@@](C)(Cl)O\n",
      "OC([C@H]1CC[C@@H](CNC([C@@](Cl)(O)C)=O)O1)=O\n",
      "[C@H]1(C(=O)O)CC[C@@H](CNC(=O)[C@](Cl)(C)O)O1\n"
     ]
    }
   ],
   "source": [
    "for augmented in augmented_smiles:\n",
    "    print(augmented)"
   ]
  },
  {
   "cell_type": "code",
   "execution_count": 33,
   "metadata": {},
   "outputs": [
    {
     "name": "stdout",
     "output_type": "stream",
     "text": [
      "[C][C@@][Branch1][C][O][Branch1][C][Cl][C][=Branch1][C][=O][N][C][C@@H1][C][C][C@H1][Branch1][=Branch1][C][=Branch1][C][=O][O][O][Ring1][Branch2]\n",
      "[C][C][C@H1][Branch1][#Branch2][O][C@H1][Ring1][Branch1][C][=Branch1][C][=O][O][C][N][C][=Branch1][C][=O][C@@][Branch1][C][Cl][Branch1][C][O][C]\n",
      "[C][Branch1][#C][C@H1][O][C@H1][Branch1][Branch1][C][C][Ring1][Branch1][C][=Branch1][C][=O][O][N][C][=Branch1][C][=O][C@@][Branch1][C][C][Branch1][C][Cl][O]\n",
      "[O][C][Branch2][Ring1][Branch2][C@H1][C][C][C@@H1][Branch1][#C][C][N][C][Branch1][=Branch2][C@@][Branch1][C][Cl][Branch1][C][O][C][=O][O][Ring1][=N][=O]\n",
      "[C@H1][Branch1][=Branch1][C][=Branch1][C][=O][O][C][C][C@@H1][Branch1][#C][C][N][C][=Branch1][C][=O][C@][Branch1][C][Cl][Branch1][C][C][O][O][Ring1][S]\n"
     ]
    }
   ],
   "source": [
    "for augmented in augmented_smiles:\n",
    "    print(sf.encoder(augmented))"
   ]
  },
  {
   "cell_type": "code",
   "execution_count": 10,
   "metadata": {},
   "outputs": [],
   "source": [
    "chiral2='ClCC2C[C@H]1C(Cl)N[C@@H]1CN2'"
   ]
  },
  {
   "cell_type": "code",
   "execution_count": 11,
   "metadata": {},
   "outputs": [
    {
     "data": {
      "image/png": "[encoded data removed]",
      "text/plain": [
       "<rdkit.Chem.rdchem.Mol at 0x7fcdd573c900>"
      ]
     },
     "execution_count": 11,
     "metadata": {},
     "output_type": "execute_result"
    }
   ],
   "source": [
    "Chem.MolFromSmiles(chiral2)"
   ]
  },
  {
   "cell_type": "code",
   "execution_count": 12,
   "id": "f0680814",
   "metadata": {},
   "outputs": [],
   "source": [
    "G=Smiles2GoF(chiral2)\n",
    "Ts=GoF2MoreTokens(G)"
   ]
  },
  {
   "cell_type": "code",
   "execution_count": 13,
   "id": "ceb6f9bb",
   "metadata": {},
   "outputs": [
    {
     "name": "stdout",
     "output_type": "stream",
     "text": [
      "Cl C <0> C1CC2CNC2CN1|2R5S <3> Cl\n",
      "Cl <3> C1CC2CNC2CN1|2R5S <0> C Cl\n"
     ]
    }
   ],
   "source": [
    "for T in Ts:\n",
    "    print(*T.getSequence())"
   ]
  },
  {
   "cell_type": "code",
   "execution_count": 14,
   "id": "cddb6c00",
   "metadata": {},
   "outputs": [],
   "source": [
    "augmented_smiles = augSmiles(chiral1)"
   ]
  },
  {
   "cell_type": "code",
   "execution_count": 15,
   "id": "757bb4b6",
   "metadata": {},
   "outputs": [
    {
     "name": "stdout",
     "output_type": "stream",
     "text": [
      "C[C@@](O)(Cl)C(=O)NC[C@@H]1CC[C@H](C(=O)O)O1\n",
      "N(C([C@@](O)(C)Cl)=O)C[C@@H]1CC[C@@H](O1)C(=O)O\n",
      "[C@](C(=O)NC[C@@H]1CC[C@@H](O1)C(=O)O)(Cl)(C)O\n",
      "C1[C@@H](CNC(=O)[C@@](Cl)(O)C)O[C@H](C1)C(=O)O\n",
      "[C@H]1(CC[C@H](C(O)=O)O1)CNC(=O)[C@](Cl)(C)O\n"
     ]
    }
   ],
   "source": [
    "for augmented in augmented_smiles:\n",
    "    print(augmented)"
   ]
  },
  {
   "cell_type": "code",
   "execution_count": 50,
   "metadata": {},
   "outputs": [
    {
     "data": {
      "text/plain": [
       "'[Cl][C][C][C][C@H1][C][Branch1][C][Cl][N][C@@H1][Ring1][Branch1][C][N][Ring1][=Branch2]'"
      ]
     },
     "execution_count": 50,
     "metadata": {},
     "output_type": "execute_result"
    }
   ],
   "source": [
    "sf.encoder(chiral2)"
   ]
  },
  {
   "cell_type": "markdown",
   "id": "0299ba50",
   "metadata": {},
   "source": [
    "## SMILES wrong chirality"
   ]
  },
  {
   "cell_type": "code",
   "execution_count": 13,
   "id": "bec44494",
   "metadata": {},
   "outputs": [],
   "source": [
    "gen_chiral_smi = 'COc2ccc1[nH]c(C)c(CC(=O)O)c1c2'"
   ]
  },
  {
   "cell_type": "code",
   "execution_count": 20,
   "id": "5d9fba0f",
   "metadata": {},
   "outputs": [
    {
     "name": "stdout",
     "output_type": "stream",
     "text": [
      "C O <0> c1ccc2[nH]ccc2c1 <6> <5> ( C ) C C=O O\n"
     ]
    }
   ],
   "source": [
    "Gchiral = Smiles2GoF(gen_chiral_smi)\n",
    "T = CanonicalGoF2Tokens(Gchiral)\n",
    "print(*T.getSequence())"
   ]
  },
  {
   "cell_type": "code",
   "execution_count": 14,
   "id": "c37afbc0",
   "metadata": {},
   "outputs": [],
   "source": [
    "res_chiral_mol = Chem.MolFromSmiles(gen_chiral_smi)"
   ]
  },
  {
   "cell_type": "code",
   "execution_count": 16,
   "id": "25e6ed4e",
   "metadata": {},
   "outputs": [
    {
     "data": {
      "image/svg+xml": [
       "<svg xmlns=\"http://www.w3.org/2000/svg\" xmlns:rdkit=\"http://www.rdkit.org/xml\" xmlns:xlink=\"http://www.w3.org/1999/xlink\" version=\"1.1\" baseProfile=\"full\" xml:space=\"preserve\" width=\"225px\" height=\"125px\" viewBox=\"0 0 225 125\">\n",
       "<!-- END OF HEADER -->\n",
       "<rect style=\"opacity:1.0;fill:#FFFFFF;stroke:none\" width=\"225.0\" height=\"125.0\" x=\"0.0\" y=\"0.0\"> </rect>\n",
       "<path class=\"bond-0 atom-0 atom-1\" d=\"M 12.1,89.0 L 35.6,95.6\" style=\"fill:none;fill-rule:evenodd;stroke:#000000;stroke-width:2.0px;stroke-linecap:butt;stroke-linejoin:miter;stroke-opacity:1\"/>\n",
       "<path class=\"bond-1 atom-1 atom-2\" d=\"M 45.2,92.2 L 61.4,76.4\" style=\"fill:none;fill-rule:evenodd;stroke:#000000;stroke-width:2.0px;stroke-linecap:butt;stroke-linejoin:miter;stroke-opacity:1\"/>\n",
       "<path class=\"bond-2 atom-2 atom-3\" d=\"M 61.4,76.4 L 54.1,47.9\" style=\"fill:none;fill-rule:evenodd;stroke:#000000;stroke-width:2.0px;stroke-linecap:butt;stroke-linejoin:miter;stroke-opacity:1\"/>\n",
       "<path class=\"bond-2 atom-2 atom-3\" d=\"M 65.0,72.8 L 59.0,49.3\" style=\"fill:none;fill-rule:evenodd;stroke:#000000;stroke-width:2.0px;stroke-linecap:butt;stroke-linejoin:miter;stroke-opacity:1\"/>\n",
       "<path class=\"bond-3 atom-3 atom-4\" d=\"M 54.1,47.9 L 75.1,27.4\" style=\"fill:none;fill-rule:evenodd;stroke:#000000;stroke-width:2.0px;stroke-linecap:butt;stroke-linejoin:miter;stroke-opacity:1\"/>\n",
       "<path class=\"bond-4 atom-4 atom-5\" d=\"M 75.1,27.4 L 103.3,35.3\" style=\"fill:none;fill-rule:evenodd;stroke:#000000;stroke-width:2.0px;stroke-linecap:butt;stroke-linejoin:miter;stroke-opacity:1\"/>\n",
       "<path class=\"bond-4 atom-4 atom-5\" d=\"M 76.3,32.3 L 99.7,38.8\" style=\"fill:none;fill-rule:evenodd;stroke:#000000;stroke-width:2.0px;stroke-linecap:butt;stroke-linejoin:miter;stroke-opacity:1\"/>\n",
       "<path class=\"bond-5 atom-5 atom-6\" d=\"M 103.3,35.3 L 124.0,22.2\" style=\"fill:none;fill-rule:evenodd;stroke:#000000;stroke-width:2.0px;stroke-linecap:butt;stroke-linejoin:miter;stroke-opacity:1\"/>\n",
       "<path class=\"bond-6 atom-6 atom-7\" d=\"M 132.3,23.0 L 150.8,38.3\" style=\"fill:none;fill-rule:evenodd;stroke:#000000;stroke-width:2.0px;stroke-linecap:butt;stroke-linejoin:miter;stroke-opacity:1\"/>\n",
       "<path class=\"bond-7 atom-7 atom-8\" d=\"M 150.8,38.3 L 179.2,31.0\" style=\"fill:none;fill-rule:evenodd;stroke:#000000;stroke-width:2.0px;stroke-linecap:butt;stroke-linejoin:miter;stroke-opacity:1\"/>\n",
       "<path class=\"bond-8 atom-7 atom-9\" d=\"M 150.8,38.3 L 139.9,65.6\" style=\"fill:none;fill-rule:evenodd;stroke:#000000;stroke-width:2.0px;stroke-linecap:butt;stroke-linejoin:miter;stroke-opacity:1\"/>\n",
       "<path class=\"bond-8 atom-7 atom-9\" d=\"M 145.5,39.6 L 137.0,61.0\" style=\"fill:none;fill-rule:evenodd;stroke:#000000;stroke-width:2.0px;stroke-linecap:butt;stroke-linejoin:miter;stroke-opacity:1\"/>\n",
       "<path class=\"bond-9 atom-9 atom-10\" d=\"M 139.9,65.6 L 155.7,90.4\" style=\"fill:none;fill-rule:evenodd;stroke:#000000;stroke-width:2.0px;stroke-linecap:butt;stroke-linejoin:miter;stroke-opacity:1\"/>\n",
       "<path class=\"bond-10 atom-10 atom-11\" d=\"M 155.7,90.4 L 185.0,89.1\" style=\"fill:none;fill-rule:evenodd;stroke:#000000;stroke-width:2.0px;stroke-linecap:butt;stroke-linejoin:miter;stroke-opacity:1\"/>\n",
       "<path class=\"bond-11 atom-11 atom-12\" d=\"M 186.4,91.3 L 197.8,69.4\" style=\"fill:none;fill-rule:evenodd;stroke:#000000;stroke-width:2.0px;stroke-linecap:butt;stroke-linejoin:miter;stroke-opacity:1\"/>\n",
       "<path class=\"bond-11 atom-11 atom-12\" d=\"M 182.5,89.2 L 193.9,67.4\" style=\"fill:none;fill-rule:evenodd;stroke:#000000;stroke-width:2.0px;stroke-linecap:butt;stroke-linejoin:miter;stroke-opacity:1\"/>\n",
       "<path class=\"bond-12 atom-11 atom-13\" d=\"M 185.0,89.1 L 197.5,108.7\" style=\"fill:none;fill-rule:evenodd;stroke:#000000;stroke-width:2.0px;stroke-linecap:butt;stroke-linejoin:miter;stroke-opacity:1\"/>\n",
       "<path class=\"bond-13 atom-9 atom-14\" d=\"M 139.9,65.6 L 110.6,63.7\" style=\"fill:none;fill-rule:evenodd;stroke:#000000;stroke-width:2.0px;stroke-linecap:butt;stroke-linejoin:miter;stroke-opacity:1\"/>\n",
       "<path class=\"bond-14 atom-14 atom-15\" d=\"M 110.6,63.7 L 89.7,84.3\" style=\"fill:none;fill-rule:evenodd;stroke:#000000;stroke-width:2.0px;stroke-linecap:butt;stroke-linejoin:miter;stroke-opacity:1\"/>\n",
       "<path class=\"bond-14 atom-14 atom-15\" d=\"M 105.7,62.4 L 88.4,79.3\" style=\"fill:none;fill-rule:evenodd;stroke:#000000;stroke-width:2.0px;stroke-linecap:butt;stroke-linejoin:miter;stroke-opacity:1\"/>\n",
       "<path class=\"bond-15 atom-14 atom-5\" d=\"M 110.6,63.7 L 103.3,35.3\" style=\"fill:none;fill-rule:evenodd;stroke:#000000;stroke-width:2.0px;stroke-linecap:butt;stroke-linejoin:miter;stroke-opacity:1\"/>\n",
       "<path class=\"bond-16 atom-15 atom-2\" d=\"M 89.7,84.3 L 61.4,76.4\" style=\"fill:none;fill-rule:evenodd;stroke:#000000;stroke-width:2.0px;stroke-linecap:butt;stroke-linejoin:miter;stroke-opacity:1\"/>\n",
       "<path d=\"M 54.5,49.4 L 54.1,47.9 L 55.1,46.9\" style=\"fill:none;stroke:#000000;stroke-width:2.0px;stroke-linecap:butt;stroke-linejoin:miter;stroke-opacity:1;\"/>\n",
       "<path d=\"M 74.0,28.4 L 75.1,27.4 L 76.5,27.8\" style=\"fill:none;stroke:#000000;stroke-width:2.0px;stroke-linecap:butt;stroke-linejoin:miter;stroke-opacity:1;\"/>\n",
       "<path d=\"M 154.9,89.1 L 155.7,90.4 L 157.1,90.3\" style=\"fill:none;stroke:#000000;stroke-width:2.0px;stroke-linecap:butt;stroke-linejoin:miter;stroke-opacity:1;\"/>\n",
       "<path d=\"M 183.6,89.2 L 185.0,89.1 L 185.6,90.1\" style=\"fill:none;stroke:#000000;stroke-width:2.0px;stroke-linecap:butt;stroke-linejoin:miter;stroke-opacity:1;\"/>\n",
       "<path d=\"M 90.7,83.2 L 89.7,84.3 L 88.3,83.9\" style=\"fill:none;stroke:#000000;stroke-width:2.0px;stroke-linecap:butt;stroke-linejoin:miter;stroke-opacity:1;\"/>\n",
       "<path class=\"atom-1\" d=\"M 36.6 96.9 Q 36.6 94.9, 37.6 93.8 Q 38.6 92.7, 40.4 92.7 Q 42.3 92.7, 43.2 93.8 Q 44.2 94.9, 44.2 96.9 Q 44.2 99.0, 43.2 100.1 Q 42.2 101.3, 40.4 101.3 Q 38.6 101.3, 37.6 100.1 Q 36.6 99.0, 36.6 96.9 M 40.4 100.3 Q 41.7 100.3, 42.4 99.5 Q 43.1 98.6, 43.1 96.9 Q 43.1 95.3, 42.4 94.5 Q 41.7 93.7, 40.4 93.7 Q 39.1 93.7, 38.5 94.5 Q 37.8 95.3, 37.8 96.9 Q 37.8 98.6, 38.5 99.5 Q 39.1 100.3, 40.4 100.3 \" fill=\"#000000\"/>\n",
       "<path class=\"atom-6\" d=\"M 126.3 15.4 L 129.0 19.8 Q 129.3 20.2, 129.7 21.0 Q 130.2 21.8, 130.2 21.9 L 130.2 15.4 L 131.3 15.4 L 131.3 23.7 L 130.1 23.7 L 127.2 18.9 Q 126.9 18.3, 126.5 17.7 Q 126.2 17.0, 126.1 16.8 L 126.1 23.7 L 125.0 23.7 L 125.0 15.4 L 126.3 15.4 \" fill=\"#000000\"/>\n",
       "<path class=\"atom-6\" d=\"M 124.9 6.3 L 126.0 6.3 L 126.0 9.8 L 130.3 9.8 L 130.3 6.3 L 131.4 6.3 L 131.4 14.6 L 130.3 14.6 L 130.3 10.7 L 126.0 10.7 L 126.0 14.6 L 124.9 14.6 L 124.9 6.3 \" fill=\"#000000\"/>\n",
       "<path class=\"atom-12\" d=\"M 194.8 63.1 Q 194.8 61.1, 195.8 60.0 Q 196.8 58.9, 198.6 58.9 Q 200.5 58.9, 201.4 60.0 Q 202.4 61.1, 202.4 63.1 Q 202.4 65.1, 201.4 66.3 Q 200.4 67.4, 198.6 67.4 Q 196.8 67.4, 195.8 66.3 Q 194.8 65.2, 194.8 63.1 M 198.6 66.5 Q 199.9 66.5, 200.6 65.7 Q 201.3 64.8, 201.3 63.1 Q 201.3 61.5, 200.6 60.7 Q 199.9 59.8, 198.6 59.8 Q 197.4 59.8, 196.7 60.7 Q 196.0 61.5, 196.0 63.1 Q 196.0 64.8, 196.7 65.7 Q 197.4 66.5, 198.6 66.5 \" fill=\"#000000\"/>\n",
       "<path class=\"atom-13\" d=\"M 196.9 113.9 Q 196.9 111.9, 197.9 110.8 Q 198.9 109.7, 200.8 109.7 Q 202.6 109.7, 203.6 110.8 Q 204.6 111.9, 204.6 113.9 Q 204.6 116.0, 203.6 117.1 Q 202.6 118.2, 200.8 118.2 Q 198.9 118.2, 197.9 117.1 Q 196.9 116.0, 196.9 113.9 M 200.8 117.3 Q 202.0 117.3, 202.7 116.5 Q 203.4 115.6, 203.4 113.9 Q 203.4 112.3, 202.7 111.5 Q 202.0 110.7, 200.8 110.7 Q 199.5 110.7, 198.8 111.5 Q 198.1 112.3, 198.1 113.9 Q 198.1 115.6, 198.8 116.5 Q 199.5 117.3, 200.8 117.3 \" fill=\"#000000\"/>\n",
       "<path class=\"atom-13\" d=\"M 205.9 109.8 L 207.0 109.8 L 207.0 113.3 L 211.2 113.3 L 211.2 109.8 L 212.4 109.8 L 212.4 118.1 L 211.2 118.1 L 211.2 114.3 L 207.0 114.3 L 207.0 118.1 L 205.9 118.1 L 205.9 109.8 \" fill=\"#000000\"/>\n",
       "</svg>"
      ],
      "text/plain": [
       "<IPython.core.display.SVG object>"
      ]
     },
     "execution_count": 16,
     "metadata": {},
     "output_type": "execute_result"
    }
   ],
   "source": [
    "displaySvg(drawMol(res_chiral_mol))"
   ]
  },
  {
   "cell_type": "code",
   "execution_count": 18,
   "id": "464af78f",
   "metadata": {},
   "outputs": [],
   "source": [
    "with open(f'figures/gen_chiral_mol.svg', 'w') as f:\n",
    "    f.write(drawMolPNG(res_chiral_mol))"
   ]
  },
  {
   "cell_type": "markdown",
   "id": "b95793e1",
   "metadata": {},
   "source": [
    "## Different fragmentation rules"
   ]
  },
  {
   "cell_type": "code",
   "execution_count": 16,
   "id": "adfb785c",
   "metadata": {},
   "outputs": [
    {
     "data": {
      "text/plain": [
       "'COc1ccc2c(c1)c(CC(=O)O)c(C)n2C(=O)c1ccc(Cl)cc1'"
      ]
     },
     "execution_count": 16,
     "metadata": {},
     "output_type": "execute_result"
    }
   ],
   "source": [
    "chemicals['Indomethacin']"
   ]
  },
  {
   "cell_type": "code",
   "execution_count": 30,
   "id": "d2ef4295",
   "metadata": {},
   "outputs": [],
   "source": [
    "with open(f'figures/indomethacin_raw.svg', 'w') as f:\n",
    "    f.write(drawMolPNG(Chem.MolFromSmiles(chemicals['Indomethacin'])))"
   ]
  },
  {
   "cell_type": "code",
   "execution_count": 26,
   "id": "0c860b8e",
   "metadata": {},
   "outputs": [],
   "source": [
    "indo_raw_svg = displaySvg(drawMol(Chem.MolFromSmiles(chemicals['Indomethacin'])))"
   ]
  },
  {
   "cell_type": "code",
   "execution_count": 27,
   "id": "c92801d4",
   "metadata": {},
   "outputs": [
    {
     "data": {
      "image/svg+xml": [
       "<svg xmlns=\"http://www.w3.org/2000/svg\" xmlns:rdkit=\"http://www.rdkit.org/xml\" xmlns:xlink=\"http://www.w3.org/1999/xlink\" version=\"1.1\" baseProfile=\"full\" xml:space=\"preserve\" width=\"306px\" height=\"198px\" viewBox=\"0 0 306 198\">\n",
       "<!-- END OF HEADER -->\n",
       "<rect style=\"opacity:1.0;fill:#FFFFFF;stroke:none\" width=\"306.0\" height=\"198.0\" x=\"0.0\" y=\"0.0\"> </rect>\n",
       "<path class=\"bond-0 atom-0 atom-1\" d=\"M 15.5,40.5 L 28.4,59.9\" style=\"fill:none;fill-rule:evenodd;stroke:#000000;stroke-width:2.0px;stroke-linecap:butt;stroke-linejoin:miter;stroke-opacity:1\"/>\n",
       "<path class=\"bond-1 atom-1 atom-2\" d=\"M 36.7,64.9 L 61.4,63.3\" style=\"fill:none;fill-rule:evenodd;stroke:#000000;stroke-width:2.0px;stroke-linecap:butt;stroke-linejoin:miter;stroke-opacity:1\"/>\n",
       "<path class=\"bond-2 atom-2 atom-3\" d=\"M 61.4,63.3 L 74.5,36.8\" style=\"fill:none;fill-rule:evenodd;stroke:#000000;stroke-width:2.0px;stroke-linecap:butt;stroke-linejoin:miter;stroke-opacity:1\"/>\n",
       "<path class=\"bond-2 atom-2 atom-3\" d=\"M 66.5,62.9 L 77.3,41.0\" style=\"fill:none;fill-rule:evenodd;stroke:#000000;stroke-width:2.0px;stroke-linecap:butt;stroke-linejoin:miter;stroke-opacity:1\"/>\n",
       "<path class=\"bond-3 atom-3 atom-4\" d=\"M 74.5,36.8 L 104.0,34.9\" style=\"fill:none;fill-rule:evenodd;stroke:#000000;stroke-width:2.0px;stroke-linecap:butt;stroke-linejoin:miter;stroke-opacity:1\"/>\n",
       "<path class=\"bond-4 atom-4 atom-5\" d=\"M 104.0,34.9 L 120.4,59.5\" style=\"fill:none;fill-rule:evenodd;stroke:#000000;stroke-width:2.0px;stroke-linecap:butt;stroke-linejoin:miter;stroke-opacity:1\"/>\n",
       "<path class=\"bond-4 atom-4 atom-5\" d=\"M 101.7,39.5 L 115.3,59.8\" style=\"fill:none;fill-rule:evenodd;stroke:#000000;stroke-width:2.0px;stroke-linecap:butt;stroke-linejoin:miter;stroke-opacity:1\"/>\n",
       "<path class=\"bond-5 atom-5 atom-6\" d=\"M 120.4,59.5 L 107.3,86.0\" style=\"fill:none;fill-rule:evenodd;stroke:#000000;stroke-width:2.0px;stroke-linecap:butt;stroke-linejoin:miter;stroke-opacity:1\"/>\n",
       "<path class=\"bond-6 atom-6 atom-7\" d=\"M 107.3,86.0 L 77.8,87.9\" style=\"fill:none;fill-rule:evenodd;stroke:#000000;stroke-width:2.0px;stroke-linecap:butt;stroke-linejoin:miter;stroke-opacity:1\"/>\n",
       "<path class=\"bond-6 atom-6 atom-7\" d=\"M 104.4,81.7 L 80.0,83.3\" style=\"fill:none;fill-rule:evenodd;stroke:#000000;stroke-width:2.0px;stroke-linecap:butt;stroke-linejoin:miter;stroke-opacity:1\"/>\n",
       "<path class=\"bond-7 atom-6 atom-8\" d=\"M 107.3,86.0 L 128.4,106.7\" style=\"fill:none;fill-rule:evenodd;stroke:#000000;stroke-width:2.0px;stroke-linecap:butt;stroke-linejoin:miter;stroke-opacity:1\"/>\n",
       "<path class=\"bond-8 atom-8 atom-9\" d=\"M 128.4,106.7 L 124.2,135.9\" style=\"fill:none;fill-rule:evenodd;stroke:#000000;stroke-width:2.0px;stroke-linecap:butt;stroke-linejoin:miter;stroke-opacity:1\"/>\n",
       "<path class=\"bond-9 atom-9 atom-10\" d=\"M 124.2,135.9 L 147.4,154.3\" style=\"fill:none;fill-rule:evenodd;stroke:#000000;stroke-width:2.0px;stroke-linecap:butt;stroke-linejoin:miter;stroke-opacity:1\"/>\n",
       "<path class=\"bond-10 atom-10 atom-11\" d=\"M 147.0,156.8 L 170.8,147.3\" style=\"fill:none;fill-rule:evenodd;stroke:#000000;stroke-width:2.0px;stroke-linecap:butt;stroke-linejoin:miter;stroke-opacity:1\"/>\n",
       "<path class=\"bond-10 atom-10 atom-11\" d=\"M 145.4,152.7 L 169.2,143.2\" style=\"fill:none;fill-rule:evenodd;stroke:#000000;stroke-width:2.0px;stroke-linecap:butt;stroke-linejoin:miter;stroke-opacity:1\"/>\n",
       "<path class=\"bond-11 atom-10 atom-12\" d=\"M 147.4,154.3 L 143.8,178.3\" style=\"fill:none;fill-rule:evenodd;stroke:#000000;stroke-width:2.0px;stroke-linecap:butt;stroke-linejoin:miter;stroke-opacity:1\"/>\n",
       "<path class=\"bond-12 atom-8 atom-13\" d=\"M 128.4,106.7 L 154.6,92.9\" style=\"fill:none;fill-rule:evenodd;stroke:#000000;stroke-width:2.0px;stroke-linecap:butt;stroke-linejoin:miter;stroke-opacity:1\"/>\n",
       "<path class=\"bond-12 atom-8 atom-13\" d=\"M 129.2,101.2 L 149.7,90.5\" style=\"fill:none;fill-rule:evenodd;stroke:#000000;stroke-width:2.0px;stroke-linecap:butt;stroke-linejoin:miter;stroke-opacity:1\"/>\n",
       "<path class=\"bond-13 atom-13 atom-14\" d=\"M 154.6,92.9 L 181.1,106.0\" style=\"fill:none;fill-rule:evenodd;stroke:#000000;stroke-width:2.0px;stroke-linecap:butt;stroke-linejoin:miter;stroke-opacity:1\"/>\n",
       "<path class=\"bond-14 atom-13 atom-15\" d=\"M 154.6,92.9 L 150.6,68.9\" style=\"fill:none;fill-rule:evenodd;stroke:#000000;stroke-width:2.0px;stroke-linecap:butt;stroke-linejoin:miter;stroke-opacity:1\"/>\n",
       "<path class=\"bond-15 atom-15 atom-16\" d=\"M 153.8,59.5 L 170.3,42.6\" style=\"fill:none;fill-rule:evenodd;stroke:#000000;stroke-width:2.0px;stroke-linecap:butt;stroke-linejoin:miter;stroke-opacity:1\"/>\n",
       "<path class=\"bond-16 atom-16 atom-17\" d=\"M 172.8,43.2 L 166.0,18.9\" style=\"fill:none;fill-rule:evenodd;stroke:#000000;stroke-width:2.0px;stroke-linecap:butt;stroke-linejoin:miter;stroke-opacity:1\"/>\n",
       "<path class=\"bond-16 atom-16 atom-17\" d=\"M 168.6,44.4 L 161.7,20.1\" style=\"fill:none;fill-rule:evenodd;stroke:#000000;stroke-width:2.0px;stroke-linecap:butt;stroke-linejoin:miter;stroke-opacity:1\"/>\n",
       "<path class=\"bond-17 atom-16 atom-18\" d=\"M 170.3,42.6 L 199.0,49.9\" style=\"fill:none;fill-rule:evenodd;stroke:#000000;stroke-width:2.0px;stroke-linecap:butt;stroke-linejoin:miter;stroke-opacity:1\"/>\n",
       "<path class=\"bond-18 atom-18 atom-19\" d=\"M 199.0,49.9 L 207.0,78.4\" style=\"fill:none;fill-rule:evenodd;stroke:#000000;stroke-width:2.0px;stroke-linecap:butt;stroke-linejoin:miter;stroke-opacity:1\"/>\n",
       "<path class=\"bond-18 atom-18 atom-19\" d=\"M 204.0,51.2 L 210.6,74.7\" style=\"fill:none;fill-rule:evenodd;stroke:#000000;stroke-width:2.0px;stroke-linecap:butt;stroke-linejoin:miter;stroke-opacity:1\"/>\n",
       "<path class=\"bond-19 atom-19 atom-20\" d=\"M 207.0,78.4 L 235.6,85.7\" style=\"fill:none;fill-rule:evenodd;stroke:#000000;stroke-width:2.0px;stroke-linecap:butt;stroke-linejoin:miter;stroke-opacity:1\"/>\n",
       "<path class=\"bond-20 atom-20 atom-21\" d=\"M 235.6,85.7 L 256.3,64.6\" style=\"fill:none;fill-rule:evenodd;stroke:#000000;stroke-width:2.0px;stroke-linecap:butt;stroke-linejoin:miter;stroke-opacity:1\"/>\n",
       "<path class=\"bond-20 atom-20 atom-21\" d=\"M 234.3,80.8 L 251.3,63.3\" style=\"fill:none;fill-rule:evenodd;stroke:#000000;stroke-width:2.0px;stroke-linecap:butt;stroke-linejoin:miter;stroke-opacity:1\"/>\n",
       "<path class=\"bond-21 atom-21 atom-22\" d=\"M 256.3,64.6 L 280.8,70.8\" style=\"fill:none;fill-rule:evenodd;stroke:#000000;stroke-width:2.0px;stroke-linecap:butt;stroke-linejoin:miter;stroke-opacity:1\"/>\n",
       "<path class=\"bond-22 atom-21 atom-23\" d=\"M 256.3,64.6 L 248.3,36.1\" style=\"fill:none;fill-rule:evenodd;stroke:#000000;stroke-width:2.0px;stroke-linecap:butt;stroke-linejoin:miter;stroke-opacity:1\"/>\n",
       "<path class=\"bond-23 atom-23 atom-24\" d=\"M 248.3,36.1 L 219.7,28.8\" style=\"fill:none;fill-rule:evenodd;stroke:#000000;stroke-width:2.0px;stroke-linecap:butt;stroke-linejoin:miter;stroke-opacity:1\"/>\n",
       "<path class=\"bond-23 atom-23 atom-24\" d=\"M 244.7,39.8 L 221.1,33.7\" style=\"fill:none;fill-rule:evenodd;stroke:#000000;stroke-width:2.0px;stroke-linecap:butt;stroke-linejoin:miter;stroke-opacity:1\"/>\n",
       "<path class=\"bond-24 atom-7 atom-2\" d=\"M 77.8,87.9 L 61.4,63.3\" style=\"fill:none;fill-rule:evenodd;stroke:#000000;stroke-width:2.0px;stroke-linecap:butt;stroke-linejoin:miter;stroke-opacity:1\"/>\n",
       "<path class=\"bond-25 atom-24 atom-18\" d=\"M 219.7,28.8 L 199.0,49.9\" style=\"fill:none;fill-rule:evenodd;stroke:#000000;stroke-width:2.0px;stroke-linecap:butt;stroke-linejoin:miter;stroke-opacity:1\"/>\n",
       "<path class=\"bond-26 atom-15 atom-5\" d=\"M 145.5,63.2 L 120.4,59.5\" style=\"fill:none;fill-rule:evenodd;stroke:#000000;stroke-width:2.0px;stroke-linecap:butt;stroke-linejoin:miter;stroke-opacity:1\"/>\n",
       "<path d=\"M 73.8,38.1 L 74.5,36.8 L 76.0,36.7\" style=\"fill:none;stroke:#000000;stroke-width:2.0px;stroke-linecap:butt;stroke-linejoin:miter;stroke-opacity:1;\"/>\n",
       "<path d=\"M 102.5,35.0 L 104.0,34.9 L 104.8,36.1\" style=\"fill:none;stroke:#000000;stroke-width:2.0px;stroke-linecap:butt;stroke-linejoin:miter;stroke-opacity:1;\"/>\n",
       "<path d=\"M 79.2,87.8 L 77.8,87.9 L 77.0,86.7\" style=\"fill:none;stroke:#000000;stroke-width:2.0px;stroke-linecap:butt;stroke-linejoin:miter;stroke-opacity:1;\"/>\n",
       "<path d=\"M 124.4,134.5 L 124.2,135.9 L 125.3,136.8\" style=\"fill:none;stroke:#000000;stroke-width:2.0px;stroke-linecap:butt;stroke-linejoin:miter;stroke-opacity:1;\"/>\n",
       "<path d=\"M 146.2,153.4 L 147.4,154.3 L 147.2,155.5\" style=\"fill:none;stroke:#000000;stroke-width:2.0px;stroke-linecap:butt;stroke-linejoin:miter;stroke-opacity:1;\"/>\n",
       "<path d=\"M 169.5,43.5 L 170.3,42.6 L 171.8,43.0\" style=\"fill:none;stroke:#000000;stroke-width:2.0px;stroke-linecap:butt;stroke-linejoin:miter;stroke-opacity:1;\"/>\n",
       "<path d=\"M 206.6,77.0 L 207.0,78.4 L 208.4,78.8\" style=\"fill:none;stroke:#000000;stroke-width:2.0px;stroke-linecap:butt;stroke-linejoin:miter;stroke-opacity:1;\"/>\n",
       "<path d=\"M 234.2,85.4 L 235.6,85.7 L 236.7,84.7\" style=\"fill:none;stroke:#000000;stroke-width:2.0px;stroke-linecap:butt;stroke-linejoin:miter;stroke-opacity:1;\"/>\n",
       "<path d=\"M 248.7,37.5 L 248.3,36.1 L 246.9,35.7\" style=\"fill:none;stroke:#000000;stroke-width:2.0px;stroke-linecap:butt;stroke-linejoin:miter;stroke-opacity:1;\"/>\n",
       "<path d=\"M 221.1,29.1 L 219.7,28.8 L 218.6,29.8\" style=\"fill:none;stroke:#000000;stroke-width:2.0px;stroke-linecap:butt;stroke-linejoin:miter;stroke-opacity:1;\"/>\n",
       "<path class=\"atom-1\" d=\"M 28.0 65.2 Q 28.0 63.2, 29.0 62.0 Q 30.0 60.9, 31.9 60.9 Q 33.7 60.9, 34.7 62.0 Q 35.7 63.2, 35.7 65.2 Q 35.7 67.2, 34.7 68.4 Q 33.7 69.5, 31.9 69.5 Q 30.0 69.5, 29.0 68.4 Q 28.0 67.2, 28.0 65.2 M 31.9 68.6 Q 33.1 68.6, 33.8 67.7 Q 34.5 66.9, 34.5 65.2 Q 34.5 63.5, 33.8 62.7 Q 33.1 61.9, 31.9 61.9 Q 30.6 61.9, 29.9 62.7 Q 29.2 63.5, 29.2 65.2 Q 29.2 66.9, 29.9 67.7 Q 30.6 68.6, 31.9 68.6 \" fill=\"#000000\"/>\n",
       "<path class=\"atom-11\" d=\"M 171.0 143.4 Q 171.0 141.4, 172.0 140.2 Q 173.0 139.1, 174.8 139.1 Q 176.7 139.1, 177.7 140.2 Q 178.7 141.4, 178.7 143.4 Q 178.7 145.4, 177.7 146.6 Q 176.7 147.7, 174.8 147.7 Q 173.0 147.7, 172.0 146.6 Q 171.0 145.4, 171.0 143.4 M 174.8 146.8 Q 176.1 146.8, 176.8 145.9 Q 177.5 145.1, 177.5 143.4 Q 177.5 141.7, 176.8 140.9 Q 176.1 140.1, 174.8 140.1 Q 173.6 140.1, 172.9 140.9 Q 172.2 141.7, 172.2 143.4 Q 172.2 145.1, 172.9 145.9 Q 173.6 146.8, 174.8 146.8 \" fill=\"#000000\"/>\n",
       "<path class=\"atom-12\" d=\"M 139.2 183.6 Q 139.2 181.5, 140.2 180.4 Q 141.2 179.3, 143.1 179.3 Q 144.9 179.3, 145.9 180.4 Q 146.9 181.5, 146.9 183.6 Q 146.9 185.6, 145.9 186.8 Q 144.9 187.9, 143.1 187.9 Q 141.2 187.9, 140.2 186.8 Q 139.2 185.6, 139.2 183.6 M 143.1 187.0 Q 144.4 187.0, 145.0 186.1 Q 145.7 185.2, 145.7 183.6 Q 145.7 181.9, 145.0 181.1 Q 144.4 180.2, 143.1 180.2 Q 141.8 180.2, 141.1 181.1 Q 140.4 181.9, 140.4 183.6 Q 140.4 185.2, 141.1 186.1 Q 141.8 187.0, 143.1 187.0 \" fill=\"#000000\"/>\n",
       "<path class=\"atom-12\" d=\"M 148.2 179.4 L 149.4 179.4 L 149.4 183.0 L 153.6 183.0 L 153.6 179.4 L 154.8 179.4 L 154.8 187.8 L 153.6 187.8 L 153.6 183.9 L 149.4 183.9 L 149.4 187.8 L 148.2 187.8 L 148.2 179.4 \" fill=\"#000000\"/>\n",
       "<path class=\"atom-15\" d=\"M 147.8 59.6 L 150.6 64.0 Q 150.8 64.5, 151.3 65.2 Q 151.7 66.0, 151.7 66.1 L 151.7 59.6 L 152.9 59.6 L 152.9 68.0 L 151.7 68.0 L 148.8 63.1 Q 148.4 62.5, 148.0 61.9 Q 147.7 61.2, 147.6 61.0 L 147.6 68.0 L 146.5 68.0 L 146.5 59.6 L 147.8 59.6 \" fill=\"#000000\"/>\n",
       "<path class=\"atom-17\" d=\"M 158.5 14.2 Q 158.5 12.1, 159.5 11.0 Q 160.5 9.9, 162.4 9.9 Q 164.2 9.9, 165.2 11.0 Q 166.2 12.1, 166.2 14.2 Q 166.2 16.2, 165.2 17.4 Q 164.2 18.5, 162.4 18.5 Q 160.5 18.5, 159.5 17.4 Q 158.5 16.2, 158.5 14.2 M 162.4 17.6 Q 163.6 17.6, 164.3 16.7 Q 165.0 15.8, 165.0 14.2 Q 165.0 12.5, 164.3 11.7 Q 163.6 10.8, 162.4 10.8 Q 161.1 10.8, 160.4 11.7 Q 159.7 12.5, 159.7 14.2 Q 159.7 15.9, 160.4 16.7 Q 161.1 17.6, 162.4 17.6 \" fill=\"#000000\"/>\n",
       "<path class=\"atom-22\" d=\"M 281.7 72.2 Q 281.7 70.1, 282.7 69.0 Q 283.7 67.9, 285.5 67.9 Q 287.3 67.9, 288.2 69.1 L 287.4 69.8 Q 286.7 68.9, 285.5 68.9 Q 284.3 68.9, 283.6 69.7 Q 282.9 70.6, 282.9 72.2 Q 282.9 73.8, 283.6 74.7 Q 284.3 75.6, 285.7 75.6 Q 286.6 75.6, 287.7 75.0 L 288.0 75.9 Q 287.6 76.2, 286.9 76.3 Q 286.2 76.5, 285.5 76.5 Q 283.7 76.5, 282.7 75.4 Q 281.7 74.3, 281.7 72.2 \" fill=\"#000000\"/>\n",
       "<path class=\"atom-22\" d=\"M 289.0 67.4 L 290.1 67.4 L 290.1 76.4 L 289.0 76.4 L 289.0 67.4 \" fill=\"#000000\"/>\n",
       "</svg>"
      ],
      "text/plain": [
       "<IPython.core.display.SVG object>"
      ]
     },
     "execution_count": 27,
     "metadata": {},
     "output_type": "execute_result"
    }
   ],
   "source": [
    "indo_raw_svg"
   ]
  },
  {
   "cell_type": "code",
   "execution_count": 18,
   "id": "919da7b0",
   "metadata": {},
   "outputs": [],
   "source": [
    "smartsRotatable=\"[!$(*#*)&!D1]-!@[!$(*#*)&!D1]\""
   ]
  },
  {
   "cell_type": "code",
   "execution_count": 21,
   "id": "50ebb528",
   "metadata": {},
   "outputs": [],
   "source": [
    "indo_defaultG = Smiles2GoF(chemicals['Indomethacin'])\n",
    "indo_defaultT = CanonicalGoF2Tokens(indo_defaultG)\n",
    "\n",
    "indo_rotatableG = Smiles2GoF(chemicals['Indomethacin'], pattBonds=smartsRotatable)\n",
    "indo_rotatableT = CanonicalGoF2Tokens(indo_rotatableG)"
   ]
  },
  {
   "cell_type": "code",
   "execution_count": 23,
   "id": "cac7e80f",
   "metadata": {},
   "outputs": [
    {
     "data": {
      "text/plain": [
       "'O C=O C <6> c1ccc2[nH]ccc2c1 <4> <0> ( O C ) <5> ( C ) C=O <0> c1ccccc1 <3> Cl'"
      ]
     },
     "execution_count": 23,
     "metadata": {},
     "output_type": "execute_result"
    }
   ],
   "source": [
    "' '.join(indo_defaultT.getSequence())"
   ]
  },
  {
   "cell_type": "code",
   "execution_count": 24,
   "id": "58191087",
   "metadata": {},
   "outputs": [
    {
     "data": {
      "text/plain": [
       "'O=CO <1> C <2> Cc1cc2ccccc2[nH]1 <9> <5> ( <1> CO ) C=O <4> Clc1ccccc1'"
      ]
     },
     "execution_count": 24,
     "metadata": {},
     "output_type": "execute_result"
    }
   ],
   "source": [
    "' '.join(indo_rotatableT.getSequence())"
   ]
  }
 ],
 "metadata": {
  "kernelspec": {
   "display_name": "Python 3 (ipykernel)",
   "language": "python",
   "name": "python3"
  },
  "language_info": {
   "codemirror_mode": {
    "name": "ipython",
    "version": 3
   },
   "file_extension": ".py",
   "mimetype": "text/x-python",
   "name": "python",
   "nbconvert_exporter": "python",
   "pygments_lexer": "ipython3",
   "version": "3.11.2"
  }
 },
 "nbformat": 4,
 "nbformat_minor": 5
}
