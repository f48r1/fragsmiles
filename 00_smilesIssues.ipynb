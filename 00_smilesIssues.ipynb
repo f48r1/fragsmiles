{
 "cells": [
  {
   "cell_type": "code",
   "execution_count": 1,
   "id": "48119bf8-b7b1-4e60-8f7e-ca5ecdc4412a",
   "metadata": {},
   "outputs": [],
   "source": [
    "import pandas as pd, numpy as np\n",
    "from PIL import Image\n",
    "from io import BytesIO\n",
    "from rdkit import Chem\n",
    "from rdkit.Chem import Draw\n",
    "from IPython.display import display_png\n",
    "from IPython.display import SVG as displaySvg"
   ]
  },
  {
   "cell_type": "markdown",
   "id": "8a14ce7b-3a15-48b5-88c4-e870b5583fbf",
   "metadata": {},
   "source": [
    "## Pictures"
   ]
  },
  {
   "cell_type": "code",
   "execution_count": 2,
   "id": "a193daae-4d0c-47b0-ae23-2e1c9ce76ea1",
   "metadata": {},
   "outputs": [],
   "source": [
    "def drawMol(mol,legend='',highlightAtoms=[]):\n",
    "    # d2d = Draw.MolDraw2DCairo(-1,-1)\n",
    "    d2d = Draw.MolDraw2DSVG(-1,-1)\n",
    "    dopts = d2d.drawOptions()\n",
    "    dopts.useBWAtomPalette()\n",
    "    dopts.continuousHighlight = True\n",
    "    dopts.circleAtoms = False\n",
    "    dopts.atomHighlightsAreCircles=False\n",
    "    dopts.highlightRadius=0.1\n",
    "    dopts.setHighlightColour((1,0,0,.5))\n",
    "    # dopts.setBackgroundColour((1,1,1,0))\n",
    "    d2d.DrawMolecule(mol,legend=legend, highlightAtoms=highlightAtoms)\n",
    "    d2d.FinishDrawing()\n",
    "    # bio = BytesIO(d2d.GetDrawingText())\n",
    "    svg = d2d.GetDrawingText()\n",
    "    return svg.replace('svg:','')\n",
    "    # return Image.open(bio)"
   ]
  },
  {
   "cell_type": "code",
   "execution_count": 3,
   "id": "f9c516e0-7b74-4f8f-ad8d-14b8ca3e46ef",
   "metadata": {},
   "outputs": [],
   "source": [
    "paracetamol = Chem.MolFromSmiles(\"c1(O)ccc(cc1)NC(C)=O\")"
   ]
  },
  {
   "cell_type": "code",
   "execution_count": 4,
   "id": "70ebac12-f30c-4ff2-9d59-136db25b9fdf",
   "metadata": {},
   "outputs": [
    {
     "data": {
      "image/svg+xml": [
       "<svg xmlns=\"http://www.w3.org/2000/svg\" xmlns:rdkit=\"http://www.rdkit.org/xml\" xmlns:xlink=\"http://www.w3.org/1999/xlink\" version=\"1.1\" baseProfile=\"full\" xml:space=\"preserve\" width=\"196px\" height=\"75px\" viewBox=\"0 0 196 75\">\n",
       "<!-- END OF HEADER -->\n",
       "<rect style=\"opacity:1.0;fill:#FFFFFF;stroke:none\" width=\"196.0\" height=\"75.0\" x=\"0.0\" y=\"0.0\"> </rect>\n",
       "<path class=\"bond-0 atom-0 atom-1\" d=\"M 50.7,40.0 L 27.1,46.3\" style=\"fill:none;fill-rule:evenodd;stroke:#000000;stroke-width:2.0px;stroke-linecap:butt;stroke-linejoin:miter;stroke-opacity:1\"/>\n",
       "<path class=\"bond-1 atom-0 atom-2\" d=\"M 50.7,40.0 L 58.4,11.5\" style=\"fill:none;fill-rule:evenodd;stroke:#000000;stroke-width:2.0px;stroke-linecap:butt;stroke-linejoin:miter;stroke-opacity:1\"/>\n",
       "<path class=\"bond-1 atom-0 atom-2\" d=\"M 55.7,38.7 L 62.0,15.1\" style=\"fill:none;fill-rule:evenodd;stroke:#000000;stroke-width:2.0px;stroke-linecap:butt;stroke-linejoin:miter;stroke-opacity:1\"/>\n",
       "<path class=\"bond-2 atom-2 atom-3\" d=\"M 58.4,11.5 L 86.8,3.9\" style=\"fill:none;fill-rule:evenodd;stroke:#000000;stroke-width:2.0px;stroke-linecap:butt;stroke-linejoin:miter;stroke-opacity:1\"/>\n",
       "<path class=\"bond-3 atom-3 atom-4\" d=\"M 86.8,3.9 L 107.6,24.7\" style=\"fill:none;fill-rule:evenodd;stroke:#000000;stroke-width:2.0px;stroke-linecap:butt;stroke-linejoin:miter;stroke-opacity:1\"/>\n",
       "<path class=\"bond-3 atom-3 atom-4\" d=\"M 85.5,8.8 L 102.7,26.0\" style=\"fill:none;fill-rule:evenodd;stroke:#000000;stroke-width:2.0px;stroke-linecap:butt;stroke-linejoin:miter;stroke-opacity:1\"/>\n",
       "<path class=\"bond-4 atom-4 atom-5\" d=\"M 107.6,24.7 L 100.0,53.2\" style=\"fill:none;fill-rule:evenodd;stroke:#000000;stroke-width:2.0px;stroke-linecap:butt;stroke-linejoin:miter;stroke-opacity:1\"/>\n",
       "<path class=\"bond-5 atom-5 atom-6\" d=\"M 100.0,53.2 L 71.6,60.8\" style=\"fill:none;fill-rule:evenodd;stroke:#000000;stroke-width:2.0px;stroke-linecap:butt;stroke-linejoin:miter;stroke-opacity:1\"/>\n",
       "<path class=\"bond-5 atom-5 atom-6\" d=\"M 96.4,49.6 L 72.9,55.9\" style=\"fill:none;fill-rule:evenodd;stroke:#000000;stroke-width:2.0px;stroke-linecap:butt;stroke-linejoin:miter;stroke-opacity:1\"/>\n",
       "<path class=\"bond-6 atom-4 atom-7\" d=\"M 107.6,24.7 L 132.0,18.2\" style=\"fill:none;fill-rule:evenodd;stroke:#000000;stroke-width:2.0px;stroke-linecap:butt;stroke-linejoin:miter;stroke-opacity:1\"/>\n",
       "<path class=\"bond-7 atom-7 atom-8\" d=\"M 140.2,21.2 L 156.9,37.9\" style=\"fill:none;fill-rule:evenodd;stroke:#000000;stroke-width:2.0px;stroke-linecap:butt;stroke-linejoin:miter;stroke-opacity:1\"/>\n",
       "<path class=\"bond-8 atom-8 atom-9\" d=\"M 156.9,37.9 L 185.4,30.3\" style=\"fill:none;fill-rule:evenodd;stroke:#000000;stroke-width:2.0px;stroke-linecap:butt;stroke-linejoin:miter;stroke-opacity:1\"/>\n",
       "<path class=\"bond-9 atom-8 atom-10\" d=\"M 155.1,36.1 L 148.6,60.6\" style=\"fill:none;fill-rule:evenodd;stroke:#000000;stroke-width:2.0px;stroke-linecap:butt;stroke-linejoin:miter;stroke-opacity:1\"/>\n",
       "<path class=\"bond-9 atom-8 atom-10\" d=\"M 159.4,37.3 L 152.8,61.8\" style=\"fill:none;fill-rule:evenodd;stroke:#000000;stroke-width:2.0px;stroke-linecap:butt;stroke-linejoin:miter;stroke-opacity:1\"/>\n",
       "<path class=\"bond-10 atom-6 atom-0\" d=\"M 71.6,60.8 L 50.7,40.0\" style=\"fill:none;fill-rule:evenodd;stroke:#000000;stroke-width:2.0px;stroke-linecap:butt;stroke-linejoin:miter;stroke-opacity:1\"/>\n",
       "<path d=\"M 58.0,12.9 L 58.4,11.5 L 59.8,11.1\" style=\"fill:none;stroke:#000000;stroke-width:2.0px;stroke-linecap:butt;stroke-linejoin:miter;stroke-opacity:1;\"/>\n",
       "<path d=\"M 85.4,4.3 L 86.8,3.9 L 87.9,4.9\" style=\"fill:none;stroke:#000000;stroke-width:2.0px;stroke-linecap:butt;stroke-linejoin:miter;stroke-opacity:1;\"/>\n",
       "<path d=\"M 100.4,51.8 L 100.0,53.2 L 98.6,53.6\" style=\"fill:none;stroke:#000000;stroke-width:2.0px;stroke-linecap:butt;stroke-linejoin:miter;stroke-opacity:1;\"/>\n",
       "<path d=\"M 73.0,60.4 L 71.6,60.8 L 70.5,59.8\" style=\"fill:none;stroke:#000000;stroke-width:2.0px;stroke-linecap:butt;stroke-linejoin:miter;stroke-opacity:1;\"/>\n",
       "<path d=\"M 156.1,37.1 L 156.9,37.9 L 158.4,37.6\" style=\"fill:none;stroke:#000000;stroke-width:2.0px;stroke-linecap:butt;stroke-linejoin:miter;stroke-opacity:1;\"/>\n",
       "<path class=\"atom-1\" d=\"M 10.2 43.5 L 11.3 43.5 L 11.3 47.0 L 15.6 47.0 L 15.6 43.5 L 16.7 43.5 L 16.7 51.8 L 15.6 51.8 L 15.6 48.0 L 11.3 48.0 L 11.3 51.8 L 10.2 51.8 L 10.2 43.5 \" fill=\"#000000\"/>\n",
       "<path class=\"atom-1\" d=\"M 18.4 47.6 Q 18.4 45.6, 19.4 44.5 Q 20.4 43.4, 22.3 43.4 Q 24.1 43.4, 25.1 44.5 Q 26.1 45.6, 26.1 47.6 Q 26.1 49.7, 25.1 50.8 Q 24.1 52.0, 22.3 52.0 Q 20.4 52.0, 19.4 50.8 Q 18.4 49.7, 18.4 47.6 M 22.3 51.0 Q 23.5 51.0, 24.2 50.2 Q 24.9 49.3, 24.9 47.6 Q 24.9 46.0, 24.2 45.2 Q 23.5 44.3, 22.3 44.3 Q 21.0 44.3, 20.3 45.2 Q 19.6 46.0, 19.6 47.6 Q 19.6 49.3, 20.3 50.2 Q 21.0 51.0, 22.3 51.0 \" fill=\"#000000\"/>\n",
       "<path class=\"atom-7\" d=\"M 134.3 12.9 L 137.0 17.3 Q 137.3 17.8, 137.7 18.6 Q 138.1 19.4, 138.2 19.4 L 138.2 12.9 L 139.3 12.9 L 139.3 21.3 L 138.1 21.3 L 135.2 16.4 Q 134.9 15.9, 134.5 15.2 Q 134.1 14.6, 134.0 14.4 L 134.0 21.3 L 132.9 21.3 L 132.9 12.9 L 134.3 12.9 \" fill=\"#000000\"/>\n",
       "<path class=\"atom-7\" d=\"M 132.8 3.7 L 134.0 3.7 L 134.0 7.3 L 138.2 7.3 L 138.2 3.7 L 139.4 3.7 L 139.4 12.1 L 138.2 12.1 L 138.2 8.2 L 134.0 8.2 L 134.0 12.1 L 132.8 12.1 L 132.8 3.7 \" fill=\"#000000\"/>\n",
       "<path class=\"atom-10\" d=\"M 145.5 66.4 Q 145.5 64.4, 146.5 63.3 Q 147.5 62.2, 149.3 62.2 Q 151.2 62.2, 152.2 63.3 Q 153.2 64.4, 153.2 66.4 Q 153.2 68.5, 152.2 69.6 Q 151.1 70.8, 149.3 70.8 Q 147.5 70.8, 146.5 69.6 Q 145.5 68.5, 145.5 66.4 M 149.3 69.8 Q 150.6 69.8, 151.3 69.0 Q 152.0 68.1, 152.0 66.4 Q 152.0 64.8, 151.3 64.0 Q 150.6 63.1, 149.3 63.1 Q 148.0 63.1, 147.4 63.9 Q 146.7 64.8, 146.7 66.4 Q 146.7 68.1, 147.4 69.0 Q 148.0 69.8, 149.3 69.8 \" fill=\"#000000\"/>\n",
       "</svg>"
      ],
      "text/plain": [
       "<IPython.core.display.SVG object>"
      ]
     },
     "execution_count": 4,
     "metadata": {},
     "output_type": "execute_result"
    }
   ],
   "source": [
    "displaySvg(drawMol(paracetamol))"
   ]
  },
  {
   "cell_type": "code",
   "execution_count": 5,
   "id": "af4fe26a-9a78-4a31-a588-3828b8e18518",
   "metadata": {},
   "outputs": [],
   "source": [
    "chemicals={\"Indomethacin\":Chem.CanonSmiles(\"CC1=C(C2=C(N1C(=O)C3=CC=C(C=C3)Cl)C=CC(=C2)OC)CC(=O)O\"),\n",
    "     \"Serotonin\":Chem.CanonSmiles(\"C1=CC2=C(C=C1O)C(=CN2)CCN\"),\n",
    "     \"Sumatriptan\":Chem.CanonSmiles(\"CNS(=O)(=O)CC1=CC2=C(C=C1)NC=C2CCN(C)C\"),\n",
    "          \"Paracetamol\":\"c1(O)ccc(cc1)NC(C)=O\"}\n",
    "df = pd.DataFrame( list(chemicals.values()), columns=[\"canonSmiles\"], index = chemicals.keys() )"
   ]
  },
  {
   "cell_type": "raw",
   "id": "0c5fe0a8-2a52-447a-8824-9535fab81a25",
   "metadata": {},
   "source": [
    "df[\"mol\"]=df[\"canonSmiles\"].apply(Chem.MolFromSmiles)"
   ]
  },
  {
   "cell_type": "code",
   "execution_count": 7,
   "id": "f9e17225-c2a7-406d-87a7-3a928de1f98d",
   "metadata": {},
   "outputs": [],
   "source": [
    "patt=Chem.MolFromSmiles('c1ccc2[nH]ccc2c1')\n",
    "df[\"img\"]=df[\"mol\"].apply(lambda mol : drawMol( mol, highlightAtoms=mol.GetSubstructMatch(patt)))"
   ]
  },
  {
   "cell_type": "code",
   "execution_count": 8,
   "id": "07257340-55ba-4ad6-a41c-97f7748fb077",
   "metadata": {},
   "outputs": [
    {
     "data": {
      "image/svg+xml": [
       "<svg xmlns=\"http://www.w3.org/2000/svg\" xmlns:rdkit=\"http://www.rdkit.org/xml\" xmlns:xlink=\"http://www.w3.org/1999/xlink\" version=\"1.1\" baseProfile=\"full\" xml:space=\"preserve\" width=\"306px\" height=\"198px\" viewBox=\"0 0 306 198\">\n",
       "<!-- END OF HEADER -->\n",
       "<rect style=\"opacity:1.0;fill:#FFFFFF;stroke:none\" width=\"306.0\" height=\"198.0\" x=\"0.0\" y=\"0.0\"> </rect>\n",
       "<path class=\"bond-2 atom-2 atom-3\" d=\"M 72.5,33.7 L 76.5,39.8 L 65.0,63.0 L 57.7,63.5 Z\" style=\"fill:#FF00007F;fill-rule:evenodd;fill-opacity:0.5;stroke:#FF00007F;stroke-width:0.0px;stroke-linecap:butt;stroke-linejoin:miter;stroke-opacity:0.5;\"/>\n",
       "<path class=\"bond-24 atom-2 atom-7\" d=\"M 65.0,63.0 L 79.4,84.6 L 76.2,91.1 L 57.7,63.5 Z\" style=\"fill:#FF00007F;fill-rule:evenodd;fill-opacity:0.5;stroke:#FF00007F;stroke-width:0.0px;stroke-linecap:butt;stroke-linejoin:miter;stroke-opacity:0.5;\"/>\n",
       "<path class=\"bond-3 atom-3 atom-4\" d=\"M 105.6,31.6 L 102.4,38.1 L 76.5,39.8 L 72.5,33.7 Z\" style=\"fill:#FF00007F;fill-rule:evenodd;fill-opacity:0.5;stroke:#FF00007F;stroke-width:0.0px;stroke-linecap:butt;stroke-linejoin:miter;stroke-opacity:0.5;\"/>\n",
       "<path class=\"bond-4 atom-4 atom-5\" d=\"M 105.6,31.6 L 122.3,56.6 L 120.4,59.5 L 116.8,59.7 L 102.4,38.1 Z\" style=\"fill:#FF00007F;fill-rule:evenodd;fill-opacity:0.5;stroke:#FF00007F;stroke-width:0.0px;stroke-linecap:butt;stroke-linejoin:miter;stroke-opacity:0.5;\"/>\n",
       "<path class=\"bond-5 atom-5 atom-6\" d=\"M 120.4,59.5 L 122.2,62.9 L 111.1,85.3 L 107.3,86.0 L 105.3,83.0 L 116.8,59.7 Z\" style=\"fill:#FF00007F;fill-rule:evenodd;fill-opacity:0.5;stroke:#FF00007F;stroke-width:0.0px;stroke-linecap:butt;stroke-linejoin:miter;stroke-opacity:0.5;\"/>\n",
       "<path class=\"bond-26 atom-5 atom-15\" d=\"M 122.3,56.6 L 152.4,61.0 L 146.9,66.6 L 122.2,62.9 L 120.4,59.5 Z\" style=\"fill:#FF00007F;fill-rule:evenodd;fill-opacity:0.5;stroke:#FF00007F;stroke-width:0.0px;stroke-linecap:butt;stroke-linejoin:miter;stroke-opacity:0.5;\"/>\n",
       "<path class=\"bond-6 atom-6 atom-7\" d=\"M 105.3,83.0 L 107.3,86.0 L 106.1,89.2 L 76.2,91.1 L 79.4,84.6 Z\" style=\"fill:#FF00007F;fill-rule:evenodd;fill-opacity:0.5;stroke:#FF00007F;stroke-width:0.0px;stroke-linecap:butt;stroke-linejoin:miter;stroke-opacity:0.5;\"/>\n",
       "<path class=\"bond-7 atom-6 atom-8\" d=\"M 111.1,85.3 L 129.0,102.8 L 127.9,110.5 L 106.1,89.2 L 107.3,86.0 Z\" style=\"fill:#FF00007F;fill-rule:evenodd;fill-opacity:0.5;stroke:#FF00007F;stroke-width:0.0px;stroke-linecap:butt;stroke-linejoin:miter;stroke-opacity:0.5;\"/>\n",
       "<path class=\"bond-12 atom-8 atom-13\" d=\"M 151.1,91.2 L 158.1,94.7 L 127.9,110.5 L 129.0,102.8 Z\" style=\"fill:#FF00007F;fill-rule:evenodd;fill-opacity:0.5;stroke:#FF00007F;stroke-width:0.0px;stroke-linecap:butt;stroke-linejoin:miter;stroke-opacity:0.5;\"/>\n",
       "<path class=\"bond-14 atom-13 atom-15\" d=\"M 152.4,61.0 L 158.1,94.7 L 151.1,91.2 L 146.9,66.6 Z\" style=\"fill:#FF00007F;fill-rule:evenodd;fill-opacity:0.5;stroke:#FF00007F;stroke-width:0.0px;stroke-linecap:butt;stroke-linejoin:miter;stroke-opacity:0.5;\"/>\n",
       "<ellipse cx=\"61.4\" cy=\"63.3\" rx=\"2.0\" ry=\"2.0\" class=\"atom-2\" style=\"fill:#FF00007F;fill-rule:evenodd;stroke:#FF00007F;stroke-width:1.0px;stroke-linecap:butt;stroke-linejoin:miter;stroke-opacity:1\"/>\n",
       "<ellipse cx=\"74.5\" cy=\"36.8\" rx=\"2.0\" ry=\"2.0\" class=\"atom-3\" style=\"fill:#FF00007F;fill-rule:evenodd;stroke:#FF00007F;stroke-width:1.0px;stroke-linecap:butt;stroke-linejoin:miter;stroke-opacity:1\"/>\n",
       "<ellipse cx=\"104.0\" cy=\"34.9\" rx=\"2.0\" ry=\"2.0\" class=\"atom-4\" style=\"fill:#FF00007F;fill-rule:evenodd;stroke:#FF00007F;stroke-width:1.0px;stroke-linecap:butt;stroke-linejoin:miter;stroke-opacity:1\"/>\n",
       "<ellipse cx=\"120.4\" cy=\"59.5\" rx=\"2.0\" ry=\"2.0\" class=\"atom-5\" style=\"fill:#FF00007F;fill-rule:evenodd;stroke:#FF00007F;stroke-width:1.0px;stroke-linecap:butt;stroke-linejoin:miter;stroke-opacity:1\"/>\n",
       "<ellipse cx=\"107.3\" cy=\"86.0\" rx=\"2.0\" ry=\"2.0\" class=\"atom-6\" style=\"fill:#FF00007F;fill-rule:evenodd;stroke:#FF00007F;stroke-width:1.0px;stroke-linecap:butt;stroke-linejoin:miter;stroke-opacity:1\"/>\n",
       "<ellipse cx=\"77.8\" cy=\"87.9\" rx=\"2.0\" ry=\"2.0\" class=\"atom-7\" style=\"fill:#FF00007F;fill-rule:evenodd;stroke:#FF00007F;stroke-width:1.0px;stroke-linecap:butt;stroke-linejoin:miter;stroke-opacity:1\"/>\n",
       "<ellipse cx=\"128.4\" cy=\"106.7\" rx=\"2.0\" ry=\"2.0\" class=\"atom-8\" style=\"fill:#FF00007F;fill-rule:evenodd;stroke:#FF00007F;stroke-width:1.0px;stroke-linecap:butt;stroke-linejoin:miter;stroke-opacity:1\"/>\n",
       "<ellipse cx=\"154.6\" cy=\"92.9\" rx=\"2.0\" ry=\"2.0\" class=\"atom-13\" style=\"fill:#FF00007F;fill-rule:evenodd;stroke:#FF00007F;stroke-width:1.0px;stroke-linecap:butt;stroke-linejoin:miter;stroke-opacity:1\"/>\n",
       "<ellipse cx=\"149.7\" cy=\"63.8\" rx=\"4.5\" ry=\"5.9\" class=\"atom-15\" style=\"fill:#FF00007F;fill-rule:evenodd;stroke:#FF00007F;stroke-width:1.0px;stroke-linecap:butt;stroke-linejoin:miter;stroke-opacity:1\"/>\n",
       "<path class=\"bond-0 atom-0 atom-1\" d=\"M 15.5,40.5 L 28.4,59.9\" style=\"fill:none;fill-rule:evenodd;stroke:#000000;stroke-width:2.0px;stroke-linecap:butt;stroke-linejoin:miter;stroke-opacity:1\"/>\n",
       "<path class=\"bond-1 atom-1 atom-2\" d=\"M 36.7,64.9 L 61.4,63.3\" style=\"fill:none;fill-rule:evenodd;stroke:#000000;stroke-width:2.0px;stroke-linecap:butt;stroke-linejoin:miter;stroke-opacity:1\"/>\n",
       "<path class=\"bond-2 atom-2 atom-3\" d=\"M 61.4,63.3 L 74.5,36.8\" style=\"fill:none;fill-rule:evenodd;stroke:#000000;stroke-width:2.0px;stroke-linecap:butt;stroke-linejoin:miter;stroke-opacity:1\"/>\n",
       "<path class=\"bond-2 atom-2 atom-3\" d=\"M 66.5,62.9 L 77.3,41.0\" style=\"fill:none;fill-rule:evenodd;stroke:#000000;stroke-width:2.0px;stroke-linecap:butt;stroke-linejoin:miter;stroke-opacity:1\"/>\n",
       "<path class=\"bond-3 atom-3 atom-4\" d=\"M 74.5,36.8 L 104.0,34.9\" style=\"fill:none;fill-rule:evenodd;stroke:#000000;stroke-width:2.0px;stroke-linecap:butt;stroke-linejoin:miter;stroke-opacity:1\"/>\n",
       "<path class=\"bond-4 atom-4 atom-5\" d=\"M 104.0,34.9 L 120.4,59.5\" style=\"fill:none;fill-rule:evenodd;stroke:#000000;stroke-width:2.0px;stroke-linecap:butt;stroke-linejoin:miter;stroke-opacity:1\"/>\n",
       "<path class=\"bond-4 atom-4 atom-5\" d=\"M 101.7,39.5 L 115.3,59.8\" style=\"fill:none;fill-rule:evenodd;stroke:#000000;stroke-width:2.0px;stroke-linecap:butt;stroke-linejoin:miter;stroke-opacity:1\"/>\n",
       "<path class=\"bond-5 atom-5 atom-6\" d=\"M 120.4,59.5 L 107.3,86.0\" style=\"fill:none;fill-rule:evenodd;stroke:#000000;stroke-width:2.0px;stroke-linecap:butt;stroke-linejoin:miter;stroke-opacity:1\"/>\n",
       "<path class=\"bond-6 atom-6 atom-7\" d=\"M 107.3,86.0 L 77.8,87.9\" style=\"fill:none;fill-rule:evenodd;stroke:#000000;stroke-width:2.0px;stroke-linecap:butt;stroke-linejoin:miter;stroke-opacity:1\"/>\n",
       "<path class=\"bond-6 atom-6 atom-7\" d=\"M 104.4,81.7 L 80.0,83.3\" style=\"fill:none;fill-rule:evenodd;stroke:#000000;stroke-width:2.0px;stroke-linecap:butt;stroke-linejoin:miter;stroke-opacity:1\"/>\n",
       "<path class=\"bond-7 atom-6 atom-8\" d=\"M 107.3,86.0 L 128.4,106.7\" style=\"fill:none;fill-rule:evenodd;stroke:#000000;stroke-width:2.0px;stroke-linecap:butt;stroke-linejoin:miter;stroke-opacity:1\"/>\n",
       "<path class=\"bond-8 atom-8 atom-9\" d=\"M 128.4,106.7 L 124.2,135.9\" style=\"fill:none;fill-rule:evenodd;stroke:#000000;stroke-width:2.0px;stroke-linecap:butt;stroke-linejoin:miter;stroke-opacity:1\"/>\n",
       "<path class=\"bond-9 atom-9 atom-10\" d=\"M 124.2,135.9 L 147.4,154.3\" style=\"fill:none;fill-rule:evenodd;stroke:#000000;stroke-width:2.0px;stroke-linecap:butt;stroke-linejoin:miter;stroke-opacity:1\"/>\n",
       "<path class=\"bond-10 atom-10 atom-11\" d=\"M 147.0,156.8 L 170.8,147.3\" style=\"fill:none;fill-rule:evenodd;stroke:#000000;stroke-width:2.0px;stroke-linecap:butt;stroke-linejoin:miter;stroke-opacity:1\"/>\n",
       "<path class=\"bond-10 atom-10 atom-11\" d=\"M 145.4,152.7 L 169.2,143.2\" style=\"fill:none;fill-rule:evenodd;stroke:#000000;stroke-width:2.0px;stroke-linecap:butt;stroke-linejoin:miter;stroke-opacity:1\"/>\n",
       "<path class=\"bond-11 atom-10 atom-12\" d=\"M 147.4,154.3 L 143.8,178.3\" style=\"fill:none;fill-rule:evenodd;stroke:#000000;stroke-width:2.0px;stroke-linecap:butt;stroke-linejoin:miter;stroke-opacity:1\"/>\n",
       "<path class=\"bond-12 atom-8 atom-13\" d=\"M 128.4,106.7 L 154.6,92.9\" style=\"fill:none;fill-rule:evenodd;stroke:#000000;stroke-width:2.0px;stroke-linecap:butt;stroke-linejoin:miter;stroke-opacity:1\"/>\n",
       "<path class=\"bond-12 atom-8 atom-13\" d=\"M 129.2,101.2 L 149.7,90.5\" style=\"fill:none;fill-rule:evenodd;stroke:#000000;stroke-width:2.0px;stroke-linecap:butt;stroke-linejoin:miter;stroke-opacity:1\"/>\n",
       "<path class=\"bond-13 atom-13 atom-14\" d=\"M 154.6,92.9 L 181.1,106.0\" style=\"fill:none;fill-rule:evenodd;stroke:#000000;stroke-width:2.0px;stroke-linecap:butt;stroke-linejoin:miter;stroke-opacity:1\"/>\n",
       "<path class=\"bond-14 atom-13 atom-15\" d=\"M 154.6,92.9 L 150.6,68.9\" style=\"fill:none;fill-rule:evenodd;stroke:#000000;stroke-width:2.0px;stroke-linecap:butt;stroke-linejoin:miter;stroke-opacity:1\"/>\n",
       "<path class=\"bond-15 atom-15 atom-16\" d=\"M 153.8,59.5 L 170.3,42.6\" style=\"fill:none;fill-rule:evenodd;stroke:#000000;stroke-width:2.0px;stroke-linecap:butt;stroke-linejoin:miter;stroke-opacity:1\"/>\n",
       "<path class=\"bond-16 atom-16 atom-17\" d=\"M 172.8,43.2 L 166.0,18.9\" style=\"fill:none;fill-rule:evenodd;stroke:#000000;stroke-width:2.0px;stroke-linecap:butt;stroke-linejoin:miter;stroke-opacity:1\"/>\n",
       "<path class=\"bond-16 atom-16 atom-17\" d=\"M 168.6,44.4 L 161.7,20.1\" style=\"fill:none;fill-rule:evenodd;stroke:#000000;stroke-width:2.0px;stroke-linecap:butt;stroke-linejoin:miter;stroke-opacity:1\"/>\n",
       "<path class=\"bond-17 atom-16 atom-18\" d=\"M 170.3,42.6 L 199.0,49.9\" style=\"fill:none;fill-rule:evenodd;stroke:#000000;stroke-width:2.0px;stroke-linecap:butt;stroke-linejoin:miter;stroke-opacity:1\"/>\n",
       "<path class=\"bond-18 atom-18 atom-19\" d=\"M 199.0,49.9 L 207.0,78.4\" style=\"fill:none;fill-rule:evenodd;stroke:#000000;stroke-width:2.0px;stroke-linecap:butt;stroke-linejoin:miter;stroke-opacity:1\"/>\n",
       "<path class=\"bond-18 atom-18 atom-19\" d=\"M 204.0,51.2 L 210.6,74.7\" style=\"fill:none;fill-rule:evenodd;stroke:#000000;stroke-width:2.0px;stroke-linecap:butt;stroke-linejoin:miter;stroke-opacity:1\"/>\n",
       "<path class=\"bond-19 atom-19 atom-20\" d=\"M 207.0,78.4 L 235.6,85.7\" style=\"fill:none;fill-rule:evenodd;stroke:#000000;stroke-width:2.0px;stroke-linecap:butt;stroke-linejoin:miter;stroke-opacity:1\"/>\n",
       "<path class=\"bond-20 atom-20 atom-21\" d=\"M 235.6,85.7 L 256.3,64.6\" style=\"fill:none;fill-rule:evenodd;stroke:#000000;stroke-width:2.0px;stroke-linecap:butt;stroke-linejoin:miter;stroke-opacity:1\"/>\n",
       "<path class=\"bond-20 atom-20 atom-21\" d=\"M 234.3,80.8 L 251.3,63.3\" style=\"fill:none;fill-rule:evenodd;stroke:#000000;stroke-width:2.0px;stroke-linecap:butt;stroke-linejoin:miter;stroke-opacity:1\"/>\n",
       "<path class=\"bond-21 atom-21 atom-22\" d=\"M 256.3,64.6 L 280.8,70.8\" style=\"fill:none;fill-rule:evenodd;stroke:#000000;stroke-width:2.0px;stroke-linecap:butt;stroke-linejoin:miter;stroke-opacity:1\"/>\n",
       "<path class=\"bond-22 atom-21 atom-23\" d=\"M 256.3,64.6 L 248.3,36.1\" style=\"fill:none;fill-rule:evenodd;stroke:#000000;stroke-width:2.0px;stroke-linecap:butt;stroke-linejoin:miter;stroke-opacity:1\"/>\n",
       "<path class=\"bond-23 atom-23 atom-24\" d=\"M 248.3,36.1 L 219.7,28.8\" style=\"fill:none;fill-rule:evenodd;stroke:#000000;stroke-width:2.0px;stroke-linecap:butt;stroke-linejoin:miter;stroke-opacity:1\"/>\n",
       "<path class=\"bond-23 atom-23 atom-24\" d=\"M 244.7,39.8 L 221.1,33.7\" style=\"fill:none;fill-rule:evenodd;stroke:#000000;stroke-width:2.0px;stroke-linecap:butt;stroke-linejoin:miter;stroke-opacity:1\"/>\n",
       "<path class=\"bond-24 atom-7 atom-2\" d=\"M 77.8,87.9 L 61.4,63.3\" style=\"fill:none;fill-rule:evenodd;stroke:#000000;stroke-width:2.0px;stroke-linecap:butt;stroke-linejoin:miter;stroke-opacity:1\"/>\n",
       "<path class=\"bond-25 atom-24 atom-18\" d=\"M 219.7,28.8 L 199.0,49.9\" style=\"fill:none;fill-rule:evenodd;stroke:#000000;stroke-width:2.0px;stroke-linecap:butt;stroke-linejoin:miter;stroke-opacity:1\"/>\n",
       "<path class=\"bond-26 atom-15 atom-5\" d=\"M 145.5,63.2 L 120.4,59.5\" style=\"fill:none;fill-rule:evenodd;stroke:#000000;stroke-width:2.0px;stroke-linecap:butt;stroke-linejoin:miter;stroke-opacity:1\"/>\n",
       "<path d=\"M 73.8,38.1 L 74.5,36.8 L 76.0,36.7\" style=\"fill:none;stroke:#000000;stroke-width:2.0px;stroke-linecap:butt;stroke-linejoin:miter;stroke-opacity:1;\"/>\n",
       "<path d=\"M 102.5,35.0 L 104.0,34.9 L 104.8,36.1\" style=\"fill:none;stroke:#000000;stroke-width:2.0px;stroke-linecap:butt;stroke-linejoin:miter;stroke-opacity:1;\"/>\n",
       "<path d=\"M 79.2,87.8 L 77.8,87.9 L 77.0,86.7\" style=\"fill:none;stroke:#000000;stroke-width:2.0px;stroke-linecap:butt;stroke-linejoin:miter;stroke-opacity:1;\"/>\n",
       "<path d=\"M 124.4,134.5 L 124.2,135.9 L 125.3,136.8\" style=\"fill:none;stroke:#000000;stroke-width:2.0px;stroke-linecap:butt;stroke-linejoin:miter;stroke-opacity:1;\"/>\n",
       "<path d=\"M 146.2,153.4 L 147.4,154.3 L 147.2,155.5\" style=\"fill:none;stroke:#000000;stroke-width:2.0px;stroke-linecap:butt;stroke-linejoin:miter;stroke-opacity:1;\"/>\n",
       "<path d=\"M 169.5,43.5 L 170.3,42.6 L 171.8,43.0\" style=\"fill:none;stroke:#000000;stroke-width:2.0px;stroke-linecap:butt;stroke-linejoin:miter;stroke-opacity:1;\"/>\n",
       "<path d=\"M 206.6,77.0 L 207.0,78.4 L 208.4,78.8\" style=\"fill:none;stroke:#000000;stroke-width:2.0px;stroke-linecap:butt;stroke-linejoin:miter;stroke-opacity:1;\"/>\n",
       "<path d=\"M 234.2,85.4 L 235.6,85.7 L 236.7,84.7\" style=\"fill:none;stroke:#000000;stroke-width:2.0px;stroke-linecap:butt;stroke-linejoin:miter;stroke-opacity:1;\"/>\n",
       "<path d=\"M 248.7,37.5 L 248.3,36.1 L 246.9,35.7\" style=\"fill:none;stroke:#000000;stroke-width:2.0px;stroke-linecap:butt;stroke-linejoin:miter;stroke-opacity:1;\"/>\n",
       "<path d=\"M 221.1,29.1 L 219.7,28.8 L 218.6,29.8\" style=\"fill:none;stroke:#000000;stroke-width:2.0px;stroke-linecap:butt;stroke-linejoin:miter;stroke-opacity:1;\"/>\n",
       "<path class=\"atom-1\" d=\"M 28.0 65.2 Q 28.0 63.2, 29.0 62.0 Q 30.0 60.9, 31.9 60.9 Q 33.7 60.9, 34.7 62.0 Q 35.7 63.2, 35.7 65.2 Q 35.7 67.2, 34.7 68.4 Q 33.7 69.5, 31.9 69.5 Q 30.0 69.5, 29.0 68.4 Q 28.0 67.2, 28.0 65.2 M 31.9 68.6 Q 33.1 68.6, 33.8 67.7 Q 34.5 66.9, 34.5 65.2 Q 34.5 63.5, 33.8 62.7 Q 33.1 61.9, 31.9 61.9 Q 30.6 61.9, 29.9 62.7 Q 29.2 63.5, 29.2 65.2 Q 29.2 66.9, 29.9 67.7 Q 30.6 68.6, 31.9 68.6 \" fill=\"#000000\"/>\n",
       "<path class=\"atom-11\" d=\"M 171.0 143.4 Q 171.0 141.4, 172.0 140.2 Q 173.0 139.1, 174.8 139.1 Q 176.7 139.1, 177.7 140.2 Q 178.7 141.4, 178.7 143.4 Q 178.7 145.4, 177.7 146.6 Q 176.7 147.7, 174.8 147.7 Q 173.0 147.7, 172.0 146.6 Q 171.0 145.4, 171.0 143.4 M 174.8 146.8 Q 176.1 146.8, 176.8 145.9 Q 177.5 145.1, 177.5 143.4 Q 177.5 141.7, 176.8 140.9 Q 176.1 140.1, 174.8 140.1 Q 173.6 140.1, 172.9 140.9 Q 172.2 141.7, 172.2 143.4 Q 172.2 145.1, 172.9 145.9 Q 173.6 146.8, 174.8 146.8 \" fill=\"#000000\"/>\n",
       "<path class=\"atom-12\" d=\"M 139.2 183.6 Q 139.2 181.5, 140.2 180.4 Q 141.2 179.3, 143.1 179.3 Q 144.9 179.3, 145.9 180.4 Q 146.9 181.5, 146.9 183.6 Q 146.9 185.6, 145.9 186.8 Q 144.9 187.9, 143.1 187.9 Q 141.2 187.9, 140.2 186.8 Q 139.2 185.6, 139.2 183.6 M 143.1 187.0 Q 144.4 187.0, 145.0 186.1 Q 145.7 185.2, 145.7 183.6 Q 145.7 181.9, 145.0 181.1 Q 144.4 180.2, 143.1 180.2 Q 141.8 180.2, 141.1 181.1 Q 140.4 181.9, 140.4 183.6 Q 140.4 185.2, 141.1 186.1 Q 141.8 187.0, 143.1 187.0 \" fill=\"#000000\"/>\n",
       "<path class=\"atom-12\" d=\"M 148.2 179.4 L 149.4 179.4 L 149.4 183.0 L 153.6 183.0 L 153.6 179.4 L 154.8 179.4 L 154.8 187.8 L 153.6 187.8 L 153.6 183.9 L 149.4 183.9 L 149.4 187.8 L 148.2 187.8 L 148.2 179.4 \" fill=\"#000000\"/>\n",
       "<path class=\"atom-15\" d=\"M 147.8 59.6 L 150.6 64.0 Q 150.8 64.5, 151.3 65.2 Q 151.7 66.0, 151.7 66.1 L 151.7 59.6 L 152.9 59.6 L 152.9 68.0 L 151.7 68.0 L 148.8 63.1 Q 148.4 62.5, 148.0 61.9 Q 147.7 61.2, 147.6 61.0 L 147.6 68.0 L 146.5 68.0 L 146.5 59.6 L 147.8 59.6 \" fill=\"#000000\"/>\n",
       "<path class=\"atom-17\" d=\"M 158.5 14.2 Q 158.5 12.1, 159.5 11.0 Q 160.5 9.9, 162.4 9.9 Q 164.2 9.9, 165.2 11.0 Q 166.2 12.1, 166.2 14.2 Q 166.2 16.2, 165.2 17.4 Q 164.2 18.5, 162.4 18.5 Q 160.5 18.5, 159.5 17.4 Q 158.5 16.2, 158.5 14.2 M 162.4 17.6 Q 163.6 17.6, 164.3 16.7 Q 165.0 15.8, 165.0 14.2 Q 165.0 12.5, 164.3 11.7 Q 163.6 10.8, 162.4 10.8 Q 161.1 10.8, 160.4 11.7 Q 159.7 12.5, 159.7 14.2 Q 159.7 15.9, 160.4 16.7 Q 161.1 17.6, 162.4 17.6 \" fill=\"#000000\"/>\n",
       "<path class=\"atom-22\" d=\"M 281.7 72.2 Q 281.7 70.1, 282.7 69.0 Q 283.7 67.9, 285.5 67.9 Q 287.3 67.9, 288.2 69.1 L 287.4 69.8 Q 286.7 68.9, 285.5 68.9 Q 284.3 68.9, 283.6 69.7 Q 282.9 70.6, 282.9 72.2 Q 282.9 73.8, 283.6 74.7 Q 284.3 75.6, 285.7 75.6 Q 286.6 75.6, 287.7 75.0 L 288.0 75.9 Q 287.6 76.2, 286.9 76.3 Q 286.2 76.5, 285.5 76.5 Q 283.7 76.5, 282.7 75.4 Q 281.7 74.3, 281.7 72.2 \" fill=\"#000000\"/>\n",
       "<path class=\"atom-22\" d=\"M 289.0 67.4 L 290.1 67.4 L 290.1 76.4 L 289.0 76.4 L 289.0 67.4 \" fill=\"#000000\"/>\n",
       "</svg>"
      ],
      "text/plain": [
       "<IPython.core.display.SVG object>"
      ]
     },
     "execution_count": 8,
     "metadata": {},
     "output_type": "execute_result"
    }
   ],
   "source": [
    "displaySvg(df.iloc[0,-1])"
   ]
  },
  {
   "cell_type": "code",
   "execution_count": 9,
   "id": "3f1114b5-6d87-48ff-8ec2-6fdb37669b8a",
   "metadata": {},
   "outputs": [],
   "source": [
    "def MolToRestrictedSmiles(mol):\n",
    "    match = mol.GetSubstructMatch(patt)\n",
    "    order = set(range(mol.GetNumAtoms()))-set(match)\n",
    "    np.random.shuffle(list(order))\n",
    "    random_mol = Chem.RenumberAtoms(mol, newOrder=[*match,*order])\n",
    "    return Chem.MolToSmiles(random_mol, canonical=False, isomericSmiles=False)"
   ]
  },
  {
   "cell_type": "code",
   "execution_count": 10,
   "id": "5cce6c1f-c2cc-49b1-ab4b-5c252868209d",
   "metadata": {},
   "outputs": [],
   "source": [
    "df[\"restrictSmiles\"]=df[\"mol\"].apply(MolToRestrictedSmiles)"
   ]
  },
  {
   "cell_type": "raw",
   "id": "bbe377c3-fb37-4bbd-a870-f237ae439287",
   "metadata": {},
   "source": [
    "for name,row in df.iterrows():\n",
    "    with open(f'figures/{name}.svg', 'w') as f:\n",
    "        f.write(row[\"img\"])"
   ]
  },
  {
   "cell_type": "code",
   "execution_count": 11,
   "id": "999382c7-fa64-4754-a040-f8a2647653bc",
   "metadata": {},
   "outputs": [
    {
     "data": {
      "text/plain": [
       "Indomethacin    c1(OC)ccc2n(C(=O)c3ccc(Cl)cc3)c(C)c(CC(=O)O)c2c1\n",
       "Serotonin                               c1(O)ccc2[nH]cc(CCN)c2c1\n",
       "Sumatriptan              c1(CS(NC)(=O)=O)ccc2[nH]cc(CCN(C)C)c2c1\n",
       "Paracetamol                                 c1(O)ccc(NC(C)=O)cc1\n",
       "Name: restrictSmiles, dtype: object"
      ]
     },
     "execution_count": 11,
     "metadata": {},
     "output_type": "execute_result"
    }
   ],
   "source": [
    "df.restrictSmiles"
   ]
  },
  {
   "cell_type": "markdown",
   "id": "8a09656a-001a-42d3-81ba-f5bf63d96ca8",
   "metadata": {},
   "source": [
    "## GoF"
   ]
  },
  {
   "cell_type": "code",
   "execution_count": 12,
   "id": "1b078299-f054-4caa-ae07-10046235e249",
   "metadata": {},
   "outputs": [],
   "source": [
    "from chemicalgof import Smiles2GoF, GoF2Tokens"
   ]
  },
  {
   "cell_type": "code",
   "execution_count": 13,
   "id": "52ae0c21-fa1b-4961-aae3-b9f7ae595314",
   "metadata": {},
   "outputs": [
    {
     "name": "stdout",
     "output_type": "stream",
     "text": [
      "Cl.<3>c1ccccc1<0>.C=O.<4>c1ccc2[nH]ccc2c1<6>.<0>(O.C.)<5>(C.).C.C=O.O.\n",
      "N.C.C.<6>c1ccc2[nH]ccc2c1<0>.O.\n",
      "C.N.(C.).C.C.<6>c1ccc2[nH]ccc2c1<0>.C.O=[SH2]=O.N.C.\n",
      "C.C=O.N.<0>c1ccccc1<3>.O.\n"
     ]
    }
   ],
   "source": [
    "for s in chemicals.values():\n",
    "    G=Smiles2GoF(s)\n",
    "    T=GoF2Tokens(G)\n",
    "    print(T.getString())"
   ]
  },
  {
   "cell_type": "code",
   "execution_count": 14,
   "id": "ab6e2daf-ef5d-40b3-a2b3-4f261e8cea75",
   "metadata": {},
   "outputs": [],
   "source": [
    "def drawMolPNG(mol,legend='',highlightAtoms=[]):\n",
    "    # d2d = Draw.MolDraw2DCairo(-1,-1)\n",
    "    d2d = Draw.MolDraw2DSVG(-1,-1)\n",
    "    dopts = d2d.drawOptions()\n",
    "    dopts.useBWAtomPalette()\n",
    "    dopts.continuousHighlight = True\n",
    "    dopts.circleAtoms = False\n",
    "    dopts.atomHighlightsAreCircles=False\n",
    "    dopts.highlightRadius=0.1\n",
    "    dopts.setHighlightColour((1,0,0,.5))\n",
    "    dopts.setBackgroundColour((1,1,1,0))\n",
    "    d2d.DrawMolecule(mol,legend=legend, highlightAtoms=highlightAtoms)\n",
    "    d2d.FinishDrawing()\n",
    "    # bio = BytesIO(d2d.GetDrawingText())\n",
    "    svg = d2d.GetDrawingText()\n",
    "    return svg.replace('svg:','')\n",
    "    # return Image.open(bio)"
   ]
  },
  {
   "cell_type": "code",
   "execution_count": 15,
   "id": "9d5b6e89-96a8-42c2-beb1-6b013a1ff117",
   "metadata": {},
   "outputs": [],
   "source": [
    "benzene = drawMolPNG(Chem.MolFromSmiles(\"c1ccccc1\"))"
   ]
  },
  {
   "cell_type": "code",
   "execution_count": 16,
   "id": "25ba8645-c3af-4b99-a41c-ecd964c54034",
   "metadata": {},
   "outputs": [],
   "source": [
    "carbonile = drawMolPNG(Chem.MolFromSmiles(\"C=O\"))"
   ]
  },
  {
   "cell_type": "code",
   "execution_count": 11,
   "id": "6c2bbb5d-e7e2-498b-a1a0-d98022249fb0",
   "metadata": {},
   "outputs": [],
   "source": [
    "with open(f'carbonile.svg', 'w') as f:\n",
    "    f.write(carbonile)"
   ]
  },
  {
   "cell_type": "raw",
   "id": "49b1e993-333c-4761-b2e4-7af6f60425da",
   "metadata": {},
   "source": [
    "with open(f'benzene.svg', 'w') as f:\n",
    "    f.write(benzene)"
   ]
  },
  {
   "cell_type": "code",
   "execution_count": 12,
   "id": "fd0cb290-0697-4ea8-810e-39366f1e8c66",
   "metadata": {},
   "outputs": [
    {
     "data": {
      "image/svg+xml": [
       "<svg xmlns=\"http://www.w3.org/2000/svg\" xmlns:rdkit=\"http://www.rdkit.org/xml\" xmlns:xlink=\"http://www.w3.org/1999/xlink\" version=\"1.1\" baseProfile=\"full\" xml:space=\"preserve\" width=\"37px\" height=\"9px\" viewBox=\"0 0 37 9\">\n",
       "<!-- END OF HEADER -->\n",
       "<rect style=\"opacity:1.0;fill:#FFFFFF00;stroke:none\" width=\"37.0\" height=\"9.0\" x=\"0.0\" y=\"0.0\"> </rect>\n",
       "<path class=\"bond-0 atom-0 atom-1\" d=\"M 2.8,2.3 L 25.8,2.3\" style=\"fill:none;fill-rule:evenodd;stroke:#000000;stroke-width:2.0px;stroke-linecap:butt;stroke-linejoin:miter;stroke-opacity:1\"/>\n",
       "<path class=\"bond-0 atom-0 atom-1\" d=\"M 2.8,6.5 L 25.8,6.5\" style=\"fill:none;fill-rule:evenodd;stroke:#000000;stroke-width:2.0px;stroke-linecap:butt;stroke-linejoin:miter;stroke-opacity:1\"/>\n",
       "<path class=\"atom-1\" d=\"M 26.7 4.4 Q 26.7 2.5, 27.7 1.5 Q 28.6 0.5, 30.3 0.5 Q 32.0 0.5, 33.0 1.5 Q 33.9 2.5, 33.9 4.4 Q 33.9 6.3, 33.0 7.4 Q 32.0 8.5, 30.3 8.5 Q 28.6 8.5, 27.7 7.4 Q 26.7 6.3, 26.7 4.4 M 30.3 7.6 Q 31.5 7.6, 32.1 6.8 Q 32.8 6.0, 32.8 4.4 Q 32.8 2.9, 32.1 2.1 Q 31.5 1.3, 30.3 1.3 Q 29.1 1.3, 28.5 2.1 Q 27.8 2.9, 27.8 4.4 Q 27.8 6.0, 28.5 6.8 Q 29.1 7.6, 30.3 7.6 \" fill=\"#000000\"/>\n",
       "</svg>"
      ],
      "text/plain": [
       "<IPython.core.display.SVG object>"
      ]
     },
     "execution_count": 12,
     "metadata": {},
     "output_type": "execute_result"
    }
   ],
   "source": [
    "displaySvg(carbonile)"
   ]
  }
 ],
 "metadata": {
  "kernelspec": {
   "display_name": "Python 3 (ipykernel)",
   "language": "python",
   "name": "python3"
  }
 },
 "nbformat": 4,
 "nbformat_minor": 5
}
