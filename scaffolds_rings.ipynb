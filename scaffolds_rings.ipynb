{
 "cells": [
  {
   "cell_type": "code",
   "execution_count": 1,
   "metadata": {},
   "outputs": [],
   "source": [
    "import pandas as pd"
   ]
  },
  {
   "cell_type": "code",
   "execution_count": 19,
   "metadata": {},
   "outputs": [],
   "source": [
    "from rdkit import Chem\n",
    "from rdkit.Chem.Scaffolds import MurckoScaffold\n",
    "from rdkit.Chem import Draw"
   ]
  },
  {
   "cell_type": "markdown",
   "metadata": {},
   "source": [
    "# Scaffold computation"
   ]
  },
  {
   "cell_type": "code",
   "execution_count": 3,
   "metadata": {},
   "outputs": [],
   "source": [
    "chembl = pd.read_csv('data/chembl.tar.xz', compression='xz',usecols=['smiles'])"
   ]
  },
  {
   "cell_type": "code",
   "execution_count": 6,
   "metadata": {},
   "outputs": [],
   "source": [
    "chembl['scaffold'] = chembl['smiles'].apply(lambda x: MurckoScaffold.MurckoScaffoldSmiles(smiles=x, includeChirality=True) )"
   ]
  },
  {
   "cell_type": "code",
   "execution_count": 7,
   "metadata": {},
   "outputs": [],
   "source": [
    "moses = pd.read_csv('data/moses.tar.xz', compression='xz',usecols=['smiles'])"
   ]
  },
  {
   "cell_type": "code",
   "execution_count": 8,
   "metadata": {},
   "outputs": [],
   "source": [
    "moses['scaffold'] = moses['smiles'].apply(lambda x: MurckoScaffold.MurckoScaffoldSmiles(smiles=x, includeChirality=True) )"
   ]
  },
  {
   "cell_type": "markdown",
   "metadata": {},
   "source": [
    "# Rings"
   ]
  },
  {
   "cell_type": "code",
   "execution_count": null,
   "metadata": {},
   "outputs": [],
   "source": [
    "from chemicalgof.decompositer import SINGLEXOCYCLICPATT\n",
    "\n",
    "def get_rings(mol):\n",
    "    bondMatches = mol.GetSubstructMatches( Chem.MolFromSmarts(SINGLEXOCYCLICPATT) )\n",
    "    bonds=[mol.GetBondBetweenAtoms(*b).GetIdx() for b in bondMatches]  \n",
    "    frags = Chem.FragmentOnBonds(mol, addDummies=False, bondIndices=bonds, )\n",
    "    fragsMol=Chem.GetMolFrags(frags,asMols=True)\n",
    "    cycles = [ frag for frag in fragsMol if frag.HasSubstructMatch(Chem.MolFromSmarts('[R]'))]\n",
    "    cycles_smi = [Chem.MolToSmiles(mol) for mol in cycles ]\n",
    "    return tuple(cycles_smi)"
   ]
  },
  {
   "cell_type": "code",
   "execution_count": 72,
   "metadata": {},
   "outputs": [],
   "source": [
    "chembl['rings'] = chembl['smiles'].apply( lambda x: get_rings(Chem.MolFromSmiles(x)) ).apply(' '.join)"
   ]
  },
  {
   "cell_type": "code",
   "execution_count": 73,
   "metadata": {},
   "outputs": [],
   "source": [
    "moses['rings'] = moses['smiles'].apply( lambda x: get_rings(Chem.MolFromSmiles(x)) ).apply(' '.join)"
   ]
  },
  {
   "cell_type": "code",
   "execution_count": null,
   "metadata": {},
   "outputs": [],
   "source": []
  },
  {
   "cell_type": "code",
   "execution_count": 74,
   "metadata": {},
   "outputs": [],
   "source": [
    "chembl.to_csv('data/chembl_scaffolds_rings.tar.xz', compression='xz', index=False)\n",
    "moses.to_csv('data/moses_scaffolds_rings.tar.xz', compression='xz', index=False)"
   ]
  }
 ],
 "metadata": {
  "kernelspec": {
   "display_name": "pyenv_fragsmiles",
   "language": "python",
   "name": "python3"
  },
  "language_info": {
   "codemirror_mode": {
    "name": "ipython",
    "version": 3
   },
   "file_extension": ".py",
   "mimetype": "text/x-python",
   "name": "python",
   "nbconvert_exporter": "python",
   "pygments_lexer": "ipython3",
   "version": "3.11.9"
  }
 },
 "nbformat": 4,
 "nbformat_minor": 2
}
